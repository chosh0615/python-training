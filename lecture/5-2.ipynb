{
 "cells": [
  {
   "cell_type": "markdown",
   "metadata": {},
   "source": [
    "# 날짜시간"
   ]
  },
  {
   "cell_type": "code",
   "execution_count": 1,
   "metadata": {
    "collapsed": true
   },
   "outputs": [],
   "source": [
    "from datetime import datetime"
   ]
  },
  {
   "cell_type": "code",
   "execution_count": 2,
   "metadata": {
    "collapsed": false
   },
   "outputs": [
    {
     "data": {
      "text/plain": [
       "datetime.datetime(2016, 12, 16, 13, 54, 15, 678271)"
      ]
     },
     "execution_count": 2,
     "metadata": {},
     "output_type": "execute_result"
    }
   ],
   "source": [
    "지금 = datetime.now()\n",
    "지금"
   ]
  },
  {
   "cell_type": "code",
   "execution_count": 3,
   "metadata": {
    "collapsed": false
   },
   "outputs": [
    {
     "data": {
      "text/plain": [
       "'2016-12-16T13:54:15.678271'"
      ]
     },
     "execution_count": 3,
     "metadata": {},
     "output_type": "execute_result"
    }
   ],
   "source": [
    "지금.isoformat()"
   ]
  },
  {
   "cell_type": "code",
   "execution_count": 4,
   "metadata": {
    "collapsed": false
   },
   "outputs": [
    {
     "data": {
      "text/plain": [
       "'2016년 12월 16일 13시 54분 15초'"
      ]
     },
     "execution_count": 4,
     "metadata": {},
     "output_type": "execute_result"
    }
   ],
   "source": [
    "'{}년 {}월 {}일 {}시 {}분 {}초'.format(\n",
    "    지금.year, 지금.month, 지금.day, \n",
    "    지금.hour, 지금.minute, 지금.second\n",
    ")"
   ]
  },
  {
   "cell_type": "markdown",
   "metadata": {},
   "source": [
    "요일\n",
    "\n",
    "0 ~ 6: 월 ~ 일"
   ]
  },
  {
   "cell_type": "code",
   "execution_count": 5,
   "metadata": {
    "collapsed": false
   },
   "outputs": [
    {
     "data": {
      "text/plain": [
       "4"
      ]
     },
     "execution_count": 5,
     "metadata": {},
     "output_type": "execute_result"
    }
   ],
   "source": [
    "지금.weekday()"
   ]
  },
  {
   "cell_type": "code",
   "execution_count": 9,
   "metadata": {
    "collapsed": false
   },
   "outputs": [],
   "source": [
    "def 요일추출(날짜시간):\n",
    "    return list('월화수목금토일')[날짜시간.weekday()]"
   ]
  },
  {
   "cell_type": "code",
   "execution_count": 10,
   "metadata": {
    "collapsed": false
   },
   "outputs": [
    {
     "data": {
      "text/plain": [
       "'금'"
      ]
     },
     "execution_count": 10,
     "metadata": {},
     "output_type": "execute_result"
    }
   ],
   "source": [
    "요일추출(지금)"
   ]
  },
  {
   "cell_type": "markdown",
   "metadata": {},
   "source": [
    "datetime <--> 문자열"
   ]
  },
  {
   "cell_type": "code",
   "execution_count": 11,
   "metadata": {
    "collapsed": true
   },
   "outputs": [],
   "source": [
    "의문의날짜 = '10-01-20'"
   ]
  },
  {
   "cell_type": "code",
   "execution_count": 12,
   "metadata": {
    "collapsed": false
   },
   "outputs": [
    {
     "data": {
      "text/plain": [
       "datetime.datetime(2010, 1, 20, 0, 0)"
      ]
     },
     "execution_count": 12,
     "metadata": {},
     "output_type": "execute_result"
    }
   ],
   "source": [
    "국제표준 = '%y-%m-%d'\n",
    "datetime.strptime(의문의날짜, 국제표준)"
   ]
  },
  {
   "cell_type": "code",
   "execution_count": 13,
   "metadata": {
    "collapsed": false
   },
   "outputs": [
    {
     "data": {
      "text/plain": [
       "datetime.datetime(2020, 10, 1, 0, 0)"
      ]
     },
     "execution_count": 13,
     "metadata": {},
     "output_type": "execute_result"
    }
   ],
   "source": [
    "미국날짜 = '%m-%d-%y'\n",
    "datetime.strptime(의문의날짜, 미국날짜)"
   ]
  },
  {
   "cell_type": "markdown",
   "metadata": {},
   "source": [
    "#### 연습\n",
    "\n",
    "주어진 문자열을 datetime 객체로 생성 (표 10-2, p.397)\n",
    "\n",
    "* yyyy: %Y\n",
    "* mm: %m\n",
    "* dd: %d"
   ]
  },
  {
   "cell_type": "code",
   "execution_count": 14,
   "metadata": {
    "collapsed": true
   },
   "outputs": [],
   "source": [
    "좋은날 = '2016년 12월 16일'"
   ]
  },
  {
   "cell_type": "markdown",
   "metadata": {},
   "source": [
    "strptime: str --> python datetime"
   ]
  },
  {
   "cell_type": "code",
   "execution_count": 18,
   "metadata": {
    "collapsed": false
   },
   "outputs": [],
   "source": [
    "좋은날 = datetime.strptime(좋은날, '%Y년 %m월 %d일')"
   ]
  },
  {
   "cell_type": "code",
   "execution_count": 19,
   "metadata": {
    "collapsed": false
   },
   "outputs": [
    {
     "data": {
      "text/plain": [
       "2016"
      ]
     },
     "execution_count": 19,
     "metadata": {},
     "output_type": "execute_result"
    }
   ],
   "source": [
    "좋은날.year"
   ]
  },
  {
   "cell_type": "markdown",
   "metadata": {},
   "source": [
    "# 시계열\n",
    "\n",
    "time-series. 시간의 흐름에 따라 기록된 자료"
   ]
  },
  {
   "cell_type": "code",
   "execution_count": 20,
   "metadata": {
    "collapsed": true
   },
   "outputs": [],
   "source": [
    "import pandas as pd"
   ]
  },
  {
   "cell_type": "code",
   "execution_count": 21,
   "metadata": {
    "collapsed": true
   },
   "outputs": [],
   "source": [
    "식당 = pd.read_excel('data/food_order.xlsx')"
   ]
  },
  {
   "cell_type": "code",
   "execution_count": 22,
   "metadata": {
    "collapsed": false
   },
   "outputs": [
    {
     "data": {
      "text/plain": [
       "0   2013-08-06\n",
       "1   2013-08-06\n",
       "2   2013-08-06\n",
       "3   2013-08-06\n",
       "4   2013-08-06\n",
       "Name: date, dtype: datetime64[ns]"
      ]
     },
     "execution_count": 22,
     "metadata": {},
     "output_type": "execute_result"
    }
   ],
   "source": [
    "식당.date[:5]"
   ]
  },
  {
   "cell_type": "code",
   "execution_count": 25,
   "metadata": {
    "collapsed": false
   },
   "outputs": [
    {
     "data": {
      "text/plain": [
       "Timestamp('2013-08-06 00:00:00')"
      ]
     },
     "execution_count": 25,
     "metadata": {},
     "output_type": "execute_result"
    }
   ],
   "source": [
    "식당.date[0]"
   ]
  },
  {
   "cell_type": "code",
   "execution_count": 27,
   "metadata": {
    "collapsed": false
   },
   "outputs": [],
   "source": [
    "날짜 = 식당.date.map(\n",
    "    lambda 날짜: '{0.year}년 {0.month}월 {0.day}일'.format(날짜))"
   ]
  },
  {
   "cell_type": "code",
   "execution_count": 28,
   "metadata": {
    "collapsed": true
   },
   "outputs": [
    {
     "data": {
      "text/plain": [
       "0    2013년 8월 6일\n",
       "1    2013년 8월 6일\n",
       "2    2013년 8월 6일\n",
       "Name: date, dtype: object"
      ]
     },
     "execution_count": 28,
     "metadata": {},
     "output_type": "execute_result"
    }
   ],
   "source": [
    "날짜[:3]"
   ]
  },
  {
   "cell_type": "markdown",
   "metadata": {},
   "source": [
    "object --> datetime64"
   ]
  },
  {
   "cell_type": "code",
   "execution_count": 29,
   "metadata": {
    "collapsed": false
   },
   "outputs": [
    {
     "data": {
      "text/plain": [
       "0   2013-08-06\n",
       "1   2013-08-06\n",
       "2   2013-08-06\n",
       "Name: date, dtype: datetime64[ns]"
      ]
     },
     "execution_count": 29,
     "metadata": {},
     "output_type": "execute_result"
    }
   ],
   "source": [
    "pd.to_datetime(날짜, format='%Y년 %m월 %d일')[:3]"
   ]
  },
  {
   "cell_type": "markdown",
   "metadata": {},
   "source": [
    "Timestamp = datetime + 알파"
   ]
  },
  {
   "cell_type": "code",
   "execution_count": 30,
   "metadata": {
    "collapsed": true
   },
   "outputs": [],
   "source": [
    "어느날 = '2015-10-21'"
   ]
  },
  {
   "cell_type": "code",
   "execution_count": 32,
   "metadata": {
    "collapsed": false
   },
   "outputs": [
    {
     "data": {
      "text/plain": [
       "datetime.datetime(2015, 10, 21, 0, 0)"
      ]
     },
     "execution_count": 32,
     "metadata": {},
     "output_type": "execute_result"
    }
   ],
   "source": [
    "datetime.strptime(어느날, '%Y-%m-%d')"
   ]
  },
  {
   "cell_type": "code",
   "execution_count": 35,
   "metadata": {
    "collapsed": false
   },
   "outputs": [
    {
     "data": {
      "text/plain": [
       "Timestamp('2015-10-21 00:00:00')"
      ]
     },
     "execution_count": 35,
     "metadata": {},
     "output_type": "execute_result"
    }
   ],
   "source": [
    "ts = pd.Timestamp(어느날)\n",
    "ts"
   ]
  },
  {
   "cell_type": "code",
   "execution_count": 36,
   "metadata": {
    "collapsed": false
   },
   "outputs": [
    {
     "data": {
      "text/plain": [
       "2015"
      ]
     },
     "execution_count": 36,
     "metadata": {},
     "output_type": "execute_result"
    }
   ],
   "source": [
    "ts.year"
   ]
  },
  {
   "cell_type": "code",
   "execution_count": 37,
   "metadata": {
    "collapsed": true
   },
   "outputs": [],
   "source": [
    "식당 = 식당.set_index('date')"
   ]
  },
  {
   "cell_type": "code",
   "execution_count": 39,
   "metadata": {
    "collapsed": true
   },
   "outputs": [
    {
     "data": {
      "text/html": [
       "<div>\n",
       "<table border=\"1\" class=\"dataframe\">\n",
       "  <thead>\n",
       "    <tr style=\"text-align: right;\">\n",
       "      <th></th>\n",
       "      <th>dine_type</th>\n",
       "      <th>corner</th>\n",
       "      <th>menu</th>\n",
       "      <th>is_sold_out</th>\n",
       "      <th>use_count</th>\n",
       "      <th>pred_count</th>\n",
       "      <th>additional</th>\n",
       "      <th>good</th>\n",
       "      <th>ok</th>\n",
       "      <th>bad</th>\n",
       "      <th>diff_use_pred</th>\n",
       "      <th>year</th>\n",
       "      <th>month</th>\n",
       "      <th>day</th>\n",
       "      <th>wday</th>\n",
       "    </tr>\n",
       "    <tr>\n",
       "      <th>date</th>\n",
       "      <th></th>\n",
       "      <th></th>\n",
       "      <th></th>\n",
       "      <th></th>\n",
       "      <th></th>\n",
       "      <th></th>\n",
       "      <th></th>\n",
       "      <th></th>\n",
       "      <th></th>\n",
       "      <th></th>\n",
       "      <th></th>\n",
       "      <th></th>\n",
       "      <th></th>\n",
       "      <th></th>\n",
       "      <th></th>\n",
       "    </tr>\n",
       "  </thead>\n",
       "  <tbody>\n",
       "    <tr>\n",
       "      <th>2013-08-06</th>\n",
       "      <td>dinner</td>\n",
       "      <td>grill &amp; fry</td>\n",
       "      <td>훈제연어벤또(200개)</td>\n",
       "      <td>F</td>\n",
       "      <td>213</td>\n",
       "      <td>0</td>\n",
       "      <td>0</td>\n",
       "      <td>0</td>\n",
       "      <td>0</td>\n",
       "      <td>0</td>\n",
       "      <td>-213</td>\n",
       "      <td>2013</td>\n",
       "      <td>8</td>\n",
       "      <td>6</td>\n",
       "      <td>1</td>\n",
       "    </tr>\n",
       "    <tr>\n",
       "      <th>2013-08-06</th>\n",
       "      <td>dinner</td>\n",
       "      <td>rice &amp; soup 1</td>\n",
       "      <td>뚝배기 우거지 갈비탕</td>\n",
       "      <td>F</td>\n",
       "      <td>261</td>\n",
       "      <td>0</td>\n",
       "      <td>0</td>\n",
       "      <td>0</td>\n",
       "      <td>0</td>\n",
       "      <td>0</td>\n",
       "      <td>-261</td>\n",
       "      <td>2013</td>\n",
       "      <td>8</td>\n",
       "      <td>6</td>\n",
       "      <td>1</td>\n",
       "    </tr>\n",
       "    <tr>\n",
       "      <th>2013-08-06</th>\n",
       "      <td>lunch</td>\n",
       "      <td>noodle bar</td>\n",
       "      <td>판모밀정식</td>\n",
       "      <td>F</td>\n",
       "      <td>267</td>\n",
       "      <td>0</td>\n",
       "      <td>0</td>\n",
       "      <td>0</td>\n",
       "      <td>0</td>\n",
       "      <td>0</td>\n",
       "      <td>-267</td>\n",
       "      <td>2013</td>\n",
       "      <td>8</td>\n",
       "      <td>6</td>\n",
       "      <td>1</td>\n",
       "    </tr>\n",
       "    <tr>\n",
       "      <th>2013-08-06</th>\n",
       "      <td>breakfast</td>\n",
       "      <td>rice &amp; soup 1</td>\n",
       "      <td>설렁탕정식</td>\n",
       "      <td>F</td>\n",
       "      <td>1</td>\n",
       "      <td>0</td>\n",
       "      <td>0</td>\n",
       "      <td>0</td>\n",
       "      <td>0</td>\n",
       "      <td>0</td>\n",
       "      <td>-1</td>\n",
       "      <td>2013</td>\n",
       "      <td>8</td>\n",
       "      <td>6</td>\n",
       "      <td>1</td>\n",
       "    </tr>\n",
       "    <tr>\n",
       "      <th>2013-08-06</th>\n",
       "      <td>lunch</td>\n",
       "      <td>rice &amp; soup 1</td>\n",
       "      <td>A. 부대찌개정식</td>\n",
       "      <td>F</td>\n",
       "      <td>376</td>\n",
       "      <td>0</td>\n",
       "      <td>0</td>\n",
       "      <td>0</td>\n",
       "      <td>0</td>\n",
       "      <td>0</td>\n",
       "      <td>-376</td>\n",
       "      <td>2013</td>\n",
       "      <td>8</td>\n",
       "      <td>6</td>\n",
       "      <td>1</td>\n",
       "    </tr>\n",
       "  </tbody>\n",
       "</table>\n",
       "</div>"
      ],
      "text/plain": [
       "            dine_type         corner          menu is_sold_out  use_count  \\\n",
       "date                                                                        \n",
       "2013-08-06     dinner    grill & fry  훈제연어벤또(200개)           F        213   \n",
       "2013-08-06     dinner  rice & soup 1   뚝배기 우거지 갈비탕           F        261   \n",
       "2013-08-06      lunch     noodle bar         판모밀정식           F        267   \n",
       "2013-08-06  breakfast  rice & soup 1         설렁탕정식           F          1   \n",
       "2013-08-06      lunch  rice & soup 1     A. 부대찌개정식           F        376   \n",
       "\n",
       "            pred_count  additional  good  ok  bad  diff_use_pred  year  month  \\\n",
       "date                                                                            \n",
       "2013-08-06           0           0     0   0    0           -213  2013      8   \n",
       "2013-08-06           0           0     0   0    0           -261  2013      8   \n",
       "2013-08-06           0           0     0   0    0           -267  2013      8   \n",
       "2013-08-06           0           0     0   0    0             -1  2013      8   \n",
       "2013-08-06           0           0     0   0    0           -376  2013      8   \n",
       "\n",
       "            day  wday  \n",
       "date                   \n",
       "2013-08-06    6     1  \n",
       "2013-08-06    6     1  \n",
       "2013-08-06    6     1  \n",
       "2013-08-06    6     1  \n",
       "2013-08-06    6     1  "
      ]
     },
     "execution_count": 39,
     "metadata": {},
     "output_type": "execute_result"
    }
   ],
   "source": [
    "식당.ix['2013-08-06']"
   ]
  },
  {
   "cell_type": "code",
   "execution_count": 40,
   "metadata": {
    "collapsed": true
   },
   "outputs": [
    {
     "data": {
      "text/html": [
       "<div>\n",
       "<table border=\"1\" class=\"dataframe\">\n",
       "  <thead>\n",
       "    <tr style=\"text-align: right;\">\n",
       "      <th></th>\n",
       "      <th>dine_type</th>\n",
       "      <th>corner</th>\n",
       "      <th>menu</th>\n",
       "      <th>is_sold_out</th>\n",
       "      <th>use_count</th>\n",
       "      <th>pred_count</th>\n",
       "      <th>additional</th>\n",
       "      <th>good</th>\n",
       "      <th>ok</th>\n",
       "      <th>bad</th>\n",
       "      <th>diff_use_pred</th>\n",
       "      <th>year</th>\n",
       "      <th>month</th>\n",
       "      <th>day</th>\n",
       "      <th>wday</th>\n",
       "    </tr>\n",
       "    <tr>\n",
       "      <th>date</th>\n",
       "      <th></th>\n",
       "      <th></th>\n",
       "      <th></th>\n",
       "      <th></th>\n",
       "      <th></th>\n",
       "      <th></th>\n",
       "      <th></th>\n",
       "      <th></th>\n",
       "      <th></th>\n",
       "      <th></th>\n",
       "      <th></th>\n",
       "      <th></th>\n",
       "      <th></th>\n",
       "      <th></th>\n",
       "      <th></th>\n",
       "    </tr>\n",
       "  </thead>\n",
       "  <tbody>\n",
       "    <tr>\n",
       "      <th>2013-08-06</th>\n",
       "      <td>dinner</td>\n",
       "      <td>grill &amp; fry</td>\n",
       "      <td>훈제연어벤또(200개)</td>\n",
       "      <td>F</td>\n",
       "      <td>213</td>\n",
       "      <td>0</td>\n",
       "      <td>0</td>\n",
       "      <td>0</td>\n",
       "      <td>0</td>\n",
       "      <td>0</td>\n",
       "      <td>-213</td>\n",
       "      <td>2013</td>\n",
       "      <td>8</td>\n",
       "      <td>6</td>\n",
       "      <td>1</td>\n",
       "    </tr>\n",
       "    <tr>\n",
       "      <th>2013-08-06</th>\n",
       "      <td>dinner</td>\n",
       "      <td>rice &amp; soup 1</td>\n",
       "      <td>뚝배기 우거지 갈비탕</td>\n",
       "      <td>F</td>\n",
       "      <td>261</td>\n",
       "      <td>0</td>\n",
       "      <td>0</td>\n",
       "      <td>0</td>\n",
       "      <td>0</td>\n",
       "      <td>0</td>\n",
       "      <td>-261</td>\n",
       "      <td>2013</td>\n",
       "      <td>8</td>\n",
       "      <td>6</td>\n",
       "      <td>1</td>\n",
       "    </tr>\n",
       "    <tr>\n",
       "      <th>2013-08-06</th>\n",
       "      <td>lunch</td>\n",
       "      <td>noodle bar</td>\n",
       "      <td>판모밀정식</td>\n",
       "      <td>F</td>\n",
       "      <td>267</td>\n",
       "      <td>0</td>\n",
       "      <td>0</td>\n",
       "      <td>0</td>\n",
       "      <td>0</td>\n",
       "      <td>0</td>\n",
       "      <td>-267</td>\n",
       "      <td>2013</td>\n",
       "      <td>8</td>\n",
       "      <td>6</td>\n",
       "      <td>1</td>\n",
       "    </tr>\n",
       "    <tr>\n",
       "      <th>2013-08-06</th>\n",
       "      <td>breakfast</td>\n",
       "      <td>rice &amp; soup 1</td>\n",
       "      <td>설렁탕정식</td>\n",
       "      <td>F</td>\n",
       "      <td>1</td>\n",
       "      <td>0</td>\n",
       "      <td>0</td>\n",
       "      <td>0</td>\n",
       "      <td>0</td>\n",
       "      <td>0</td>\n",
       "      <td>-1</td>\n",
       "      <td>2013</td>\n",
       "      <td>8</td>\n",
       "      <td>6</td>\n",
       "      <td>1</td>\n",
       "    </tr>\n",
       "    <tr>\n",
       "      <th>2013-08-06</th>\n",
       "      <td>lunch</td>\n",
       "      <td>rice &amp; soup 1</td>\n",
       "      <td>A. 부대찌개정식</td>\n",
       "      <td>F</td>\n",
       "      <td>376</td>\n",
       "      <td>0</td>\n",
       "      <td>0</td>\n",
       "      <td>0</td>\n",
       "      <td>0</td>\n",
       "      <td>0</td>\n",
       "      <td>-376</td>\n",
       "      <td>2013</td>\n",
       "      <td>8</td>\n",
       "      <td>6</td>\n",
       "      <td>1</td>\n",
       "    </tr>\n",
       "  </tbody>\n",
       "</table>\n",
       "</div>"
      ],
      "text/plain": [
       "            dine_type         corner          menu is_sold_out  use_count  \\\n",
       "date                                                                        \n",
       "2013-08-06     dinner    grill & fry  훈제연어벤또(200개)           F        213   \n",
       "2013-08-06     dinner  rice & soup 1   뚝배기 우거지 갈비탕           F        261   \n",
       "2013-08-06      lunch     noodle bar         판모밀정식           F        267   \n",
       "2013-08-06  breakfast  rice & soup 1         설렁탕정식           F          1   \n",
       "2013-08-06      lunch  rice & soup 1     A. 부대찌개정식           F        376   \n",
       "\n",
       "            pred_count  additional  good  ok  bad  diff_use_pred  year  month  \\\n",
       "date                                                                            \n",
       "2013-08-06           0           0     0   0    0           -213  2013      8   \n",
       "2013-08-06           0           0     0   0    0           -261  2013      8   \n",
       "2013-08-06           0           0     0   0    0           -267  2013      8   \n",
       "2013-08-06           0           0     0   0    0             -1  2013      8   \n",
       "2013-08-06           0           0     0   0    0           -376  2013      8   \n",
       "\n",
       "            day  wday  \n",
       "date                   \n",
       "2013-08-06    6     1  \n",
       "2013-08-06    6     1  \n",
       "2013-08-06    6     1  \n",
       "2013-08-06    6     1  \n",
       "2013-08-06    6     1  "
      ]
     },
     "execution_count": 40,
     "metadata": {},
     "output_type": "execute_result"
    }
   ],
   "source": [
    "식당.ix['20130806']"
   ]
  },
  {
   "cell_type": "code",
   "execution_count": 42,
   "metadata": {
    "collapsed": true
   },
   "outputs": [
    {
     "data": {
      "text/html": [
       "<div>\n",
       "<table border=\"1\" class=\"dataframe\">\n",
       "  <thead>\n",
       "    <tr style=\"text-align: right;\">\n",
       "      <th></th>\n",
       "      <th>dine_type</th>\n",
       "      <th>corner</th>\n",
       "      <th>menu</th>\n",
       "      <th>is_sold_out</th>\n",
       "      <th>use_count</th>\n",
       "      <th>pred_count</th>\n",
       "      <th>additional</th>\n",
       "      <th>good</th>\n",
       "      <th>ok</th>\n",
       "      <th>bad</th>\n",
       "      <th>diff_use_pred</th>\n",
       "      <th>year</th>\n",
       "      <th>month</th>\n",
       "      <th>day</th>\n",
       "      <th>wday</th>\n",
       "    </tr>\n",
       "    <tr>\n",
       "      <th>date</th>\n",
       "      <th></th>\n",
       "      <th></th>\n",
       "      <th></th>\n",
       "      <th></th>\n",
       "      <th></th>\n",
       "      <th></th>\n",
       "      <th></th>\n",
       "      <th></th>\n",
       "      <th></th>\n",
       "      <th></th>\n",
       "      <th></th>\n",
       "      <th></th>\n",
       "      <th></th>\n",
       "      <th></th>\n",
       "      <th></th>\n",
       "    </tr>\n",
       "  </thead>\n",
       "  <tbody>\n",
       "    <tr>\n",
       "      <th>2013-08-06</th>\n",
       "      <td>dinner</td>\n",
       "      <td>grill &amp; fry</td>\n",
       "      <td>훈제연어벤또(200개)</td>\n",
       "      <td>F</td>\n",
       "      <td>213</td>\n",
       "      <td>0</td>\n",
       "      <td>0</td>\n",
       "      <td>0</td>\n",
       "      <td>0</td>\n",
       "      <td>0</td>\n",
       "      <td>-213</td>\n",
       "      <td>2013</td>\n",
       "      <td>8</td>\n",
       "      <td>6</td>\n",
       "      <td>1</td>\n",
       "    </tr>\n",
       "    <tr>\n",
       "      <th>2013-08-06</th>\n",
       "      <td>dinner</td>\n",
       "      <td>rice &amp; soup 1</td>\n",
       "      <td>뚝배기 우거지 갈비탕</td>\n",
       "      <td>F</td>\n",
       "      <td>261</td>\n",
       "      <td>0</td>\n",
       "      <td>0</td>\n",
       "      <td>0</td>\n",
       "      <td>0</td>\n",
       "      <td>0</td>\n",
       "      <td>-261</td>\n",
       "      <td>2013</td>\n",
       "      <td>8</td>\n",
       "      <td>6</td>\n",
       "      <td>1</td>\n",
       "    </tr>\n",
       "    <tr>\n",
       "      <th>2013-08-06</th>\n",
       "      <td>lunch</td>\n",
       "      <td>noodle bar</td>\n",
       "      <td>판모밀정식</td>\n",
       "      <td>F</td>\n",
       "      <td>267</td>\n",
       "      <td>0</td>\n",
       "      <td>0</td>\n",
       "      <td>0</td>\n",
       "      <td>0</td>\n",
       "      <td>0</td>\n",
       "      <td>-267</td>\n",
       "      <td>2013</td>\n",
       "      <td>8</td>\n",
       "      <td>6</td>\n",
       "      <td>1</td>\n",
       "    </tr>\n",
       "    <tr>\n",
       "      <th>2013-08-06</th>\n",
       "      <td>breakfast</td>\n",
       "      <td>rice &amp; soup 1</td>\n",
       "      <td>설렁탕정식</td>\n",
       "      <td>F</td>\n",
       "      <td>1</td>\n",
       "      <td>0</td>\n",
       "      <td>0</td>\n",
       "      <td>0</td>\n",
       "      <td>0</td>\n",
       "      <td>0</td>\n",
       "      <td>-1</td>\n",
       "      <td>2013</td>\n",
       "      <td>8</td>\n",
       "      <td>6</td>\n",
       "      <td>1</td>\n",
       "    </tr>\n",
       "    <tr>\n",
       "      <th>2013-08-06</th>\n",
       "      <td>lunch</td>\n",
       "      <td>rice &amp; soup 1</td>\n",
       "      <td>A. 부대찌개정식</td>\n",
       "      <td>F</td>\n",
       "      <td>376</td>\n",
       "      <td>0</td>\n",
       "      <td>0</td>\n",
       "      <td>0</td>\n",
       "      <td>0</td>\n",
       "      <td>0</td>\n",
       "      <td>-376</td>\n",
       "      <td>2013</td>\n",
       "      <td>8</td>\n",
       "      <td>6</td>\n",
       "      <td>1</td>\n",
       "    </tr>\n",
       "    <tr>\n",
       "      <th>2013-08-12</th>\n",
       "      <td>dinner</td>\n",
       "      <td>noodle bar</td>\n",
       "      <td>차슈라멘</td>\n",
       "      <td>F</td>\n",
       "      <td>179</td>\n",
       "      <td>0</td>\n",
       "      <td>0</td>\n",
       "      <td>0</td>\n",
       "      <td>0</td>\n",
       "      <td>0</td>\n",
       "      <td>-179</td>\n",
       "      <td>2013</td>\n",
       "      <td>8</td>\n",
       "      <td>12</td>\n",
       "      <td>0</td>\n",
       "    </tr>\n",
       "    <tr>\n",
       "      <th>2013-08-12</th>\n",
       "      <td>breakfast</td>\n",
       "      <td>rice &amp; soup 1</td>\n",
       "      <td>뚝배기순대국</td>\n",
       "      <td>F</td>\n",
       "      <td>26</td>\n",
       "      <td>0</td>\n",
       "      <td>0</td>\n",
       "      <td>0</td>\n",
       "      <td>0</td>\n",
       "      <td>0</td>\n",
       "      <td>-26</td>\n",
       "      <td>2013</td>\n",
       "      <td>8</td>\n",
       "      <td>12</td>\n",
       "      <td>0</td>\n",
       "    </tr>\n",
       "    <tr>\n",
       "      <th>2013-08-12</th>\n",
       "      <td>lunch</td>\n",
       "      <td>rice &amp; soup 1</td>\n",
       "      <td>A:누룽지장각백숙</td>\n",
       "      <td>F</td>\n",
       "      <td>504</td>\n",
       "      <td>0</td>\n",
       "      <td>0</td>\n",
       "      <td>0</td>\n",
       "      <td>0</td>\n",
       "      <td>0</td>\n",
       "      <td>-504</td>\n",
       "      <td>2013</td>\n",
       "      <td>8</td>\n",
       "      <td>12</td>\n",
       "      <td>0</td>\n",
       "    </tr>\n",
       "    <tr>\n",
       "      <th>2013-08-12</th>\n",
       "      <td>lunch</td>\n",
       "      <td>noodle bar</td>\n",
       "      <td>유니자장면</td>\n",
       "      <td>F</td>\n",
       "      <td>167</td>\n",
       "      <td>0</td>\n",
       "      <td>0</td>\n",
       "      <td>0</td>\n",
       "      <td>0</td>\n",
       "      <td>0</td>\n",
       "      <td>-167</td>\n",
       "      <td>2013</td>\n",
       "      <td>8</td>\n",
       "      <td>12</td>\n",
       "      <td>0</td>\n",
       "    </tr>\n",
       "    <tr>\n",
       "      <th>2013-08-12</th>\n",
       "      <td>dinner</td>\n",
       "      <td>rice &amp; soup 1</td>\n",
       "      <td>김치날치알밥</td>\n",
       "      <td>F</td>\n",
       "      <td>216</td>\n",
       "      <td>0</td>\n",
       "      <td>0</td>\n",
       "      <td>0</td>\n",
       "      <td>0</td>\n",
       "      <td>0</td>\n",
       "      <td>-216</td>\n",
       "      <td>2013</td>\n",
       "      <td>8</td>\n",
       "      <td>12</td>\n",
       "      <td>0</td>\n",
       "    </tr>\n",
       "  </tbody>\n",
       "</table>\n",
       "</div>"
      ],
      "text/plain": [
       "            dine_type         corner          menu is_sold_out  use_count  \\\n",
       "date                                                                        \n",
       "2013-08-06     dinner    grill & fry  훈제연어벤또(200개)           F        213   \n",
       "2013-08-06     dinner  rice & soup 1   뚝배기 우거지 갈비탕           F        261   \n",
       "2013-08-06      lunch     noodle bar         판모밀정식           F        267   \n",
       "2013-08-06  breakfast  rice & soup 1         설렁탕정식           F          1   \n",
       "2013-08-06      lunch  rice & soup 1     A. 부대찌개정식           F        376   \n",
       "2013-08-12     dinner     noodle bar          차슈라멘           F        179   \n",
       "2013-08-12  breakfast  rice & soup 1        뚝배기순대국           F         26   \n",
       "2013-08-12      lunch  rice & soup 1     A:누룽지장각백숙           F        504   \n",
       "2013-08-12      lunch     noodle bar         유니자장면           F        167   \n",
       "2013-08-12     dinner  rice & soup 1        김치날치알밥           F        216   \n",
       "\n",
       "            pred_count  additional  good  ok  bad  diff_use_pred  year  month  \\\n",
       "date                                                                            \n",
       "2013-08-06           0           0     0   0    0           -213  2013      8   \n",
       "2013-08-06           0           0     0   0    0           -261  2013      8   \n",
       "2013-08-06           0           0     0   0    0           -267  2013      8   \n",
       "2013-08-06           0           0     0   0    0             -1  2013      8   \n",
       "2013-08-06           0           0     0   0    0           -376  2013      8   \n",
       "2013-08-12           0           0     0   0    0           -179  2013      8   \n",
       "2013-08-12           0           0     0   0    0            -26  2013      8   \n",
       "2013-08-12           0           0     0   0    0           -504  2013      8   \n",
       "2013-08-12           0           0     0   0    0           -167  2013      8   \n",
       "2013-08-12           0           0     0   0    0           -216  2013      8   \n",
       "\n",
       "            day  wday  \n",
       "date                   \n",
       "2013-08-06    6     1  \n",
       "2013-08-06    6     1  \n",
       "2013-08-06    6     1  \n",
       "2013-08-06    6     1  \n",
       "2013-08-06    6     1  \n",
       "2013-08-12   12     0  \n",
       "2013-08-12   12     0  \n",
       "2013-08-12   12     0  \n",
       "2013-08-12   12     0  \n",
       "2013-08-12   12     0  "
      ]
     },
     "execution_count": 42,
     "metadata": {},
     "output_type": "execute_result"
    }
   ],
   "source": [
    "식당.ix['2013-08'][:10]"
   ]
  },
  {
   "cell_type": "code",
   "execution_count": 43,
   "metadata": {
    "collapsed": true
   },
   "outputs": [
    {
     "data": {
      "text/html": [
       "<div>\n",
       "<table border=\"1\" class=\"dataframe\">\n",
       "  <thead>\n",
       "    <tr style=\"text-align: right;\">\n",
       "      <th></th>\n",
       "      <th>dine_type</th>\n",
       "      <th>corner</th>\n",
       "      <th>menu</th>\n",
       "      <th>is_sold_out</th>\n",
       "      <th>use_count</th>\n",
       "      <th>pred_count</th>\n",
       "      <th>additional</th>\n",
       "      <th>good</th>\n",
       "      <th>ok</th>\n",
       "      <th>bad</th>\n",
       "      <th>diff_use_pred</th>\n",
       "      <th>year</th>\n",
       "      <th>month</th>\n",
       "      <th>day</th>\n",
       "      <th>wday</th>\n",
       "    </tr>\n",
       "    <tr>\n",
       "      <th>date</th>\n",
       "      <th></th>\n",
       "      <th></th>\n",
       "      <th></th>\n",
       "      <th></th>\n",
       "      <th></th>\n",
       "      <th></th>\n",
       "      <th></th>\n",
       "      <th></th>\n",
       "      <th></th>\n",
       "      <th></th>\n",
       "      <th></th>\n",
       "      <th></th>\n",
       "      <th></th>\n",
       "      <th></th>\n",
       "      <th></th>\n",
       "    </tr>\n",
       "  </thead>\n",
       "  <tbody>\n",
       "    <tr>\n",
       "      <th>2013-08-06</th>\n",
       "      <td>dinner</td>\n",
       "      <td>grill &amp; fry</td>\n",
       "      <td>훈제연어벤또(200개)</td>\n",
       "      <td>F</td>\n",
       "      <td>213</td>\n",
       "      <td>0</td>\n",
       "      <td>0</td>\n",
       "      <td>0</td>\n",
       "      <td>0</td>\n",
       "      <td>0</td>\n",
       "      <td>-213</td>\n",
       "      <td>2013</td>\n",
       "      <td>8</td>\n",
       "      <td>6</td>\n",
       "      <td>1</td>\n",
       "    </tr>\n",
       "    <tr>\n",
       "      <th>2013-08-06</th>\n",
       "      <td>dinner</td>\n",
       "      <td>rice &amp; soup 1</td>\n",
       "      <td>뚝배기 우거지 갈비탕</td>\n",
       "      <td>F</td>\n",
       "      <td>261</td>\n",
       "      <td>0</td>\n",
       "      <td>0</td>\n",
       "      <td>0</td>\n",
       "      <td>0</td>\n",
       "      <td>0</td>\n",
       "      <td>-261</td>\n",
       "      <td>2013</td>\n",
       "      <td>8</td>\n",
       "      <td>6</td>\n",
       "      <td>1</td>\n",
       "    </tr>\n",
       "    <tr>\n",
       "      <th>2013-08-06</th>\n",
       "      <td>lunch</td>\n",
       "      <td>noodle bar</td>\n",
       "      <td>판모밀정식</td>\n",
       "      <td>F</td>\n",
       "      <td>267</td>\n",
       "      <td>0</td>\n",
       "      <td>0</td>\n",
       "      <td>0</td>\n",
       "      <td>0</td>\n",
       "      <td>0</td>\n",
       "      <td>-267</td>\n",
       "      <td>2013</td>\n",
       "      <td>8</td>\n",
       "      <td>6</td>\n",
       "      <td>1</td>\n",
       "    </tr>\n",
       "    <tr>\n",
       "      <th>2013-08-06</th>\n",
       "      <td>breakfast</td>\n",
       "      <td>rice &amp; soup 1</td>\n",
       "      <td>설렁탕정식</td>\n",
       "      <td>F</td>\n",
       "      <td>1</td>\n",
       "      <td>0</td>\n",
       "      <td>0</td>\n",
       "      <td>0</td>\n",
       "      <td>0</td>\n",
       "      <td>0</td>\n",
       "      <td>-1</td>\n",
       "      <td>2013</td>\n",
       "      <td>8</td>\n",
       "      <td>6</td>\n",
       "      <td>1</td>\n",
       "    </tr>\n",
       "    <tr>\n",
       "      <th>2013-08-06</th>\n",
       "      <td>lunch</td>\n",
       "      <td>rice &amp; soup 1</td>\n",
       "      <td>A. 부대찌개정식</td>\n",
       "      <td>F</td>\n",
       "      <td>376</td>\n",
       "      <td>0</td>\n",
       "      <td>0</td>\n",
       "      <td>0</td>\n",
       "      <td>0</td>\n",
       "      <td>0</td>\n",
       "      <td>-376</td>\n",
       "      <td>2013</td>\n",
       "      <td>8</td>\n",
       "      <td>6</td>\n",
       "      <td>1</td>\n",
       "    </tr>\n",
       "    <tr>\n",
       "      <th>2013-08-12</th>\n",
       "      <td>dinner</td>\n",
       "      <td>noodle bar</td>\n",
       "      <td>차슈라멘</td>\n",
       "      <td>F</td>\n",
       "      <td>179</td>\n",
       "      <td>0</td>\n",
       "      <td>0</td>\n",
       "      <td>0</td>\n",
       "      <td>0</td>\n",
       "      <td>0</td>\n",
       "      <td>-179</td>\n",
       "      <td>2013</td>\n",
       "      <td>8</td>\n",
       "      <td>12</td>\n",
       "      <td>0</td>\n",
       "    </tr>\n",
       "    <tr>\n",
       "      <th>2013-08-12</th>\n",
       "      <td>breakfast</td>\n",
       "      <td>rice &amp; soup 1</td>\n",
       "      <td>뚝배기순대국</td>\n",
       "      <td>F</td>\n",
       "      <td>26</td>\n",
       "      <td>0</td>\n",
       "      <td>0</td>\n",
       "      <td>0</td>\n",
       "      <td>0</td>\n",
       "      <td>0</td>\n",
       "      <td>-26</td>\n",
       "      <td>2013</td>\n",
       "      <td>8</td>\n",
       "      <td>12</td>\n",
       "      <td>0</td>\n",
       "    </tr>\n",
       "    <tr>\n",
       "      <th>2013-08-12</th>\n",
       "      <td>lunch</td>\n",
       "      <td>rice &amp; soup 1</td>\n",
       "      <td>A:누룽지장각백숙</td>\n",
       "      <td>F</td>\n",
       "      <td>504</td>\n",
       "      <td>0</td>\n",
       "      <td>0</td>\n",
       "      <td>0</td>\n",
       "      <td>0</td>\n",
       "      <td>0</td>\n",
       "      <td>-504</td>\n",
       "      <td>2013</td>\n",
       "      <td>8</td>\n",
       "      <td>12</td>\n",
       "      <td>0</td>\n",
       "    </tr>\n",
       "    <tr>\n",
       "      <th>2013-08-12</th>\n",
       "      <td>lunch</td>\n",
       "      <td>noodle bar</td>\n",
       "      <td>유니자장면</td>\n",
       "      <td>F</td>\n",
       "      <td>167</td>\n",
       "      <td>0</td>\n",
       "      <td>0</td>\n",
       "      <td>0</td>\n",
       "      <td>0</td>\n",
       "      <td>0</td>\n",
       "      <td>-167</td>\n",
       "      <td>2013</td>\n",
       "      <td>8</td>\n",
       "      <td>12</td>\n",
       "      <td>0</td>\n",
       "    </tr>\n",
       "    <tr>\n",
       "      <th>2013-08-12</th>\n",
       "      <td>dinner</td>\n",
       "      <td>rice &amp; soup 1</td>\n",
       "      <td>김치날치알밥</td>\n",
       "      <td>F</td>\n",
       "      <td>216</td>\n",
       "      <td>0</td>\n",
       "      <td>0</td>\n",
       "      <td>0</td>\n",
       "      <td>0</td>\n",
       "      <td>0</td>\n",
       "      <td>-216</td>\n",
       "      <td>2013</td>\n",
       "      <td>8</td>\n",
       "      <td>12</td>\n",
       "      <td>0</td>\n",
       "    </tr>\n",
       "  </tbody>\n",
       "</table>\n",
       "</div>"
      ],
      "text/plain": [
       "            dine_type         corner          menu is_sold_out  use_count  \\\n",
       "date                                                                        \n",
       "2013-08-06     dinner    grill & fry  훈제연어벤또(200개)           F        213   \n",
       "2013-08-06     dinner  rice & soup 1   뚝배기 우거지 갈비탕           F        261   \n",
       "2013-08-06      lunch     noodle bar         판모밀정식           F        267   \n",
       "2013-08-06  breakfast  rice & soup 1         설렁탕정식           F          1   \n",
       "2013-08-06      lunch  rice & soup 1     A. 부대찌개정식           F        376   \n",
       "2013-08-12     dinner     noodle bar          차슈라멘           F        179   \n",
       "2013-08-12  breakfast  rice & soup 1        뚝배기순대국           F         26   \n",
       "2013-08-12      lunch  rice & soup 1     A:누룽지장각백숙           F        504   \n",
       "2013-08-12      lunch     noodle bar         유니자장면           F        167   \n",
       "2013-08-12     dinner  rice & soup 1        김치날치알밥           F        216   \n",
       "\n",
       "            pred_count  additional  good  ok  bad  diff_use_pred  year  month  \\\n",
       "date                                                                            \n",
       "2013-08-06           0           0     0   0    0           -213  2013      8   \n",
       "2013-08-06           0           0     0   0    0           -261  2013      8   \n",
       "2013-08-06           0           0     0   0    0           -267  2013      8   \n",
       "2013-08-06           0           0     0   0    0             -1  2013      8   \n",
       "2013-08-06           0           0     0   0    0           -376  2013      8   \n",
       "2013-08-12           0           0     0   0    0           -179  2013      8   \n",
       "2013-08-12           0           0     0   0    0            -26  2013      8   \n",
       "2013-08-12           0           0     0   0    0           -504  2013      8   \n",
       "2013-08-12           0           0     0   0    0           -167  2013      8   \n",
       "2013-08-12           0           0     0   0    0           -216  2013      8   \n",
       "\n",
       "            day  wday  \n",
       "date                   \n",
       "2013-08-06    6     1  \n",
       "2013-08-06    6     1  \n",
       "2013-08-06    6     1  \n",
       "2013-08-06    6     1  \n",
       "2013-08-06    6     1  \n",
       "2013-08-12   12     0  \n",
       "2013-08-12   12     0  \n",
       "2013-08-12   12     0  \n",
       "2013-08-12   12     0  \n",
       "2013-08-12   12     0  "
      ]
     },
     "execution_count": 43,
     "metadata": {},
     "output_type": "execute_result"
    }
   ],
   "source": [
    "식당.ix['2013'][:10]"
   ]
  },
  {
   "cell_type": "markdown",
   "metadata": {},
   "source": [
    "특정 범위 선택"
   ]
  },
  {
   "cell_type": "code",
   "execution_count": 44,
   "metadata": {
    "collapsed": true
   },
   "outputs": [
    {
     "data": {
      "text/html": [
       "<div>\n",
       "<table border=\"1\" class=\"dataframe\">\n",
       "  <thead>\n",
       "    <tr style=\"text-align: right;\">\n",
       "      <th></th>\n",
       "      <th>dine_type</th>\n",
       "      <th>corner</th>\n",
       "      <th>menu</th>\n",
       "      <th>is_sold_out</th>\n",
       "      <th>use_count</th>\n",
       "      <th>pred_count</th>\n",
       "      <th>additional</th>\n",
       "      <th>good</th>\n",
       "      <th>ok</th>\n",
       "      <th>bad</th>\n",
       "      <th>diff_use_pred</th>\n",
       "      <th>year</th>\n",
       "      <th>month</th>\n",
       "      <th>day</th>\n",
       "      <th>wday</th>\n",
       "    </tr>\n",
       "    <tr>\n",
       "      <th>date</th>\n",
       "      <th></th>\n",
       "      <th></th>\n",
       "      <th></th>\n",
       "      <th></th>\n",
       "      <th></th>\n",
       "      <th></th>\n",
       "      <th></th>\n",
       "      <th></th>\n",
       "      <th></th>\n",
       "      <th></th>\n",
       "      <th></th>\n",
       "      <th></th>\n",
       "      <th></th>\n",
       "      <th></th>\n",
       "      <th></th>\n",
       "    </tr>\n",
       "  </thead>\n",
       "  <tbody>\n",
       "    <tr>\n",
       "      <th>2015-01-13</th>\n",
       "      <td>dinner</td>\n",
       "      <td>grill &amp; fry</td>\n",
       "      <td>돈가스카레라이스</td>\n",
       "      <td>F</td>\n",
       "      <td>224</td>\n",
       "      <td>200</td>\n",
       "      <td>30</td>\n",
       "      <td>0</td>\n",
       "      <td>0</td>\n",
       "      <td>0</td>\n",
       "      <td>6</td>\n",
       "      <td>2015</td>\n",
       "      <td>1</td>\n",
       "      <td>13</td>\n",
       "      <td>1</td>\n",
       "    </tr>\n",
       "    <tr>\n",
       "      <th>2015-01-13</th>\n",
       "      <td>dinner</td>\n",
       "      <td>burger&amp;pizza</td>\n",
       "      <td>불닭볶음밥&amp;자몽샐러드</td>\n",
       "      <td>F</td>\n",
       "      <td>111</td>\n",
       "      <td>150</td>\n",
       "      <td>20</td>\n",
       "      <td>0</td>\n",
       "      <td>0</td>\n",
       "      <td>0</td>\n",
       "      <td>59</td>\n",
       "      <td>2015</td>\n",
       "      <td>1</td>\n",
       "      <td>13</td>\n",
       "      <td>1</td>\n",
       "    </tr>\n",
       "    <tr>\n",
       "      <th>2015-01-13</th>\n",
       "      <td>lunch</td>\n",
       "      <td>noodle bar</td>\n",
       "      <td>베트남양지쌀국수</td>\n",
       "      <td>F</td>\n",
       "      <td>233</td>\n",
       "      <td>250</td>\n",
       "      <td>40</td>\n",
       "      <td>0</td>\n",
       "      <td>0</td>\n",
       "      <td>0</td>\n",
       "      <td>57</td>\n",
       "      <td>2015</td>\n",
       "      <td>1</td>\n",
       "      <td>13</td>\n",
       "      <td>1</td>\n",
       "    </tr>\n",
       "    <tr>\n",
       "      <th>2015-01-13</th>\n",
       "      <td>lunch</td>\n",
       "      <td>take out</td>\n",
       "      <td>훈제오리&amp;단호박샐러드</td>\n",
       "      <td>F</td>\n",
       "      <td>246</td>\n",
       "      <td>260</td>\n",
       "      <td>0</td>\n",
       "      <td>0</td>\n",
       "      <td>0</td>\n",
       "      <td>0</td>\n",
       "      <td>14</td>\n",
       "      <td>2015</td>\n",
       "      <td>1</td>\n",
       "      <td>13</td>\n",
       "      <td>1</td>\n",
       "    </tr>\n",
       "    <tr>\n",
       "      <th>2015-01-13</th>\n",
       "      <td>breakfast</td>\n",
       "      <td>take out</td>\n",
       "      <td>샌드위치콤보&amp;음료&amp;과일</td>\n",
       "      <td>F</td>\n",
       "      <td>36</td>\n",
       "      <td>38</td>\n",
       "      <td>20</td>\n",
       "      <td>0</td>\n",
       "      <td>0</td>\n",
       "      <td>0</td>\n",
       "      <td>22</td>\n",
       "      <td>2015</td>\n",
       "      <td>1</td>\n",
       "      <td>13</td>\n",
       "      <td>1</td>\n",
       "    </tr>\n",
       "    <tr>\n",
       "      <th>2015-01-13</th>\n",
       "      <td>lunch</td>\n",
       "      <td>after school</td>\n",
       "      <td>치즈라볶이&amp;스팸김마리</td>\n",
       "      <td>F</td>\n",
       "      <td>154</td>\n",
       "      <td>140</td>\n",
       "      <td>20</td>\n",
       "      <td>0</td>\n",
       "      <td>0</td>\n",
       "      <td>0</td>\n",
       "      <td>6</td>\n",
       "      <td>2015</td>\n",
       "      <td>1</td>\n",
       "      <td>13</td>\n",
       "      <td>1</td>\n",
       "    </tr>\n",
       "    <tr>\n",
       "      <th>2015-01-13</th>\n",
       "      <td>dinner</td>\n",
       "      <td>noodle bar</td>\n",
       "      <td>기장조밥&amp;닭가슴살채소볶음</td>\n",
       "      <td>F</td>\n",
       "      <td>80</td>\n",
       "      <td>80</td>\n",
       "      <td>10</td>\n",
       "      <td>0</td>\n",
       "      <td>0</td>\n",
       "      <td>0</td>\n",
       "      <td>10</td>\n",
       "      <td>2015</td>\n",
       "      <td>1</td>\n",
       "      <td>13</td>\n",
       "      <td>1</td>\n",
       "    </tr>\n",
       "    <tr>\n",
       "      <th>2015-01-13</th>\n",
       "      <td>dinner</td>\n",
       "      <td>take out</td>\n",
       "      <td>추억의도시락</td>\n",
       "      <td>F</td>\n",
       "      <td>113</td>\n",
       "      <td>80</td>\n",
       "      <td>10</td>\n",
       "      <td>0</td>\n",
       "      <td>0</td>\n",
       "      <td>0</td>\n",
       "      <td>-23</td>\n",
       "      <td>2015</td>\n",
       "      <td>1</td>\n",
       "      <td>13</td>\n",
       "      <td>1</td>\n",
       "    </tr>\n",
       "    <tr>\n",
       "      <th>2015-01-13</th>\n",
       "      <td>breakfast</td>\n",
       "      <td>rice &amp; soup 1</td>\n",
       "      <td>순두부맑은국&amp;돼지고기야채볶음</td>\n",
       "      <td>F</td>\n",
       "      <td>53</td>\n",
       "      <td>60</td>\n",
       "      <td>20</td>\n",
       "      <td>0</td>\n",
       "      <td>0</td>\n",
       "      <td>0</td>\n",
       "      <td>27</td>\n",
       "      <td>2015</td>\n",
       "      <td>1</td>\n",
       "      <td>13</td>\n",
       "      <td>1</td>\n",
       "    </tr>\n",
       "    <tr>\n",
       "      <th>2015-01-13</th>\n",
       "      <td>lunch</td>\n",
       "      <td>burger&amp;pizza</td>\n",
       "      <td>치즈햄버거스테이크</td>\n",
       "      <td>F</td>\n",
       "      <td>161</td>\n",
       "      <td>200</td>\n",
       "      <td>30</td>\n",
       "      <td>0</td>\n",
       "      <td>0</td>\n",
       "      <td>0</td>\n",
       "      <td>69</td>\n",
       "      <td>2015</td>\n",
       "      <td>1</td>\n",
       "      <td>13</td>\n",
       "      <td>1</td>\n",
       "    </tr>\n",
       "  </tbody>\n",
       "</table>\n",
       "</div>"
      ],
      "text/plain": [
       "            dine_type         corner             menu is_sold_out  use_count  \\\n",
       "date                                                                           \n",
       "2015-01-13     dinner    grill & fry         돈가스카레라이스           F        224   \n",
       "2015-01-13     dinner   burger&pizza      불닭볶음밥&자몽샐러드           F        111   \n",
       "2015-01-13      lunch     noodle bar         베트남양지쌀국수           F        233   \n",
       "2015-01-13      lunch       take out      훈제오리&단호박샐러드           F        246   \n",
       "2015-01-13  breakfast       take out     샌드위치콤보&음료&과일           F         36   \n",
       "2015-01-13      lunch   after school      치즈라볶이&스팸김마리           F        154   \n",
       "2015-01-13     dinner     noodle bar    기장조밥&닭가슴살채소볶음           F         80   \n",
       "2015-01-13     dinner       take out           추억의도시락           F        113   \n",
       "2015-01-13  breakfast  rice & soup 1  순두부맑은국&돼지고기야채볶음           F         53   \n",
       "2015-01-13      lunch   burger&pizza        치즈햄버거스테이크           F        161   \n",
       "\n",
       "            pred_count  additional  good  ok  bad  diff_use_pred  year  month  \\\n",
       "date                                                                            \n",
       "2015-01-13         200          30     0   0    0              6  2015      1   \n",
       "2015-01-13         150          20     0   0    0             59  2015      1   \n",
       "2015-01-13         250          40     0   0    0             57  2015      1   \n",
       "2015-01-13         260           0     0   0    0             14  2015      1   \n",
       "2015-01-13          38          20     0   0    0             22  2015      1   \n",
       "2015-01-13         140          20     0   0    0              6  2015      1   \n",
       "2015-01-13          80          10     0   0    0             10  2015      1   \n",
       "2015-01-13          80          10     0   0    0            -23  2015      1   \n",
       "2015-01-13          60          20     0   0    0             27  2015      1   \n",
       "2015-01-13         200          30     0   0    0             69  2015      1   \n",
       "\n",
       "            day  wday  \n",
       "date                   \n",
       "2015-01-13   13     1  \n",
       "2015-01-13   13     1  \n",
       "2015-01-13   13     1  \n",
       "2015-01-13   13     1  \n",
       "2015-01-13   13     1  \n",
       "2015-01-13   13     1  \n",
       "2015-01-13   13     1  \n",
       "2015-01-13   13     1  \n",
       "2015-01-13   13     1  \n",
       "2015-01-13   13     1  "
      ]
     },
     "execution_count": 44,
     "metadata": {},
     "output_type": "execute_result"
    }
   ],
   "source": [
    "식당['2015-01-13':'2015-03-03'][:10]"
   ]
  },
  {
   "cell_type": "code",
   "execution_count": 45,
   "metadata": {
    "collapsed": true
   },
   "outputs": [
    {
     "data": {
      "text/html": [
       "<div>\n",
       "<table border=\"1\" class=\"dataframe\">\n",
       "  <thead>\n",
       "    <tr style=\"text-align: right;\">\n",
       "      <th></th>\n",
       "      <th>dine_type</th>\n",
       "      <th>corner</th>\n",
       "      <th>menu</th>\n",
       "      <th>is_sold_out</th>\n",
       "      <th>use_count</th>\n",
       "      <th>pred_count</th>\n",
       "      <th>additional</th>\n",
       "      <th>good</th>\n",
       "      <th>ok</th>\n",
       "      <th>bad</th>\n",
       "      <th>diff_use_pred</th>\n",
       "      <th>year</th>\n",
       "      <th>month</th>\n",
       "      <th>day</th>\n",
       "      <th>wday</th>\n",
       "    </tr>\n",
       "    <tr>\n",
       "      <th>date</th>\n",
       "      <th></th>\n",
       "      <th></th>\n",
       "      <th></th>\n",
       "      <th></th>\n",
       "      <th></th>\n",
       "      <th></th>\n",
       "      <th></th>\n",
       "      <th></th>\n",
       "      <th></th>\n",
       "      <th></th>\n",
       "      <th></th>\n",
       "      <th></th>\n",
       "      <th></th>\n",
       "      <th></th>\n",
       "      <th></th>\n",
       "    </tr>\n",
       "  </thead>\n",
       "  <tbody>\n",
       "    <tr>\n",
       "      <th>2014-12-31</th>\n",
       "      <td>dinner</td>\n",
       "      <td>after school</td>\n",
       "      <td>얼큰김치라면&amp;계란말이</td>\n",
       "      <td>F</td>\n",
       "      <td>2</td>\n",
       "      <td>80</td>\n",
       "      <td>30</td>\n",
       "      <td>0</td>\n",
       "      <td>0</td>\n",
       "      <td>0</td>\n",
       "      <td>108</td>\n",
       "      <td>2014</td>\n",
       "      <td>12</td>\n",
       "      <td>31</td>\n",
       "      <td>2</td>\n",
       "    </tr>\n",
       "    <tr>\n",
       "      <th>2014-12-31</th>\n",
       "      <td>breakfast</td>\n",
       "      <td>rice &amp; soup 1</td>\n",
       "      <td>북어국&amp;떡갈비엿장구이</td>\n",
       "      <td>F</td>\n",
       "      <td>38</td>\n",
       "      <td>30</td>\n",
       "      <td>20</td>\n",
       "      <td>0</td>\n",
       "      <td>0</td>\n",
       "      <td>0</td>\n",
       "      <td>12</td>\n",
       "      <td>2014</td>\n",
       "      <td>12</td>\n",
       "      <td>31</td>\n",
       "      <td>2</td>\n",
       "    </tr>\n",
       "    <tr>\n",
       "      <th>2014-12-31</th>\n",
       "      <td>dinner</td>\n",
       "      <td>rice &amp; soup 1</td>\n",
       "      <td>설렁탕</td>\n",
       "      <td>F</td>\n",
       "      <td>28</td>\n",
       "      <td>220</td>\n",
       "      <td>60</td>\n",
       "      <td>0</td>\n",
       "      <td>0</td>\n",
       "      <td>0</td>\n",
       "      <td>252</td>\n",
       "      <td>2014</td>\n",
       "      <td>12</td>\n",
       "      <td>31</td>\n",
       "      <td>2</td>\n",
       "    </tr>\n",
       "  </tbody>\n",
       "</table>\n",
       "</div>"
      ],
      "text/plain": [
       "            dine_type         corner         menu is_sold_out  use_count  \\\n",
       "date                                                                       \n",
       "2014-12-31     dinner   after school  얼큰김치라면&계란말이           F          2   \n",
       "2014-12-31  breakfast  rice & soup 1  북어국&떡갈비엿장구이           F         38   \n",
       "2014-12-31     dinner  rice & soup 1          설렁탕           F         28   \n",
       "\n",
       "            pred_count  additional  good  ok  bad  diff_use_pred  year  month  \\\n",
       "date                                                                            \n",
       "2014-12-31          80          30     0   0    0            108  2014     12   \n",
       "2014-12-31          30          20     0   0    0             12  2014     12   \n",
       "2014-12-31         220          60     0   0    0            252  2014     12   \n",
       "\n",
       "            day  wday  \n",
       "date                   \n",
       "2014-12-31   31     2  \n",
       "2014-12-31   31     2  \n",
       "2014-12-31   31     2  "
      ]
     },
     "execution_count": 45,
     "metadata": {},
     "output_type": "execute_result"
    }
   ],
   "source": [
    "식당.truncate(after='2015')[-3:]"
   ]
  },
  {
   "cell_type": "code",
   "execution_count": 46,
   "metadata": {
    "collapsed": true
   },
   "outputs": [
    {
     "data": {
      "text/html": [
       "<div>\n",
       "<table border=\"1\" class=\"dataframe\">\n",
       "  <thead>\n",
       "    <tr style=\"text-align: right;\">\n",
       "      <th></th>\n",
       "      <th>dine_type</th>\n",
       "      <th>corner</th>\n",
       "      <th>menu</th>\n",
       "      <th>is_sold_out</th>\n",
       "      <th>use_count</th>\n",
       "      <th>pred_count</th>\n",
       "      <th>additional</th>\n",
       "      <th>good</th>\n",
       "      <th>ok</th>\n",
       "      <th>bad</th>\n",
       "      <th>diff_use_pred</th>\n",
       "      <th>year</th>\n",
       "      <th>month</th>\n",
       "      <th>day</th>\n",
       "      <th>wday</th>\n",
       "    </tr>\n",
       "    <tr>\n",
       "      <th>date</th>\n",
       "      <th></th>\n",
       "      <th></th>\n",
       "      <th></th>\n",
       "      <th></th>\n",
       "      <th></th>\n",
       "      <th></th>\n",
       "      <th></th>\n",
       "      <th></th>\n",
       "      <th></th>\n",
       "      <th></th>\n",
       "      <th></th>\n",
       "      <th></th>\n",
       "      <th></th>\n",
       "      <th></th>\n",
       "      <th></th>\n",
       "    </tr>\n",
       "  </thead>\n",
       "  <tbody>\n",
       "    <tr>\n",
       "      <th>2015-01-02</th>\n",
       "      <td>dinner</td>\n",
       "      <td>after school</td>\n",
       "      <td>참깨라면&amp;볶음김치김밥</td>\n",
       "      <td>F</td>\n",
       "      <td>39</td>\n",
       "      <td>80</td>\n",
       "      <td>10</td>\n",
       "      <td>0</td>\n",
       "      <td>0</td>\n",
       "      <td>0</td>\n",
       "      <td>51</td>\n",
       "      <td>2015</td>\n",
       "      <td>1</td>\n",
       "      <td>2</td>\n",
       "      <td>4</td>\n",
       "    </tr>\n",
       "    <tr>\n",
       "      <th>2015-01-02</th>\n",
       "      <td>lunch</td>\n",
       "      <td>after school</td>\n",
       "      <td>오징어김치볶음밥&amp;계란후라이</td>\n",
       "      <td>F</td>\n",
       "      <td>158</td>\n",
       "      <td>170</td>\n",
       "      <td>40</td>\n",
       "      <td>0</td>\n",
       "      <td>0</td>\n",
       "      <td>0</td>\n",
       "      <td>52</td>\n",
       "      <td>2015</td>\n",
       "      <td>1</td>\n",
       "      <td>2</td>\n",
       "      <td>4</td>\n",
       "    </tr>\n",
       "    <tr>\n",
       "      <th>2015-01-02</th>\n",
       "      <td>breakfast</td>\n",
       "      <td>rice &amp; soup 1</td>\n",
       "      <td>감자호박국&amp;소고기야채볶음</td>\n",
       "      <td>F</td>\n",
       "      <td>35</td>\n",
       "      <td>20</td>\n",
       "      <td>10</td>\n",
       "      <td>0</td>\n",
       "      <td>0</td>\n",
       "      <td>0</td>\n",
       "      <td>-5</td>\n",
       "      <td>2015</td>\n",
       "      <td>1</td>\n",
       "      <td>2</td>\n",
       "      <td>4</td>\n",
       "    </tr>\n",
       "  </tbody>\n",
       "</table>\n",
       "</div>"
      ],
      "text/plain": [
       "            dine_type         corner            menu is_sold_out  use_count  \\\n",
       "date                                                                          \n",
       "2015-01-02     dinner   after school     참깨라면&볶음김치김밥           F         39   \n",
       "2015-01-02      lunch   after school  오징어김치볶음밥&계란후라이           F        158   \n",
       "2015-01-02  breakfast  rice & soup 1   감자호박국&소고기야채볶음           F         35   \n",
       "\n",
       "            pred_count  additional  good  ok  bad  diff_use_pred  year  month  \\\n",
       "date                                                                            \n",
       "2015-01-02          80          10     0   0    0             51  2015      1   \n",
       "2015-01-02         170          40     0   0    0             52  2015      1   \n",
       "2015-01-02          20          10     0   0    0             -5  2015      1   \n",
       "\n",
       "            day  wday  \n",
       "date                   \n",
       "2015-01-02    2     4  \n",
       "2015-01-02    2     4  \n",
       "2015-01-02    2     4  "
      ]
     },
     "execution_count": 46,
     "metadata": {},
     "output_type": "execute_result"
    }
   ],
   "source": [
    "식당.truncate(before='2015')[:3]"
   ]
  },
  {
   "cell_type": "markdown",
   "metadata": {},
   "source": [
    "## 맞춤형 날짜시간 범위"
   ]
  },
  {
   "cell_type": "markdown",
   "metadata": {},
   "source": [
    "### 날짜범위 생성"
   ]
  },
  {
   "cell_type": "code",
   "execution_count": 47,
   "metadata": {
    "collapsed": false
   },
   "outputs": [
    {
     "data": {
      "text/plain": [
       "[2013, 2014, 2015, 2016, 2017, 2018, 2019]"
      ]
     },
     "execution_count": 47,
     "metadata": {},
     "output_type": "execute_result"
    }
   ],
   "source": [
    "list(range(2013, 2020))"
   ]
  },
  {
   "cell_type": "code",
   "execution_count": 51,
   "metadata": {
    "collapsed": true
   },
   "outputs": [],
   "source": [
    "dates = pd.date_range('2016-02-20', '2016-03-10')"
   ]
  },
  {
   "cell_type": "code",
   "execution_count": null,
   "metadata": {
    "collapsed": true
   },
   "outputs": [],
   "source": [
    "ts = pd.Series(\n",
    "    range(1, 21), index=dates)"
   ]
  },
  {
   "cell_type": "code",
   "execution_count": 53,
   "metadata": {
    "collapsed": true
   },
   "outputs": [
    {
     "data": {
      "text/plain": [
       "2016-02-25     6\n",
       "2016-02-26     7\n",
       "2016-02-27     8\n",
       "2016-02-28     9\n",
       "2016-02-29    10\n",
       "2016-03-01    11\n",
       "2016-03-02    12\n",
       "2016-03-03    13\n",
       "2016-03-04    14\n",
       "2016-03-05    15\n",
       "Freq: D, dtype: int32"
      ]
     },
     "execution_count": 53,
     "metadata": {},
     "output_type": "execute_result"
    }
   ],
   "source": [
    "ts['2016-02-25':'2016-03-05']"
   ]
  },
  {
   "cell_type": "markdown",
   "metadata": {},
   "source": [
    "특정 개수만큼 날짜 생성"
   ]
  },
  {
   "cell_type": "code",
   "execution_count": 54,
   "metadata": {
    "collapsed": true
   },
   "outputs": [
    {
     "data": {
      "text/plain": [
       "DatetimeIndex(['2016-12-16', '2016-12-17', '2016-12-18', '2016-12-19',\n",
       "               '2016-12-20', '2016-12-21', '2016-12-22', '2016-12-23',\n",
       "               '2016-12-24', '2016-12-25', '2016-12-26', '2016-12-27',\n",
       "               '2016-12-28', '2016-12-29', '2016-12-30', '2016-12-31',\n",
       "               '2017-01-01', '2017-01-02', '2017-01-03', '2017-01-04'],\n",
       "              dtype='datetime64[ns]', freq='D')"
      ]
     },
     "execution_count": 54,
     "metadata": {},
     "output_type": "execute_result"
    }
   ],
   "source": [
    "pd.date_range('2016-12-16', periods=20)"
   ]
  },
  {
   "cell_type": "code",
   "execution_count": 55,
   "metadata": {
    "collapsed": true
   },
   "outputs": [
    {
     "data": {
      "text/plain": [
       "DatetimeIndex(['2016-11-27', '2016-11-28', '2016-11-29', '2016-11-30',\n",
       "               '2016-12-01', '2016-12-02', '2016-12-03', '2016-12-04',\n",
       "               '2016-12-05', '2016-12-06', '2016-12-07', '2016-12-08',\n",
       "               '2016-12-09', '2016-12-10', '2016-12-11', '2016-12-12',\n",
       "               '2016-12-13', '2016-12-14', '2016-12-15', '2016-12-16'],\n",
       "              dtype='datetime64[ns]', freq='D')"
      ]
     },
     "execution_count": 55,
     "metadata": {},
     "output_type": "execute_result"
    }
   ],
   "source": [
    "pd.date_range(end='2016-12-16', periods=20)"
   ]
  },
  {
   "cell_type": "code",
   "execution_count": 56,
   "metadata": {
    "collapsed": true
   },
   "outputs": [
    {
     "data": {
      "text/plain": [
       "DatetimeIndex(['2016-08-15 09:43:52', '2016-08-16 09:43:52',\n",
       "               '2016-08-17 09:43:52', '2016-08-18 09:43:52',\n",
       "               '2016-08-19 09:43:52', '2016-08-20 09:43:52',\n",
       "               '2016-08-21 09:43:52', '2016-08-22 09:43:52',\n",
       "               '2016-08-23 09:43:52', '2016-08-24 09:43:52'],\n",
       "              dtype='datetime64[ns]', freq='D')"
      ]
     },
     "execution_count": 56,
     "metadata": {},
     "output_type": "execute_result"
    }
   ],
   "source": [
    "pd.date_range('2016-08-15 09:43:52', periods=10)"
   ]
  },
  {
   "cell_type": "code",
   "execution_count": 57,
   "metadata": {
    "collapsed": false
   },
   "outputs": [
    {
     "data": {
      "text/plain": [
       "DatetimeIndex(['2016-08-15', '2016-08-16', '2016-08-17', '2016-08-18',\n",
       "               '2016-08-19', '2016-08-20', '2016-08-21', '2016-08-22',\n",
       "               '2016-08-23', '2016-08-24'],\n",
       "              dtype='datetime64[ns]', freq='D')"
      ]
     },
     "execution_count": 57,
     "metadata": {},
     "output_type": "execute_result"
    }
   ],
   "source": [
    "pd.date_range('2016-08-15 09:43:52', periods=10, normalize=True)"
   ]
  },
  {
   "cell_type": "markdown",
   "metadata": {},
   "source": [
    "### 빈도"
   ]
  },
  {
   "cell_type": "code",
   "execution_count": 59,
   "metadata": {
    "collapsed": true
   },
   "outputs": [
    {
     "data": {
      "text/plain": [
       "DatetimeIndex(['2016-01-01', '2016-02-01', '2016-03-01', '2016-04-01',\n",
       "               '2016-05-01', '2016-06-01', '2016-07-01', '2016-08-01',\n",
       "               '2016-09-01', '2016-10-01', '2016-11-01', '2016-12-01',\n",
       "               '2017-01-01'],\n",
       "              dtype='datetime64[ns]', freq='MS')"
      ]
     },
     "execution_count": 59,
     "metadata": {},
     "output_type": "execute_result"
    }
   ],
   "source": [
    "pd.date_range('2016-01-01', '2017-01-01', freq='MS')"
   ]
  },
  {
   "cell_type": "markdown",
   "metadata": {},
   "source": [
    "한 시간 삽십분 마다"
   ]
  },
  {
   "cell_type": "code",
   "execution_count": 60,
   "metadata": {
    "collapsed": true
   },
   "outputs": [
    {
     "data": {
      "text/plain": [
       "DatetimeIndex(['2016-08-15 09:00:00', '2016-08-15 10:30:00',\n",
       "               '2016-08-15 12:00:00', '2016-08-15 13:30:00',\n",
       "               '2016-08-15 15:00:00', '2016-08-15 16:30:00',\n",
       "               '2016-08-15 18:00:00'],\n",
       "              dtype='datetime64[ns]', freq='90T')"
      ]
     },
     "execution_count": 60,
     "metadata": {},
     "output_type": "execute_result"
    }
   ],
   "source": [
    "pd.date_range(\n",
    "    '2016-08-15 09:00', '2016-08-15 18:00', freq='1h30min')"
   ]
  },
  {
   "cell_type": "markdown",
   "metadata": {},
   "source": [
    "매주 금요일 마다"
   ]
  },
  {
   "cell_type": "code",
   "execution_count": 63,
   "metadata": {
    "collapsed": true
   },
   "outputs": [],
   "source": [
    "날짜 = 식당.reset_index().date"
   ]
  },
  {
   "cell_type": "code",
   "execution_count": 68,
   "metadata": {
    "collapsed": false
   },
   "outputs": [
    {
     "data": {
      "text/plain": [
       "Timestamp('2015-07-27 00:00:00')"
      ]
     },
     "execution_count": 68,
     "metadata": {},
     "output_type": "execute_result"
    }
   ],
   "source": [
    "날짜.iloc[-1]"
   ]
  },
  {
   "cell_type": "code",
   "execution_count": 69,
   "metadata": {
    "collapsed": false
   },
   "outputs": [],
   "source": [
    "불금 = pd.date_range('2013-08-06', '2015-07-27', freq='W-FRI')"
   ]
  },
  {
   "cell_type": "code",
   "execution_count": 73,
   "metadata": {
    "collapsed": false
   },
   "outputs": [
    {
     "data": {
      "text/html": [
       "<div>\n",
       "<table border=\"1\" class=\"dataframe\">\n",
       "  <thead>\n",
       "    <tr style=\"text-align: right;\">\n",
       "      <th></th>\n",
       "      <th>dine_type</th>\n",
       "      <th>corner</th>\n",
       "      <th>menu</th>\n",
       "      <th>is_sold_out</th>\n",
       "      <th>use_count</th>\n",
       "      <th>pred_count</th>\n",
       "      <th>additional</th>\n",
       "      <th>good</th>\n",
       "      <th>ok</th>\n",
       "      <th>bad</th>\n",
       "      <th>diff_use_pred</th>\n",
       "      <th>year</th>\n",
       "      <th>month</th>\n",
       "      <th>day</th>\n",
       "      <th>wday</th>\n",
       "    </tr>\n",
       "    <tr>\n",
       "      <th>date</th>\n",
       "      <th></th>\n",
       "      <th></th>\n",
       "      <th></th>\n",
       "      <th></th>\n",
       "      <th></th>\n",
       "      <th></th>\n",
       "      <th></th>\n",
       "      <th></th>\n",
       "      <th></th>\n",
       "      <th></th>\n",
       "      <th></th>\n",
       "      <th></th>\n",
       "      <th></th>\n",
       "      <th></th>\n",
       "      <th></th>\n",
       "    </tr>\n",
       "  </thead>\n",
       "  <tbody>\n",
       "    <tr>\n",
       "      <th>2013-08-23</th>\n",
       "      <td>dinner</td>\n",
       "      <td>grill &amp; fry</td>\n",
       "      <td>추억의도시락</td>\n",
       "      <td>F</td>\n",
       "      <td>211.0</td>\n",
       "      <td>0.0</td>\n",
       "      <td>0.0</td>\n",
       "      <td>0.0</td>\n",
       "      <td>0.0</td>\n",
       "      <td>0.0</td>\n",
       "      <td>-211.0</td>\n",
       "      <td>2013.0</td>\n",
       "      <td>8.0</td>\n",
       "      <td>23.0</td>\n",
       "      <td>4.0</td>\n",
       "    </tr>\n",
       "    <tr>\n",
       "      <th>2013-08-23</th>\n",
       "      <td>breakfast</td>\n",
       "      <td>rice &amp; soup 1</td>\n",
       "      <td>참치김치찌개</td>\n",
       "      <td>F</td>\n",
       "      <td>43.0</td>\n",
       "      <td>0.0</td>\n",
       "      <td>0.0</td>\n",
       "      <td>0.0</td>\n",
       "      <td>0.0</td>\n",
       "      <td>0.0</td>\n",
       "      <td>-43.0</td>\n",
       "      <td>2013.0</td>\n",
       "      <td>8.0</td>\n",
       "      <td>23.0</td>\n",
       "      <td>4.0</td>\n",
       "    </tr>\n",
       "    <tr>\n",
       "      <th>2013-08-23</th>\n",
       "      <td>dinner</td>\n",
       "      <td>after school</td>\n",
       "      <td>라면+롤밥 &amp;고급음료</td>\n",
       "      <td>F</td>\n",
       "      <td>149.0</td>\n",
       "      <td>0.0</td>\n",
       "      <td>0.0</td>\n",
       "      <td>0.0</td>\n",
       "      <td>0.0</td>\n",
       "      <td>0.0</td>\n",
       "      <td>-149.0</td>\n",
       "      <td>2013.0</td>\n",
       "      <td>8.0</td>\n",
       "      <td>23.0</td>\n",
       "      <td>4.0</td>\n",
       "    </tr>\n",
       "    <tr>\n",
       "      <th>2013-08-23</th>\n",
       "      <td>lunch</td>\n",
       "      <td>after school</td>\n",
       "      <td>라면+롤밥 &amp;고급음료</td>\n",
       "      <td>F</td>\n",
       "      <td>192.0</td>\n",
       "      <td>0.0</td>\n",
       "      <td>0.0</td>\n",
       "      <td>0.0</td>\n",
       "      <td>0.0</td>\n",
       "      <td>0.0</td>\n",
       "      <td>-192.0</td>\n",
       "      <td>2013.0</td>\n",
       "      <td>8.0</td>\n",
       "      <td>23.0</td>\n",
       "      <td>4.0</td>\n",
       "    </tr>\n",
       "    <tr>\n",
       "      <th>2013-08-23</th>\n",
       "      <td>lunch</td>\n",
       "      <td>burger&amp;pizza</td>\n",
       "      <td>머쉬룸버거</td>\n",
       "      <td>F</td>\n",
       "      <td>268.0</td>\n",
       "      <td>0.0</td>\n",
       "      <td>0.0</td>\n",
       "      <td>0.0</td>\n",
       "      <td>0.0</td>\n",
       "      <td>0.0</td>\n",
       "      <td>-268.0</td>\n",
       "      <td>2013.0</td>\n",
       "      <td>8.0</td>\n",
       "      <td>23.0</td>\n",
       "      <td>4.0</td>\n",
       "    </tr>\n",
       "  </tbody>\n",
       "</table>\n",
       "</div>"
      ],
      "text/plain": [
       "            dine_type         corner         menu is_sold_out  use_count  \\\n",
       "date                                                                       \n",
       "2013-08-23     dinner    grill & fry       추억의도시락           F      211.0   \n",
       "2013-08-23  breakfast  rice & soup 1       참치김치찌개           F       43.0   \n",
       "2013-08-23     dinner   after school  라면+롤밥 &고급음료           F      149.0   \n",
       "2013-08-23      lunch   after school  라면+롤밥 &고급음료           F      192.0   \n",
       "2013-08-23      lunch   burger&pizza        머쉬룸버거           F      268.0   \n",
       "\n",
       "            pred_count  additional  good   ok  bad  diff_use_pred    year  \\\n",
       "date                                                                        \n",
       "2013-08-23         0.0         0.0   0.0  0.0  0.0         -211.0  2013.0   \n",
       "2013-08-23         0.0         0.0   0.0  0.0  0.0          -43.0  2013.0   \n",
       "2013-08-23         0.0         0.0   0.0  0.0  0.0         -149.0  2013.0   \n",
       "2013-08-23         0.0         0.0   0.0  0.0  0.0         -192.0  2013.0   \n",
       "2013-08-23         0.0         0.0   0.0  0.0  0.0         -268.0  2013.0   \n",
       "\n",
       "            month   day  wday  \n",
       "date                           \n",
       "2013-08-23    8.0  23.0   4.0  \n",
       "2013-08-23    8.0  23.0   4.0  \n",
       "2013-08-23    8.0  23.0   4.0  \n",
       "2013-08-23    8.0  23.0   4.0  \n",
       "2013-08-23    8.0  23.0   4.0  "
      ]
     },
     "execution_count": 73,
     "metadata": {},
     "output_type": "execute_result"
    }
   ],
   "source": [
    "식당.ix[불금].dropna(how='all')[:5]"
   ]
  },
  {
   "cell_type": "code",
   "execution_count": null,
   "metadata": {
    "collapsed": true
   },
   "outputs": [],
   "source": []
  }
 ],
 "metadata": {
  "anaconda-cloud": {},
  "kernelspec": {
   "display_name": "Python [conda root]",
   "language": "python",
   "name": "conda-root-py"
  },
  "language_info": {
   "codemirror_mode": {
    "name": "ipython",
    "version": 3
   },
   "file_extension": ".py",
   "mimetype": "text/x-python",
   "name": "python",
   "nbconvert_exporter": "python",
   "pygments_lexer": "ipython3",
   "version": "3.5.2"
  }
 },
 "nbformat": 4,
 "nbformat_minor": 1
}
