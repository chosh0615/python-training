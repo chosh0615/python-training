{
 "cells": [
  {
   "cell_type": "code",
   "execution_count": 2,
   "metadata": {
    "collapsed": true
   },
   "outputs": [],
   "source": [
    "import pandas as pd"
   ]
  },
  {
   "cell_type": "markdown",
   "metadata": {},
   "source": [
    "#### 연습\n",
    "\n",
    "1. 날씨 데이터프레임 생성해 변수 '날씨'에 저장\n",
    "1. date, location, avgTemp, weather 열만 선택해 변수 '날씨' 갱신\n",
    "1. location 열에 담긴 값의 도수 측정\n",
    "1. location 열의 값에 따라, 지역별로 데이터프레임 선택. 예를 들어, 지역이 서울인 경우 변수 '서울날씨'에 저장\n",
    "1. 각 데이터프레임의 10번째부터 20번째 행까지만 출력"
   ]
  },
  {
   "cell_type": "code",
   "execution_count": 1,
   "metadata": {
    "collapsed": true
   },
   "outputs": [],
   "source": [
    "날씨데이터 = 'data/weather.xlsx'"
   ]
  },
  {
   "cell_type": "code",
   "execution_count": 3,
   "metadata": {
    "collapsed": true
   },
   "outputs": [],
   "source": [
    "날씨 = pd.read_excel(날씨데이터)"
   ]
  },
  {
   "cell_type": "code",
   "execution_count": 5,
   "metadata": {
    "collapsed": false
   },
   "outputs": [],
   "source": [
    "날씨 = 날씨[['date', 'location', 'avgTemp', 'weather']]"
   ]
  },
  {
   "cell_type": "code",
   "execution_count": 6,
   "metadata": {
    "collapsed": false
   },
   "outputs": [
    {
     "data": {
      "text/plain": [
       "seoul    730\n",
       "suwon    730\n",
       "Name: location, dtype: int64"
      ]
     },
     "execution_count": 6,
     "metadata": {},
     "output_type": "execute_result"
    }
   ],
   "source": [
    "날씨.location.value_counts()"
   ]
  },
  {
   "cell_type": "code",
   "execution_count": 10,
   "metadata": {
    "collapsed": false
   },
   "outputs": [],
   "source": [
    "서울날씨 = 날씨[날씨.location == 'seoul']"
   ]
  },
  {
   "cell_type": "code",
   "execution_count": 11,
   "metadata": {
    "collapsed": true
   },
   "outputs": [
    {
     "data": {
      "text/html": [
       "<div>\n",
       "<table border=\"1\" class=\"dataframe\">\n",
       "  <thead>\n",
       "    <tr style=\"text-align: right;\">\n",
       "      <th></th>\n",
       "      <th>date</th>\n",
       "      <th>location</th>\n",
       "      <th>avgTemp</th>\n",
       "      <th>weather</th>\n",
       "    </tr>\n",
       "  </thead>\n",
       "  <tbody>\n",
       "    <tr>\n",
       "      <th>153</th>\n",
       "      <td>2013-08-01</td>\n",
       "      <td>suwon</td>\n",
       "      <td>27.8</td>\n",
       "      <td>구름많음/안개</td>\n",
       "    </tr>\n",
       "    <tr>\n",
       "      <th>154</th>\n",
       "      <td>2013-08-02</td>\n",
       "      <td>suwon</td>\n",
       "      <td>28.2</td>\n",
       "      <td>흐림/안개/비</td>\n",
       "    </tr>\n",
       "    <tr>\n",
       "      <th>155</th>\n",
       "      <td>2013-08-03</td>\n",
       "      <td>suwon</td>\n",
       "      <td>28.6</td>\n",
       "      <td>구름많음/소나기</td>\n",
       "    </tr>\n",
       "  </tbody>\n",
       "</table>\n",
       "</div>"
      ],
      "text/plain": [
       "          date location  avgTemp   weather\n",
       "153 2013-08-01    suwon     27.8   구름많음/안개\n",
       "154 2013-08-02    suwon     28.2   흐림/안개/비\n",
       "155 2013-08-03    suwon     28.6  구름많음/소나기"
      ]
     },
     "execution_count": 11,
     "metadata": {},
     "output_type": "execute_result"
    }
   ],
   "source": [
    "수원날씨 = 날씨[날씨.location == 'suwon']\n",
    "수원날씨[:3]"
   ]
  },
  {
   "cell_type": "code",
   "execution_count": 12,
   "metadata": {
    "collapsed": false
   },
   "outputs": [
    {
     "data": {
      "text/plain": [
       "13.365616438356161"
      ]
     },
     "execution_count": 12,
     "metadata": {},
     "output_type": "execute_result"
    }
   ],
   "source": [
    "서울날씨.avgTemp.mean()"
   ]
  },
  {
   "cell_type": "code",
   "execution_count": 13,
   "metadata": {
    "collapsed": false
   },
   "outputs": [
    {
     "data": {
      "text/plain": [
       "13.167123287671226"
      ]
     },
     "execution_count": 13,
     "metadata": {},
     "output_type": "execute_result"
    }
   ],
   "source": [
    "수원날씨.avgTemp.mean()"
   ]
  },
  {
   "cell_type": "markdown",
   "metadata": {},
   "source": [
    "#### 연습\n",
    "\n",
    "NC Dinos 야구팀의 3년 간 타자 기록을 데이터프레임으로 생성하고, 다음을 수행\n",
    "\n",
    "1. 선수명 열을 색인으로 설정\n",
    "1. 타석, 안타, 홈런 열만 선택\n",
    "1. 연도 정보를 '시즌' 열로 추가\n",
    "1. 각 시즌별 선수별 타율 산출\n",
    "1. 타율 상위 3명 기록 선택\n",
    "1. 홈런이 10개 이상이면서, 타율이 0.25 이상인 선수 기록 선택\n",
    "1. 지난 3년 간 각 선수의 안타와 홈런 합계 산출\n",
    "1. 각 선수들의 3년간 누적 타율 산출\n",
    "1. 타율 값을 소수점 3자리까지만 출력"
   ]
  },
  {
   "cell_type": "code",
   "execution_count": 15,
   "metadata": {
    "collapsed": false
   },
   "outputs": [],
   "source": [
    "NC시즌 = []\n",
    "for 시즌 in [2013, 2014, 2015]:\n",
    "    경로 = 'data/NC Dinos {}.xlsx'.format(시즌)\n",
    "    프레임 = pd.read_excel(경로)\n",
    "    프레임 = 프레임.set_index('선수명')\n",
    "    프레임 = 프레임[['타석','안타', '홈런']]\n",
    "    프레임['시즌'] = 시즌\n",
    "    NC시즌.append(프레임)"
   ]
  },
  {
   "cell_type": "code",
   "execution_count": 16,
   "metadata": {
    "collapsed": false
   },
   "outputs": [
    {
     "data": {
      "text/html": [
       "<div>\n",
       "<table border=\"1\" class=\"dataframe\">\n",
       "  <thead>\n",
       "    <tr style=\"text-align: right;\">\n",
       "      <th></th>\n",
       "      <th>타석</th>\n",
       "      <th>안타</th>\n",
       "      <th>홈런</th>\n",
       "      <th>시즌</th>\n",
       "    </tr>\n",
       "    <tr>\n",
       "      <th>선수명</th>\n",
       "      <th></th>\n",
       "      <th></th>\n",
       "      <th></th>\n",
       "      <th></th>\n",
       "    </tr>\n",
       "  </thead>\n",
       "  <tbody>\n",
       "    <tr>\n",
       "      <th>모창민</th>\n",
       "      <td>436</td>\n",
       "      <td>109</td>\n",
       "      <td>12</td>\n",
       "      <td>2013</td>\n",
       "    </tr>\n",
       "    <tr>\n",
       "      <th>이호준</th>\n",
       "      <td>508</td>\n",
       "      <td>123</td>\n",
       "      <td>20</td>\n",
       "      <td>2013</td>\n",
       "    </tr>\n",
       "    <tr>\n",
       "      <th>김종호</th>\n",
       "      <td>546</td>\n",
       "      <td>129</td>\n",
       "      <td>0</td>\n",
       "      <td>2013</td>\n",
       "    </tr>\n",
       "  </tbody>\n",
       "</table>\n",
       "</div>"
      ],
      "text/plain": [
       "      타석   안타  홈런    시즌\n",
       "선수명                    \n",
       "모창민  436  109  12  2013\n",
       "이호준  508  123  20  2013\n",
       "김종호  546  129   0  2013"
      ]
     },
     "execution_count": 16,
     "metadata": {},
     "output_type": "execute_result"
    }
   ],
   "source": [
    "NC시즌[0][:3]"
   ]
  },
  {
   "cell_type": "code",
   "execution_count": 22,
   "metadata": {
    "collapsed": true
   },
   "outputs": [],
   "source": [
    "def 타율산출(기록):\n",
    "    return (기록.안타 + 기록.홈런) / 기록.타석"
   ]
  },
  {
   "cell_type": "code",
   "execution_count": 20,
   "metadata": {
    "collapsed": false
   },
   "outputs": [],
   "source": [
    "시즌타율 = []\n",
    "for 프레임 in NC시즌:\n",
    "    타율 = 프레임.apply(타율산출, axis=1)\n",
    "    시즌타율.append(타율)"
   ]
  },
  {
   "cell_type": "code",
   "execution_count": 23,
   "metadata": {
    "collapsed": true
   },
   "outputs": [
    {
     "name": "stdout",
     "output_type": "stream",
     "text": [
      "선수명\n",
      "강진성    0.333333\n",
      "마낙길    0.290323\n",
      "이호준    0.281496\n",
      "dtype: float64\n",
      "선수명\n",
      "김준완    0.400000\n",
      "테임즈    0.367704\n",
      "나성범    0.348881\n",
      "dtype: float64\n",
      "선수명\n",
      "조평호    0.409091\n",
      "테임즈    0.381513\n",
      "나성범    0.340836\n",
      "dtype: float64\n"
     ]
    }
   ],
   "source": [
    "for 타율 in 시즌타율:\n",
    "    print(타율.sort_values(ascending=False)[:3])"
   ]
  },
  {
   "cell_type": "code",
   "execution_count": 26,
   "metadata": {
    "collapsed": false
   },
   "outputs": [
    {
     "name": "stdout",
     "output_type": "stream",
     "text": [
      "      타석   안타  홈런    시즌\n",
      "선수명                    \n",
      "모창민  436  109  12  2013\n",
      "이호준  508  123  20  2013\n",
      "      타석   안타  홈런    시즌\n",
      "선수명                    \n",
      "테임즈  514  152  37  2014\n",
      "나성범  536  157  30  2014\n",
      "이호준  500  115  23  2014\n",
      "모창민  468  110  16  2014\n",
      "      타석   안타  홈런    시즌\n",
      "선수명                    \n",
      "테임즈  595  180  47  2015\n",
      "나성범  622  184  28  2015\n",
      "이호준  518  132  24  2015\n",
      "지석훈  466  111  11  2015\n"
     ]
    }
   ],
   "source": [
    "for 프레임, 타율 in zip(NC시즌, 시즌타율):\n",
    "    선택 = 프레임[(프레임.홈런 >= 10) & (타율 >= 0.25)]\n",
    "    print(선택)"
   ]
  },
  {
   "cell_type": "code",
   "execution_count": 49,
   "metadata": {
    "collapsed": false
   },
   "outputs": [
    {
     "data": {
      "text/plain": [
       "선수명\n",
       "나성범    439.0\n",
       "이호준    370.0\n",
       "테임즈    332.0\n",
       "박민우    293.0\n",
       "모창민    281.0\n",
       "Name: 안타, dtype: float64"
      ]
     },
     "execution_count": 49,
     "metadata": {},
     "output_type": "execute_result"
    }
   ],
   "source": [
    "누적안타 = NC시즌[0].안타\n",
    "for 프레임 in NC시즌[1:]:\n",
    "    누적안타 = 누적안타.add(프레임.안타, fill_value=0)\n",
    "\n",
    "누적안타.sort_values(ascending=False)[:5]"
   ]
  },
  {
   "cell_type": "code",
   "execution_count": 50,
   "metadata": {
    "collapsed": false
   },
   "outputs": [
    {
     "data": {
      "text/plain": [
       "선수명\n",
       "테임즈    84.0\n",
       "나성범    72.0\n",
       "이호준    67.0\n",
       "모창민    34.0\n",
       "지석훈    20.0\n",
       "Name: 홈런, dtype: float64"
      ]
     },
     "execution_count": 50,
     "metadata": {},
     "output_type": "execute_result"
    }
   ],
   "source": [
    "누적홈런 = NC시즌[0].홈런\n",
    "for 프레임 in NC시즌[1:]:\n",
    "    누적홈런 = 누적홈런.add(프레임.홈런, fill_value=0)\n",
    "    \n",
    "누적홈런.sort_values(ascending=False)[:5]"
   ]
  },
  {
   "cell_type": "code",
   "execution_count": 51,
   "metadata": {
    "collapsed": false
   },
   "outputs": [
    {
     "data": {
      "text/plain": [
       "선수명\n",
       "나성범    1616.0\n",
       "이호준    1526.0\n",
       "박민우    1156.0\n",
       "Name: 타석, dtype: float64"
      ]
     },
     "execution_count": 51,
     "metadata": {},
     "output_type": "execute_result"
    }
   ],
   "source": [
    "누적타석 = NC시즌[0].타석\n",
    "for 프레임 in NC시즌[1:]:\n",
    "    누적타석 = 누적타석.add(프레임.타석, fill_value=0)\n",
    "    \n",
    "누적타석.sort_values(ascending=False)[:3]"
   ]
  },
  {
   "cell_type": "code",
   "execution_count": 52,
   "metadata": {
    "collapsed": false
   },
   "outputs": [],
   "source": [
    "누적타율 = (누적안타 + 누적홈런) / 누적타석"
   ]
  },
  {
   "cell_type": "code",
   "execution_count": 53,
   "metadata": {
    "collapsed": false
   },
   "outputs": [
    {
     "data": {
      "text/plain": [
       "선수명\n",
       "테임즈    0.375113\n",
       "강진성    0.333333\n",
       "나성범    0.316213\n",
       "dtype: float64"
      ]
     },
     "execution_count": 53,
     "metadata": {},
     "output_type": "execute_result"
    }
   ],
   "source": [
    "누적타율.sort_values(ascending=False)[:3]"
   ]
  },
  {
   "cell_type": "code",
   "execution_count": 54,
   "metadata": {
    "collapsed": true
   },
   "outputs": [],
   "source": [
    "def format_float(n):\n",
    "    return '{:.3f}'.format(n)"
   ]
  },
  {
   "cell_type": "code",
   "execution_count": 55,
   "metadata": {
    "collapsed": false
   },
   "outputs": [
    {
     "data": {
      "text/plain": [
       "선수명\n",
       "강구성     0.143\n",
       "강민국     0.000\n",
       "강진성     0.333\n",
       "권희동     0.278\n",
       "김동건     0.176\n",
       "김성욱     0.200\n",
       "김종찬     0.143\n",
       "김종호     0.250\n",
       "김준완     0.203\n",
       "김태군     0.238\n",
       "김태우     0.200\n",
       "김태진     0.000\n",
       "나성범     0.316\n",
       "노진혁     0.250\n",
       "마낙길     0.273\n",
       "모창민     0.276\n",
       "박명환*    0.000\n",
       "박민우     0.257\n",
       "박정준     0.242\n",
       "손시헌     0.249\n",
       "용덕한     0.245\n",
       "이상호     0.225\n",
       "이승호     0.000\n",
       "이종욱     0.255\n",
       "이창섭     0.000\n",
       "이현곤     0.236\n",
       "이호준     0.286\n",
       "조영훈     0.274\n",
       "조평호     0.291\n",
       "지석훈     0.242\n",
       "차화준     0.207\n",
       "최재원     0.221\n",
       "테임즈     0.375\n",
       "허준      0.139\n",
       "dtype: object"
      ]
     },
     "execution_count": 55,
     "metadata": {},
     "output_type": "execute_result"
    }
   ],
   "source": [
    "누적타율.map(format_float)"
   ]
  },
  {
   "cell_type": "code",
   "execution_count": null,
   "metadata": {
    "collapsed": true
   },
   "outputs": [],
   "source": []
  }
 ],
 "metadata": {
  "kernelspec": {
   "display_name": "Python [conda root]",
   "language": "python",
   "name": "conda-root-py"
  },
  "language_info": {
   "codemirror_mode": {
    "name": "ipython",
    "version": 3
   },
   "file_extension": ".py",
   "mimetype": "text/x-python",
   "name": "python",
   "nbconvert_exporter": "python",
   "pygments_lexer": "ipython3",
   "version": "3.5.2"
  }
 },
 "nbformat": 4,
 "nbformat_minor": 1
}
