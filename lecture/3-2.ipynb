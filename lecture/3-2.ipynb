{
 "cells": [
  {
   "cell_type": "code",
   "execution_count": 1,
   "metadata": {
    "collapsed": true
   },
   "outputs": [],
   "source": [
    "import pandas as pd"
   ]
  },
  {
   "cell_type": "markdown",
   "metadata": {},
   "source": [
    "# 텍스트 파일"
   ]
  },
  {
   "cell_type": "code",
   "execution_count": 2,
   "metadata": {
    "collapsed": true
   },
   "outputs": [
    {
     "data": {
      "text/html": [
       "<div>\n",
       "<table border=\"1\" class=\"dataframe\">\n",
       "  <thead>\n",
       "    <tr style=\"text-align: right;\">\n",
       "      <th></th>\n",
       "      <th>이름</th>\n",
       "      <th>직업</th>\n",
       "      <th>국적</th>\n",
       "      <th>트위터</th>\n",
       "      <th>생년월일</th>\n",
       "    </tr>\n",
       "  </thead>\n",
       "  <tbody>\n",
       "    <tr>\n",
       "      <th>0</th>\n",
       "      <td>이성주</td>\n",
       "      <td>컴퓨터 프로그래머/데이터 과학자</td>\n",
       "      <td>대한민국</td>\n",
       "      <td>@LeeSeongjoo</td>\n",
       "      <td>1982-12-27</td>\n",
       "    </tr>\n",
       "    <tr>\n",
       "      <th>1</th>\n",
       "      <td>Rossum</td>\n",
       "      <td>컴퓨터 프로그래머</td>\n",
       "      <td>네덜란드</td>\n",
       "      <td>@gvanrossum</td>\n",
       "      <td>1956-01-31</td>\n",
       "    </tr>\n",
       "    <tr>\n",
       "      <th>2</th>\n",
       "      <td>Turing</td>\n",
       "      <td>컴퓨터과학자</td>\n",
       "      <td>영국</td>\n",
       "      <td>NaN</td>\n",
       "      <td>1912-06-23</td>\n",
       "    </tr>\n",
       "  </tbody>\n",
       "</table>\n",
       "</div>"
      ],
      "text/plain": [
       "       이름                  직업     국적            트위터         생년월일\n",
       "0     이성주   컴퓨터 프로그래머/데이터 과학자   대한민국   @LeeSeongjoo   1982-12-27\n",
       "1  Rossum           컴퓨터 프로그래머   네덜란드    @gvanrossum   1956-01-31\n",
       "2  Turing              컴퓨터과학자     영국            NaN   1912-06-23"
      ]
     },
     "execution_count": 2,
     "metadata": {},
     "output_type": "execute_result"
    }
   ],
   "source": [
    "pd.read_csv('data/geeks.csv')"
   ]
  },
  {
   "cell_type": "markdown",
   "metadata": {},
   "source": [
    "텍스트 파일은 *반드시* 인코딩이 설정되어 있습니다."
   ]
  },
  {
   "cell_type": "code",
   "execution_count": 4,
   "metadata": {
    "collapsed": true
   },
   "outputs": [
    {
     "data": {
      "text/html": [
       "<div>\n",
       "<table border=\"1\" class=\"dataframe\">\n",
       "  <thead>\n",
       "    <tr style=\"text-align: right;\">\n",
       "      <th></th>\n",
       "      <th>이름</th>\n",
       "      <th>기술</th>\n",
       "      <th>국적</th>\n",
       "      <th>트위터</th>\n",
       "      <th>생년월일</th>\n",
       "    </tr>\n",
       "  </thead>\n",
       "  <tbody>\n",
       "    <tr>\n",
       "      <th>0</th>\n",
       "      <td>이성주</td>\n",
       "      <td>컴퓨터 프로그래머/데이터 과학자</td>\n",
       "      <td>대한민국</td>\n",
       "      <td>@LeeSeongjoo</td>\n",
       "      <td>1982-12-27</td>\n",
       "    </tr>\n",
       "    <tr>\n",
       "      <th>1</th>\n",
       "      <td>Rossum</td>\n",
       "      <td>컴퓨터 프로그래머</td>\n",
       "      <td>네덜란드</td>\n",
       "      <td>@gvanrossum</td>\n",
       "      <td>1956-01-31</td>\n",
       "    </tr>\n",
       "    <tr>\n",
       "      <th>2</th>\n",
       "      <td>Turing</td>\n",
       "      <td>컴퓨터과학자</td>\n",
       "      <td>영국</td>\n",
       "      <td>NaN</td>\n",
       "      <td>1912-06-23</td>\n",
       "    </tr>\n",
       "  </tbody>\n",
       "</table>\n",
       "</div>"
      ],
      "text/plain": [
       "       이름                  기술     국적            트위터         생년월일\n",
       "0     이성주   컴퓨터 프로그래머/데이터 과학자   대한민국   @LeeSeongjoo   1982-12-27\n",
       "1  Rossum           컴퓨터 프로그래머   네덜란드    @gvanrossum   1956-01-31\n",
       "2  Turing              컴퓨터과학자     영국            NaN   1912-06-23"
      ]
     },
     "execution_count": 4,
     "metadata": {},
     "output_type": "execute_result"
    }
   ],
   "source": [
    "pd.read_csv('data/geeks_cp949.txt', encoding='cp949')"
   ]
  },
  {
   "cell_type": "code",
   "execution_count": 5,
   "metadata": {
    "collapsed": true
   },
   "outputs": [],
   "source": [
    "pd.read_csv?"
   ]
  },
  {
   "cell_type": "code",
   "execution_count": 8,
   "metadata": {
    "collapsed": true
   },
   "outputs": [
    {
     "data": {
      "text/html": [
       "<div>\n",
       "<table border=\"1\" class=\"dataframe\">\n",
       "  <thead>\n",
       "    <tr style=\"text-align: right;\">\n",
       "      <th></th>\n",
       "      <th>이름</th>\n",
       "      <th>직업</th>\n",
       "      <th>국적</th>\n",
       "      <th>트위터</th>\n",
       "      <th>생년월일</th>\n",
       "    </tr>\n",
       "  </thead>\n",
       "  <tbody>\n",
       "    <tr>\n",
       "      <th>0</th>\n",
       "      <td>이성주</td>\n",
       "      <td>컴퓨터 프로그래머/데이터 과학자</td>\n",
       "      <td>대한민국</td>\n",
       "      <td>@LeeSeongjoo</td>\n",
       "      <td>1982-12-27</td>\n",
       "    </tr>\n",
       "    <tr>\n",
       "      <th>1</th>\n",
       "      <td>Rossum</td>\n",
       "      <td>컴퓨터 프로그래머</td>\n",
       "      <td>네덜란드</td>\n",
       "      <td>@gvanrossum</td>\n",
       "      <td>1956-01-31</td>\n",
       "    </tr>\n",
       "    <tr>\n",
       "      <th>2</th>\n",
       "      <td>Turing</td>\n",
       "      <td>컴퓨터과학자</td>\n",
       "      <td>영국</td>\n",
       "      <td>NaN</td>\n",
       "      <td>1912-06-23</td>\n",
       "    </tr>\n",
       "  </tbody>\n",
       "</table>\n",
       "</div>"
      ],
      "text/plain": [
       "       이름                  직업     국적            트위터         생년월일\n",
       "0     이성주   컴퓨터 프로그래머/데이터 과학자   대한민국   @LeeSeongjoo   1982-12-27\n",
       "1  Rossum           컴퓨터 프로그래머   네덜란드    @gvanrossum   1956-01-31\n",
       "2  Turing              컴퓨터과학자     영국            NaN   1912-06-23"
      ]
     },
     "execution_count": 8,
     "metadata": {},
     "output_type": "execute_result"
    }
   ],
   "source": [
    "pd.read_csv(\n",
    "    'data/geeks_no_header.csv', encoding='utf8',\n",
    "    #header=None,\n",
    "    names=['이름', '직업', '국적', '트위터', '생년월일']\n",
    ")"
   ]
  },
  {
   "cell_type": "code",
   "execution_count": 10,
   "metadata": {
    "collapsed": true
   },
   "outputs": [
    {
     "data": {
      "text/html": [
       "<div>\n",
       "<table border=\"1\" class=\"dataframe\">\n",
       "  <thead>\n",
       "    <tr style=\"text-align: right;\">\n",
       "      <th></th>\n",
       "      <th>직업</th>\n",
       "      <th>국적</th>\n",
       "      <th>트위터</th>\n",
       "      <th>생년월일</th>\n",
       "    </tr>\n",
       "    <tr>\n",
       "      <th>이름</th>\n",
       "      <th></th>\n",
       "      <th></th>\n",
       "      <th></th>\n",
       "      <th></th>\n",
       "    </tr>\n",
       "  </thead>\n",
       "  <tbody>\n",
       "    <tr>\n",
       "      <th>이성주</th>\n",
       "      <td>컴퓨터 프로그래머/데이터 과학자</td>\n",
       "      <td>대한민국</td>\n",
       "      <td>@LeeSeongjoo</td>\n",
       "      <td>1982-12-27</td>\n",
       "    </tr>\n",
       "    <tr>\n",
       "      <th>Rossum</th>\n",
       "      <td>컴퓨터 프로그래머</td>\n",
       "      <td>네덜란드</td>\n",
       "      <td>@gvanrossum</td>\n",
       "      <td>1956-01-31</td>\n",
       "    </tr>\n",
       "    <tr>\n",
       "      <th>Turing</th>\n",
       "      <td>컴퓨터과학자</td>\n",
       "      <td>영국</td>\n",
       "      <td>NaN</td>\n",
       "      <td>1912-06-23</td>\n",
       "    </tr>\n",
       "  </tbody>\n",
       "</table>\n",
       "</div>"
      ],
      "text/plain": [
       "                        직업     국적            트위터         생년월일\n",
       "이름                                                           \n",
       "이성주      컴퓨터 프로그래머/데이터 과학자   대한민국   @LeeSeongjoo   1982-12-27\n",
       "Rossum           컴퓨터 프로그래머   네덜란드    @gvanrossum   1956-01-31\n",
       "Turing              컴퓨터과학자     영국            NaN   1912-06-23"
      ]
     },
     "execution_count": 10,
     "metadata": {},
     "output_type": "execute_result"
    }
   ],
   "source": [
    "pd.read_csv(\n",
    "    'data/geeks.csv', encoding='utf8',\n",
    "    index_col='이름'\n",
    ")"
   ]
  },
  {
   "cell_type": "code",
   "execution_count": 12,
   "metadata": {
    "collapsed": true
   },
   "outputs": [
    {
     "data": {
      "text/html": [
       "<div>\n",
       "<table border=\"1\" class=\"dataframe\">\n",
       "  <thead>\n",
       "    <tr style=\"text-align: right;\">\n",
       "      <th></th>\n",
       "      <th>1</th>\n",
       "      <th>F</th>\n",
       "      <th>1.1</th>\n",
       "      <th>10</th>\n",
       "      <th>48067</th>\n",
       "    </tr>\n",
       "  </thead>\n",
       "  <tbody>\n",
       "    <tr>\n",
       "      <th>0</th>\n",
       "      <td>2</td>\n",
       "      <td>M</td>\n",
       "      <td>56</td>\n",
       "      <td>16</td>\n",
       "      <td>70072</td>\n",
       "    </tr>\n",
       "    <tr>\n",
       "      <th>1</th>\n",
       "      <td>3</td>\n",
       "      <td>M</td>\n",
       "      <td>25</td>\n",
       "      <td>15</td>\n",
       "      <td>55117</td>\n",
       "    </tr>\n",
       "    <tr>\n",
       "      <th>2</th>\n",
       "      <td>4</td>\n",
       "      <td>M</td>\n",
       "      <td>45</td>\n",
       "      <td>7</td>\n",
       "      <td>02460</td>\n",
       "    </tr>\n",
       "    <tr>\n",
       "      <th>3</th>\n",
       "      <td>5</td>\n",
       "      <td>M</td>\n",
       "      <td>25</td>\n",
       "      <td>20</td>\n",
       "      <td>55455</td>\n",
       "    </tr>\n",
       "    <tr>\n",
       "      <th>4</th>\n",
       "      <td>6</td>\n",
       "      <td>F</td>\n",
       "      <td>50</td>\n",
       "      <td>9</td>\n",
       "      <td>55117</td>\n",
       "    </tr>\n",
       "  </tbody>\n",
       "</table>\n",
       "</div>"
      ],
      "text/plain": [
       "   1  F  1.1  10  48067\n",
       "0  2  M   56  16  70072\n",
       "1  3  M   25  15  55117\n",
       "2  4  M   45   7  02460\n",
       "3  5  M   25  20  55455\n",
       "4  6  F   50   9  55117"
      ]
     },
     "execution_count": 12,
     "metadata": {},
     "output_type": "execute_result"
    }
   ],
   "source": [
    "pd.read_csv(\n",
    "    'data/pydata-book/movielens/users.dat',\n",
    "    sep='::', engine='python'\n",
    ")[:5]"
   ]
  },
  {
   "cell_type": "code",
   "execution_count": 14,
   "metadata": {
    "collapsed": true
   },
   "outputs": [
    {
     "data": {
      "text/html": [
       "<div>\n",
       "<table border=\"1\" class=\"dataframe\">\n",
       "  <thead>\n",
       "    <tr style=\"text-align: right;\">\n",
       "      <th></th>\n",
       "      <th>a</th>\n",
       "      <th>b</th>\n",
       "      <th>c</th>\n",
       "      <th>d</th>\n",
       "      <th>message</th>\n",
       "    </tr>\n",
       "  </thead>\n",
       "  <tbody>\n",
       "    <tr>\n",
       "      <th>0</th>\n",
       "      <td>1</td>\n",
       "      <td>2</td>\n",
       "      <td>3</td>\n",
       "      <td>4</td>\n",
       "      <td>hello</td>\n",
       "    </tr>\n",
       "    <tr>\n",
       "      <th>1</th>\n",
       "      <td>5</td>\n",
       "      <td>6</td>\n",
       "      <td>7</td>\n",
       "      <td>8</td>\n",
       "      <td>world</td>\n",
       "    </tr>\n",
       "    <tr>\n",
       "      <th>2</th>\n",
       "      <td>9</td>\n",
       "      <td>10</td>\n",
       "      <td>11</td>\n",
       "      <td>12</td>\n",
       "      <td>foo</td>\n",
       "    </tr>\n",
       "  </tbody>\n",
       "</table>\n",
       "</div>"
      ],
      "text/plain": [
       "   a   b   c   d message\n",
       "0  1   2   3   4   hello\n",
       "1  5   6   7   8   world\n",
       "2  9  10  11  12     foo"
      ]
     },
     "execution_count": 14,
     "metadata": {},
     "output_type": "execute_result"
    }
   ],
   "source": [
    "pd.read_csv('data/commented.txt', skiprows=[0, 2, 3])"
   ]
  },
  {
   "cell_type": "code",
   "execution_count": 16,
   "metadata": {
    "collapsed": false
   },
   "outputs": [],
   "source": [
    "frame = pd.read_csv('data/commented.txt', comment='#')"
   ]
  },
  {
   "cell_type": "code",
   "execution_count": 18,
   "metadata": {
    "collapsed": true
   },
   "outputs": [],
   "source": [
    "frame.to_csv('no-commented.txt', sep=':')"
   ]
  },
  {
   "cell_type": "markdown",
   "metadata": {},
   "source": [
    "저장할 때, \"엑셀이냐 텍스트 파일이냐?\"\n",
    "\n",
    "엑셀: 편리하죠.  \n",
    "텍스트파일: 백 만개 이상도 저장할 수 있습니다."
   ]
  },
  {
   "cell_type": "markdown",
   "metadata": {},
   "source": [
    "### \"빅\" 파일 다루기"
   ]
  },
  {
   "cell_type": "code",
   "execution_count": 19,
   "metadata": {
    "collapsed": true
   },
   "outputs": [
    {
     "data": {
      "text/html": [
       "<div>\n",
       "<table border=\"1\" class=\"dataframe\">\n",
       "  <thead>\n",
       "    <tr style=\"text-align: right;\">\n",
       "      <th></th>\n",
       "      <th>cmte_id</th>\n",
       "      <th>cand_id</th>\n",
       "      <th>cand_nm</th>\n",
       "      <th>contbr_nm</th>\n",
       "      <th>contbr_city</th>\n",
       "      <th>contbr_st</th>\n",
       "      <th>contbr_zip</th>\n",
       "      <th>contbr_employer</th>\n",
       "      <th>contbr_occupation</th>\n",
       "      <th>contb_receipt_amt</th>\n",
       "      <th>contb_receipt_dt</th>\n",
       "      <th>receipt_desc</th>\n",
       "      <th>memo_cd</th>\n",
       "      <th>memo_text</th>\n",
       "      <th>form_tp</th>\n",
       "      <th>file_num</th>\n",
       "    </tr>\n",
       "  </thead>\n",
       "  <tbody>\n",
       "    <tr>\n",
       "      <th>0</th>\n",
       "      <td>C00410118</td>\n",
       "      <td>P20002978</td>\n",
       "      <td>Bachmann, Michelle</td>\n",
       "      <td>HARVEY, WILLIAM</td>\n",
       "      <td>MOBILE</td>\n",
       "      <td>AL</td>\n",
       "      <td>366010290</td>\n",
       "      <td>RETIRED</td>\n",
       "      <td>RETIRED</td>\n",
       "      <td>250</td>\n",
       "      <td>20-JUN-11</td>\n",
       "      <td>NaN</td>\n",
       "      <td>NaN</td>\n",
       "      <td>NaN</td>\n",
       "      <td>SA17A</td>\n",
       "      <td>736166</td>\n",
       "    </tr>\n",
       "    <tr>\n",
       "      <th>1</th>\n",
       "      <td>C00410118</td>\n",
       "      <td>P20002978</td>\n",
       "      <td>Bachmann, Michelle</td>\n",
       "      <td>HARVEY, WILLIAM</td>\n",
       "      <td>MOBILE</td>\n",
       "      <td>AL</td>\n",
       "      <td>366010290</td>\n",
       "      <td>RETIRED</td>\n",
       "      <td>RETIRED</td>\n",
       "      <td>50</td>\n",
       "      <td>23-JUN-11</td>\n",
       "      <td>NaN</td>\n",
       "      <td>NaN</td>\n",
       "      <td>NaN</td>\n",
       "      <td>SA17A</td>\n",
       "      <td>736166</td>\n",
       "    </tr>\n",
       "    <tr>\n",
       "      <th>2</th>\n",
       "      <td>C00410118</td>\n",
       "      <td>P20002978</td>\n",
       "      <td>Bachmann, Michelle</td>\n",
       "      <td>SMITH, LANIER</td>\n",
       "      <td>LANETT</td>\n",
       "      <td>AL</td>\n",
       "      <td>368633403</td>\n",
       "      <td>INFORMATION REQUESTED</td>\n",
       "      <td>INFORMATION REQUESTED</td>\n",
       "      <td>250</td>\n",
       "      <td>05-JUL-11</td>\n",
       "      <td>NaN</td>\n",
       "      <td>NaN</td>\n",
       "      <td>NaN</td>\n",
       "      <td>SA17A</td>\n",
       "      <td>749073</td>\n",
       "    </tr>\n",
       "    <tr>\n",
       "      <th>3</th>\n",
       "      <td>C00410118</td>\n",
       "      <td>P20002978</td>\n",
       "      <td>Bachmann, Michelle</td>\n",
       "      <td>BLEVINS, DARONDA</td>\n",
       "      <td>PIGGOTT</td>\n",
       "      <td>AR</td>\n",
       "      <td>724548253</td>\n",
       "      <td>NONE</td>\n",
       "      <td>RETIRED</td>\n",
       "      <td>250</td>\n",
       "      <td>01-AUG-11</td>\n",
       "      <td>NaN</td>\n",
       "      <td>NaN</td>\n",
       "      <td>NaN</td>\n",
       "      <td>SA17A</td>\n",
       "      <td>749073</td>\n",
       "    </tr>\n",
       "    <tr>\n",
       "      <th>4</th>\n",
       "      <td>C00410118</td>\n",
       "      <td>P20002978</td>\n",
       "      <td>Bachmann, Michelle</td>\n",
       "      <td>WARDENBURG, HAROLD</td>\n",
       "      <td>HOT SPRINGS NATION</td>\n",
       "      <td>AR</td>\n",
       "      <td>719016467</td>\n",
       "      <td>NONE</td>\n",
       "      <td>RETIRED</td>\n",
       "      <td>300</td>\n",
       "      <td>20-JUN-11</td>\n",
       "      <td>NaN</td>\n",
       "      <td>NaN</td>\n",
       "      <td>NaN</td>\n",
       "      <td>SA17A</td>\n",
       "      <td>736166</td>\n",
       "    </tr>\n",
       "  </tbody>\n",
       "</table>\n",
       "</div>"
      ],
      "text/plain": [
       "     cmte_id    cand_id             cand_nm           contbr_nm  \\\n",
       "0  C00410118  P20002978  Bachmann, Michelle     HARVEY, WILLIAM   \n",
       "1  C00410118  P20002978  Bachmann, Michelle     HARVEY, WILLIAM   \n",
       "2  C00410118  P20002978  Bachmann, Michelle       SMITH, LANIER   \n",
       "3  C00410118  P20002978  Bachmann, Michelle    BLEVINS, DARONDA   \n",
       "4  C00410118  P20002978  Bachmann, Michelle  WARDENBURG, HAROLD   \n",
       "\n",
       "          contbr_city contbr_st  contbr_zip        contbr_employer  \\\n",
       "0              MOBILE        AL   366010290                RETIRED   \n",
       "1              MOBILE        AL   366010290                RETIRED   \n",
       "2              LANETT        AL   368633403  INFORMATION REQUESTED   \n",
       "3             PIGGOTT        AR   724548253                   NONE   \n",
       "4  HOT SPRINGS NATION        AR   719016467                   NONE   \n",
       "\n",
       "       contbr_occupation  contb_receipt_amt contb_receipt_dt  receipt_desc  \\\n",
       "0                RETIRED                250        20-JUN-11           NaN   \n",
       "1                RETIRED                 50        23-JUN-11           NaN   \n",
       "2  INFORMATION REQUESTED                250        05-JUL-11           NaN   \n",
       "3                RETIRED                250        01-AUG-11           NaN   \n",
       "4                RETIRED                300        20-JUN-11           NaN   \n",
       "\n",
       "   memo_cd  memo_text form_tp  file_num  \n",
       "0      NaN        NaN   SA17A    736166  \n",
       "1      NaN        NaN   SA17A    736166  \n",
       "2      NaN        NaN   SA17A    749073  \n",
       "3      NaN        NaN   SA17A    749073  \n",
       "4      NaN        NaN   SA17A    736166  "
      ]
     },
     "execution_count": 19,
     "metadata": {},
     "output_type": "execute_result"
    }
   ],
   "source": [
    "pd.read_csv('data/pydata-book/us_presidental.csv', nrows=5)"
   ]
  },
  {
   "cell_type": "code",
   "execution_count": 19,
   "metadata": {
    "collapsed": true
   },
   "outputs": [
    {
     "data": {
      "text/html": [
       "<div>\n",
       "<table border=\"1\" class=\"dataframe\">\n",
       "  <thead>\n",
       "    <tr style=\"text-align: right;\">\n",
       "      <th></th>\n",
       "      <th>cmte_id</th>\n",
       "      <th>cand_id</th>\n",
       "      <th>cand_nm</th>\n",
       "      <th>contbr_nm</th>\n",
       "      <th>contbr_city</th>\n",
       "      <th>contbr_st</th>\n",
       "      <th>contbr_zip</th>\n",
       "      <th>contbr_employer</th>\n",
       "      <th>contbr_occupation</th>\n",
       "      <th>contb_receipt_amt</th>\n",
       "      <th>contb_receipt_dt</th>\n",
       "      <th>receipt_desc</th>\n",
       "      <th>memo_cd</th>\n",
       "      <th>memo_text</th>\n",
       "      <th>form_tp</th>\n",
       "      <th>file_num</th>\n",
       "    </tr>\n",
       "  </thead>\n",
       "  <tbody>\n",
       "    <tr>\n",
       "      <th>0</th>\n",
       "      <td>C00410118</td>\n",
       "      <td>P20002978</td>\n",
       "      <td>Bachmann, Michelle</td>\n",
       "      <td>HARVEY, WILLIAM</td>\n",
       "      <td>MOBILE</td>\n",
       "      <td>AL</td>\n",
       "      <td>366010290</td>\n",
       "      <td>RETIRED</td>\n",
       "      <td>RETIRED</td>\n",
       "      <td>250</td>\n",
       "      <td>20-JUN-11</td>\n",
       "      <td>NaN</td>\n",
       "      <td>NaN</td>\n",
       "      <td>NaN</td>\n",
       "      <td>SA17A</td>\n",
       "      <td>736166</td>\n",
       "    </tr>\n",
       "    <tr>\n",
       "      <th>1</th>\n",
       "      <td>C00410118</td>\n",
       "      <td>P20002978</td>\n",
       "      <td>Bachmann, Michelle</td>\n",
       "      <td>HARVEY, WILLIAM</td>\n",
       "      <td>MOBILE</td>\n",
       "      <td>AL</td>\n",
       "      <td>366010290</td>\n",
       "      <td>RETIRED</td>\n",
       "      <td>RETIRED</td>\n",
       "      <td>50</td>\n",
       "      <td>23-JUN-11</td>\n",
       "      <td>NaN</td>\n",
       "      <td>NaN</td>\n",
       "      <td>NaN</td>\n",
       "      <td>SA17A</td>\n",
       "      <td>736166</td>\n",
       "    </tr>\n",
       "    <tr>\n",
       "      <th>2</th>\n",
       "      <td>C00410118</td>\n",
       "      <td>P20002978</td>\n",
       "      <td>Bachmann, Michelle</td>\n",
       "      <td>SMITH, LANIER</td>\n",
       "      <td>LANETT</td>\n",
       "      <td>AL</td>\n",
       "      <td>368633403</td>\n",
       "      <td>INFORMATION REQUESTED</td>\n",
       "      <td>INFORMATION REQUESTED</td>\n",
       "      <td>250</td>\n",
       "      <td>05-JUL-11</td>\n",
       "      <td>NaN</td>\n",
       "      <td>NaN</td>\n",
       "      <td>NaN</td>\n",
       "      <td>SA17A</td>\n",
       "      <td>749073</td>\n",
       "    </tr>\n",
       "    <tr>\n",
       "      <th>3</th>\n",
       "      <td>C00410118</td>\n",
       "      <td>P20002978</td>\n",
       "      <td>Bachmann, Michelle</td>\n",
       "      <td>BLEVINS, DARONDA</td>\n",
       "      <td>PIGGOTT</td>\n",
       "      <td>AR</td>\n",
       "      <td>724548253</td>\n",
       "      <td>NONE</td>\n",
       "      <td>RETIRED</td>\n",
       "      <td>250</td>\n",
       "      <td>01-AUG-11</td>\n",
       "      <td>NaN</td>\n",
       "      <td>NaN</td>\n",
       "      <td>NaN</td>\n",
       "      <td>SA17A</td>\n",
       "      <td>749073</td>\n",
       "    </tr>\n",
       "    <tr>\n",
       "      <th>4</th>\n",
       "      <td>C00410118</td>\n",
       "      <td>P20002978</td>\n",
       "      <td>Bachmann, Michelle</td>\n",
       "      <td>WARDENBURG, HAROLD</td>\n",
       "      <td>HOT SPRINGS NATION</td>\n",
       "      <td>AR</td>\n",
       "      <td>719016467</td>\n",
       "      <td>NONE</td>\n",
       "      <td>RETIRED</td>\n",
       "      <td>300</td>\n",
       "      <td>20-JUN-11</td>\n",
       "      <td>NaN</td>\n",
       "      <td>NaN</td>\n",
       "      <td>NaN</td>\n",
       "      <td>SA17A</td>\n",
       "      <td>736166</td>\n",
       "    </tr>\n",
       "  </tbody>\n",
       "</table>\n",
       "</div>"
      ],
      "text/plain": [
       "     cmte_id    cand_id             cand_nm           contbr_nm  \\\n",
       "0  C00410118  P20002978  Bachmann, Michelle     HARVEY, WILLIAM   \n",
       "1  C00410118  P20002978  Bachmann, Michelle     HARVEY, WILLIAM   \n",
       "2  C00410118  P20002978  Bachmann, Michelle       SMITH, LANIER   \n",
       "3  C00410118  P20002978  Bachmann, Michelle    BLEVINS, DARONDA   \n",
       "4  C00410118  P20002978  Bachmann, Michelle  WARDENBURG, HAROLD   \n",
       "\n",
       "          contbr_city contbr_st  contbr_zip        contbr_employer  \\\n",
       "0              MOBILE        AL   366010290                RETIRED   \n",
       "1              MOBILE        AL   366010290                RETIRED   \n",
       "2              LANETT        AL   368633403  INFORMATION REQUESTED   \n",
       "3             PIGGOTT        AR   724548253                   NONE   \n",
       "4  HOT SPRINGS NATION        AR   719016467                   NONE   \n",
       "\n",
       "       contbr_occupation  contb_receipt_amt contb_receipt_dt  receipt_desc  \\\n",
       "0                RETIRED                250        20-JUN-11           NaN   \n",
       "1                RETIRED                 50        23-JUN-11           NaN   \n",
       "2  INFORMATION REQUESTED                250        05-JUL-11           NaN   \n",
       "3                RETIRED                250        01-AUG-11           NaN   \n",
       "4                RETIRED                300        20-JUN-11           NaN   \n",
       "\n",
       "   memo_cd  memo_text form_tp  file_num  \n",
       "0      NaN        NaN   SA17A    736166  \n",
       "1      NaN        NaN   SA17A    736166  \n",
       "2      NaN        NaN   SA17A    749073  \n",
       "3      NaN        NaN   SA17A    749073  \n",
       "4      NaN        NaN   SA17A    736166  "
      ]
     },
     "execution_count": 19,
     "metadata": {},
     "output_type": "execute_result"
    }
   ],
   "source": [
    "pd.read_csv('data/pydata-book/us_presidental.csv')[:5]"
   ]
  },
  {
   "cell_type": "code",
   "execution_count": 20,
   "metadata": {
    "collapsed": true
   },
   "outputs": [],
   "source": [
    "chunker = pd.read_csv(\n",
    "    'data/pydata-book/us_presidental.csv', chunksize=1000)"
   ]
  },
  {
   "cell_type": "code",
   "execution_count": 21,
   "metadata": {
    "collapsed": true
   },
   "outputs": [
    {
     "name": "stdout",
     "output_type": "stream",
     "text": [
      "<class 'pandas.core.frame.DataFrame'>\n",
      "RangeIndex: 1000 entries, 0 to 999\n",
      "Data columns (total 16 columns):\n",
      "cmte_id              1000 non-null object\n",
      "cand_id              1000 non-null object\n",
      "cand_nm              1000 non-null object\n",
      "contbr_nm            1000 non-null object\n",
      "contbr_city          1000 non-null object\n",
      "contbr_st            1000 non-null object\n",
      "contbr_zip           997 non-null float64\n",
      "contbr_employer      996 non-null object\n",
      "contbr_occupation    996 non-null object\n",
      "contb_receipt_amt    1000 non-null float64\n",
      "contb_receipt_dt     1000 non-null object\n",
      "receipt_desc         7 non-null object\n",
      "memo_cd              2 non-null object\n",
      "memo_text            7 non-null object\n",
      "form_tp              1000 non-null object\n",
      "file_num             1000 non-null int64\n",
      "dtypes: float64(2), int64(1), object(13)\n",
      "memory usage: 125.1+ KB\n",
      "None\n"
     ]
    }
   ],
   "source": [
    "for chk in chunker:\n",
    "    print(chk.info())\n",
    "    break"
   ]
  },
  {
   "cell_type": "markdown",
   "metadata": {},
   "source": [
    "## 엑셀파일"
   ]
  },
  {
   "cell_type": "code",
   "execution_count": 22,
   "metadata": {
    "collapsed": true
   },
   "outputs": [],
   "source": [
    "경로 = 'data/koreaexim/international/Global+Market+Daily+Table%28%EA%B0%92%EB%B3%B5%EC%82%AC%29_0803.xls'"
   ]
  },
  {
   "cell_type": "code",
   "execution_count": 26,
   "metadata": {
    "collapsed": false
   },
   "outputs": [],
   "source": [
    "프레임 = pd.read_excel(\n",
    "    경로, skiprows=3, parse_cols='C:K', header=None)"
   ]
  },
  {
   "cell_type": "code",
   "execution_count": 30,
   "metadata": {
    "collapsed": false
   },
   "outputs": [],
   "source": [
    "프레임 = 프레임.dropna(how='all')"
   ]
  },
  {
   "cell_type": "code",
   "execution_count": 35,
   "metadata": {
    "collapsed": false
   },
   "outputs": [],
   "source": [
    "프레임 = 프레임.reset_index(drop=True)"
   ]
  },
  {
   "cell_type": "code",
   "execution_count": 37,
   "metadata": {
    "collapsed": true
   },
   "outputs": [
    {
     "data": {
      "text/html": [
       "<div>\n",
       "<table border=\"1\" class=\"dataframe\">\n",
       "  <thead>\n",
       "    <tr style=\"text-align: right;\">\n",
       "      <th></th>\n",
       "      <th>0</th>\n",
       "      <th>1</th>\n",
       "      <th>2</th>\n",
       "      <th>3</th>\n",
       "      <th>4</th>\n",
       "      <th>5</th>\n",
       "      <th>6</th>\n",
       "      <th>7</th>\n",
       "      <th>8</th>\n",
       "    </tr>\n",
       "  </thead>\n",
       "  <tbody>\n",
       "    <tr>\n",
       "      <th>0</th>\n",
       "      <td>Equity</td>\n",
       "      <td>NaN</td>\n",
       "      <td>NaN</td>\n",
       "      <td>NaN</td>\n",
       "      <td>NaN</td>\n",
       "      <td>NaN</td>\n",
       "      <td>NaN</td>\n",
       "      <td>NaN</td>\n",
       "      <td>NaN</td>\n",
       "    </tr>\n",
       "    <tr>\n",
       "      <th>1</th>\n",
       "      <td>NaN</td>\n",
       "      <td>Last Price</td>\n",
       "      <td>D-1</td>\n",
       "      <td>D-7</td>\n",
       "      <td>MTD</td>\n",
       "      <td>QTD</td>\n",
       "      <td>YTD</td>\n",
       "      <td>Yr High</td>\n",
       "      <td>Yr Low</td>\n",
       "    </tr>\n",
       "    <tr>\n",
       "      <th>2</th>\n",
       "      <td>MSCI AC World</td>\n",
       "      <td>425.32</td>\n",
       "      <td>-0.00342097</td>\n",
       "      <td>0.0141638</td>\n",
       "      <td>-0.00342097</td>\n",
       "      <td>-0.00561115</td>\n",
       "      <td>0.0196586</td>\n",
       "      <td>442.7</td>\n",
       "      <td>392.13</td>\n",
       "    </tr>\n",
       "    <tr>\n",
       "      <th>3</th>\n",
       "      <td>S&amp;P 500</td>\n",
       "      <td>2098.04</td>\n",
       "      <td>-0.00275686</td>\n",
       "      <td>0.0147028</td>\n",
       "      <td>-0.00275686</td>\n",
       "      <td>0.0150366</td>\n",
       "      <td>0.0190102</td>\n",
       "      <td>2130.82</td>\n",
       "      <td>1862.49</td>\n",
       "    </tr>\n",
       "    <tr>\n",
       "      <th>4</th>\n",
       "      <td>Euro Stoxx 50</td>\n",
       "      <td>3635.4</td>\n",
       "      <td>0.00963982</td>\n",
       "      <td>0.0348126</td>\n",
       "      <td>0.00963982</td>\n",
       "      <td>-0.0214978</td>\n",
       "      <td>0.155405</td>\n",
       "      <td>3828.78</td>\n",
       "      <td>2874.65</td>\n",
       "    </tr>\n",
       "    <tr>\n",
       "      <th>5</th>\n",
       "      <td>DAX</td>\n",
       "      <td>11443.7</td>\n",
       "      <td>0.0119135</td>\n",
       "      <td>0.0350313</td>\n",
       "      <td>0.0119135</td>\n",
       "      <td>-0.0437581</td>\n",
       "      <td>0.167066</td>\n",
       "      <td>12374.7</td>\n",
       "      <td>8571.95</td>\n",
       "    </tr>\n",
       "    <tr>\n",
       "      <th>6</th>\n",
       "      <td>Nikkei 225</td>\n",
       "      <td>20548.1</td>\n",
       "      <td>-0.00180372</td>\n",
       "      <td>0.00973017</td>\n",
       "      <td>-0.00180372</td>\n",
       "      <td>0.0572691</td>\n",
       "      <td>0.17749</td>\n",
       "      <td>20868</td>\n",
       "      <td>14532.5</td>\n",
       "    </tr>\n",
       "    <tr>\n",
       "      <th>7</th>\n",
       "      <td>상해</td>\n",
       "      <td>3622.91</td>\n",
       "      <td>-0.0111417</td>\n",
       "      <td>-0.0275537</td>\n",
       "      <td>-0.0111417</td>\n",
       "      <td>-0.062378</td>\n",
       "      <td>0.120021</td>\n",
       "      <td>5166.35</td>\n",
       "      <td>2187.67</td>\n",
       "    </tr>\n",
       "  </tbody>\n",
       "</table>\n",
       "</div>"
      ],
      "text/plain": [
       "               0           1           2           3           4           5  \\\n",
       "0         Equity         NaN         NaN         NaN         NaN         NaN   \n",
       "1            NaN  Last Price         D-1         D-7         MTD         QTD   \n",
       "2  MSCI AC World      425.32 -0.00342097   0.0141638 -0.00342097 -0.00561115   \n",
       "3        S&P 500     2098.04 -0.00275686   0.0147028 -0.00275686   0.0150366   \n",
       "4  Euro Stoxx 50      3635.4  0.00963982   0.0348126  0.00963982  -0.0214978   \n",
       "5            DAX     11443.7   0.0119135   0.0350313   0.0119135  -0.0437581   \n",
       "6     Nikkei 225     20548.1 -0.00180372  0.00973017 -0.00180372   0.0572691   \n",
       "7             상해     3622.91  -0.0111417  -0.0275537  -0.0111417   -0.062378   \n",
       "\n",
       "           6        7        8  \n",
       "0        NaN      NaN      NaN  \n",
       "1        YTD  Yr High   Yr Low  \n",
       "2  0.0196586    442.7   392.13  \n",
       "3  0.0190102  2130.82  1862.49  \n",
       "4   0.155405  3828.78  2874.65  \n",
       "5   0.167066  12374.7  8571.95  \n",
       "6    0.17749    20868  14532.5  \n",
       "7   0.120021  5166.35  2187.67  "
      ]
     },
     "execution_count": 37,
     "metadata": {},
     "output_type": "execute_result"
    }
   ],
   "source": [
    "프레임[0:8]"
   ]
  },
  {
   "cell_type": "code",
   "execution_count": 39,
   "metadata": {
    "collapsed": true
   },
   "outputs": [
    {
     "data": {
      "text/html": [
       "<div>\n",
       "<table border=\"1\" class=\"dataframe\">\n",
       "  <thead>\n",
       "    <tr style=\"text-align: right;\">\n",
       "      <th></th>\n",
       "      <th>0</th>\n",
       "      <th>1</th>\n",
       "      <th>2</th>\n",
       "      <th>3</th>\n",
       "      <th>4</th>\n",
       "      <th>5</th>\n",
       "      <th>6</th>\n",
       "      <th>7</th>\n",
       "      <th>8</th>\n",
       "    </tr>\n",
       "  </thead>\n",
       "  <tbody>\n",
       "    <tr>\n",
       "      <th>8</th>\n",
       "      <td>Fixed Income</td>\n",
       "      <td>NaN</td>\n",
       "      <td>NaN</td>\n",
       "      <td>NaN</td>\n",
       "      <td>NaN</td>\n",
       "      <td>NaN</td>\n",
       "      <td>NaN</td>\n",
       "      <td>NaN</td>\n",
       "      <td>NaN</td>\n",
       "    </tr>\n",
       "    <tr>\n",
       "      <th>9</th>\n",
       "      <td>NaN</td>\n",
       "      <td>Last Price(%)</td>\n",
       "      <td>D-1</td>\n",
       "      <td>D-7</td>\n",
       "      <td>MTD</td>\n",
       "      <td>QTD</td>\n",
       "      <td>YTD</td>\n",
       "      <td>Yr High</td>\n",
       "      <td>Yr Low</td>\n",
       "    </tr>\n",
       "    <tr>\n",
       "      <th>10</th>\n",
       "      <td>UST 10Y</td>\n",
       "      <td>2.148</td>\n",
       "      <td>-3</td>\n",
       "      <td>-6.95</td>\n",
       "      <td>-3.21</td>\n",
       "      <td>30.91</td>\n",
       "      <td>-2.32</td>\n",
       "      <td>2.6198</td>\n",
       "      <td>1.6407</td>\n",
       "    </tr>\n",
       "    <tr>\n",
       "      <th>11</th>\n",
       "      <td>UST 2Y</td>\n",
       "      <td>0.6646</td>\n",
       "      <td>0</td>\n",
       "      <td>1.51</td>\n",
       "      <td>0.4</td>\n",
       "      <td>18.84</td>\n",
       "      <td>0.01</td>\n",
       "      <td>0.7393</td>\n",
       "      <td>0.3076</td>\n",
       "    </tr>\n",
       "    <tr>\n",
       "      <th>12</th>\n",
       "      <td>Spread(10Y-2Y)</td>\n",
       "      <td>1.4834</td>\n",
       "      <td>-3</td>\n",
       "      <td>-8.46</td>\n",
       "      <td>-3.61</td>\n",
       "      <td>12.07</td>\n",
       "      <td>-2.33</td>\n",
       "      <td>2.0562</td>\n",
       "      <td>1.1919</td>\n",
       "    </tr>\n",
       "    <tr>\n",
       "      <th>13</th>\n",
       "      <td>Bund 10Y</td>\n",
       "      <td>0.628</td>\n",
       "      <td>-1</td>\n",
       "      <td>-6.3</td>\n",
       "      <td>-1.6</td>\n",
       "      <td>43.4</td>\n",
       "      <td>8.7</td>\n",
       "      <td>1.167</td>\n",
       "      <td>0.075</td>\n",
       "    </tr>\n",
       "    <tr>\n",
       "      <th>14</th>\n",
       "      <td>Bund 2Y</td>\n",
       "      <td>-0.244</td>\n",
       "      <td>0</td>\n",
       "      <td>-1.8</td>\n",
       "      <td>-0.9</td>\n",
       "      <td>1.3</td>\n",
       "      <td>-13.4</td>\n",
       "      <td>0.027</td>\n",
       "      <td>-0.283</td>\n",
       "    </tr>\n",
       "    <tr>\n",
       "      <th>15</th>\n",
       "      <td>Spread(10Y-2Y)</td>\n",
       "      <td>0.872</td>\n",
       "      <td>-1</td>\n",
       "      <td>-4.5</td>\n",
       "      <td>-0.7</td>\n",
       "      <td>42.1</td>\n",
       "      <td>22.1</td>\n",
       "      <td>1.157</td>\n",
       "      <td>0.342</td>\n",
       "    </tr>\n",
       "  </tbody>\n",
       "</table>\n",
       "</div>"
      ],
      "text/plain": [
       "                 0              1    2     3     4      5     6        7  \\\n",
       "8     Fixed Income            NaN  NaN   NaN   NaN    NaN   NaN      NaN   \n",
       "9              NaN  Last Price(%)  D-1   D-7   MTD    QTD   YTD  Yr High   \n",
       "10         UST 10Y          2.148   -3 -6.95 -3.21  30.91 -2.32   2.6198   \n",
       "11          UST 2Y         0.6646    0  1.51   0.4  18.84  0.01   0.7393   \n",
       "12  Spread(10Y-2Y)         1.4834   -3 -8.46 -3.61  12.07 -2.33   2.0562   \n",
       "13        Bund 10Y          0.628   -1  -6.3  -1.6   43.4   8.7    1.167   \n",
       "14         Bund 2Y         -0.244    0  -1.8  -0.9    1.3 -13.4    0.027   \n",
       "15  Spread(10Y-2Y)          0.872   -1  -4.5  -0.7   42.1  22.1    1.157   \n",
       "\n",
       "         8  \n",
       "8      NaN  \n",
       "9   Yr Low  \n",
       "10  1.6407  \n",
       "11  0.3076  \n",
       "12  1.1919  \n",
       "13   0.075  \n",
       "14  -0.283  \n",
       "15   0.342  "
      ]
     },
     "execution_count": 39,
     "metadata": {},
     "output_type": "execute_result"
    }
   ],
   "source": [
    "프레임[8:16]"
   ]
  },
  {
   "cell_type": "code",
   "execution_count": 53,
   "metadata": {
    "collapsed": true
   },
   "outputs": [],
   "source": [
    "def 지표추출(프레임):\n",
    "    표범위목록 = [(0, 8), (8, 16), (16, 23), (24, 29), (29, 44)]\n",
    "    표목록 = []\n",
    "    for 범위 in 표범위목록:\n",
    "        시작, 끝 = 범위\n",
    "        표 = 프레임[시작:끝]\n",
    "        표목록.append(표)\n",
    "    return 표목록"
   ]
  },
  {
   "cell_type": "code",
   "execution_count": 54,
   "metadata": {
    "collapsed": true
   },
   "outputs": [],
   "source": [
    "표목록 = 지표추출(프레임)"
   ]
  },
  {
   "cell_type": "markdown",
   "metadata": {},
   "source": [
    "엑셀 파일 쓰기"
   ]
  },
  {
   "cell_type": "code",
   "execution_count": 66,
   "metadata": {
    "collapsed": true
   },
   "outputs": [],
   "source": [
    "def 엑셀로내보내기(표목록, 파일명):\n",
    "    엑셀파일 = pd.ExcelWriter(파일명)\n",
    "\n",
    "    for i, 표 in enumerate(표목록):\n",
    "        표.to_excel(엑셀파일, '지표 {}'.format(i+1))\n",
    "\n",
    "    엑셀파일.save()"
   ]
  },
  {
   "cell_type": "code",
   "execution_count": 67,
   "metadata": {
    "collapsed": true
   },
   "outputs": [],
   "source": [
    "엑셀로내보내기(표목록, '지표 1.xlsx')"
   ]
  },
  {
   "cell_type": "markdown",
   "metadata": {},
   "source": [
    "기본적으로 첫 번째 시트만 읽어옵니다.\n",
    "\n",
    "sheetname을 설정합니다."
   ]
  },
  {
   "cell_type": "code",
   "execution_count": 62,
   "metadata": {
    "collapsed": false
   },
   "outputs": [],
   "source": [
    "전체지표 = pd.read_excel('지표1.xlsx', sheetname=None)"
   ]
  },
  {
   "cell_type": "code",
   "execution_count": 65,
   "metadata": {
    "collapsed": true
   },
   "outputs": [
    {
     "data": {
      "text/html": [
       "<div>\n",
       "<table border=\"1\" class=\"dataframe\">\n",
       "  <thead>\n",
       "    <tr style=\"text-align: right;\">\n",
       "      <th></th>\n",
       "      <th>0</th>\n",
       "      <th>1</th>\n",
       "      <th>2</th>\n",
       "      <th>3</th>\n",
       "      <th>4</th>\n",
       "      <th>5</th>\n",
       "      <th>6</th>\n",
       "      <th>7</th>\n",
       "      <th>8</th>\n",
       "    </tr>\n",
       "  </thead>\n",
       "  <tbody>\n",
       "    <tr>\n",
       "      <th>0</th>\n",
       "      <td>Equity</td>\n",
       "      <td>NaN</td>\n",
       "      <td>NaN</td>\n",
       "      <td>NaN</td>\n",
       "      <td>NaN</td>\n",
       "      <td>NaN</td>\n",
       "      <td>NaN</td>\n",
       "      <td>NaN</td>\n",
       "      <td>NaN</td>\n",
       "    </tr>\n",
       "    <tr>\n",
       "      <th>1</th>\n",
       "      <td>NaN</td>\n",
       "      <td>Last Price</td>\n",
       "      <td>D-1</td>\n",
       "      <td>D-7</td>\n",
       "      <td>MTD</td>\n",
       "      <td>QTD</td>\n",
       "      <td>YTD</td>\n",
       "      <td>Yr High</td>\n",
       "      <td>Yr Low</td>\n",
       "    </tr>\n",
       "    <tr>\n",
       "      <th>2</th>\n",
       "      <td>MSCI AC World</td>\n",
       "      <td>425.32</td>\n",
       "      <td>-0.00342097</td>\n",
       "      <td>0.0141638</td>\n",
       "      <td>-0.00342097</td>\n",
       "      <td>-0.00561115</td>\n",
       "      <td>0.0196586</td>\n",
       "      <td>442.7</td>\n",
       "      <td>392.13</td>\n",
       "    </tr>\n",
       "    <tr>\n",
       "      <th>3</th>\n",
       "      <td>S&amp;P 500</td>\n",
       "      <td>2098.04</td>\n",
       "      <td>-0.00275686</td>\n",
       "      <td>0.0147028</td>\n",
       "      <td>-0.00275686</td>\n",
       "      <td>0.0150366</td>\n",
       "      <td>0.0190102</td>\n",
       "      <td>2130.82</td>\n",
       "      <td>1862.49</td>\n",
       "    </tr>\n",
       "    <tr>\n",
       "      <th>4</th>\n",
       "      <td>Euro Stoxx 50</td>\n",
       "      <td>3635.4</td>\n",
       "      <td>0.00963982</td>\n",
       "      <td>0.0348126</td>\n",
       "      <td>0.00963982</td>\n",
       "      <td>-0.0214978</td>\n",
       "      <td>0.155405</td>\n",
       "      <td>3828.78</td>\n",
       "      <td>2874.65</td>\n",
       "    </tr>\n",
       "    <tr>\n",
       "      <th>5</th>\n",
       "      <td>DAX</td>\n",
       "      <td>11443.7</td>\n",
       "      <td>0.0119135</td>\n",
       "      <td>0.0350313</td>\n",
       "      <td>0.0119135</td>\n",
       "      <td>-0.0437581</td>\n",
       "      <td>0.167066</td>\n",
       "      <td>12374.7</td>\n",
       "      <td>8571.95</td>\n",
       "    </tr>\n",
       "    <tr>\n",
       "      <th>6</th>\n",
       "      <td>Nikkei 225</td>\n",
       "      <td>20548.1</td>\n",
       "      <td>-0.00180372</td>\n",
       "      <td>0.00973017</td>\n",
       "      <td>-0.00180372</td>\n",
       "      <td>0.0572691</td>\n",
       "      <td>0.17749</td>\n",
       "      <td>20868</td>\n",
       "      <td>14532.5</td>\n",
       "    </tr>\n",
       "    <tr>\n",
       "      <th>7</th>\n",
       "      <td>상해</td>\n",
       "      <td>3622.91</td>\n",
       "      <td>-0.0111417</td>\n",
       "      <td>-0.0275537</td>\n",
       "      <td>-0.0111417</td>\n",
       "      <td>-0.062378</td>\n",
       "      <td>0.120021</td>\n",
       "      <td>5166.35</td>\n",
       "      <td>2187.67</td>\n",
       "    </tr>\n",
       "  </tbody>\n",
       "</table>\n",
       "</div>"
      ],
      "text/plain": [
       "               0           1           2           3           4           5  \\\n",
       "0         Equity         NaN         NaN         NaN         NaN         NaN   \n",
       "1            NaN  Last Price         D-1         D-7         MTD         QTD   \n",
       "2  MSCI AC World      425.32 -0.00342097   0.0141638 -0.00342097 -0.00561115   \n",
       "3        S&P 500     2098.04 -0.00275686   0.0147028 -0.00275686   0.0150366   \n",
       "4  Euro Stoxx 50      3635.4  0.00963982   0.0348126  0.00963982  -0.0214978   \n",
       "5            DAX     11443.7   0.0119135   0.0350313   0.0119135  -0.0437581   \n",
       "6     Nikkei 225     20548.1 -0.00180372  0.00973017 -0.00180372   0.0572691   \n",
       "7             상해     3622.91  -0.0111417  -0.0275537  -0.0111417   -0.062378   \n",
       "\n",
       "           6        7        8  \n",
       "0        NaN      NaN      NaN  \n",
       "1        YTD  Yr High   Yr Low  \n",
       "2  0.0196586    442.7   392.13  \n",
       "3  0.0190102  2130.82  1862.49  \n",
       "4   0.155405  3828.78  2874.65  \n",
       "5   0.167066  12374.7  8571.95  \n",
       "6    0.17749    20868  14532.5  \n",
       "7   0.120021  5166.35  2187.67  "
      ]
     },
     "execution_count": 65,
     "metadata": {},
     "output_type": "execute_result"
    }
   ],
   "source": [
    "전체지표['지표 1']"
   ]
  },
  {
   "cell_type": "markdown",
   "metadata": {},
   "source": [
    "모든 대상 파일에 현재 작업을 적용하기"
   ]
  },
  {
   "cell_type": "code",
   "execution_count": 1,
   "metadata": {
    "collapsed": true
   },
   "outputs": [],
   "source": [
    "import os"
   ]
  },
  {
   "cell_type": "markdown",
   "metadata": {},
   "source": [
    "대상 파일 경로 구성"
   ]
  },
  {
   "cell_type": "code",
   "execution_count": 2,
   "metadata": {
    "collapsed": false
   },
   "outputs": [],
   "source": [
    "대상파일목록 = []\n",
    "폴더 = 'data/koreaexim/international/'\n",
    "for 항목 in os.listdir(폴더):    \n",
    "    경로 = os.path.join(폴더, 항목)\n",
    "    대상파일목록.append(경로)"
   ]
  },
  {
   "cell_type": "code",
   "execution_count": 73,
   "metadata": {
    "collapsed": true
   },
   "outputs": [
    {
     "data": {
      "text/plain": [
       "['data/koreaexim/international/Global+Market+Daily+Table%28%EA%B0%92%EB%B3%B5%EC%82%AC%29_0803.xls',\n",
       " 'data/koreaexim/international/Global+Market+Daily+Table%28%EA%B0%92%EB%B3%B5%EC%82%AC%29_0804.xls',\n",
       " 'data/koreaexim/international/Global+Market+Daily+Table%28%EA%B0%92%EB%B3%B5%EC%82%AC%29_0805.xls']"
      ]
     },
     "execution_count": 73,
     "metadata": {},
     "output_type": "execute_result"
    }
   ],
   "source": [
    "대상파일목록[:3]"
   ]
  },
  {
   "cell_type": "code",
   "execution_count": 3,
   "metadata": {
    "collapsed": false
   },
   "outputs": [],
   "source": [
    "import exim\n",
    "\n",
    "if not os.path.exists('output'):\n",
    "    os.makedirs('output')\n",
    "    \n",
    "for i, 경로 in enumerate(대상파일목록):    \n",
    "    # 1. 표 추출\n",
    "    표목록 = exim.지표추출(경로)\n",
    "    # 2. 결과 엑셀 파일로 저장\n",
    "    결과파일 = os.path.join('output', '지표 {}.xlsx'.format(i+1))\n",
    "    exim.엑셀로내보내기(표목록, 결과파일)"
   ]
  },
  {
   "cell_type": "code",
   "execution_count": 90,
   "metadata": {
    "collapsed": true
   },
   "outputs": [
    {
     "data": {
      "text/plain": [
       "[0, 8, 16, 23, 24, 29]"
      ]
     },
     "execution_count": 90,
     "metadata": {},
     "output_type": "execute_result"
    }
   ],
   "source": [
    "시작목록 = list(프레임[프레임.notnull().sum(1) == 1].index)\n",
    "시작목록"
   ]
  },
  {
   "cell_type": "code",
   "execution_count": 91,
   "metadata": {
    "collapsed": true
   },
   "outputs": [
    {
     "data": {
      "text/plain": [
       "[8, 16, 23, 24, 29, 44]"
      ]
     },
     "execution_count": 91,
     "metadata": {},
     "output_type": "execute_result"
    }
   ],
   "source": [
    "끝목록 = 시작목록[1:] + [len(프레임)]\n",
    "끝목록"
   ]
  },
  {
   "cell_type": "code",
   "execution_count": 92,
   "metadata": {
    "collapsed": true
   },
   "outputs": [
    {
     "data": {
      "text/plain": [
       "[(0, 8), (8, 16), (16, 23), (23, 24), (24, 29), (29, 44)]"
      ]
     },
     "execution_count": 92,
     "metadata": {},
     "output_type": "execute_result"
    }
   ],
   "source": [
    "list(zip(시작목록, 끝목록))"
   ]
  },
  {
   "cell_type": "code",
   "execution_count": null,
   "metadata": {
    "collapsed": true
   },
   "outputs": [],
   "source": []
  }
 ],
 "metadata": {
  "anaconda-cloud": {},
  "kernelspec": {
   "display_name": "Python [conda root]",
   "language": "python",
   "name": "conda-root-py"
  },
  "language_info": {
   "codemirror_mode": {
    "name": "ipython",
    "version": 3
   },
   "file_extension": ".py",
   "mimetype": "text/x-python",
   "name": "python",
   "nbconvert_exporter": "python",
   "pygments_lexer": "ipython3",
   "version": "3.5.2"
  }
 },
 "nbformat": 4,
 "nbformat_minor": 1
}
