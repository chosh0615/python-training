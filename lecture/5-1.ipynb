{
 "cells": [
  {
   "cell_type": "code",
   "execution_count": 1,
   "metadata": {
    "collapsed": true
   },
   "outputs": [],
   "source": [
    "import pandas as pd"
   ]
  },
  {
   "cell_type": "code",
   "execution_count": 2,
   "metadata": {
    "collapsed": true
   },
   "outputs": [],
   "source": [
    "import baseball"
   ]
  },
  {
   "cell_type": "code",
   "execution_count": 4,
   "metadata": {
    "collapsed": true
   },
   "outputs": [],
   "source": [
    "파일목록 = [\n",
    "    'data/NC Dinos {}.xlsx'.format(y) for y in range(2013, 2015)]\n",
    "NC시즌 = baseball.from_files(파일목록)"
   ]
  },
  {
   "cell_type": "code",
   "execution_count": 5,
   "metadata": {
    "collapsed": true
   },
   "outputs": [],
   "source": [
    "식당 = pd.read_excel('data/food_order.xlsx')"
   ]
  },
  {
   "cell_type": "markdown",
   "metadata": {},
   "source": [
    "열의 값에 따라 분류하기"
   ]
  },
  {
   "cell_type": "code",
   "execution_count": 6,
   "metadata": {
    "collapsed": false
   },
   "outputs": [
    {
     "data": {
      "text/plain": [
       "<pandas.core.groupby.DataFrameGroupBy object at 0x00000000047C6C50>"
      ]
     },
     "execution_count": 6,
     "metadata": {},
     "output_type": "execute_result"
    }
   ],
   "source": [
    "식당.groupby('corner')"
   ]
  },
  {
   "cell_type": "code",
   "execution_count": 7,
   "metadata": {
    "collapsed": false
   },
   "outputs": [
    {
     "data": {
      "text/plain": [
       "corner\n",
       "after school      929\n",
       "burger&pizza      913\n",
       "grill & fry       925\n",
       "noodle bar        923\n",
       "rice & soup 1    1422\n",
       "rice & soup 2     332\n",
       "take out         1381\n",
       "dtype: int64"
      ]
     },
     "execution_count": 7,
     "metadata": {},
     "output_type": "execute_result"
    }
   ],
   "source": [
    "식당.groupby('corner').size()"
   ]
  },
  {
   "cell_type": "code",
   "execution_count": 11,
   "metadata": {
    "collapsed": true
   },
   "outputs": [
    {
     "data": {
      "text/plain": [
       "corner\n",
       "after school     140.921421\n",
       "burger&pizza     144.285871\n",
       "grill & fry      225.996757\n",
       "noodle bar       179.244854\n",
       "rice & soup 1    221.974684\n",
       "rice & soup 2    241.897590\n",
       "take out         190.789283\n",
       "Name: use_count, dtype: float64"
      ]
     },
     "execution_count": 11,
     "metadata": {},
     "output_type": "execute_result"
    }
   ],
   "source": [
    "식당.groupby('corner')['use_count'].mean()"
   ]
  },
  {
   "cell_type": "markdown",
   "metadata": {},
   "source": [
    "가독성을 높이는 코드 작성"
   ]
  },
  {
   "cell_type": "code",
   "execution_count": 12,
   "metadata": {
    "collapsed": true
   },
   "outputs": [],
   "source": [
    "식당 = 식당.rename(columns={\n",
    "        'corner': '코너', 'use_count': '주문수량'\n",
    "    })"
   ]
  },
  {
   "cell_type": "code",
   "execution_count": 13,
   "metadata": {
    "collapsed": true
   },
   "outputs": [],
   "source": [
    "코너별 = 식당.groupby('코너')"
   ]
  },
  {
   "cell_type": "code",
   "execution_count": 14,
   "metadata": {
    "collapsed": true
   },
   "outputs": [
    {
     "data": {
      "text/plain": [
       "코너\n",
       "after school     140.921421\n",
       "burger&pizza     144.285871\n",
       "grill & fry      225.996757\n",
       "noodle bar       179.244854\n",
       "rice & soup 1    221.974684\n",
       "rice & soup 2    241.897590\n",
       "take out         190.789283\n",
       "Name: 주문수량, dtype: float64"
      ]
     },
     "execution_count": 14,
     "metadata": {},
     "output_type": "execute_result"
    }
   ],
   "source": [
    "코너별['주문수량'].mean()"
   ]
  },
  {
   "cell_type": "markdown",
   "metadata": {},
   "source": [
    "단일 열도 데이터프레임 형식으로 표현"
   ]
  },
  {
   "cell_type": "code",
   "execution_count": 15,
   "metadata": {
    "collapsed": false
   },
   "outputs": [
    {
     "data": {
      "text/plain": [
       "<pandas.core.groupby.SeriesGroupBy object at 0x0000000008C80B00>"
      ]
     },
     "execution_count": 15,
     "metadata": {},
     "output_type": "execute_result"
    }
   ],
   "source": [
    "코너별['주문수량']"
   ]
  },
  {
   "cell_type": "code",
   "execution_count": 17,
   "metadata": {
    "collapsed": true
   },
   "outputs": [
    {
     "data": {
      "text/html": [
       "<div>\n",
       "<table border=\"1\" class=\"dataframe\">\n",
       "  <thead>\n",
       "    <tr style=\"text-align: right;\">\n",
       "      <th></th>\n",
       "      <th>주문수량</th>\n",
       "    </tr>\n",
       "    <tr>\n",
       "      <th>코너</th>\n",
       "      <th></th>\n",
       "    </tr>\n",
       "  </thead>\n",
       "  <tbody>\n",
       "    <tr>\n",
       "      <th>after school</th>\n",
       "      <td>140.921421</td>\n",
       "    </tr>\n",
       "    <tr>\n",
       "      <th>burger&amp;pizza</th>\n",
       "      <td>144.285871</td>\n",
       "    </tr>\n",
       "    <tr>\n",
       "      <th>grill &amp; fry</th>\n",
       "      <td>225.996757</td>\n",
       "    </tr>\n",
       "    <tr>\n",
       "      <th>noodle bar</th>\n",
       "      <td>179.244854</td>\n",
       "    </tr>\n",
       "    <tr>\n",
       "      <th>rice &amp; soup 1</th>\n",
       "      <td>221.974684</td>\n",
       "    </tr>\n",
       "    <tr>\n",
       "      <th>rice &amp; soup 2</th>\n",
       "      <td>241.897590</td>\n",
       "    </tr>\n",
       "    <tr>\n",
       "      <th>take out</th>\n",
       "      <td>190.789283</td>\n",
       "    </tr>\n",
       "  </tbody>\n",
       "</table>\n",
       "</div>"
      ],
      "text/plain": [
       "                     주문수량\n",
       "코너                       \n",
       "after school   140.921421\n",
       "burger&pizza   144.285871\n",
       "grill & fry    225.996757\n",
       "noodle bar     179.244854\n",
       "rice & soup 1  221.974684\n",
       "rice & soup 2  241.897590\n",
       "take out       190.789283"
      ]
     },
     "execution_count": 17,
     "metadata": {},
     "output_type": "execute_result"
    }
   ],
   "source": [
    "코너별[['주문수량']].mean()"
   ]
  },
  {
   "cell_type": "code",
   "execution_count": 19,
   "metadata": {
    "collapsed": true
   },
   "outputs": [
    {
     "data": {
      "text/html": [
       "<div>\n",
       "<table border=\"1\" class=\"dataframe\">\n",
       "  <thead>\n",
       "    <tr style=\"text-align: right;\">\n",
       "      <th></th>\n",
       "      <th>주문수량</th>\n",
       "      <th>pred_count</th>\n",
       "      <th>additional</th>\n",
       "      <th>good</th>\n",
       "      <th>ok</th>\n",
       "      <th>bad</th>\n",
       "      <th>diff_use_pred</th>\n",
       "      <th>year</th>\n",
       "      <th>month</th>\n",
       "      <th>day</th>\n",
       "      <th>wday</th>\n",
       "    </tr>\n",
       "    <tr>\n",
       "      <th>코너</th>\n",
       "      <th></th>\n",
       "      <th></th>\n",
       "      <th></th>\n",
       "      <th></th>\n",
       "      <th></th>\n",
       "      <th></th>\n",
       "      <th></th>\n",
       "      <th></th>\n",
       "      <th></th>\n",
       "      <th></th>\n",
       "      <th></th>\n",
       "    </tr>\n",
       "  </thead>\n",
       "  <tbody>\n",
       "    <tr>\n",
       "      <th>after school</th>\n",
       "      <td>140.921421</td>\n",
       "      <td>54.617869</td>\n",
       "      <td>7.728741</td>\n",
       "      <td>5.551130</td>\n",
       "      <td>2.776103</td>\n",
       "      <td>0.528525</td>\n",
       "      <td>-78.574812</td>\n",
       "      <td>2014.093649</td>\n",
       "      <td>6.519914</td>\n",
       "      <td>16.118407</td>\n",
       "      <td>1.939720</td>\n",
       "    </tr>\n",
       "    <tr>\n",
       "      <th>burger&amp;pizza</th>\n",
       "      <td>144.285871</td>\n",
       "      <td>64.123768</td>\n",
       "      <td>9.052574</td>\n",
       "      <td>7.107338</td>\n",
       "      <td>3.124863</td>\n",
       "      <td>0.745893</td>\n",
       "      <td>-71.109529</td>\n",
       "      <td>2014.105148</td>\n",
       "      <td>6.465498</td>\n",
       "      <td>16.032859</td>\n",
       "      <td>1.940854</td>\n",
       "    </tr>\n",
       "    <tr>\n",
       "      <th>grill &amp; fry</th>\n",
       "      <td>225.996757</td>\n",
       "      <td>89.886486</td>\n",
       "      <td>11.281081</td>\n",
       "      <td>9.498378</td>\n",
       "      <td>5.041081</td>\n",
       "      <td>1.370811</td>\n",
       "      <td>-124.829189</td>\n",
       "      <td>2014.095135</td>\n",
       "      <td>6.505946</td>\n",
       "      <td>16.105946</td>\n",
       "      <td>1.931892</td>\n",
       "    </tr>\n",
       "    <tr>\n",
       "      <th>noodle bar</th>\n",
       "      <td>179.244854</td>\n",
       "      <td>69.404117</td>\n",
       "      <td>9.653304</td>\n",
       "      <td>9.533044</td>\n",
       "      <td>4.211268</td>\n",
       "      <td>1.247021</td>\n",
       "      <td>-100.187432</td>\n",
       "      <td>2014.096425</td>\n",
       "      <td>6.479957</td>\n",
       "      <td>16.035753</td>\n",
       "      <td>1.926327</td>\n",
       "    </tr>\n",
       "    <tr>\n",
       "      <th>rice &amp; soup 1</th>\n",
       "      <td>221.974684</td>\n",
       "      <td>74.936709</td>\n",
       "      <td>10.759494</td>\n",
       "      <td>8.064698</td>\n",
       "      <td>3.441632</td>\n",
       "      <td>0.879044</td>\n",
       "      <td>-136.278481</td>\n",
       "      <td>2014.089311</td>\n",
       "      <td>6.530239</td>\n",
       "      <td>16.028129</td>\n",
       "      <td>1.940928</td>\n",
       "    </tr>\n",
       "    <tr>\n",
       "      <th>rice &amp; soup 2</th>\n",
       "      <td>241.897590</td>\n",
       "      <td>149.231928</td>\n",
       "      <td>15.722892</td>\n",
       "      <td>18.322289</td>\n",
       "      <td>8.210843</td>\n",
       "      <td>1.614458</td>\n",
       "      <td>-76.942771</td>\n",
       "      <td>2014.397590</td>\n",
       "      <td>6.042169</td>\n",
       "      <td>16.162651</td>\n",
       "      <td>1.930723</td>\n",
       "    </tr>\n",
       "    <tr>\n",
       "      <th>take out</th>\n",
       "      <td>190.789283</td>\n",
       "      <td>58.929761</td>\n",
       "      <td>2.302679</td>\n",
       "      <td>0.199131</td>\n",
       "      <td>0.068791</td>\n",
       "      <td>0.020999</td>\n",
       "      <td>-129.556843</td>\n",
       "      <td>2014.127444</td>\n",
       "      <td>6.444605</td>\n",
       "      <td>16.013758</td>\n",
       "      <td>1.946416</td>\n",
       "    </tr>\n",
       "  </tbody>\n",
       "</table>\n",
       "</div>"
      ],
      "text/plain": [
       "                     주문수량  pred_count  additional       good        ok  \\\n",
       "코너                                                                       \n",
       "after school   140.921421   54.617869    7.728741   5.551130  2.776103   \n",
       "burger&pizza   144.285871   64.123768    9.052574   7.107338  3.124863   \n",
       "grill & fry    225.996757   89.886486   11.281081   9.498378  5.041081   \n",
       "noodle bar     179.244854   69.404117    9.653304   9.533044  4.211268   \n",
       "rice & soup 1  221.974684   74.936709   10.759494   8.064698  3.441632   \n",
       "rice & soup 2  241.897590  149.231928   15.722892  18.322289  8.210843   \n",
       "take out       190.789283   58.929761    2.302679   0.199131  0.068791   \n",
       "\n",
       "                    bad  diff_use_pred         year     month        day  \\\n",
       "코너                                                                         \n",
       "after school   0.528525     -78.574812  2014.093649  6.519914  16.118407   \n",
       "burger&pizza   0.745893     -71.109529  2014.105148  6.465498  16.032859   \n",
       "grill & fry    1.370811    -124.829189  2014.095135  6.505946  16.105946   \n",
       "noodle bar     1.247021    -100.187432  2014.096425  6.479957  16.035753   \n",
       "rice & soup 1  0.879044    -136.278481  2014.089311  6.530239  16.028129   \n",
       "rice & soup 2  1.614458     -76.942771  2014.397590  6.042169  16.162651   \n",
       "take out       0.020999    -129.556843  2014.127444  6.444605  16.013758   \n",
       "\n",
       "                   wday  \n",
       "코너                       \n",
       "after school   1.939720  \n",
       "burger&pizza   1.940854  \n",
       "grill & fry    1.931892  \n",
       "noodle bar     1.926327  \n",
       "rice & soup 1  1.940928  \n",
       "rice & soup 2  1.930723  \n",
       "take out       1.946416  "
      ]
     },
     "execution_count": 19,
     "metadata": {},
     "output_type": "execute_result"
    }
   ],
   "source": [
    "코너별.mean()"
   ]
  },
  {
   "cell_type": "markdown",
   "metadata": {},
   "source": [
    "한식, 양식, 기타로 분류하기"
   ]
  },
  {
   "cell_type": "code",
   "execution_count": 20,
   "metadata": {
    "collapsed": false
   },
   "outputs": [
    {
     "data": {
      "text/plain": [
       "기타    4158\n",
       "한식    1754\n",
       "양식     913\n",
       "Name: 코너, dtype: int64"
      ]
     },
     "execution_count": 20,
     "metadata": {},
     "output_type": "execute_result"
    }
   ],
   "source": [
    "분류사전 = {\n",
    "    'rice & soup 1': '한식', 'rice & soup 2': '한식',\n",
    "    'burger&pizza': '양식'\n",
    "}\n",
    "\n",
    "분류 = 식당.코너.map(분류사전)\n",
    "분류 = 분류.fillna('기타')\n",
    "분류.value_counts()"
   ]
  },
  {
   "cell_type": "markdown",
   "metadata": {},
   "source": [
    "색인이 일치한다면, 데이터프레임에 포함되지 않은 시리즈도 분류에 활용할 수 있습니다."
   ]
  },
  {
   "cell_type": "code",
   "execution_count": 21,
   "metadata": {
    "collapsed": true
   },
   "outputs": [],
   "source": [
    "분류별 = 식당.groupby(분류)"
   ]
  },
  {
   "cell_type": "code",
   "execution_count": 23,
   "metadata": {
    "collapsed": false
   },
   "outputs": [
    {
     "data": {
      "text/plain": [
       "코너\n",
       "한식    225.745724\n",
       "기타    184.917268\n",
       "양식    144.285871\n",
       "Name: 주문수량, dtype: float64"
      ]
     },
     "execution_count": 23,
     "metadata": {},
     "output_type": "execute_result"
    }
   ],
   "source": [
    "분류별['주문수량'].mean().sort_values()[::-1]"
   ]
  },
  {
   "cell_type": "markdown",
   "metadata": {},
   "source": [
    "두 개 이상의 기준으로 분류하기"
   ]
  },
  {
   "cell_type": "code",
   "execution_count": 24,
   "metadata": {
    "collapsed": true
   },
   "outputs": [],
   "source": [
    "분류별코너별 = 식당.groupby([분류,'코너'])"
   ]
  },
  {
   "cell_type": "code",
   "execution_count": 33,
   "metadata": {
    "collapsed": true
   },
   "outputs": [
    {
     "data": {
      "text/html": [
       "<div>\n",
       "<table border=\"1\" class=\"dataframe\">\n",
       "  <thead>\n",
       "    <tr style=\"text-align: right;\">\n",
       "      <th></th>\n",
       "      <th></th>\n",
       "      <th>주문수량</th>\n",
       "    </tr>\n",
       "    <tr>\n",
       "      <th>코너</th>\n",
       "      <th>코너</th>\n",
       "      <th></th>\n",
       "    </tr>\n",
       "  </thead>\n",
       "  <tbody>\n",
       "    <tr>\n",
       "      <th rowspan=\"2\" valign=\"top\">한식</th>\n",
       "      <th>rice &amp; soup 1</th>\n",
       "      <td>221.974684</td>\n",
       "    </tr>\n",
       "    <tr>\n",
       "      <th>rice &amp; soup 2</th>\n",
       "      <td>241.897590</td>\n",
       "    </tr>\n",
       "    <tr>\n",
       "      <th>양식</th>\n",
       "      <th>burger&amp;pizza</th>\n",
       "      <td>144.285871</td>\n",
       "    </tr>\n",
       "    <tr>\n",
       "      <th rowspan=\"4\" valign=\"top\">기타</th>\n",
       "      <th>after school</th>\n",
       "      <td>140.921421</td>\n",
       "    </tr>\n",
       "    <tr>\n",
       "      <th>grill &amp; fry</th>\n",
       "      <td>225.996757</td>\n",
       "    </tr>\n",
       "    <tr>\n",
       "      <th>noodle bar</th>\n",
       "      <td>179.244854</td>\n",
       "    </tr>\n",
       "    <tr>\n",
       "      <th>take out</th>\n",
       "      <td>190.789283</td>\n",
       "    </tr>\n",
       "  </tbody>\n",
       "</table>\n",
       "</div>"
      ],
      "text/plain": [
       "                        주문수량\n",
       "코너 코너                       \n",
       "한식 rice & soup 1  221.974684\n",
       "   rice & soup 2  241.897590\n",
       "양식 burger&pizza   144.285871\n",
       "기타 after school   140.921421\n",
       "   grill & fry    225.996757\n",
       "   noodle bar     179.244854\n",
       "   take out       190.789283"
      ]
     },
     "execution_count": 33,
     "metadata": {},
     "output_type": "execute_result"
    }
   ],
   "source": [
    "분류별코너별[['주문수량']].mean().ix[['한식', '양식', '기타']]"
   ]
  },
  {
   "cell_type": "markdown",
   "metadata": {},
   "source": [
    "#### 연습\n",
    "\n",
    "각 지역별 평균 기온 산출\n",
    "\n",
    "1. 가독성을 높이기 위해 열제목을 적절한 우리말로 설정\n",
    "1. 지역별 연도별 평균 기온 산출"
   ]
  },
  {
   "cell_type": "code",
   "execution_count": 34,
   "metadata": {
    "collapsed": true
   },
   "outputs": [],
   "source": [
    "날씨 = pd.read_excel('data/weather.xlsx')"
   ]
  },
  {
   "cell_type": "code",
   "execution_count": 35,
   "metadata": {
    "collapsed": true
   },
   "outputs": [],
   "source": [
    "날씨 = 날씨.rename(\n",
    "    columns={'location':'지역', 'avgTemp':'일평균'})"
   ]
  },
  {
   "cell_type": "code",
   "execution_count": 36,
   "metadata": {
    "collapsed": true
   },
   "outputs": [],
   "source": [
    "날씨.지역 = 날씨.지역.replace({'seoul':'서울', 'suwon':'수원'})"
   ]
  },
  {
   "cell_type": "code",
   "execution_count": 37,
   "metadata": {
    "collapsed": true
   },
   "outputs": [],
   "source": [
    "지역별 = 날씨.groupby('지역')"
   ]
  },
  {
   "cell_type": "code",
   "execution_count": 38,
   "metadata": {
    "collapsed": false
   },
   "outputs": [
    {
     "data": {
      "text/plain": [
       "지역\n",
       "서울    13.365616\n",
       "수원    13.167123\n",
       "Name: 일평균, dtype: float64"
      ]
     },
     "execution_count": 38,
     "metadata": {},
     "output_type": "execute_result"
    }
   ],
   "source": [
    "지역별['일평균'].mean()"
   ]
  },
  {
   "cell_type": "code",
   "execution_count": 39,
   "metadata": {
    "collapsed": false
   },
   "outputs": [
    {
     "data": {
      "text/plain": [
       "0    2013\n",
       "1    2013\n",
       "2    2013\n",
       "Name: 연도, dtype: int64"
      ]
     },
     "execution_count": 39,
     "metadata": {},
     "output_type": "execute_result"
    }
   ],
   "source": [
    "연도 = 날씨.date.map(lambda 날짜: 날짜.year)\n",
    "연도.name = '연도'\n",
    "연도[:3]"
   ]
  },
  {
   "cell_type": "code",
   "execution_count": 41,
   "metadata": {
    "collapsed": false
   },
   "outputs": [],
   "source": [
    "지역별연도별 = 날씨.groupby(['지역', 연도])"
   ]
  },
  {
   "cell_type": "code",
   "execution_count": 44,
   "metadata": {
    "collapsed": true
   },
   "outputs": [
    {
     "data": {
      "text/html": [
       "<div>\n",
       "<table border=\"1\" class=\"dataframe\">\n",
       "  <thead>\n",
       "    <tr style=\"text-align: right;\">\n",
       "      <th></th>\n",
       "      <th></th>\n",
       "      <th>일평균</th>\n",
       "    </tr>\n",
       "    <tr>\n",
       "      <th>지역</th>\n",
       "      <th>연도</th>\n",
       "      <th></th>\n",
       "    </tr>\n",
       "  </thead>\n",
       "  <tbody>\n",
       "    <tr>\n",
       "      <th rowspan=\"3\" valign=\"top\">서울</th>\n",
       "      <th>2013</th>\n",
       "      <td>14.241176</td>\n",
       "    </tr>\n",
       "    <tr>\n",
       "      <th>2014</th>\n",
       "      <td>13.396712</td>\n",
       "    </tr>\n",
       "    <tr>\n",
       "      <th>2015</th>\n",
       "      <td>12.680189</td>\n",
       "    </tr>\n",
       "    <tr>\n",
       "      <th rowspan=\"3\" valign=\"top\">수원</th>\n",
       "      <th>2013</th>\n",
       "      <td>14.192810</td>\n",
       "    </tr>\n",
       "    <tr>\n",
       "      <th>2014</th>\n",
       "      <td>13.145479</td>\n",
       "    </tr>\n",
       "    <tr>\n",
       "      <th>2015</th>\n",
       "      <td>12.464151</td>\n",
       "    </tr>\n",
       "  </tbody>\n",
       "</table>\n",
       "</div>"
      ],
      "text/plain": [
       "               일평균\n",
       "지역 연도             \n",
       "서울 2013  14.241176\n",
       "   2014  13.396712\n",
       "   2015  12.680189\n",
       "수원 2013  14.192810\n",
       "   2014  13.145479\n",
       "   2015  12.464151"
      ]
     },
     "execution_count": 44,
     "metadata": {},
     "output_type": "execute_result"
    }
   ],
   "source": [
    "지역별연도별[['일평균']].mean()"
   ]
  },
  {
   "cell_type": "markdown",
   "metadata": {},
   "source": [
    "### 그룹 순회"
   ]
  },
  {
   "cell_type": "code",
   "execution_count": 48,
   "metadata": {
    "collapsed": true
   },
   "outputs": [
    {
     "data": {
      "text/html": [
       "<div>\n",
       "<table border=\"1\" class=\"dataframe\">\n",
       "  <thead>\n",
       "    <tr style=\"text-align: right;\">\n",
       "      <th></th>\n",
       "      <th>지역</th>\n",
       "      <th>date</th>\n",
       "      <th>weekDay</th>\n",
       "      <th>일평균</th>\n",
       "      <th>highestTemp</th>\n",
       "      <th>lowestTemp</th>\n",
       "      <th>precipitation</th>\n",
       "      <th>snow</th>\n",
       "      <th>windSpeed</th>\n",
       "      <th>humidity</th>\n",
       "      <th>cloud</th>\n",
       "      <th>dayTime</th>\n",
       "      <th>weather</th>\n",
       "    </tr>\n",
       "  </thead>\n",
       "  <tbody>\n",
       "    <tr>\n",
       "      <th>0</th>\n",
       "      <td>서울</td>\n",
       "      <td>2013-08-01</td>\n",
       "      <td>thur</td>\n",
       "      <td>28.0</td>\n",
       "      <td>32.1</td>\n",
       "      <td>24.5</td>\n",
       "      <td>-</td>\n",
       "      <td>-</td>\n",
       "      <td>1.8</td>\n",
       "      <td>66</td>\n",
       "      <td>7.1</td>\n",
       "      <td>6.0</td>\n",
       "      <td>구름많음</td>\n",
       "    </tr>\n",
       "    <tr>\n",
       "      <th>1</th>\n",
       "      <td>서울</td>\n",
       "      <td>2013-08-02</td>\n",
       "      <td>fri</td>\n",
       "      <td>27.4</td>\n",
       "      <td>29.3</td>\n",
       "      <td>25.2</td>\n",
       "      <td>7.5</td>\n",
       "      <td>-</td>\n",
       "      <td>2.1</td>\n",
       "      <td>79</td>\n",
       "      <td>9.1</td>\n",
       "      <td>0.9</td>\n",
       "      <td>흐림/안개/비</td>\n",
       "    </tr>\n",
       "    <tr>\n",
       "      <th>2</th>\n",
       "      <td>서울</td>\n",
       "      <td>2013-08-03</td>\n",
       "      <td>sat</td>\n",
       "      <td>28.9</td>\n",
       "      <td>32.6</td>\n",
       "      <td>26.7</td>\n",
       "      <td>0.1</td>\n",
       "      <td>-</td>\n",
       "      <td>3.6</td>\n",
       "      <td>72</td>\n",
       "      <td>8.1</td>\n",
       "      <td>8.9</td>\n",
       "      <td>흐림/소나기</td>\n",
       "    </tr>\n",
       "    <tr>\n",
       "      <th>3</th>\n",
       "      <td>서울</td>\n",
       "      <td>2013-08-04</td>\n",
       "      <td>sun</td>\n",
       "      <td>28.3</td>\n",
       "      <td>31.3</td>\n",
       "      <td>26.4</td>\n",
       "      <td>4.5</td>\n",
       "      <td>-</td>\n",
       "      <td>2.5</td>\n",
       "      <td>76</td>\n",
       "      <td>8.0</td>\n",
       "      <td>4.7</td>\n",
       "      <td>흐림/소나기/안개</td>\n",
       "    </tr>\n",
       "    <tr>\n",
       "      <th>4</th>\n",
       "      <td>서울</td>\n",
       "      <td>2013-08-05</td>\n",
       "      <td>mon</td>\n",
       "      <td>27.7</td>\n",
       "      <td>30.1</td>\n",
       "      <td>26.4</td>\n",
       "      <td>7</td>\n",
       "      <td>-</td>\n",
       "      <td>3.3</td>\n",
       "      <td>78</td>\n",
       "      <td>7.0</td>\n",
       "      <td>4.5</td>\n",
       "      <td>구름많음/안개/천둥번개/비</td>\n",
       "    </tr>\n",
       "    <tr>\n",
       "      <th>5</th>\n",
       "      <td>서울</td>\n",
       "      <td>2013-08-06</td>\n",
       "      <td>tue</td>\n",
       "      <td>26.4</td>\n",
       "      <td>27.6</td>\n",
       "      <td>23.0</td>\n",
       "      <td>45</td>\n",
       "      <td>-</td>\n",
       "      <td>2.3</td>\n",
       "      <td>81</td>\n",
       "      <td>6.6</td>\n",
       "      <td>2.8</td>\n",
       "      <td>구름많음/안개/천둥번개/비</td>\n",
       "    </tr>\n",
       "    <tr>\n",
       "      <th>6</th>\n",
       "      <td>서울</td>\n",
       "      <td>2013-08-07</td>\n",
       "      <td>wed</td>\n",
       "      <td>28.7</td>\n",
       "      <td>32.1</td>\n",
       "      <td>25.0</td>\n",
       "      <td>-</td>\n",
       "      <td>-</td>\n",
       "      <td>2.2</td>\n",
       "      <td>73</td>\n",
       "      <td>7.5</td>\n",
       "      <td>1.3</td>\n",
       "      <td>구름많음</td>\n",
       "    </tr>\n",
       "    <tr>\n",
       "      <th>7</th>\n",
       "      <td>서울</td>\n",
       "      <td>2013-08-08</td>\n",
       "      <td>thur</td>\n",
       "      <td>29.3</td>\n",
       "      <td>32.8</td>\n",
       "      <td>27.3</td>\n",
       "      <td>-</td>\n",
       "      <td>-</td>\n",
       "      <td>3.9</td>\n",
       "      <td>73</td>\n",
       "      <td>7.4</td>\n",
       "      <td>5.0</td>\n",
       "      <td>구름많음/안개</td>\n",
       "    </tr>\n",
       "    <tr>\n",
       "      <th>8</th>\n",
       "      <td>서울</td>\n",
       "      <td>2013-08-09</td>\n",
       "      <td>fri</td>\n",
       "      <td>29.2</td>\n",
       "      <td>30.8</td>\n",
       "      <td>27.9</td>\n",
       "      <td>0</td>\n",
       "      <td>-</td>\n",
       "      <td>4.0</td>\n",
       "      <td>79</td>\n",
       "      <td>9.9</td>\n",
       "      <td>0.1</td>\n",
       "      <td>흐림/안개</td>\n",
       "    </tr>\n",
       "    <tr>\n",
       "      <th>9</th>\n",
       "      <td>서울</td>\n",
       "      <td>2013-08-10</td>\n",
       "      <td>sat</td>\n",
       "      <td>28.0</td>\n",
       "      <td>29.4</td>\n",
       "      <td>25.8</td>\n",
       "      <td>2</td>\n",
       "      <td>-</td>\n",
       "      <td>2.3</td>\n",
       "      <td>81</td>\n",
       "      <td>7.1</td>\n",
       "      <td>2.6</td>\n",
       "      <td>구름많음/안개/천둥번개/비</td>\n",
       "    </tr>\n",
       "    <tr>\n",
       "      <th>10</th>\n",
       "      <td>서울</td>\n",
       "      <td>2013-08-11</td>\n",
       "      <td>sun</td>\n",
       "      <td>28.7</td>\n",
       "      <td>33.2</td>\n",
       "      <td>24.2</td>\n",
       "      <td>-</td>\n",
       "      <td>-</td>\n",
       "      <td>2.2</td>\n",
       "      <td>72</td>\n",
       "      <td>5.8</td>\n",
       "      <td>9.6</td>\n",
       "      <td>구름많음/안개</td>\n",
       "    </tr>\n",
       "    <tr>\n",
       "      <th>11</th>\n",
       "      <td>서울</td>\n",
       "      <td>2013-08-12</td>\n",
       "      <td>mon</td>\n",
       "      <td>29.3</td>\n",
       "      <td>32.6</td>\n",
       "      <td>27.1</td>\n",
       "      <td>-</td>\n",
       "      <td>-</td>\n",
       "      <td>2.9</td>\n",
       "      <td>69</td>\n",
       "      <td>5.2</td>\n",
       "      <td>10.7</td>\n",
       "      <td>구름많음</td>\n",
       "    </tr>\n",
       "    <tr>\n",
       "      <th>12</th>\n",
       "      <td>서울</td>\n",
       "      <td>2013-08-13</td>\n",
       "      <td>tue</td>\n",
       "      <td>29.0</td>\n",
       "      <td>32.9</td>\n",
       "      <td>26.6</td>\n",
       "      <td>-</td>\n",
       "      <td>-</td>\n",
       "      <td>2.9</td>\n",
       "      <td>66</td>\n",
       "      <td>4.8</td>\n",
       "      <td>11.5</td>\n",
       "      <td>구름조금</td>\n",
       "    </tr>\n",
       "    <tr>\n",
       "      <th>13</th>\n",
       "      <td>서울</td>\n",
       "      <td>2013-08-14</td>\n",
       "      <td>wed</td>\n",
       "      <td>28.6</td>\n",
       "      <td>32.0</td>\n",
       "      <td>26.2</td>\n",
       "      <td>-</td>\n",
       "      <td>-</td>\n",
       "      <td>2.7</td>\n",
       "      <td>66</td>\n",
       "      <td>5.0</td>\n",
       "      <td>9.9</td>\n",
       "      <td>구름많음</td>\n",
       "    </tr>\n",
       "    <tr>\n",
       "      <th>14</th>\n",
       "      <td>서울</td>\n",
       "      <td>2013-08-15</td>\n",
       "      <td>thur</td>\n",
       "      <td>28.7</td>\n",
       "      <td>32.4</td>\n",
       "      <td>25.8</td>\n",
       "      <td>0</td>\n",
       "      <td>-</td>\n",
       "      <td>3.2</td>\n",
       "      <td>71</td>\n",
       "      <td>6.6</td>\n",
       "      <td>7.9</td>\n",
       "      <td>구름많음/소나기</td>\n",
       "    </tr>\n",
       "    <tr>\n",
       "      <th>15</th>\n",
       "      <td>서울</td>\n",
       "      <td>2013-08-16</td>\n",
       "      <td>fri</td>\n",
       "      <td>28.7</td>\n",
       "      <td>31.7</td>\n",
       "      <td>26.1</td>\n",
       "      <td>4.5</td>\n",
       "      <td>-</td>\n",
       "      <td>3.8</td>\n",
       "      <td>71</td>\n",
       "      <td>7.5</td>\n",
       "      <td>7.2</td>\n",
       "      <td>구름많음/소나기</td>\n",
       "    </tr>\n",
       "    <tr>\n",
       "      <th>16</th>\n",
       "      <td>서울</td>\n",
       "      <td>2013-08-17</td>\n",
       "      <td>sat</td>\n",
       "      <td>28.7</td>\n",
       "      <td>31.6</td>\n",
       "      <td>27.1</td>\n",
       "      <td>-</td>\n",
       "      <td>-</td>\n",
       "      <td>5.0</td>\n",
       "      <td>69</td>\n",
       "      <td>7.5</td>\n",
       "      <td>6.9</td>\n",
       "      <td>구름많음</td>\n",
       "    </tr>\n",
       "    <tr>\n",
       "      <th>17</th>\n",
       "      <td>서울</td>\n",
       "      <td>2013-08-18</td>\n",
       "      <td>sun</td>\n",
       "      <td>28.3</td>\n",
       "      <td>31.5</td>\n",
       "      <td>26.0</td>\n",
       "      <td>13</td>\n",
       "      <td>-</td>\n",
       "      <td>4.1</td>\n",
       "      <td>72</td>\n",
       "      <td>9.8</td>\n",
       "      <td>2.8</td>\n",
       "      <td>흐림/안개/비</td>\n",
       "    </tr>\n",
       "    <tr>\n",
       "      <th>18</th>\n",
       "      <td>서울</td>\n",
       "      <td>2013-08-19</td>\n",
       "      <td>mon</td>\n",
       "      <td>28.2</td>\n",
       "      <td>32.3</td>\n",
       "      <td>25.7</td>\n",
       "      <td>6</td>\n",
       "      <td>-</td>\n",
       "      <td>2.6</td>\n",
       "      <td>69</td>\n",
       "      <td>4.9</td>\n",
       "      <td>9.7</td>\n",
       "      <td>구름조금/안개/비</td>\n",
       "    </tr>\n",
       "    <tr>\n",
       "      <th>19</th>\n",
       "      <td>서울</td>\n",
       "      <td>2013-08-20</td>\n",
       "      <td>tue</td>\n",
       "      <td>27.4</td>\n",
       "      <td>32.3</td>\n",
       "      <td>23.0</td>\n",
       "      <td>-</td>\n",
       "      <td>-</td>\n",
       "      <td>1.8</td>\n",
       "      <td>62</td>\n",
       "      <td>3.0</td>\n",
       "      <td>10.6</td>\n",
       "      <td>구름조금</td>\n",
       "    </tr>\n",
       "    <tr>\n",
       "      <th>20</th>\n",
       "      <td>서울</td>\n",
       "      <td>2013-08-21</td>\n",
       "      <td>wed</td>\n",
       "      <td>28.8</td>\n",
       "      <td>33.9</td>\n",
       "      <td>24.2</td>\n",
       "      <td>-</td>\n",
       "      <td>-</td>\n",
       "      <td>2.4</td>\n",
       "      <td>55</td>\n",
       "      <td>3.8</td>\n",
       "      <td>11.6</td>\n",
       "      <td>구름조금</td>\n",
       "    </tr>\n",
       "    <tr>\n",
       "      <th>21</th>\n",
       "      <td>서울</td>\n",
       "      <td>2013-08-22</td>\n",
       "      <td>thur</td>\n",
       "      <td>29.3</td>\n",
       "      <td>32.3</td>\n",
       "      <td>26.3</td>\n",
       "      <td>0</td>\n",
       "      <td>-</td>\n",
       "      <td>2.4</td>\n",
       "      <td>58</td>\n",
       "      <td>6.8</td>\n",
       "      <td>8.8</td>\n",
       "      <td>구름많음</td>\n",
       "    </tr>\n",
       "    <tr>\n",
       "      <th>22</th>\n",
       "      <td>서울</td>\n",
       "      <td>2013-08-23</td>\n",
       "      <td>fri</td>\n",
       "      <td>25.7</td>\n",
       "      <td>28.7</td>\n",
       "      <td>23.7</td>\n",
       "      <td>35</td>\n",
       "      <td>-</td>\n",
       "      <td>2.4</td>\n",
       "      <td>78</td>\n",
       "      <td>8.2</td>\n",
       "      <td>1.0</td>\n",
       "      <td>흐림/안개/비</td>\n",
       "    </tr>\n",
       "    <tr>\n",
       "      <th>23</th>\n",
       "      <td>서울</td>\n",
       "      <td>2013-08-24</td>\n",
       "      <td>sat</td>\n",
       "      <td>26.6</td>\n",
       "      <td>31.5</td>\n",
       "      <td>21.9</td>\n",
       "      <td>-</td>\n",
       "      <td>-</td>\n",
       "      <td>1.8</td>\n",
       "      <td>61</td>\n",
       "      <td>2.4</td>\n",
       "      <td>10.9</td>\n",
       "      <td>구름조금</td>\n",
       "    </tr>\n",
       "    <tr>\n",
       "      <th>24</th>\n",
       "      <td>서울</td>\n",
       "      <td>2013-08-25</td>\n",
       "      <td>sun</td>\n",
       "      <td>27.1</td>\n",
       "      <td>32.1</td>\n",
       "      <td>22.0</td>\n",
       "      <td>-</td>\n",
       "      <td>-</td>\n",
       "      <td>1.7</td>\n",
       "      <td>53</td>\n",
       "      <td>4.1</td>\n",
       "      <td>12.0</td>\n",
       "      <td>구름조금</td>\n",
       "    </tr>\n",
       "    <tr>\n",
       "      <th>25</th>\n",
       "      <td>서울</td>\n",
       "      <td>2013-08-26</td>\n",
       "      <td>mon</td>\n",
       "      <td>27.0</td>\n",
       "      <td>31.6</td>\n",
       "      <td>22.8</td>\n",
       "      <td>-</td>\n",
       "      <td>-</td>\n",
       "      <td>2.4</td>\n",
       "      <td>55</td>\n",
       "      <td>1.6</td>\n",
       "      <td>12.1</td>\n",
       "      <td>맑음</td>\n",
       "    </tr>\n",
       "    <tr>\n",
       "      <th>26</th>\n",
       "      <td>서울</td>\n",
       "      <td>2013-08-27</td>\n",
       "      <td>tue</td>\n",
       "      <td>25.6</td>\n",
       "      <td>29.3</td>\n",
       "      <td>22.5</td>\n",
       "      <td>-</td>\n",
       "      <td>-</td>\n",
       "      <td>2.5</td>\n",
       "      <td>61</td>\n",
       "      <td>2.4</td>\n",
       "      <td>11.5</td>\n",
       "      <td>구름조금/안개</td>\n",
       "    </tr>\n",
       "    <tr>\n",
       "      <th>27</th>\n",
       "      <td>서울</td>\n",
       "      <td>2013-08-28</td>\n",
       "      <td>wed</td>\n",
       "      <td>26.4</td>\n",
       "      <td>30.8</td>\n",
       "      <td>22.7</td>\n",
       "      <td>-</td>\n",
       "      <td>-</td>\n",
       "      <td>2.9</td>\n",
       "      <td>59</td>\n",
       "      <td>5.4</td>\n",
       "      <td>9.7</td>\n",
       "      <td>구름많음/안개</td>\n",
       "    </tr>\n",
       "    <tr>\n",
       "      <th>28</th>\n",
       "      <td>서울</td>\n",
       "      <td>2013-08-29</td>\n",
       "      <td>thur</td>\n",
       "      <td>25.5</td>\n",
       "      <td>26.7</td>\n",
       "      <td>24.5</td>\n",
       "      <td>21.5</td>\n",
       "      <td>-</td>\n",
       "      <td>4.2</td>\n",
       "      <td>78</td>\n",
       "      <td>9.4</td>\n",
       "      <td>0.0</td>\n",
       "      <td>흐림/안개/천둥번개/비</td>\n",
       "    </tr>\n",
       "    <tr>\n",
       "      <th>29</th>\n",
       "      <td>서울</td>\n",
       "      <td>2013-08-30</td>\n",
       "      <td>fri</td>\n",
       "      <td>25.1</td>\n",
       "      <td>28.3</td>\n",
       "      <td>22.3</td>\n",
       "      <td>-</td>\n",
       "      <td>-</td>\n",
       "      <td>3.4</td>\n",
       "      <td>69</td>\n",
       "      <td>5.1</td>\n",
       "      <td>10.7</td>\n",
       "      <td>구름많음</td>\n",
       "    </tr>\n",
       "    <tr>\n",
       "      <th>...</th>\n",
       "      <td>...</td>\n",
       "      <td>...</td>\n",
       "      <td>...</td>\n",
       "      <td>...</td>\n",
       "      <td>...</td>\n",
       "      <td>...</td>\n",
       "      <td>...</td>\n",
       "      <td>...</td>\n",
       "      <td>...</td>\n",
       "      <td>...</td>\n",
       "      <td>...</td>\n",
       "      <td>...</td>\n",
       "      <td>...</td>\n",
       "    </tr>\n",
       "    <tr>\n",
       "      <th>123</th>\n",
       "      <td>서울</td>\n",
       "      <td>2013-12-02</td>\n",
       "      <td>mon</td>\n",
       "      <td>3.9</td>\n",
       "      <td>6.6</td>\n",
       "      <td>0.1</td>\n",
       "      <td>0</td>\n",
       "      <td>-</td>\n",
       "      <td>1.5</td>\n",
       "      <td>64</td>\n",
       "      <td>8.6</td>\n",
       "      <td>0.0</td>\n",
       "      <td>흐림/안개</td>\n",
       "    </tr>\n",
       "    <tr>\n",
       "      <th>124</th>\n",
       "      <td>서울</td>\n",
       "      <td>2013-12-03</td>\n",
       "      <td>tue</td>\n",
       "      <td>6.7</td>\n",
       "      <td>9.9</td>\n",
       "      <td>4.5</td>\n",
       "      <td>-</td>\n",
       "      <td>-</td>\n",
       "      <td>1.6</td>\n",
       "      <td>61</td>\n",
       "      <td>4.1</td>\n",
       "      <td>6.9</td>\n",
       "      <td>구름조금/안개</td>\n",
       "    </tr>\n",
       "    <tr>\n",
       "      <th>125</th>\n",
       "      <td>서울</td>\n",
       "      <td>2013-12-04</td>\n",
       "      <td>wed</td>\n",
       "      <td>5.5</td>\n",
       "      <td>9.6</td>\n",
       "      <td>2.1</td>\n",
       "      <td>-</td>\n",
       "      <td>-</td>\n",
       "      <td>1.8</td>\n",
       "      <td>73</td>\n",
       "      <td>2.1</td>\n",
       "      <td>6.9</td>\n",
       "      <td>구름조금/안개</td>\n",
       "    </tr>\n",
       "    <tr>\n",
       "      <th>126</th>\n",
       "      <td>서울</td>\n",
       "      <td>2013-12-05</td>\n",
       "      <td>thur</td>\n",
       "      <td>5.5</td>\n",
       "      <td>9.0</td>\n",
       "      <td>2.1</td>\n",
       "      <td>-</td>\n",
       "      <td>-</td>\n",
       "      <td>2.5</td>\n",
       "      <td>74</td>\n",
       "      <td>6.8</td>\n",
       "      <td>0.3</td>\n",
       "      <td>구름많음/안개</td>\n",
       "    </tr>\n",
       "    <tr>\n",
       "      <th>127</th>\n",
       "      <td>서울</td>\n",
       "      <td>2013-12-06</td>\n",
       "      <td>fri</td>\n",
       "      <td>3.0</td>\n",
       "      <td>7.0</td>\n",
       "      <td>-0.7</td>\n",
       "      <td>0</td>\n",
       "      <td>-</td>\n",
       "      <td>2.7</td>\n",
       "      <td>42</td>\n",
       "      <td>3.0</td>\n",
       "      <td>9.0</td>\n",
       "      <td>구름조금</td>\n",
       "    </tr>\n",
       "    <tr>\n",
       "      <th>128</th>\n",
       "      <td>서울</td>\n",
       "      <td>2013-12-07</td>\n",
       "      <td>sat</td>\n",
       "      <td>6.2</td>\n",
       "      <td>11.0</td>\n",
       "      <td>3.8</td>\n",
       "      <td>0.1</td>\n",
       "      <td>-</td>\n",
       "      <td>1.9</td>\n",
       "      <td>60</td>\n",
       "      <td>4.8</td>\n",
       "      <td>5.6</td>\n",
       "      <td>구름조금/비</td>\n",
       "    </tr>\n",
       "    <tr>\n",
       "      <th>129</th>\n",
       "      <td>서울</td>\n",
       "      <td>2013-12-08</td>\n",
       "      <td>sun</td>\n",
       "      <td>4.2</td>\n",
       "      <td>6.5</td>\n",
       "      <td>2.5</td>\n",
       "      <td>0</td>\n",
       "      <td>-</td>\n",
       "      <td>2.8</td>\n",
       "      <td>74</td>\n",
       "      <td>5.8</td>\n",
       "      <td>0.3</td>\n",
       "      <td>구름많음/안개</td>\n",
       "    </tr>\n",
       "    <tr>\n",
       "      <th>130</th>\n",
       "      <td>서울</td>\n",
       "      <td>2013-12-09</td>\n",
       "      <td>mon</td>\n",
       "      <td>3.8</td>\n",
       "      <td>5.2</td>\n",
       "      <td>1.9</td>\n",
       "      <td>14</td>\n",
       "      <td>-</td>\n",
       "      <td>3.2</td>\n",
       "      <td>83</td>\n",
       "      <td>10.0</td>\n",
       "      <td>0.0</td>\n",
       "      <td>흐림/비</td>\n",
       "    </tr>\n",
       "    <tr>\n",
       "      <th>131</th>\n",
       "      <td>서울</td>\n",
       "      <td>2013-12-10</td>\n",
       "      <td>tue</td>\n",
       "      <td>0.3</td>\n",
       "      <td>3.5</td>\n",
       "      <td>-2.2</td>\n",
       "      <td>-</td>\n",
       "      <td>-</td>\n",
       "      <td>3.1</td>\n",
       "      <td>57</td>\n",
       "      <td>2.8</td>\n",
       "      <td>8.7</td>\n",
       "      <td>구름조금/안개</td>\n",
       "    </tr>\n",
       "    <tr>\n",
       "      <th>132</th>\n",
       "      <td>서울</td>\n",
       "      <td>2013-12-11</td>\n",
       "      <td>wed</td>\n",
       "      <td>-1.7</td>\n",
       "      <td>0.2</td>\n",
       "      <td>-4.3</td>\n",
       "      <td>2.6</td>\n",
       "      <td>3.3</td>\n",
       "      <td>4.0</td>\n",
       "      <td>63</td>\n",
       "      <td>5.0</td>\n",
       "      <td>8.3</td>\n",
       "      <td>구름많음/눈</td>\n",
       "    </tr>\n",
       "    <tr>\n",
       "      <th>133</th>\n",
       "      <td>서울</td>\n",
       "      <td>2013-12-12</td>\n",
       "      <td>thur</td>\n",
       "      <td>-3.2</td>\n",
       "      <td>0.3</td>\n",
       "      <td>-6.3</td>\n",
       "      <td>4.1</td>\n",
       "      <td>4.4</td>\n",
       "      <td>2.7</td>\n",
       "      <td>69</td>\n",
       "      <td>5.5</td>\n",
       "      <td>1.8</td>\n",
       "      <td>구름많음/안개/천둥번개/눈</td>\n",
       "    </tr>\n",
       "    <tr>\n",
       "      <th>134</th>\n",
       "      <td>서울</td>\n",
       "      <td>2013-12-13</td>\n",
       "      <td>fri</td>\n",
       "      <td>-6.8</td>\n",
       "      <td>-4.3</td>\n",
       "      <td>-8.9</td>\n",
       "      <td>-</td>\n",
       "      <td>-</td>\n",
       "      <td>2.5</td>\n",
       "      <td>47</td>\n",
       "      <td>1.8</td>\n",
       "      <td>8.6</td>\n",
       "      <td>맑음</td>\n",
       "    </tr>\n",
       "    <tr>\n",
       "      <th>135</th>\n",
       "      <td>서울</td>\n",
       "      <td>2013-12-14</td>\n",
       "      <td>sat</td>\n",
       "      <td>-4.9</td>\n",
       "      <td>-1.4</td>\n",
       "      <td>-8.5</td>\n",
       "      <td>1.1</td>\n",
       "      <td>0.8</td>\n",
       "      <td>1.5</td>\n",
       "      <td>64</td>\n",
       "      <td>3.6</td>\n",
       "      <td>4.7</td>\n",
       "      <td>구름조금/안개/눈</td>\n",
       "    </tr>\n",
       "    <tr>\n",
       "      <th>136</th>\n",
       "      <td>서울</td>\n",
       "      <td>2013-12-15</td>\n",
       "      <td>sun</td>\n",
       "      <td>-4.4</td>\n",
       "      <td>0.7</td>\n",
       "      <td>-8.0</td>\n",
       "      <td>-</td>\n",
       "      <td>-</td>\n",
       "      <td>1.9</td>\n",
       "      <td>47</td>\n",
       "      <td>0.1</td>\n",
       "      <td>9.0</td>\n",
       "      <td>맑음</td>\n",
       "    </tr>\n",
       "    <tr>\n",
       "      <th>137</th>\n",
       "      <td>서울</td>\n",
       "      <td>2013-12-16</td>\n",
       "      <td>mon</td>\n",
       "      <td>-3.6</td>\n",
       "      <td>0.5</td>\n",
       "      <td>-7.3</td>\n",
       "      <td>-</td>\n",
       "      <td>-</td>\n",
       "      <td>1.8</td>\n",
       "      <td>52</td>\n",
       "      <td>5.6</td>\n",
       "      <td>1.8</td>\n",
       "      <td>구름많음/안개</td>\n",
       "    </tr>\n",
       "    <tr>\n",
       "      <th>138</th>\n",
       "      <td>서울</td>\n",
       "      <td>2013-12-17</td>\n",
       "      <td>tue</td>\n",
       "      <td>-0.3</td>\n",
       "      <td>4.7</td>\n",
       "      <td>-5.5</td>\n",
       "      <td>-</td>\n",
       "      <td>-</td>\n",
       "      <td>1.5</td>\n",
       "      <td>50</td>\n",
       "      <td>7.2</td>\n",
       "      <td>5.0</td>\n",
       "      <td>구름많음/안개</td>\n",
       "    </tr>\n",
       "    <tr>\n",
       "      <th>139</th>\n",
       "      <td>서울</td>\n",
       "      <td>2013-12-18</td>\n",
       "      <td>wed</td>\n",
       "      <td>2.2</td>\n",
       "      <td>6.5</td>\n",
       "      <td>-0.9</td>\n",
       "      <td>0.8</td>\n",
       "      <td>1.9</td>\n",
       "      <td>2.5</td>\n",
       "      <td>64</td>\n",
       "      <td>6.5</td>\n",
       "      <td>5.3</td>\n",
       "      <td>구름많음/안개/눈</td>\n",
       "    </tr>\n",
       "    <tr>\n",
       "      <th>140</th>\n",
       "      <td>서울</td>\n",
       "      <td>2013-12-19</td>\n",
       "      <td>thur</td>\n",
       "      <td>-3.5</td>\n",
       "      <td>-0.9</td>\n",
       "      <td>-6.5</td>\n",
       "      <td>0.3</td>\n",
       "      <td>0.9</td>\n",
       "      <td>4.1</td>\n",
       "      <td>61</td>\n",
       "      <td>7.5</td>\n",
       "      <td>5.7</td>\n",
       "      <td>구름많음/눈</td>\n",
       "    </tr>\n",
       "    <tr>\n",
       "      <th>141</th>\n",
       "      <td>서울</td>\n",
       "      <td>2013-12-20</td>\n",
       "      <td>fri</td>\n",
       "      <td>-4.0</td>\n",
       "      <td>-0.1</td>\n",
       "      <td>-8.1</td>\n",
       "      <td>0</td>\n",
       "      <td>0</td>\n",
       "      <td>2.6</td>\n",
       "      <td>56</td>\n",
       "      <td>3.8</td>\n",
       "      <td>8.1</td>\n",
       "      <td>구름조금/안개</td>\n",
       "    </tr>\n",
       "    <tr>\n",
       "      <th>142</th>\n",
       "      <td>서울</td>\n",
       "      <td>2013-12-21</td>\n",
       "      <td>sat</td>\n",
       "      <td>-3.1</td>\n",
       "      <td>0.9</td>\n",
       "      <td>-6.3</td>\n",
       "      <td>-</td>\n",
       "      <td>-</td>\n",
       "      <td>1.9</td>\n",
       "      <td>56</td>\n",
       "      <td>0.0</td>\n",
       "      <td>8.3</td>\n",
       "      <td>맑음/안개</td>\n",
       "    </tr>\n",
       "    <tr>\n",
       "      <th>143</th>\n",
       "      <td>서울</td>\n",
       "      <td>2013-12-22</td>\n",
       "      <td>sun</td>\n",
       "      <td>-2.1</td>\n",
       "      <td>3.1</td>\n",
       "      <td>-6.8</td>\n",
       "      <td>-</td>\n",
       "      <td>-</td>\n",
       "      <td>2.0</td>\n",
       "      <td>57</td>\n",
       "      <td>3.1</td>\n",
       "      <td>7.5</td>\n",
       "      <td>구름조금/안개</td>\n",
       "    </tr>\n",
       "    <tr>\n",
       "      <th>144</th>\n",
       "      <td>서울</td>\n",
       "      <td>2013-12-23</td>\n",
       "      <td>mon</td>\n",
       "      <td>-1.1</td>\n",
       "      <td>2.3</td>\n",
       "      <td>-3.7</td>\n",
       "      <td>-</td>\n",
       "      <td>-</td>\n",
       "      <td>2.1</td>\n",
       "      <td>56</td>\n",
       "      <td>2.5</td>\n",
       "      <td>8.5</td>\n",
       "      <td>구름조금/안개</td>\n",
       "    </tr>\n",
       "    <tr>\n",
       "      <th>145</th>\n",
       "      <td>서울</td>\n",
       "      <td>2013-12-24</td>\n",
       "      <td>tue</td>\n",
       "      <td>-1.6</td>\n",
       "      <td>4.0</td>\n",
       "      <td>-5.9</td>\n",
       "      <td>-</td>\n",
       "      <td>-</td>\n",
       "      <td>1.8</td>\n",
       "      <td>57</td>\n",
       "      <td>0.0</td>\n",
       "      <td>8.6</td>\n",
       "      <td>맑음/안개</td>\n",
       "    </tr>\n",
       "    <tr>\n",
       "      <th>146</th>\n",
       "      <td>서울</td>\n",
       "      <td>2013-12-25</td>\n",
       "      <td>wed</td>\n",
       "      <td>-0.5</td>\n",
       "      <td>3.7</td>\n",
       "      <td>-4.4</td>\n",
       "      <td>-</td>\n",
       "      <td>-</td>\n",
       "      <td>1.7</td>\n",
       "      <td>60</td>\n",
       "      <td>3.8</td>\n",
       "      <td>7.8</td>\n",
       "      <td>구름조금/안개</td>\n",
       "    </tr>\n",
       "    <tr>\n",
       "      <th>147</th>\n",
       "      <td>서울</td>\n",
       "      <td>2013-12-26</td>\n",
       "      <td>thur</td>\n",
       "      <td>-0.5</td>\n",
       "      <td>2.7</td>\n",
       "      <td>-4.0</td>\n",
       "      <td>1.6</td>\n",
       "      <td>1.7</td>\n",
       "      <td>2.8</td>\n",
       "      <td>67</td>\n",
       "      <td>7.5</td>\n",
       "      <td>0.9</td>\n",
       "      <td>구름많음/안개/눈</td>\n",
       "    </tr>\n",
       "    <tr>\n",
       "      <th>148</th>\n",
       "      <td>서울</td>\n",
       "      <td>2013-12-27</td>\n",
       "      <td>fri</td>\n",
       "      <td>-6.8</td>\n",
       "      <td>-3.7</td>\n",
       "      <td>-9.3</td>\n",
       "      <td>-</td>\n",
       "      <td>-</td>\n",
       "      <td>3.4</td>\n",
       "      <td>50</td>\n",
       "      <td>0.0</td>\n",
       "      <td>8.6</td>\n",
       "      <td>맑음/안개</td>\n",
       "    </tr>\n",
       "    <tr>\n",
       "      <th>149</th>\n",
       "      <td>서울</td>\n",
       "      <td>2013-12-28</td>\n",
       "      <td>sat</td>\n",
       "      <td>-6.5</td>\n",
       "      <td>-2.7</td>\n",
       "      <td>-9.8</td>\n",
       "      <td>-</td>\n",
       "      <td>-</td>\n",
       "      <td>2.4</td>\n",
       "      <td>44</td>\n",
       "      <td>0.5</td>\n",
       "      <td>9.0</td>\n",
       "      <td>맑음</td>\n",
       "    </tr>\n",
       "    <tr>\n",
       "      <th>150</th>\n",
       "      <td>서울</td>\n",
       "      <td>2013-12-29</td>\n",
       "      <td>sun</td>\n",
       "      <td>-2.9</td>\n",
       "      <td>1.6</td>\n",
       "      <td>-8.0</td>\n",
       "      <td>0.1</td>\n",
       "      <td>0.1</td>\n",
       "      <td>2.1</td>\n",
       "      <td>58</td>\n",
       "      <td>3.9</td>\n",
       "      <td>8.0</td>\n",
       "      <td>구름조금/안개/눈</td>\n",
       "    </tr>\n",
       "    <tr>\n",
       "      <th>151</th>\n",
       "      <td>서울</td>\n",
       "      <td>2013-12-30</td>\n",
       "      <td>mon</td>\n",
       "      <td>2.2</td>\n",
       "      <td>6.3</td>\n",
       "      <td>-1.9</td>\n",
       "      <td>-</td>\n",
       "      <td>-</td>\n",
       "      <td>2.9</td>\n",
       "      <td>55</td>\n",
       "      <td>1.1</td>\n",
       "      <td>7.2</td>\n",
       "      <td>맑음/안개</td>\n",
       "    </tr>\n",
       "    <tr>\n",
       "      <th>152</th>\n",
       "      <td>서울</td>\n",
       "      <td>2013-12-31</td>\n",
       "      <td>tue</td>\n",
       "      <td>3.8</td>\n",
       "      <td>8.0</td>\n",
       "      <td>0.5</td>\n",
       "      <td>-</td>\n",
       "      <td>-</td>\n",
       "      <td>3.5</td>\n",
       "      <td>58</td>\n",
       "      <td>3.0</td>\n",
       "      <td>7.9</td>\n",
       "      <td>구름조금/안개</td>\n",
       "    </tr>\n",
       "  </tbody>\n",
       "</table>\n",
       "<p>153 rows × 13 columns</p>\n",
       "</div>"
      ],
      "text/plain": [
       "     지역       date weekDay   일평균  highestTemp  lowestTemp precipitation snow  \\\n",
       "0    서울 2013-08-01    thur  28.0         32.1        24.5             -    -   \n",
       "1    서울 2013-08-02     fri  27.4         29.3        25.2           7.5    -   \n",
       "2    서울 2013-08-03     sat  28.9         32.6        26.7           0.1    -   \n",
       "3    서울 2013-08-04     sun  28.3         31.3        26.4           4.5    -   \n",
       "4    서울 2013-08-05     mon  27.7         30.1        26.4             7    -   \n",
       "5    서울 2013-08-06     tue  26.4         27.6        23.0            45    -   \n",
       "6    서울 2013-08-07     wed  28.7         32.1        25.0             -    -   \n",
       "7    서울 2013-08-08    thur  29.3         32.8        27.3             -    -   \n",
       "8    서울 2013-08-09     fri  29.2         30.8        27.9             0    -   \n",
       "9    서울 2013-08-10     sat  28.0         29.4        25.8             2    -   \n",
       "10   서울 2013-08-11     sun  28.7         33.2        24.2             -    -   \n",
       "11   서울 2013-08-12     mon  29.3         32.6        27.1             -    -   \n",
       "12   서울 2013-08-13     tue  29.0         32.9        26.6             -    -   \n",
       "13   서울 2013-08-14     wed  28.6         32.0        26.2             -    -   \n",
       "14   서울 2013-08-15    thur  28.7         32.4        25.8             0    -   \n",
       "15   서울 2013-08-16     fri  28.7         31.7        26.1           4.5    -   \n",
       "16   서울 2013-08-17     sat  28.7         31.6        27.1             -    -   \n",
       "17   서울 2013-08-18     sun  28.3         31.5        26.0            13    -   \n",
       "18   서울 2013-08-19     mon  28.2         32.3        25.7             6    -   \n",
       "19   서울 2013-08-20     tue  27.4         32.3        23.0             -    -   \n",
       "20   서울 2013-08-21     wed  28.8         33.9        24.2             -    -   \n",
       "21   서울 2013-08-22    thur  29.3         32.3        26.3             0    -   \n",
       "22   서울 2013-08-23     fri  25.7         28.7        23.7            35    -   \n",
       "23   서울 2013-08-24     sat  26.6         31.5        21.9             -    -   \n",
       "24   서울 2013-08-25     sun  27.1         32.1        22.0             -    -   \n",
       "25   서울 2013-08-26     mon  27.0         31.6        22.8             -    -   \n",
       "26   서울 2013-08-27     tue  25.6         29.3        22.5             -    -   \n",
       "27   서울 2013-08-28     wed  26.4         30.8        22.7             -    -   \n",
       "28   서울 2013-08-29    thur  25.5         26.7        24.5          21.5    -   \n",
       "29   서울 2013-08-30     fri  25.1         28.3        22.3             -    -   \n",
       "..   ..        ...     ...   ...          ...         ...           ...  ...   \n",
       "123  서울 2013-12-02     mon   3.9          6.6         0.1             0    -   \n",
       "124  서울 2013-12-03     tue   6.7          9.9         4.5             -    -   \n",
       "125  서울 2013-12-04     wed   5.5          9.6         2.1             -    -   \n",
       "126  서울 2013-12-05    thur   5.5          9.0         2.1             -    -   \n",
       "127  서울 2013-12-06     fri   3.0          7.0        -0.7             0    -   \n",
       "128  서울 2013-12-07     sat   6.2         11.0         3.8           0.1    -   \n",
       "129  서울 2013-12-08     sun   4.2          6.5         2.5             0    -   \n",
       "130  서울 2013-12-09     mon   3.8          5.2         1.9            14    -   \n",
       "131  서울 2013-12-10     tue   0.3          3.5        -2.2             -    -   \n",
       "132  서울 2013-12-11     wed  -1.7          0.2        -4.3           2.6  3.3   \n",
       "133  서울 2013-12-12    thur  -3.2          0.3        -6.3           4.1  4.4   \n",
       "134  서울 2013-12-13     fri  -6.8         -4.3        -8.9             -    -   \n",
       "135  서울 2013-12-14     sat  -4.9         -1.4        -8.5           1.1  0.8   \n",
       "136  서울 2013-12-15     sun  -4.4          0.7        -8.0             -    -   \n",
       "137  서울 2013-12-16     mon  -3.6          0.5        -7.3             -    -   \n",
       "138  서울 2013-12-17     tue  -0.3          4.7        -5.5             -    -   \n",
       "139  서울 2013-12-18     wed   2.2          6.5        -0.9           0.8  1.9   \n",
       "140  서울 2013-12-19    thur  -3.5         -0.9        -6.5           0.3  0.9   \n",
       "141  서울 2013-12-20     fri  -4.0         -0.1        -8.1             0    0   \n",
       "142  서울 2013-12-21     sat  -3.1          0.9        -6.3             -    -   \n",
       "143  서울 2013-12-22     sun  -2.1          3.1        -6.8             -    -   \n",
       "144  서울 2013-12-23     mon  -1.1          2.3        -3.7             -    -   \n",
       "145  서울 2013-12-24     tue  -1.6          4.0        -5.9             -    -   \n",
       "146  서울 2013-12-25     wed  -0.5          3.7        -4.4             -    -   \n",
       "147  서울 2013-12-26    thur  -0.5          2.7        -4.0           1.6  1.7   \n",
       "148  서울 2013-12-27     fri  -6.8         -3.7        -9.3             -    -   \n",
       "149  서울 2013-12-28     sat  -6.5         -2.7        -9.8             -    -   \n",
       "150  서울 2013-12-29     sun  -2.9          1.6        -8.0           0.1  0.1   \n",
       "151  서울 2013-12-30     mon   2.2          6.3        -1.9             -    -   \n",
       "152  서울 2013-12-31     tue   3.8          8.0         0.5             -    -   \n",
       "\n",
       "     windSpeed  humidity  cloud  dayTime         weather  \n",
       "0          1.8        66    7.1      6.0            구름많음  \n",
       "1          2.1        79    9.1      0.9         흐림/안개/비  \n",
       "2          3.6        72    8.1      8.9          흐림/소나기  \n",
       "3          2.5        76    8.0      4.7       흐림/소나기/안개  \n",
       "4          3.3        78    7.0      4.5  구름많음/안개/천둥번개/비  \n",
       "5          2.3        81    6.6      2.8  구름많음/안개/천둥번개/비  \n",
       "6          2.2        73    7.5      1.3            구름많음  \n",
       "7          3.9        73    7.4      5.0         구름많음/안개  \n",
       "8          4.0        79    9.9      0.1           흐림/안개  \n",
       "9          2.3        81    7.1      2.6  구름많음/안개/천둥번개/비  \n",
       "10         2.2        72    5.8      9.6         구름많음/안개  \n",
       "11         2.9        69    5.2     10.7            구름많음  \n",
       "12         2.9        66    4.8     11.5            구름조금  \n",
       "13         2.7        66    5.0      9.9            구름많음  \n",
       "14         3.2        71    6.6      7.9        구름많음/소나기  \n",
       "15         3.8        71    7.5      7.2        구름많음/소나기  \n",
       "16         5.0        69    7.5      6.9            구름많음  \n",
       "17         4.1        72    9.8      2.8         흐림/안개/비  \n",
       "18         2.6        69    4.9      9.7       구름조금/안개/비  \n",
       "19         1.8        62    3.0     10.6            구름조금  \n",
       "20         2.4        55    3.8     11.6            구름조금  \n",
       "21         2.4        58    6.8      8.8            구름많음  \n",
       "22         2.4        78    8.2      1.0         흐림/안개/비  \n",
       "23         1.8        61    2.4     10.9            구름조금  \n",
       "24         1.7        53    4.1     12.0            구름조금  \n",
       "25         2.4        55    1.6     12.1              맑음  \n",
       "26         2.5        61    2.4     11.5         구름조금/안개  \n",
       "27         2.9        59    5.4      9.7         구름많음/안개  \n",
       "28         4.2        78    9.4      0.0    흐림/안개/천둥번개/비  \n",
       "29         3.4        69    5.1     10.7            구름많음  \n",
       "..         ...       ...    ...      ...             ...  \n",
       "123        1.5        64    8.6      0.0           흐림/안개  \n",
       "124        1.6        61    4.1      6.9         구름조금/안개  \n",
       "125        1.8        73    2.1      6.9         구름조금/안개  \n",
       "126        2.5        74    6.8      0.3         구름많음/안개  \n",
       "127        2.7        42    3.0      9.0            구름조금  \n",
       "128        1.9        60    4.8      5.6          구름조금/비  \n",
       "129        2.8        74    5.8      0.3         구름많음/안개  \n",
       "130        3.2        83   10.0      0.0            흐림/비  \n",
       "131        3.1        57    2.8      8.7         구름조금/안개  \n",
       "132        4.0        63    5.0      8.3          구름많음/눈  \n",
       "133        2.7        69    5.5      1.8  구름많음/안개/천둥번개/눈  \n",
       "134        2.5        47    1.8      8.6              맑음  \n",
       "135        1.5        64    3.6      4.7       구름조금/안개/눈  \n",
       "136        1.9        47    0.1      9.0              맑음  \n",
       "137        1.8        52    5.6      1.8         구름많음/안개  \n",
       "138        1.5        50    7.2      5.0         구름많음/안개  \n",
       "139        2.5        64    6.5      5.3       구름많음/안개/눈  \n",
       "140        4.1        61    7.5      5.7          구름많음/눈  \n",
       "141        2.6        56    3.8      8.1         구름조금/안개  \n",
       "142        1.9        56    0.0      8.3           맑음/안개  \n",
       "143        2.0        57    3.1      7.5         구름조금/안개  \n",
       "144        2.1        56    2.5      8.5         구름조금/안개  \n",
       "145        1.8        57    0.0      8.6           맑음/안개  \n",
       "146        1.7        60    3.8      7.8         구름조금/안개  \n",
       "147        2.8        67    7.5      0.9       구름많음/안개/눈  \n",
       "148        3.4        50    0.0      8.6           맑음/안개  \n",
       "149        2.4        44    0.5      9.0              맑음  \n",
       "150        2.1        58    3.9      8.0       구름조금/안개/눈  \n",
       "151        2.9        55    1.1      7.2           맑음/안개  \n",
       "152        3.5        58    3.0      7.9         구름조금/안개  \n",
       "\n",
       "[153 rows x 13 columns]"
      ]
     },
     "execution_count": 48,
     "metadata": {},
     "output_type": "execute_result"
    }
   ],
   "source": [
    "list(지역별연도별)[0]"
   ]
  },
  {
   "cell_type": "code",
   "execution_count": 50,
   "metadata": {
    "collapsed": false
   },
   "outputs": [
    {
     "name": "stdout",
     "output_type": "stream",
     "text": [
      "('서울', 2013), 크기:153\n",
      "('서울', 2014), 크기:365\n",
      "('서울', 2015), 크기:212\n",
      "('수원', 2013), 크기:153\n",
      "('수원', 2014), 크기:365\n",
      "('수원', 2015), 크기:212\n"
     ]
    }
   ],
   "source": [
    "for 그룹명, 그룹 in 지역별연도별:\n",
    "    print('{}, 크기:{}'.format(그룹명, len(그룹)))"
   ]
  },
  {
   "cell_type": "markdown",
   "metadata": {},
   "source": [
    "### 함수로 묶기\n",
    "\n",
    "* 함수는 색인에 대해 적용됩니다."
   ]
  },
  {
   "cell_type": "code",
   "execution_count": 51,
   "metadata": {
    "collapsed": true
   },
   "outputs": [],
   "source": [
    "식당 = 식당.set_index('date')"
   ]
  },
  {
   "cell_type": "markdown",
   "metadata": {},
   "source": [
    "월별로 묶기"
   ]
  },
  {
   "cell_type": "code",
   "execution_count": 60,
   "metadata": {
    "collapsed": false
   },
   "outputs": [],
   "source": [
    "분류방법 = lambda 날짜: '{}-{:02d}'.format(날짜.year, 날짜.month)\n",
    "월별 = 식당.groupby(분류방법)"
   ]
  },
  {
   "cell_type": "code",
   "execution_count": 61,
   "metadata": {
    "collapsed": false
   },
   "outputs": [
    {
     "data": {
      "text/plain": [
       "2013-08    253.843972\n",
       "2013-09    249.778723\n",
       "2013-10    237.687919\n",
       "Name: 주문수량, dtype: float64"
      ]
     },
     "execution_count": 61,
     "metadata": {},
     "output_type": "execute_result"
    }
   ],
   "source": [
    "월별['주문수량'].mean()[:3]"
   ]
  },
  {
   "cell_type": "markdown",
   "metadata": {},
   "source": [
    "#### 연습\n",
    "\n",
    "식당 주문 기록의 월별 코너별 주문수량 평균 집계"
   ]
  },
  {
   "cell_type": "code",
   "execution_count": 92,
   "metadata": {
    "collapsed": true
   },
   "outputs": [],
   "source": [
    "def 월간코너(색인):\n",
    "    날짜, 코너 = 색인    \n",
    "    월 = '{}-{:02d}'.format(날짜.year, 날짜.month)\n",
    "    return 월, 코너"
   ]
  },
  {
   "cell_type": "code",
   "execution_count": 70,
   "metadata": {
    "collapsed": true
   },
   "outputs": [
    {
     "data": {
      "text/html": [
       "<div>\n",
       "<table border=\"1\" class=\"dataframe\">\n",
       "  <thead>\n",
       "    <tr style=\"text-align: right;\">\n",
       "      <th></th>\n",
       "      <th>주문수량</th>\n",
       "    </tr>\n",
       "  </thead>\n",
       "  <tbody>\n",
       "    <tr>\n",
       "      <th>(2013-08, after school)</th>\n",
       "      <td>154.333333</td>\n",
       "    </tr>\n",
       "    <tr>\n",
       "      <th>(2013-08, burger&amp;pizza)</th>\n",
       "      <td>188.352941</td>\n",
       "    </tr>\n",
       "    <tr>\n",
       "      <th>(2013-08, grill &amp; fry)</th>\n",
       "      <td>299.565217</td>\n",
       "    </tr>\n",
       "    <tr>\n",
       "      <th>(2013-08, noodle bar)</th>\n",
       "      <td>221.695652</td>\n",
       "    </tr>\n",
       "    <tr>\n",
       "      <th>(2013-08, rice &amp; soup 1)</th>\n",
       "      <td>330.976190</td>\n",
       "    </tr>\n",
       "    <tr>\n",
       "      <th>(2013-08, take out)</th>\n",
       "      <td>230.600000</td>\n",
       "    </tr>\n",
       "    <tr>\n",
       "      <th>(2013-09, after school)</th>\n",
       "      <td>152.138889</td>\n",
       "    </tr>\n",
       "    <tr>\n",
       "      <th>(2013-09, burger&amp;pizza)</th>\n",
       "      <td>156.700000</td>\n",
       "    </tr>\n",
       "    <tr>\n",
       "      <th>(2013-09, grill &amp; fry)</th>\n",
       "      <td>327.096774</td>\n",
       "    </tr>\n",
       "    <tr>\n",
       "      <th>(2013-09, noodle bar)</th>\n",
       "      <td>224.419355</td>\n",
       "    </tr>\n",
       "    <tr>\n",
       "      <th>(2013-09, rice &amp; soup 1)</th>\n",
       "      <td>341.907407</td>\n",
       "    </tr>\n",
       "    <tr>\n",
       "      <th>(2013-09, take out)</th>\n",
       "      <td>244.528302</td>\n",
       "    </tr>\n",
       "    <tr>\n",
       "      <th>(2013-10, after school)</th>\n",
       "      <td>157.190476</td>\n",
       "    </tr>\n",
       "    <tr>\n",
       "      <th>(2013-10, burger&amp;pizza)</th>\n",
       "      <td>139.047619</td>\n",
       "    </tr>\n",
       "    <tr>\n",
       "      <th>(2013-10, grill &amp; fry)</th>\n",
       "      <td>266.571429</td>\n",
       "    </tr>\n",
       "    <tr>\n",
       "      <th>(2013-10, noodle bar)</th>\n",
       "      <td>214.023810</td>\n",
       "    </tr>\n",
       "    <tr>\n",
       "      <th>(2013-10, rice &amp; soup 1)</th>\n",
       "      <td>329.539683</td>\n",
       "    </tr>\n",
       "    <tr>\n",
       "      <th>(2013-10, take out)</th>\n",
       "      <td>260.343284</td>\n",
       "    </tr>\n",
       "    <tr>\n",
       "      <th>(2013-11, after school)</th>\n",
       "      <td>174.476190</td>\n",
       "    </tr>\n",
       "    <tr>\n",
       "      <th>(2013-11, burger&amp;pizza)</th>\n",
       "      <td>146.452381</td>\n",
       "    </tr>\n",
       "    <tr>\n",
       "      <th>(2013-11, grill &amp; fry)</th>\n",
       "      <td>249.619048</td>\n",
       "    </tr>\n",
       "    <tr>\n",
       "      <th>(2013-11, noodle bar)</th>\n",
       "      <td>209.309524</td>\n",
       "    </tr>\n",
       "    <tr>\n",
       "      <th>(2013-11, rice &amp; soup 1)</th>\n",
       "      <td>322.619048</td>\n",
       "    </tr>\n",
       "    <tr>\n",
       "      <th>(2013-11, take out)</th>\n",
       "      <td>267.692308</td>\n",
       "    </tr>\n",
       "    <tr>\n",
       "      <th>(2013-12, after school)</th>\n",
       "      <td>159.452381</td>\n",
       "    </tr>\n",
       "    <tr>\n",
       "      <th>(2013-12, burger&amp;pizza)</th>\n",
       "      <td>132.571429</td>\n",
       "    </tr>\n",
       "    <tr>\n",
       "      <th>(2013-12, grill &amp; fry)</th>\n",
       "      <td>199.547619</td>\n",
       "    </tr>\n",
       "    <tr>\n",
       "      <th>(2013-12, noodle bar)</th>\n",
       "      <td>186.476190</td>\n",
       "    </tr>\n",
       "    <tr>\n",
       "      <th>(2013-12, rice &amp; soup 1)</th>\n",
       "      <td>295.984127</td>\n",
       "    </tr>\n",
       "    <tr>\n",
       "      <th>(2013-12, take out)</th>\n",
       "      <td>233.619048</td>\n",
       "    </tr>\n",
       "    <tr>\n",
       "      <th>...</th>\n",
       "      <td>...</td>\n",
       "    </tr>\n",
       "    <tr>\n",
       "      <th>(2015-03, rice &amp; soup 2)</th>\n",
       "      <td>252.142857</td>\n",
       "    </tr>\n",
       "    <tr>\n",
       "      <th>(2015-03, take out)</th>\n",
       "      <td>147.969231</td>\n",
       "    </tr>\n",
       "    <tr>\n",
       "      <th>(2015-04, after school)</th>\n",
       "      <td>115.804878</td>\n",
       "    </tr>\n",
       "    <tr>\n",
       "      <th>(2015-04, burger&amp;pizza)</th>\n",
       "      <td>134.951220</td>\n",
       "    </tr>\n",
       "    <tr>\n",
       "      <th>(2015-04, grill &amp; fry)</th>\n",
       "      <td>216.219512</td>\n",
       "    </tr>\n",
       "    <tr>\n",
       "      <th>(2015-04, noodle bar)</th>\n",
       "      <td>170.390244</td>\n",
       "    </tr>\n",
       "    <tr>\n",
       "      <th>(2015-04, rice &amp; soup 1)</th>\n",
       "      <td>173.161290</td>\n",
       "    </tr>\n",
       "    <tr>\n",
       "      <th>(2015-04, rice &amp; soup 2)</th>\n",
       "      <td>235.450000</td>\n",
       "    </tr>\n",
       "    <tr>\n",
       "      <th>(2015-04, take out)</th>\n",
       "      <td>153.225806</td>\n",
       "    </tr>\n",
       "    <tr>\n",
       "      <th>(2015-05, after school)</th>\n",
       "      <td>122.454545</td>\n",
       "    </tr>\n",
       "    <tr>\n",
       "      <th>(2015-05, burger&amp;pizza)</th>\n",
       "      <td>127.375000</td>\n",
       "    </tr>\n",
       "    <tr>\n",
       "      <th>(2015-05, grill &amp; fry)</th>\n",
       "      <td>217.454545</td>\n",
       "    </tr>\n",
       "    <tr>\n",
       "      <th>(2015-05, noodle bar)</th>\n",
       "      <td>164.617647</td>\n",
       "    </tr>\n",
       "    <tr>\n",
       "      <th>(2015-05, rice &amp; soup 1)</th>\n",
       "      <td>179.038462</td>\n",
       "    </tr>\n",
       "    <tr>\n",
       "      <th>(2015-05, rice &amp; soup 2)</th>\n",
       "      <td>220.823529</td>\n",
       "    </tr>\n",
       "    <tr>\n",
       "      <th>(2015-05, take out)</th>\n",
       "      <td>146.433962</td>\n",
       "    </tr>\n",
       "    <tr>\n",
       "      <th>(2015-06, after school)</th>\n",
       "      <td>123.500000</td>\n",
       "    </tr>\n",
       "    <tr>\n",
       "      <th>(2015-06, burger&amp;pizza)</th>\n",
       "      <td>131.477273</td>\n",
       "    </tr>\n",
       "    <tr>\n",
       "      <th>(2015-06, grill &amp; fry)</th>\n",
       "      <td>210.232558</td>\n",
       "    </tr>\n",
       "    <tr>\n",
       "      <th>(2015-06, noodle bar)</th>\n",
       "      <td>171.511628</td>\n",
       "    </tr>\n",
       "    <tr>\n",
       "      <th>(2015-06, rice &amp; soup 1)</th>\n",
       "      <td>173.545455</td>\n",
       "    </tr>\n",
       "    <tr>\n",
       "      <th>(2015-06, rice &amp; soup 2)</th>\n",
       "      <td>264.954545</td>\n",
       "    </tr>\n",
       "    <tr>\n",
       "      <th>(2015-06, take out)</th>\n",
       "      <td>161.439394</td>\n",
       "    </tr>\n",
       "    <tr>\n",
       "      <th>(2015-07, after school)</th>\n",
       "      <td>116.583333</td>\n",
       "    </tr>\n",
       "    <tr>\n",
       "      <th>(2015-07, burger&amp;pizza)</th>\n",
       "      <td>138.805556</td>\n",
       "    </tr>\n",
       "    <tr>\n",
       "      <th>(2015-07, grill &amp; fry)</th>\n",
       "      <td>210.972222</td>\n",
       "    </tr>\n",
       "    <tr>\n",
       "      <th>(2015-07, noodle bar)</th>\n",
       "      <td>178.722222</td>\n",
       "    </tr>\n",
       "    <tr>\n",
       "      <th>(2015-07, rice &amp; soup 1)</th>\n",
       "      <td>183.236364</td>\n",
       "    </tr>\n",
       "    <tr>\n",
       "      <th>(2015-07, rice &amp; soup 2)</th>\n",
       "      <td>241.722222</td>\n",
       "    </tr>\n",
       "    <tr>\n",
       "      <th>(2015-07, take out)</th>\n",
       "      <td>161.945455</td>\n",
       "    </tr>\n",
       "  </tbody>\n",
       "</table>\n",
       "<p>162 rows × 1 columns</p>\n",
       "</div>"
      ],
      "text/plain": [
       "                                주문수량\n",
       "(2013-08, after school)   154.333333\n",
       "(2013-08, burger&pizza)   188.352941\n",
       "(2013-08, grill & fry)    299.565217\n",
       "(2013-08, noodle bar)     221.695652\n",
       "(2013-08, rice & soup 1)  330.976190\n",
       "(2013-08, take out)       230.600000\n",
       "(2013-09, after school)   152.138889\n",
       "(2013-09, burger&pizza)   156.700000\n",
       "(2013-09, grill & fry)    327.096774\n",
       "(2013-09, noodle bar)     224.419355\n",
       "(2013-09, rice & soup 1)  341.907407\n",
       "(2013-09, take out)       244.528302\n",
       "(2013-10, after school)   157.190476\n",
       "(2013-10, burger&pizza)   139.047619\n",
       "(2013-10, grill & fry)    266.571429\n",
       "(2013-10, noodle bar)     214.023810\n",
       "(2013-10, rice & soup 1)  329.539683\n",
       "(2013-10, take out)       260.343284\n",
       "(2013-11, after school)   174.476190\n",
       "(2013-11, burger&pizza)   146.452381\n",
       "(2013-11, grill & fry)    249.619048\n",
       "(2013-11, noodle bar)     209.309524\n",
       "(2013-11, rice & soup 1)  322.619048\n",
       "(2013-11, take out)       267.692308\n",
       "(2013-12, after school)   159.452381\n",
       "(2013-12, burger&pizza)   132.571429\n",
       "(2013-12, grill & fry)    199.547619\n",
       "(2013-12, noodle bar)     186.476190\n",
       "(2013-12, rice & soup 1)  295.984127\n",
       "(2013-12, take out)       233.619048\n",
       "...                              ...\n",
       "(2015-03, rice & soup 2)  252.142857\n",
       "(2015-03, take out)       147.969231\n",
       "(2015-04, after school)   115.804878\n",
       "(2015-04, burger&pizza)   134.951220\n",
       "(2015-04, grill & fry)    216.219512\n",
       "(2015-04, noodle bar)     170.390244\n",
       "(2015-04, rice & soup 1)  173.161290\n",
       "(2015-04, rice & soup 2)  235.450000\n",
       "(2015-04, take out)       153.225806\n",
       "(2015-05, after school)   122.454545\n",
       "(2015-05, burger&pizza)   127.375000\n",
       "(2015-05, grill & fry)    217.454545\n",
       "(2015-05, noodle bar)     164.617647\n",
       "(2015-05, rice & soup 1)  179.038462\n",
       "(2015-05, rice & soup 2)  220.823529\n",
       "(2015-05, take out)       146.433962\n",
       "(2015-06, after school)   123.500000\n",
       "(2015-06, burger&pizza)   131.477273\n",
       "(2015-06, grill & fry)    210.232558\n",
       "(2015-06, noodle bar)     171.511628\n",
       "(2015-06, rice & soup 1)  173.545455\n",
       "(2015-06, rice & soup 2)  264.954545\n",
       "(2015-06, take out)       161.439394\n",
       "(2015-07, after school)   116.583333\n",
       "(2015-07, burger&pizza)   138.805556\n",
       "(2015-07, grill & fry)    210.972222\n",
       "(2015-07, noodle bar)     178.722222\n",
       "(2015-07, rice & soup 1)  183.236364\n",
       "(2015-07, rice & soup 2)  241.722222\n",
       "(2015-07, take out)       161.945455\n",
       "\n",
       "[162 rows x 1 columns]"
      ]
     },
     "execution_count": 70,
     "metadata": {},
     "output_type": "execute_result"
    }
   ],
   "source": [
    "프레임 = 식당.set_index('코너', append=True)\n",
    "프레임.groupby(월간코너)[['주문수량']].mean()"
   ]
  },
  {
   "cell_type": "markdown",
   "metadata": {},
   "source": [
    "## 분류별 집계"
   ]
  },
  {
   "cell_type": "code",
   "execution_count": 81,
   "metadata": {
    "collapsed": true
   },
   "outputs": [
    {
     "ename": "TypeError",
     "evalue": "'str' object does not support item assignment",
     "output_type": "error",
     "traceback": [
      "\u001b[0;31m---------------------------------------------------------------------------\u001b[0m",
      "\u001b[0;31mTypeError\u001b[0m                                 Traceback (most recent call last)",
      "\u001b[0;32m<ipython-input-81-eb395154073c>\u001b[0m in \u001b[0;36m<module>\u001b[0;34m()\u001b[0m\n\u001b[1;32m      1\u001b[0m \u001b[1;32mfor\u001b[0m \u001b[0m연도\u001b[0m\u001b[1;33m,\u001b[0m \u001b[0m프레임\u001b[0m \u001b[1;32min\u001b[0m \u001b[0mzip\u001b[0m\u001b[1;33m(\u001b[0m\u001b[0mrange\u001b[0m\u001b[1;33m(\u001b[0m\u001b[1;36m2013\u001b[0m\u001b[1;33m,\u001b[0m \u001b[1;36m2016\u001b[0m\u001b[1;33m)\u001b[0m\u001b[1;33m,\u001b[0m \u001b[0mNC시즌\u001b[0m\u001b[1;33m)\u001b[0m\u001b[1;33m:\u001b[0m\u001b[1;33m\u001b[0m\u001b[0m\n\u001b[0;32m----> 2\u001b[0;31m     \u001b[0m프레임\u001b[0m\u001b[1;33m[\u001b[0m\u001b[1;34m'시즌'\u001b[0m\u001b[1;33m]\u001b[0m \u001b[1;33m=\u001b[0m \u001b[0m연도\u001b[0m\u001b[1;33m\u001b[0m\u001b[0m\n\u001b[0m",
      "\u001b[0;31mTypeError\u001b[0m: 'str' object does not support item assignment"
     ]
    }
   ],
   "source": [
    "for 연도, 프레임 in zip(range(2013, 2016), NC시즌):\n",
    "    프레임['시즌'] = 연도"
   ]
  },
  {
   "cell_type": "code",
   "execution_count": 73,
   "metadata": {
    "collapsed": false
   },
   "outputs": [],
   "source": [
    "NC시즌 = pd.concat(NC시즌)"
   ]
  },
  {
   "cell_type": "code",
   "execution_count": 75,
   "metadata": {
    "collapsed": true
   },
   "outputs": [],
   "source": [
    "NC시즌 = NC시즌.set_index('시즌', append=True)\n",
    "NC시즌 = NC시즌.swaplevel(0, 1)"
   ]
  },
  {
   "cell_type": "code",
   "execution_count": 77,
   "metadata": {
    "collapsed": true
   },
   "outputs": [],
   "source": [
    "시즌별 = NC시즌.groupby(level='시즌')"
   ]
  },
  {
   "cell_type": "code",
   "execution_count": 82,
   "metadata": {
    "collapsed": true
   },
   "outputs": [
    {
     "data": {
      "text/html": [
       "<div>\n",
       "<table border=\"1\" class=\"dataframe\">\n",
       "  <thead>\n",
       "    <tr style=\"text-align: right;\">\n",
       "      <th></th>\n",
       "      <th></th>\n",
       "      <th>타석</th>\n",
       "      <th>안타</th>\n",
       "      <th>홈런</th>\n",
       "    </tr>\n",
       "    <tr>\n",
       "      <th>시즌</th>\n",
       "      <th></th>\n",
       "      <th></th>\n",
       "      <th></th>\n",
       "      <th></th>\n",
       "    </tr>\n",
       "  </thead>\n",
       "  <tbody>\n",
       "    <tr>\n",
       "      <th rowspan=\"8\" valign=\"top\">2013</th>\n",
       "      <th>count</th>\n",
       "      <td>20.000000</td>\n",
       "      <td>20.000000</td>\n",
       "      <td>20.000000</td>\n",
       "    </tr>\n",
       "    <tr>\n",
       "      <th>mean</th>\n",
       "      <td>177.450000</td>\n",
       "      <td>40.700000</td>\n",
       "      <td>3.150000</td>\n",
       "    </tr>\n",
       "    <tr>\n",
       "      <th>std</th>\n",
       "      <td>197.772723</td>\n",
       "      <td>46.741281</td>\n",
       "      <td>5.659412</td>\n",
       "    </tr>\n",
       "    <tr>\n",
       "      <th>min</th>\n",
       "      <td>1.000000</td>\n",
       "      <td>0.000000</td>\n",
       "      <td>0.000000</td>\n",
       "    </tr>\n",
       "    <tr>\n",
       "      <th>25%</th>\n",
       "      <td>6.500000</td>\n",
       "      <td>1.000000</td>\n",
       "      <td>0.000000</td>\n",
       "    </tr>\n",
       "    <tr>\n",
       "      <th>50%</th>\n",
       "      <td>103.500000</td>\n",
       "      <td>22.500000</td>\n",
       "      <td>0.000000</td>\n",
       "    </tr>\n",
       "    <tr>\n",
       "      <th>75%</th>\n",
       "      <td>373.500000</td>\n",
       "      <td>75.500000</td>\n",
       "      <td>3.250000</td>\n",
       "    </tr>\n",
       "    <tr>\n",
       "      <th>max</th>\n",
       "      <td>546.000000</td>\n",
       "      <td>129.000000</td>\n",
       "      <td>20.000000</td>\n",
       "    </tr>\n",
       "    <tr>\n",
       "      <th rowspan=\"8\" valign=\"top\">2014</th>\n",
       "      <th>count</th>\n",
       "      <td>20.000000</td>\n",
       "      <td>20.000000</td>\n",
       "      <td>20.000000</td>\n",
       "    </tr>\n",
       "    <tr>\n",
       "      <th>mean</th>\n",
       "      <td>203.850000</td>\n",
       "      <td>51.950000</td>\n",
       "      <td>6.950000</td>\n",
       "    </tr>\n",
       "    <tr>\n",
       "      <th>std</th>\n",
       "      <td>222.860654</td>\n",
       "      <td>59.242121</td>\n",
       "      <td>10.937502</td>\n",
       "    </tr>\n",
       "    <tr>\n",
       "      <th>min</th>\n",
       "      <td>1.000000</td>\n",
       "      <td>0.000000</td>\n",
       "      <td>0.000000</td>\n",
       "    </tr>\n",
       "    <tr>\n",
       "      <th>25%</th>\n",
       "      <td>4.500000</td>\n",
       "      <td>0.750000</td>\n",
       "      <td>0.000000</td>\n",
       "    </tr>\n",
       "    <tr>\n",
       "      <th>50%</th>\n",
       "      <td>80.000000</td>\n",
       "      <td>17.000000</td>\n",
       "      <td>1.000000</td>\n",
       "    </tr>\n",
       "    <tr>\n",
       "      <th>75%</th>\n",
       "      <td>473.750000</td>\n",
       "      <td>111.250000</td>\n",
       "      <td>6.250000</td>\n",
       "    </tr>\n",
       "    <tr>\n",
       "      <th>max</th>\n",
       "      <td>536.000000</td>\n",
       "      <td>157.000000</td>\n",
       "      <td>37.000000</td>\n",
       "    </tr>\n",
       "  </tbody>\n",
       "</table>\n",
       "</div>"
      ],
      "text/plain": [
       "                    타석          안타         홈런\n",
       "시즌                                           \n",
       "2013 count   20.000000   20.000000  20.000000\n",
       "     mean   177.450000   40.700000   3.150000\n",
       "     std    197.772723   46.741281   5.659412\n",
       "     min      1.000000    0.000000   0.000000\n",
       "     25%      6.500000    1.000000   0.000000\n",
       "     50%    103.500000   22.500000   0.000000\n",
       "     75%    373.500000   75.500000   3.250000\n",
       "     max    546.000000  129.000000  20.000000\n",
       "2014 count   20.000000   20.000000  20.000000\n",
       "     mean   203.850000   51.950000   6.950000\n",
       "     std    222.860654   59.242121  10.937502\n",
       "     min      1.000000    0.000000   0.000000\n",
       "     25%      4.500000    0.750000   0.000000\n",
       "     50%     80.000000   17.000000   1.000000\n",
       "     75%    473.750000  111.250000   6.250000\n",
       "     max    536.000000  157.000000  37.000000"
      ]
     },
     "execution_count": 82,
     "metadata": {},
     "output_type": "execute_result"
    }
   ],
   "source": [
    "시즌별.describe()"
   ]
  },
  {
   "cell_type": "markdown",
   "metadata": {},
   "source": [
    "사용자 정의 함수"
   ]
  },
  {
   "cell_type": "code",
   "execution_count": 83,
   "metadata": {
    "collapsed": true
   },
   "outputs": [],
   "source": [
    "def 최대최소차(시리즈):\n",
    "    return 시리즈.max() - 시리즈.min()"
   ]
  },
  {
   "cell_type": "code",
   "execution_count": 84,
   "metadata": {
    "collapsed": true
   },
   "outputs": [
    {
     "data": {
      "text/html": [
       "<div>\n",
       "<table border=\"1\" class=\"dataframe\">\n",
       "  <thead>\n",
       "    <tr style=\"text-align: right;\">\n",
       "      <th></th>\n",
       "      <th>타석</th>\n",
       "      <th>안타</th>\n",
       "      <th>홈런</th>\n",
       "    </tr>\n",
       "    <tr>\n",
       "      <th>시즌</th>\n",
       "      <th></th>\n",
       "      <th></th>\n",
       "      <th></th>\n",
       "    </tr>\n",
       "  </thead>\n",
       "  <tbody>\n",
       "    <tr>\n",
       "      <th>2013</th>\n",
       "      <td>545</td>\n",
       "      <td>129</td>\n",
       "      <td>20</td>\n",
       "    </tr>\n",
       "    <tr>\n",
       "      <th>2014</th>\n",
       "      <td>535</td>\n",
       "      <td>157</td>\n",
       "      <td>37</td>\n",
       "    </tr>\n",
       "  </tbody>\n",
       "</table>\n",
       "</div>"
      ],
      "text/plain": [
       "       타석   안타  홈런\n",
       "시즌                \n",
       "2013  545  129  20\n",
       "2014  535  157  37"
      ]
     },
     "execution_count": 84,
     "metadata": {},
     "output_type": "execute_result"
    }
   ],
   "source": [
    "시즌별.agg(최대최소차)"
   ]
  },
  {
   "cell_type": "code",
   "execution_count": 85,
   "metadata": {
    "collapsed": true
   },
   "outputs": [],
   "source": [
    "선수별 = NC시즌.groupby(level='선수명')"
   ]
  },
  {
   "cell_type": "code",
   "execution_count": 86,
   "metadata": {
    "collapsed": true
   },
   "outputs": [
    {
     "data": {
      "text/html": [
       "<div>\n",
       "<table border=\"1\" class=\"dataframe\">\n",
       "  <thead>\n",
       "    <tr style=\"text-align: right;\">\n",
       "      <th></th>\n",
       "      <th>타석</th>\n",
       "      <th>안타</th>\n",
       "      <th>홈런</th>\n",
       "    </tr>\n",
       "    <tr>\n",
       "      <th>선수명</th>\n",
       "      <th></th>\n",
       "      <th></th>\n",
       "      <th></th>\n",
       "    </tr>\n",
       "  </thead>\n",
       "  <tbody>\n",
       "    <tr>\n",
       "      <th>강구성</th>\n",
       "      <td>2</td>\n",
       "      <td>0</td>\n",
       "      <td>0</td>\n",
       "    </tr>\n",
       "    <tr>\n",
       "      <th>강민국</th>\n",
       "      <td>3</td>\n",
       "      <td>0</td>\n",
       "      <td>0</td>\n",
       "    </tr>\n",
       "    <tr>\n",
       "      <th>강진성</th>\n",
       "      <td>3</td>\n",
       "      <td>1</td>\n",
       "      <td>0</td>\n",
       "    </tr>\n",
       "    <tr>\n",
       "      <th>권희동</th>\n",
       "      <td>252</td>\n",
       "      <td>63</td>\n",
       "      <td>7</td>\n",
       "    </tr>\n",
       "    <tr>\n",
       "      <th>김동건</th>\n",
       "      <td>17</td>\n",
       "      <td>2</td>\n",
       "      <td>1</td>\n",
       "    </tr>\n",
       "    <tr>\n",
       "      <th>김성욱</th>\n",
       "      <td>30</td>\n",
       "      <td>5</td>\n",
       "      <td>1</td>\n",
       "    </tr>\n",
       "    <tr>\n",
       "      <th>김종찬</th>\n",
       "      <td>7</td>\n",
       "      <td>1</td>\n",
       "      <td>0</td>\n",
       "    </tr>\n",
       "    <tr>\n",
       "      <th>김종호</th>\n",
       "      <td>546</td>\n",
       "      <td>129</td>\n",
       "      <td>0</td>\n",
       "    </tr>\n",
       "    <tr>\n",
       "      <th>김준완</th>\n",
       "      <td>5</td>\n",
       "      <td>2</td>\n",
       "      <td>0</td>\n",
       "    </tr>\n",
       "    <tr>\n",
       "      <th>김태우</th>\n",
       "      <td>5</td>\n",
       "      <td>1</td>\n",
       "      <td>0</td>\n",
       "    </tr>\n",
       "    <tr>\n",
       "      <th>나성범</th>\n",
       "      <td>994</td>\n",
       "      <td>255</td>\n",
       "      <td>44</td>\n",
       "    </tr>\n",
       "    <tr>\n",
       "      <th>노진혁</th>\n",
       "      <td>16</td>\n",
       "      <td>3</td>\n",
       "      <td>1</td>\n",
       "    </tr>\n",
       "    <tr>\n",
       "      <th>마낙길</th>\n",
       "      <td>33</td>\n",
       "      <td>9</td>\n",
       "      <td>0</td>\n",
       "    </tr>\n",
       "    <tr>\n",
       "      <th>모창민</th>\n",
       "      <td>904</td>\n",
       "      <td>219</td>\n",
       "      <td>28</td>\n",
       "    </tr>\n",
       "    <tr>\n",
       "      <th>박명환*</th>\n",
       "      <td>1</td>\n",
       "      <td>0</td>\n",
       "      <td>0</td>\n",
       "    </tr>\n",
       "    <tr>\n",
       "      <th>박민우</th>\n",
       "      <td>539</td>\n",
       "      <td>135</td>\n",
       "      <td>1</td>\n",
       "    </tr>\n",
       "    <tr>\n",
       "      <th>박정준</th>\n",
       "      <td>195</td>\n",
       "      <td>41</td>\n",
       "      <td>4</td>\n",
       "    </tr>\n",
       "    <tr>\n",
       "      <th>손시헌</th>\n",
       "      <td>361</td>\n",
       "      <td>90</td>\n",
       "      <td>5</td>\n",
       "    </tr>\n",
       "    <tr>\n",
       "      <th>이상호</th>\n",
       "      <td>138</td>\n",
       "      <td>31</td>\n",
       "      <td>0</td>\n",
       "    </tr>\n",
       "    <tr>\n",
       "      <th>이승호</th>\n",
       "      <td>1</td>\n",
       "      <td>0</td>\n",
       "      <td>0</td>\n",
       "    </tr>\n",
       "    <tr>\n",
       "      <th>이종욱</th>\n",
       "      <td>495</td>\n",
       "      <td>126</td>\n",
       "      <td>6</td>\n",
       "    </tr>\n",
       "    <tr>\n",
       "      <th>이창섭</th>\n",
       "      <td>5</td>\n",
       "      <td>0</td>\n",
       "      <td>0</td>\n",
       "    </tr>\n",
       "    <tr>\n",
       "      <th>이현곤</th>\n",
       "      <td>161</td>\n",
       "      <td>38</td>\n",
       "      <td>0</td>\n",
       "    </tr>\n",
       "    <tr>\n",
       "      <th>이호준</th>\n",
       "      <td>1008</td>\n",
       "      <td>238</td>\n",
       "      <td>43</td>\n",
       "    </tr>\n",
       "    <tr>\n",
       "      <th>조영훈</th>\n",
       "      <td>550</td>\n",
       "      <td>136</td>\n",
       "      <td>12</td>\n",
       "    </tr>\n",
       "    <tr>\n",
       "      <th>조평호</th>\n",
       "      <td>88</td>\n",
       "      <td>21</td>\n",
       "      <td>2</td>\n",
       "    </tr>\n",
       "    <tr>\n",
       "      <th>지석훈</th>\n",
       "      <td>594</td>\n",
       "      <td>126</td>\n",
       "      <td>9</td>\n",
       "    </tr>\n",
       "    <tr>\n",
       "      <th>차화준</th>\n",
       "      <td>121</td>\n",
       "      <td>24</td>\n",
       "      <td>1</td>\n",
       "    </tr>\n",
       "    <tr>\n",
       "      <th>최재원</th>\n",
       "      <td>2</td>\n",
       "      <td>0</td>\n",
       "      <td>0</td>\n",
       "    </tr>\n",
       "    <tr>\n",
       "      <th>테임즈</th>\n",
       "      <td>514</td>\n",
       "      <td>152</td>\n",
       "      <td>37</td>\n",
       "    </tr>\n",
       "    <tr>\n",
       "      <th>허준</th>\n",
       "      <td>36</td>\n",
       "      <td>5</td>\n",
       "      <td>0</td>\n",
       "    </tr>\n",
       "  </tbody>\n",
       "</table>\n",
       "</div>"
      ],
      "text/plain": [
       "        타석   안타  홈런\n",
       "선수명                \n",
       "강구성      2    0   0\n",
       "강민국      3    0   0\n",
       "강진성      3    1   0\n",
       "권희동    252   63   7\n",
       "김동건     17    2   1\n",
       "김성욱     30    5   1\n",
       "김종찬      7    1   0\n",
       "김종호    546  129   0\n",
       "김준완      5    2   0\n",
       "김태우      5    1   0\n",
       "나성범    994  255  44\n",
       "노진혁     16    3   1\n",
       "마낙길     33    9   0\n",
       "모창민    904  219  28\n",
       "박명환*     1    0   0\n",
       "박민우    539  135   1\n",
       "박정준    195   41   4\n",
       "손시헌    361   90   5\n",
       "이상호    138   31   0\n",
       "이승호      1    0   0\n",
       "이종욱    495  126   6\n",
       "이창섭      5    0   0\n",
       "이현곤    161   38   0\n",
       "이호준   1008  238  43\n",
       "조영훈    550  136  12\n",
       "조평호     88   21   2\n",
       "지석훈    594  126   9\n",
       "차화준    121   24   1\n",
       "최재원      2    0   0\n",
       "테임즈    514  152  37\n",
       "허준      36    5   0"
      ]
     },
     "execution_count": 86,
     "metadata": {},
     "output_type": "execute_result"
    }
   ],
   "source": [
    "선수별.sum()"
   ]
  },
  {
   "cell_type": "code",
   "execution_count": 87,
   "metadata": {
    "collapsed": true
   },
   "outputs": [
    {
     "data": {
      "text/html": [
       "<div>\n",
       "<table border=\"1\" class=\"dataframe\">\n",
       "  <thead>\n",
       "    <tr style=\"text-align: right;\">\n",
       "      <th></th>\n",
       "      <th>타석</th>\n",
       "      <th>안타</th>\n",
       "      <th>홈런</th>\n",
       "    </tr>\n",
       "    <tr>\n",
       "      <th>선수명</th>\n",
       "      <th></th>\n",
       "      <th></th>\n",
       "      <th></th>\n",
       "    </tr>\n",
       "  </thead>\n",
       "  <tbody>\n",
       "    <tr>\n",
       "      <th>강구성</th>\n",
       "      <td>2</td>\n",
       "      <td>0</td>\n",
       "      <td>0</td>\n",
       "    </tr>\n",
       "    <tr>\n",
       "      <th>강민국</th>\n",
       "      <td>3</td>\n",
       "      <td>0</td>\n",
       "      <td>0</td>\n",
       "    </tr>\n",
       "    <tr>\n",
       "      <th>강진성</th>\n",
       "      <td>3</td>\n",
       "      <td>1</td>\n",
       "      <td>0</td>\n",
       "    </tr>\n",
       "    <tr>\n",
       "      <th>권희동</th>\n",
       "      <td>252</td>\n",
       "      <td>63</td>\n",
       "      <td>7</td>\n",
       "    </tr>\n",
       "    <tr>\n",
       "      <th>김동건</th>\n",
       "      <td>17</td>\n",
       "      <td>2</td>\n",
       "      <td>1</td>\n",
       "    </tr>\n",
       "    <tr>\n",
       "      <th>김성욱</th>\n",
       "      <td>30</td>\n",
       "      <td>5</td>\n",
       "      <td>1</td>\n",
       "    </tr>\n",
       "    <tr>\n",
       "      <th>김종찬</th>\n",
       "      <td>7</td>\n",
       "      <td>1</td>\n",
       "      <td>0</td>\n",
       "    </tr>\n",
       "    <tr>\n",
       "      <th>김종호</th>\n",
       "      <td>546</td>\n",
       "      <td>129</td>\n",
       "      <td>0</td>\n",
       "    </tr>\n",
       "    <tr>\n",
       "      <th>김준완</th>\n",
       "      <td>5</td>\n",
       "      <td>2</td>\n",
       "      <td>0</td>\n",
       "    </tr>\n",
       "    <tr>\n",
       "      <th>김태우</th>\n",
       "      <td>5</td>\n",
       "      <td>1</td>\n",
       "      <td>0</td>\n",
       "    </tr>\n",
       "    <tr>\n",
       "      <th>나성범</th>\n",
       "      <td>994</td>\n",
       "      <td>255</td>\n",
       "      <td>44</td>\n",
       "    </tr>\n",
       "    <tr>\n",
       "      <th>노진혁</th>\n",
       "      <td>16</td>\n",
       "      <td>3</td>\n",
       "      <td>1</td>\n",
       "    </tr>\n",
       "    <tr>\n",
       "      <th>마낙길</th>\n",
       "      <td>33</td>\n",
       "      <td>9</td>\n",
       "      <td>0</td>\n",
       "    </tr>\n",
       "    <tr>\n",
       "      <th>모창민</th>\n",
       "      <td>904</td>\n",
       "      <td>219</td>\n",
       "      <td>28</td>\n",
       "    </tr>\n",
       "    <tr>\n",
       "      <th>박명환*</th>\n",
       "      <td>1</td>\n",
       "      <td>0</td>\n",
       "      <td>0</td>\n",
       "    </tr>\n",
       "    <tr>\n",
       "      <th>박민우</th>\n",
       "      <td>539</td>\n",
       "      <td>135</td>\n",
       "      <td>1</td>\n",
       "    </tr>\n",
       "    <tr>\n",
       "      <th>박정준</th>\n",
       "      <td>195</td>\n",
       "      <td>41</td>\n",
       "      <td>4</td>\n",
       "    </tr>\n",
       "    <tr>\n",
       "      <th>손시헌</th>\n",
       "      <td>361</td>\n",
       "      <td>90</td>\n",
       "      <td>5</td>\n",
       "    </tr>\n",
       "    <tr>\n",
       "      <th>이상호</th>\n",
       "      <td>138</td>\n",
       "      <td>31</td>\n",
       "      <td>0</td>\n",
       "    </tr>\n",
       "    <tr>\n",
       "      <th>이승호</th>\n",
       "      <td>1</td>\n",
       "      <td>0</td>\n",
       "      <td>0</td>\n",
       "    </tr>\n",
       "    <tr>\n",
       "      <th>이종욱</th>\n",
       "      <td>495</td>\n",
       "      <td>126</td>\n",
       "      <td>6</td>\n",
       "    </tr>\n",
       "    <tr>\n",
       "      <th>이창섭</th>\n",
       "      <td>5</td>\n",
       "      <td>0</td>\n",
       "      <td>0</td>\n",
       "    </tr>\n",
       "    <tr>\n",
       "      <th>이현곤</th>\n",
       "      <td>161</td>\n",
       "      <td>38</td>\n",
       "      <td>0</td>\n",
       "    </tr>\n",
       "    <tr>\n",
       "      <th>이호준</th>\n",
       "      <td>1008</td>\n",
       "      <td>238</td>\n",
       "      <td>43</td>\n",
       "    </tr>\n",
       "    <tr>\n",
       "      <th>조영훈</th>\n",
       "      <td>550</td>\n",
       "      <td>136</td>\n",
       "      <td>12</td>\n",
       "    </tr>\n",
       "    <tr>\n",
       "      <th>조평호</th>\n",
       "      <td>88</td>\n",
       "      <td>21</td>\n",
       "      <td>2</td>\n",
       "    </tr>\n",
       "    <tr>\n",
       "      <th>지석훈</th>\n",
       "      <td>594</td>\n",
       "      <td>126</td>\n",
       "      <td>9</td>\n",
       "    </tr>\n",
       "    <tr>\n",
       "      <th>차화준</th>\n",
       "      <td>121</td>\n",
       "      <td>24</td>\n",
       "      <td>1</td>\n",
       "    </tr>\n",
       "    <tr>\n",
       "      <th>최재원</th>\n",
       "      <td>2</td>\n",
       "      <td>0</td>\n",
       "      <td>0</td>\n",
       "    </tr>\n",
       "    <tr>\n",
       "      <th>테임즈</th>\n",
       "      <td>514</td>\n",
       "      <td>152</td>\n",
       "      <td>37</td>\n",
       "    </tr>\n",
       "    <tr>\n",
       "      <th>허준</th>\n",
       "      <td>36</td>\n",
       "      <td>5</td>\n",
       "      <td>0</td>\n",
       "    </tr>\n",
       "  </tbody>\n",
       "</table>\n",
       "</div>"
      ],
      "text/plain": [
       "        타석   안타  홈런\n",
       "선수명                \n",
       "강구성      2    0   0\n",
       "강민국      3    0   0\n",
       "강진성      3    1   0\n",
       "권희동    252   63   7\n",
       "김동건     17    2   1\n",
       "김성욱     30    5   1\n",
       "김종찬      7    1   0\n",
       "김종호    546  129   0\n",
       "김준완      5    2   0\n",
       "김태우      5    1   0\n",
       "나성범    994  255  44\n",
       "노진혁     16    3   1\n",
       "마낙길     33    9   0\n",
       "모창민    904  219  28\n",
       "박명환*     1    0   0\n",
       "박민우    539  135   1\n",
       "박정준    195   41   4\n",
       "손시헌    361   90   5\n",
       "이상호    138   31   0\n",
       "이승호      1    0   0\n",
       "이종욱    495  126   6\n",
       "이창섭      5    0   0\n",
       "이현곤    161   38   0\n",
       "이호준   1008  238  43\n",
       "조영훈    550  136  12\n",
       "조평호     88   21   2\n",
       "지석훈    594  126   9\n",
       "차화준    121   24   1\n",
       "최재원      2    0   0\n",
       "테임즈    514  152  37\n",
       "허준      36    5   0"
      ]
     },
     "execution_count": 87,
     "metadata": {},
     "output_type": "execute_result"
    }
   ],
   "source": [
    "선수별.agg('sum')"
   ]
  },
  {
   "cell_type": "markdown",
   "metadata": {},
   "source": [
    "열마다 다른 함수 적용하기"
   ]
  },
  {
   "cell_type": "code",
   "execution_count": 89,
   "metadata": {
    "collapsed": false
   },
   "outputs": [
    {
     "data": {
      "text/html": [
       "<div>\n",
       "<table border=\"1\" class=\"dataframe\">\n",
       "  <thead>\n",
       "    <tr>\n",
       "      <th></th>\n",
       "      <th colspan=\"2\" halign=\"left\">안타</th>\n",
       "      <th>타석</th>\n",
       "    </tr>\n",
       "    <tr>\n",
       "      <th></th>\n",
       "      <th>sum</th>\n",
       "      <th>mean</th>\n",
       "      <th>최대최소차</th>\n",
       "    </tr>\n",
       "    <tr>\n",
       "      <th>선수명</th>\n",
       "      <th></th>\n",
       "      <th></th>\n",
       "      <th></th>\n",
       "    </tr>\n",
       "  </thead>\n",
       "  <tbody>\n",
       "    <tr>\n",
       "      <th>강구성</th>\n",
       "      <td>0</td>\n",
       "      <td>0.0</td>\n",
       "      <td>0</td>\n",
       "    </tr>\n",
       "    <tr>\n",
       "      <th>강민국</th>\n",
       "      <td>0</td>\n",
       "      <td>0.0</td>\n",
       "      <td>0</td>\n",
       "    </tr>\n",
       "    <tr>\n",
       "      <th>강진성</th>\n",
       "      <td>1</td>\n",
       "      <td>1.0</td>\n",
       "      <td>0</td>\n",
       "    </tr>\n",
       "    <tr>\n",
       "      <th>권희동</th>\n",
       "      <td>63</td>\n",
       "      <td>63.0</td>\n",
       "      <td>0</td>\n",
       "    </tr>\n",
       "    <tr>\n",
       "      <th>김동건</th>\n",
       "      <td>2</td>\n",
       "      <td>2.0</td>\n",
       "      <td>0</td>\n",
       "    </tr>\n",
       "    <tr>\n",
       "      <th>김성욱</th>\n",
       "      <td>5</td>\n",
       "      <td>2.5</td>\n",
       "      <td>22</td>\n",
       "    </tr>\n",
       "    <tr>\n",
       "      <th>김종찬</th>\n",
       "      <td>1</td>\n",
       "      <td>1.0</td>\n",
       "      <td>0</td>\n",
       "    </tr>\n",
       "    <tr>\n",
       "      <th>김종호</th>\n",
       "      <td>129</td>\n",
       "      <td>129.0</td>\n",
       "      <td>0</td>\n",
       "    </tr>\n",
       "    <tr>\n",
       "      <th>김준완</th>\n",
       "      <td>2</td>\n",
       "      <td>2.0</td>\n",
       "      <td>0</td>\n",
       "    </tr>\n",
       "    <tr>\n",
       "      <th>김태우</th>\n",
       "      <td>1</td>\n",
       "      <td>1.0</td>\n",
       "      <td>0</td>\n",
       "    </tr>\n",
       "    <tr>\n",
       "      <th>나성범</th>\n",
       "      <td>255</td>\n",
       "      <td>127.5</td>\n",
       "      <td>78</td>\n",
       "    </tr>\n",
       "    <tr>\n",
       "      <th>노진혁</th>\n",
       "      <td>3</td>\n",
       "      <td>3.0</td>\n",
       "      <td>0</td>\n",
       "    </tr>\n",
       "    <tr>\n",
       "      <th>마낙길</th>\n",
       "      <td>9</td>\n",
       "      <td>4.5</td>\n",
       "      <td>29</td>\n",
       "    </tr>\n",
       "    <tr>\n",
       "      <th>모창민</th>\n",
       "      <td>219</td>\n",
       "      <td>109.5</td>\n",
       "      <td>32</td>\n",
       "    </tr>\n",
       "    <tr>\n",
       "      <th>박명환*</th>\n",
       "      <td>0</td>\n",
       "      <td>0.0</td>\n",
       "      <td>0</td>\n",
       "    </tr>\n",
       "    <tr>\n",
       "      <th>박민우</th>\n",
       "      <td>135</td>\n",
       "      <td>67.5</td>\n",
       "      <td>443</td>\n",
       "    </tr>\n",
       "    <tr>\n",
       "      <th>박정준</th>\n",
       "      <td>41</td>\n",
       "      <td>41.0</td>\n",
       "      <td>0</td>\n",
       "    </tr>\n",
       "    <tr>\n",
       "      <th>손시헌</th>\n",
       "      <td>90</td>\n",
       "      <td>90.0</td>\n",
       "      <td>0</td>\n",
       "    </tr>\n",
       "    <tr>\n",
       "      <th>이상호</th>\n",
       "      <td>31</td>\n",
       "      <td>31.0</td>\n",
       "      <td>0</td>\n",
       "    </tr>\n",
       "    <tr>\n",
       "      <th>이승호</th>\n",
       "      <td>0</td>\n",
       "      <td>0.0</td>\n",
       "      <td>0</td>\n",
       "    </tr>\n",
       "    <tr>\n",
       "      <th>이종욱</th>\n",
       "      <td>126</td>\n",
       "      <td>126.0</td>\n",
       "      <td>0</td>\n",
       "    </tr>\n",
       "    <tr>\n",
       "      <th>이창섭</th>\n",
       "      <td>0</td>\n",
       "      <td>0.0</td>\n",
       "      <td>0</td>\n",
       "    </tr>\n",
       "    <tr>\n",
       "      <th>이현곤</th>\n",
       "      <td>38</td>\n",
       "      <td>38.0</td>\n",
       "      <td>0</td>\n",
       "    </tr>\n",
       "    <tr>\n",
       "      <th>이호준</th>\n",
       "      <td>238</td>\n",
       "      <td>119.0</td>\n",
       "      <td>8</td>\n",
       "    </tr>\n",
       "    <tr>\n",
       "      <th>조영훈</th>\n",
       "      <td>136</td>\n",
       "      <td>68.0</td>\n",
       "      <td>302</td>\n",
       "    </tr>\n",
       "    <tr>\n",
       "      <th>조평호</th>\n",
       "      <td>21</td>\n",
       "      <td>10.5</td>\n",
       "      <td>84</td>\n",
       "    </tr>\n",
       "    <tr>\n",
       "      <th>지석훈</th>\n",
       "      <td>126</td>\n",
       "      <td>63.0</td>\n",
       "      <td>118</td>\n",
       "    </tr>\n",
       "    <tr>\n",
       "      <th>차화준</th>\n",
       "      <td>24</td>\n",
       "      <td>24.0</td>\n",
       "      <td>0</td>\n",
       "    </tr>\n",
       "    <tr>\n",
       "      <th>최재원</th>\n",
       "      <td>0</td>\n",
       "      <td>0.0</td>\n",
       "      <td>0</td>\n",
       "    </tr>\n",
       "    <tr>\n",
       "      <th>테임즈</th>\n",
       "      <td>152</td>\n",
       "      <td>152.0</td>\n",
       "      <td>0</td>\n",
       "    </tr>\n",
       "    <tr>\n",
       "      <th>허준</th>\n",
       "      <td>5</td>\n",
       "      <td>5.0</td>\n",
       "      <td>0</td>\n",
       "    </tr>\n",
       "  </tbody>\n",
       "</table>\n",
       "</div>"
      ],
      "text/plain": [
       "       안타           타석\n",
       "      sum   mean 최대최소차\n",
       "선수명                   \n",
       "강구성     0    0.0     0\n",
       "강민국     0    0.0     0\n",
       "강진성     1    1.0     0\n",
       "권희동    63   63.0     0\n",
       "김동건     2    2.0     0\n",
       "김성욱     5    2.5    22\n",
       "김종찬     1    1.0     0\n",
       "김종호   129  129.0     0\n",
       "김준완     2    2.0     0\n",
       "김태우     1    1.0     0\n",
       "나성범   255  127.5    78\n",
       "노진혁     3    3.0     0\n",
       "마낙길     9    4.5    29\n",
       "모창민   219  109.5    32\n",
       "박명환*    0    0.0     0\n",
       "박민우   135   67.5   443\n",
       "박정준    41   41.0     0\n",
       "손시헌    90   90.0     0\n",
       "이상호    31   31.0     0\n",
       "이승호     0    0.0     0\n",
       "이종욱   126  126.0     0\n",
       "이창섭     0    0.0     0\n",
       "이현곤    38   38.0     0\n",
       "이호준   238  119.0     8\n",
       "조영훈   136   68.0   302\n",
       "조평호    21   10.5    84\n",
       "지석훈   126   63.0   118\n",
       "차화준    24   24.0     0\n",
       "최재원     0    0.0     0\n",
       "테임즈   152  152.0     0\n",
       "허준      5    5.0     0"
      ]
     },
     "execution_count": 89,
     "metadata": {},
     "output_type": "execute_result"
    }
   ],
   "source": [
    "선수별.agg({'타석': 최대최소차, '안타': ['sum', 'mean']})"
   ]
  },
  {
   "cell_type": "markdown",
   "metadata": {},
   "source": [
    "Q: 함수의 인자가 함수?"
   ]
  },
  {
   "cell_type": "markdown",
   "metadata": {},
   "source": [
    "1. 함수 정의는 객체\n",
    "1. 객체는 변수에 저장할 수 있다.\n",
    "1. 함수의 인자는 지역변수이다.\n",
    "\n",
    "따라서, 함수의 정의는 다른 함수의 인자가 될 수 있다."
   ]
  },
  {
   "cell_type": "code",
   "execution_count": 99,
   "metadata": {
    "collapsed": false
   },
   "outputs": [
    {
     "name": "stdout",
     "output_type": "stream",
     "text": [
      "안녕하세요\n"
     ]
    }
   ],
   "source": [
    "print('안녕하세요')"
   ]
  },
  {
   "cell_type": "code",
   "execution_count": 100,
   "metadata": {
    "collapsed": true
   },
   "outputs": [],
   "source": [
    "출력 = print"
   ]
  },
  {
   "cell_type": "code",
   "execution_count": 101,
   "metadata": {
    "collapsed": false
   },
   "outputs": [
    {
     "name": "stdout",
     "output_type": "stream",
     "text": [
      "안녕하세요\n"
     ]
    }
   ],
   "source": [
    "출력('안녕하세요')"
   ]
  },
  {
   "cell_type": "code",
   "execution_count": 95,
   "metadata": {
    "collapsed": true
   },
   "outputs": [],
   "source": [
    "def 집계(데이터, 방법):\n",
    "    결과 = 방법(데이터)\n",
    "    return 결과"
   ]
  },
  {
   "cell_type": "code",
   "execution_count": 96,
   "metadata": {
    "collapsed": true
   },
   "outputs": [],
   "source": [
    "데이터 = [1,2,3,4,5]"
   ]
  },
  {
   "cell_type": "code",
   "execution_count": 97,
   "metadata": {
    "collapsed": false
   },
   "outputs": [
    {
     "data": {
      "text/plain": [
       "15"
      ]
     },
     "execution_count": 97,
     "metadata": {},
     "output_type": "execute_result"
    }
   ],
   "source": [
    "집계(데이터, sum)"
   ]
  },
  {
   "cell_type": "code",
   "execution_count": 98,
   "metadata": {
    "collapsed": false
   },
   "outputs": [
    {
     "data": {
      "text/plain": [
       "5"
      ]
     },
     "execution_count": 98,
     "metadata": {},
     "output_type": "execute_result"
    }
   ],
   "source": [
    "집계(데이터, max)"
   ]
  },
  {
   "cell_type": "markdown",
   "metadata": {},
   "source": [
    "타율 상위 10%"
   ]
  },
  {
   "cell_type": "code",
   "execution_count": 102,
   "metadata": {
    "collapsed": true
   },
   "outputs": [],
   "source": [
    "def 상위타율(그룹, 백분위수=0.9):\n",
    "    타수합계 = 그룹.안타 + 그룹.홈런\n",
    "    백분위값 = 타수합계.quantile(백분위수)\n",
    "    상위그룹 = 그룹[타수합계 > 백분위값]\n",
    "    상위그룹 = 상위그룹.sort_values(\n",
    "        by=['안타', '홈런'], ascending=False)\n",
    "    return 상위그룹"
   ]
  },
  {
   "cell_type": "code",
   "execution_count": 104,
   "metadata": {
    "collapsed": true
   },
   "outputs": [
    {
     "data": {
      "text/html": [
       "<div>\n",
       "<table border=\"1\" class=\"dataframe\">\n",
       "  <thead>\n",
       "    <tr style=\"text-align: right;\">\n",
       "      <th></th>\n",
       "      <th></th>\n",
       "      <th>타석</th>\n",
       "      <th>안타</th>\n",
       "      <th>홈런</th>\n",
       "    </tr>\n",
       "    <tr>\n",
       "      <th>시즌</th>\n",
       "      <th>선수명</th>\n",
       "      <th></th>\n",
       "      <th></th>\n",
       "      <th></th>\n",
       "    </tr>\n",
       "  </thead>\n",
       "  <tbody>\n",
       "    <tr>\n",
       "      <th rowspan=\"2\" valign=\"top\">2013</th>\n",
       "      <th>김종호</th>\n",
       "      <td>546</td>\n",
       "      <td>129</td>\n",
       "      <td>0</td>\n",
       "    </tr>\n",
       "    <tr>\n",
       "      <th>이호준</th>\n",
       "      <td>508</td>\n",
       "      <td>123</td>\n",
       "      <td>20</td>\n",
       "    </tr>\n",
       "    <tr>\n",
       "      <th rowspan=\"2\" valign=\"top\">2014</th>\n",
       "      <th>나성범</th>\n",
       "      <td>536</td>\n",
       "      <td>157</td>\n",
       "      <td>30</td>\n",
       "    </tr>\n",
       "    <tr>\n",
       "      <th>테임즈</th>\n",
       "      <td>514</td>\n",
       "      <td>152</td>\n",
       "      <td>37</td>\n",
       "    </tr>\n",
       "  </tbody>\n",
       "</table>\n",
       "</div>"
      ],
      "text/plain": [
       "           타석   안타  홈런\n",
       "시즌   선수명              \n",
       "2013 김종호  546  129   0\n",
       "     이호준  508  123  20\n",
       "2014 나성범  536  157  30\n",
       "     테임즈  514  152  37"
      ]
     },
     "execution_count": 104,
     "metadata": {},
     "output_type": "execute_result"
    }
   ],
   "source": [
    "시즌별.apply(상위타율).reset_index(0, drop=True)"
   ]
  },
  {
   "cell_type": "markdown",
   "metadata": {},
   "source": [
    "## 2012 미국 대선"
   ]
  },
  {
   "cell_type": "code",
   "execution_count": 105,
   "metadata": {
    "collapsed": false
   },
   "outputs": [
    {
     "name": "stderr",
     "output_type": "stream",
     "text": [
      "C:\\Users\\student\\Anaconda3\\lib\\site-packages\\IPython\\core\\interactiveshell.py:2717: DtypeWarning: Columns (6) have mixed types. Specify dtype option on import or set low_memory=False.\n",
      "  interactivity=interactivity, compiler=compiler, result=result)\n"
     ]
    }
   ],
   "source": [
    "fec = pd.read_csv('data/pydata-book/us_presidental.csv')"
   ]
  },
  {
   "cell_type": "code",
   "execution_count": 106,
   "metadata": {
    "collapsed": true
   },
   "outputs": [
    {
     "name": "stdout",
     "output_type": "stream",
     "text": [
      "<class 'pandas.core.frame.DataFrame'>\n",
      "RangeIndex: 1001731 entries, 0 to 1001730\n",
      "Data columns (total 16 columns):\n",
      "cmte_id              1001731 non-null object\n",
      "cand_id              1001731 non-null object\n",
      "cand_nm              1001731 non-null object\n",
      "contbr_nm            1001731 non-null object\n",
      "contbr_city          1001712 non-null object\n",
      "contbr_st            1001727 non-null object\n",
      "contbr_zip           1001620 non-null object\n",
      "contbr_employer      988002 non-null object\n",
      "contbr_occupation    993301 non-null object\n",
      "contb_receipt_amt    1001731 non-null float64\n",
      "contb_receipt_dt     1001731 non-null object\n",
      "receipt_desc         14166 non-null object\n",
      "memo_cd              92482 non-null object\n",
      "memo_text            97770 non-null object\n",
      "form_tp              1001731 non-null object\n",
      "file_num             1001731 non-null int64\n",
      "dtypes: float64(1), int64(1), object(14)\n",
      "memory usage: 122.3+ MB\n"
     ]
    }
   ],
   "source": [
    "fec.info()"
   ]
  },
  {
   "cell_type": "code",
   "execution_count": 107,
   "metadata": {
    "collapsed": true
   },
   "outputs": [
    {
     "data": {
      "text/plain": [
       "cmte_id                             C00431445\n",
       "cand_id                             P80003338\n",
       "cand_nm                         Obama, Barack\n",
       "contbr_nm                         ELLMAN, IRA\n",
       "contbr_city                             TEMPE\n",
       "contbr_st                                  AZ\n",
       "contbr_zip                          852816719\n",
       "contbr_employer      ARIZONA STATE UNIVERSITY\n",
       "contbr_occupation                   PROFESSOR\n",
       "contb_receipt_amt                          50\n",
       "contb_receipt_dt                    01-DEC-11\n",
       "receipt_desc                              NaN\n",
       "memo_cd                                   NaN\n",
       "memo_text                                 NaN\n",
       "form_tp                                 SA17A\n",
       "file_num                               772372\n",
       "Name: 123456, dtype: object"
      ]
     },
     "execution_count": 107,
     "metadata": {},
     "output_type": "execute_result"
    }
   ],
   "source": [
    "fec.ix[123456]"
   ]
  },
  {
   "cell_type": "code",
   "execution_count": 108,
   "metadata": {
    "collapsed": true
   },
   "outputs": [],
   "source": [
    "fec = fec.rename(columns={'cand_nm': '후보자'})"
   ]
  },
  {
   "cell_type": "code",
   "execution_count": 118,
   "metadata": {
    "collapsed": true
   },
   "outputs": [],
   "source": [
    "후보자명단 = fec.후보자.drop_duplicates().reset_index(drop=True)"
   ]
  },
  {
   "cell_type": "code",
   "execution_count": 119,
   "metadata": {
    "collapsed": true
   },
   "outputs": [
    {
     "data": {
      "text/plain": [
       "0                 Bachmann, Michelle\n",
       "1                       Romney, Mitt\n",
       "2                      Obama, Barack\n",
       "3     Roemer, Charles E. 'Buddy' III\n",
       "4                  Pawlenty, Timothy\n",
       "5                 Johnson, Gary Earl\n",
       "6                          Paul, Ron\n",
       "7                     Santorum, Rick\n",
       "8                       Cain, Herman\n",
       "9                     Gingrich, Newt\n",
       "10              McCotter, Thaddeus G\n",
       "11                     Huntsman, Jon\n",
       "12                       Perry, Rick\n",
       "Name: 후보자, dtype: object"
      ]
     },
     "execution_count": 119,
     "metadata": {},
     "output_type": "execute_result"
    }
   ],
   "source": [
    "후보자명단"
   ]
  },
  {
   "cell_type": "code",
   "execution_count": 123,
   "metadata": {
    "collapsed": true
   },
   "outputs": [],
   "source": [
    "정당사전 = {\n",
    "    'Obama, Barack': '민주당',\n",
    "    'Romney, Mitt': '공화당'\n",
    "}"
   ]
  },
  {
   "cell_type": "code",
   "execution_count": 124,
   "metadata": {
    "collapsed": true
   },
   "outputs": [],
   "source": [
    "정당 = fec.후보자.map(정당사전)"
   ]
  },
  {
   "cell_type": "code",
   "execution_count": 125,
   "metadata": {
    "collapsed": false
   },
   "outputs": [
    {
     "data": {
      "text/plain": [
       "민주당    593746\n",
       "공화당    107229\n",
       "Name: 후보자, dtype: int64"
      ]
     },
     "execution_count": 125,
     "metadata": {},
     "output_type": "execute_result"
    }
   ],
   "source": [
    "정당.value_counts()"
   ]
  },
  {
   "cell_type": "code",
   "execution_count": 126,
   "metadata": {
    "collapsed": true
   },
   "outputs": [],
   "source": [
    "fec['정당'] = 정당"
   ]
  },
  {
   "cell_type": "markdown",
   "metadata": {},
   "source": [
    "환급금 제외"
   ]
  },
  {
   "cell_type": "code",
   "execution_count": 127,
   "metadata": {
    "collapsed": true
   },
   "outputs": [],
   "source": [
    "fec = fec.rename(columns={'contb_receipt_amt': '액수'})"
   ]
  },
  {
   "cell_type": "code",
   "execution_count": 129,
   "metadata": {
    "collapsed": true
   },
   "outputs": [],
   "source": [
    "fec = fec[fec.액수 > 0]"
   ]
  },
  {
   "cell_type": "markdown",
   "metadata": {},
   "source": [
    "오바마와 롬니"
   ]
  },
  {
   "cell_type": "code",
   "execution_count": 181,
   "metadata": {
    "collapsed": true
   },
   "outputs": [],
   "source": [
    "오바롬니 = fec[\n",
    "    fec.후보자.isin(['Obama, Barack', 'Romney, Mitt'])]"
   ]
  },
  {
   "cell_type": "code",
   "execution_count": 131,
   "metadata": {
    "collapsed": false
   },
   "outputs": [
    {
     "data": {
      "text/plain": [
       "694282"
      ]
     },
     "execution_count": 131,
     "metadata": {},
     "output_type": "execute_result"
    }
   ],
   "source": [
    "len(오바롬니)"
   ]
  },
  {
   "cell_type": "markdown",
   "metadata": {},
   "source": [
    "\"어떤 직업을 가진 사람들이 누구를 지지했나?\""
   ]
  },
  {
   "cell_type": "code",
   "execution_count": 182,
   "metadata": {
    "collapsed": true
   },
   "outputs": [],
   "source": [
    "오바롬니 = 오바롬니.rename(columns={'contbr_occupation': '직업'})"
   ]
  },
  {
   "cell_type": "markdown",
   "metadata": {},
   "source": [
    "기부자 직업 상위 10"
   ]
  },
  {
   "cell_type": "code",
   "execution_count": 184,
   "metadata": {
    "collapsed": true
   },
   "outputs": [
    {
     "data": {
      "text/plain": [
       "RETIRED         177473\n",
       "NOT PROVIDED     37292\n",
       "ATTORNEY         30133\n",
       "HOMEMAKER        19626\n",
       "PHYSICIAN        17206\n",
       "PROFESSOR        11804\n",
       "TEACHER          11512\n",
       "CONSULTANT       10061\n",
       "NOT EMPLOYED      9696\n",
       "LAWYER            7438\n",
       "Name: 직업, dtype: int64"
      ]
     },
     "execution_count": 184,
     "metadata": {},
     "output_type": "execute_result"
    }
   ],
   "source": [
    "오바롬니.직업.value_counts()[:10]"
   ]
  },
  {
   "cell_type": "code",
   "execution_count": 134,
   "metadata": {
    "collapsed": true
   },
   "outputs": [],
   "source": [
    "def 명칭정리(직업명):\n",
    "    직업사전 = {\n",
    "        'INFORMATION REQUESTED PER BEST EFFORTS':'NOT PROVIDED',\n",
    "        'INFORMATION REQUESTED':'NOT PROVIDED',\n",
    "        'INFORMATION REQUESTED (BEST EFFORTS)':'NOT PROVIDED',\n",
    "        'C.E.O.':'CEO'\n",
    "    }\n",
    "    return 직업사전.get(직업명, 직업명)"
   ]
  },
  {
   "cell_type": "code",
   "execution_count": 185,
   "metadata": {
    "collapsed": true
   },
   "outputs": [
    {
     "data": {
      "text/plain": [
       "RETIRED         177473\n",
       "NOT PROVIDED     37292\n",
       "ATTORNEY         30133\n",
       "HOMEMAKER        19626\n",
       "PHYSICIAN        17206\n",
       "PROFESSOR        11804\n",
       "TEACHER          11512\n",
       "CONSULTANT       10061\n",
       "NOT EMPLOYED      9696\n",
       "LAWYER            7438\n",
       "Name: 직업, dtype: int64"
      ]
     },
     "execution_count": 185,
     "metadata": {},
     "output_type": "execute_result"
    }
   ],
   "source": [
    "오바롬니.직업 = 오바롬니.직업.map(명칭정리)\n",
    "오바롬니.직업.value_counts()[:10]"
   ]
  },
  {
   "cell_type": "code",
   "execution_count": 141,
   "metadata": {
    "collapsed": true
   },
   "outputs": [],
   "source": [
    "오바롬니 = 오바롬니.rename(columns={\n",
    "        'contbr_employer': '고용주'\n",
    "    })"
   ]
  },
  {
   "cell_type": "code",
   "execution_count": 176,
   "metadata": {
    "collapsed": true
   },
   "outputs": [
    {
     "data": {
      "text/html": [
       "<div>\n",
       "<table border=\"1\" class=\"dataframe\">\n",
       "  <thead>\n",
       "    <tr style=\"text-align: right;\">\n",
       "      <th></th>\n",
       "      <th>cmte_id</th>\n",
       "      <th>cand_id</th>\n",
       "      <th>후보자</th>\n",
       "      <th>contbr_nm</th>\n",
       "      <th>contbr_city</th>\n",
       "      <th>contbr_st</th>\n",
       "      <th>contbr_zip</th>\n",
       "      <th>고용주</th>\n",
       "      <th>직업</th>\n",
       "      <th>액수</th>\n",
       "      <th>contb_receipt_dt</th>\n",
       "      <th>receipt_desc</th>\n",
       "      <th>memo_cd</th>\n",
       "      <th>memo_text</th>\n",
       "      <th>form_tp</th>\n",
       "      <th>file_num</th>\n",
       "      <th>정당</th>\n",
       "    </tr>\n",
       "  </thead>\n",
       "  <tbody>\n",
       "    <tr>\n",
       "      <th>411</th>\n",
       "      <td>C00431171</td>\n",
       "      <td>P80003353</td>\n",
       "      <td>Romney, Mitt</td>\n",
       "      <td>ELDERBAUM, WILLIAM</td>\n",
       "      <td>DPO</td>\n",
       "      <td>AA</td>\n",
       "      <td>3.4023e+08</td>\n",
       "      <td>US GOVERNMENT</td>\n",
       "      <td>NaN</td>\n",
       "      <td>25.0</td>\n",
       "      <td>01-FEB-12</td>\n",
       "      <td>NaN</td>\n",
       "      <td>NaN</td>\n",
       "      <td>NaN</td>\n",
       "      <td>SA17A</td>\n",
       "      <td>780124</td>\n",
       "      <td>공화당</td>\n",
       "    </tr>\n",
       "    <tr>\n",
       "      <th>412</th>\n",
       "      <td>C00431171</td>\n",
       "      <td>P80003353</td>\n",
       "      <td>Romney, Mitt</td>\n",
       "      <td>ELDERBAUM, WILLIAM</td>\n",
       "      <td>DPO</td>\n",
       "      <td>AA</td>\n",
       "      <td>3.4023e+08</td>\n",
       "      <td>US GOVERNMENT</td>\n",
       "      <td>NaN</td>\n",
       "      <td>110.0</td>\n",
       "      <td>01-FEB-12</td>\n",
       "      <td>NaN</td>\n",
       "      <td>NaN</td>\n",
       "      <td>NaN</td>\n",
       "      <td>SA17A</td>\n",
       "      <td>780124</td>\n",
       "      <td>공화당</td>\n",
       "    </tr>\n",
       "    <tr>\n",
       "      <th>413</th>\n",
       "      <td>C00431171</td>\n",
       "      <td>P80003353</td>\n",
       "      <td>Romney, Mitt</td>\n",
       "      <td>CARLSEN, RICHARD</td>\n",
       "      <td>APO</td>\n",
       "      <td>AE</td>\n",
       "      <td>9.128e+07</td>\n",
       "      <td>DEFENSE INTELLIGENCE AGENCY</td>\n",
       "      <td>NaN</td>\n",
       "      <td>250.0</td>\n",
       "      <td>13-APR-12</td>\n",
       "      <td>NaN</td>\n",
       "      <td>NaN</td>\n",
       "      <td>NaN</td>\n",
       "      <td>SA17A</td>\n",
       "      <td>785689</td>\n",
       "      <td>공화당</td>\n",
       "    </tr>\n",
       "  </tbody>\n",
       "</table>\n",
       "</div>"
      ],
      "text/plain": [
       "       cmte_id    cand_id           후보자           contbr_nm contbr_city  \\\n",
       "411  C00431171  P80003353  Romney, Mitt  ELDERBAUM, WILLIAM         DPO   \n",
       "412  C00431171  P80003353  Romney, Mitt  ELDERBAUM, WILLIAM         DPO   \n",
       "413  C00431171  P80003353  Romney, Mitt    CARLSEN, RICHARD         APO   \n",
       "\n",
       "    contbr_st  contbr_zip                          고용주  직업     액수  \\\n",
       "411        AA  3.4023e+08                US GOVERNMENT NaN   25.0   \n",
       "412        AA  3.4023e+08                US GOVERNMENT NaN  110.0   \n",
       "413        AE   9.128e+07  DEFENSE INTELLIGENCE AGENCY NaN  250.0   \n",
       "\n",
       "    contb_receipt_dt receipt_desc memo_cd memo_text form_tp  file_num   정당  \n",
       "411        01-FEB-12          NaN     NaN       NaN   SA17A    780124  공화당  \n",
       "412        01-FEB-12          NaN     NaN       NaN   SA17A    780124  공화당  \n",
       "413        13-APR-12          NaN     NaN       NaN   SA17A    785689  공화당  "
      ]
     },
     "execution_count": 176,
     "metadata": {},
     "output_type": "execute_result"
    }
   ],
   "source": [
    "오바롬니[:3]"
   ]
  },
  {
   "cell_type": "code",
   "execution_count": 154,
   "metadata": {
    "collapsed": true
   },
   "outputs": [
    {
     "data": {
      "text/plain": [
       "RETIRED              173287\n",
       "SELF-EMPLOYED         79638\n",
       "NOT EMPLOYED          45727\n",
       "NOT PROVIDED          38628\n",
       "HOMEMAKER             12081\n",
       "OBAMA FOR AMERICA      1741\n",
       "STUDENT                1417\n",
       "SELF                   1228\n",
       "DISABLED               1096\n",
       "IBM                    1027\n",
       "Name: 고용주, dtype: int64"
      ]
     },
     "execution_count": 154,
     "metadata": {},
     "output_type": "execute_result"
    }
   ],
   "source": [
    "고용주 = 오바롬니.고용주.dropna()\n",
    "고용주[고용주.str.startswith('INFORMATION REQUESTED')] = 'NOT PROVIDED'\n",
    "고용주[고용주.str.lower().str.startswith('SELF')] = 'SELF-EMPLOYED'\n",
    "고용주.value_counts()[:10]"
   ]
  },
  {
   "cell_type": "code",
   "execution_count": 155,
   "metadata": {
    "collapsed": true
   },
   "outputs": [],
   "source": [
    "오바롬니['고용주'] = 고용주"
   ]
  },
  {
   "cell_type": "code",
   "execution_count": 186,
   "metadata": {
    "collapsed": true
   },
   "outputs": [
    {
     "data": {
      "text/html": [
       "<div>\n",
       "<table border=\"1\" class=\"dataframe\">\n",
       "  <thead>\n",
       "    <tr style=\"text-align: right;\">\n",
       "      <th></th>\n",
       "      <th>후보자</th>\n",
       "      <th>직업</th>\n",
       "      <th>정당</th>\n",
       "    </tr>\n",
       "  </thead>\n",
       "  <tbody>\n",
       "    <tr>\n",
       "      <th>411</th>\n",
       "      <td>Romney, Mitt</td>\n",
       "      <td>FOREIGN SERVICE OFFICER</td>\n",
       "      <td>공화당</td>\n",
       "    </tr>\n",
       "    <tr>\n",
       "      <th>412</th>\n",
       "      <td>Romney, Mitt</td>\n",
       "      <td>FOREIGN SERVICE OFFICER</td>\n",
       "      <td>공화당</td>\n",
       "    </tr>\n",
       "    <tr>\n",
       "      <th>413</th>\n",
       "      <td>Romney, Mitt</td>\n",
       "      <td>INTELLIGENCE ANALYST</td>\n",
       "      <td>공화당</td>\n",
       "    </tr>\n",
       "  </tbody>\n",
       "</table>\n",
       "</div>"
      ],
      "text/plain": [
       "              후보자                       직업   정당\n",
       "411  Romney, Mitt  FOREIGN SERVICE OFFICER  공화당\n",
       "412  Romney, Mitt  FOREIGN SERVICE OFFICER  공화당\n",
       "413  Romney, Mitt     INTELLIGENCE ANALYST  공화당"
      ]
     },
     "execution_count": 186,
     "metadata": {},
     "output_type": "execute_result"
    }
   ],
   "source": [
    "오바롬니[['후보자', '직업', '정당']][:3]"
   ]
  },
  {
   "cell_type": "code",
   "execution_count": 187,
   "metadata": {
    "collapsed": true
   },
   "outputs": [],
   "source": [
    "직업별정당별 = 오바롬니.groupby(['직업', '정당'])"
   ]
  },
  {
   "cell_type": "code",
   "execution_count": 188,
   "metadata": {
    "collapsed": true
   },
   "outputs": [
    {
     "data": {
      "text/html": [
       "<div>\n",
       "<table border=\"1\" class=\"dataframe\">\n",
       "  <thead>\n",
       "    <tr style=\"text-align: right;\">\n",
       "      <th>정당</th>\n",
       "      <th>공화당</th>\n",
       "      <th>민주당</th>\n",
       "    </tr>\n",
       "    <tr>\n",
       "      <th>직업</th>\n",
       "      <th></th>\n",
       "      <th></th>\n",
       "    </tr>\n",
       "  </thead>\n",
       "  <tbody>\n",
       "    <tr>\n",
       "      <th>MIXED-MEDIA ARTIST / STORYTELLER</th>\n",
       "      <td>NaN</td>\n",
       "      <td>100.0</td>\n",
       "    </tr>\n",
       "    <tr>\n",
       "      <th>AREA VICE PRESIDENT</th>\n",
       "      <td>NaN</td>\n",
       "      <td>250.0</td>\n",
       "    </tr>\n",
       "    <tr>\n",
       "      <th>RESEARCH ASSOCIATE</th>\n",
       "      <td>NaN</td>\n",
       "      <td>100.0</td>\n",
       "    </tr>\n",
       "    <tr>\n",
       "      <th>TEACHER</th>\n",
       "      <td>NaN</td>\n",
       "      <td>500.0</td>\n",
       "    </tr>\n",
       "    <tr>\n",
       "      <th>THERAPIST</th>\n",
       "      <td>NaN</td>\n",
       "      <td>3900.0</td>\n",
       "    </tr>\n",
       "    <tr>\n",
       "      <th>-</th>\n",
       "      <td>NaN</td>\n",
       "      <td>5000.0</td>\n",
       "    </tr>\n",
       "    <tr>\n",
       "      <th>.NET PROGRAMMER</th>\n",
       "      <td>NaN</td>\n",
       "      <td>481.0</td>\n",
       "    </tr>\n",
       "    <tr>\n",
       "      <th>07/13/1972</th>\n",
       "      <td>NaN</td>\n",
       "      <td>98.0</td>\n",
       "    </tr>\n",
       "    <tr>\n",
       "      <th>12K ADVOCATE</th>\n",
       "      <td>NaN</td>\n",
       "      <td>150.0</td>\n",
       "    </tr>\n",
       "    <tr>\n",
       "      <th>13D</th>\n",
       "      <td>NaN</td>\n",
       "      <td>721.0</td>\n",
       "    </tr>\n",
       "  </tbody>\n",
       "</table>\n",
       "</div>"
      ],
      "text/plain": [
       "정당                                   공화당     민주당\n",
       "직업                                              \n",
       "   MIXED-MEDIA ARTIST / STORYTELLER  NaN   100.0\n",
       " AREA VICE PRESIDENT                 NaN   250.0\n",
       " RESEARCH ASSOCIATE                  NaN   100.0\n",
       " TEACHER                             NaN   500.0\n",
       " THERAPIST                           NaN  3900.0\n",
       "-                                    NaN  5000.0\n",
       ".NET PROGRAMMER                      NaN   481.0\n",
       "07/13/1972                           NaN    98.0\n",
       "12K ADVOCATE                         NaN   150.0\n",
       "13D                                  NaN   721.0"
      ]
     },
     "execution_count": 188,
     "metadata": {},
     "output_type": "execute_result"
    }
   ],
   "source": [
    "직업별정당별['액수'].sum().unstack()[:10]"
   ]
  },
  {
   "cell_type": "code",
   "execution_count": 189,
   "metadata": {
    "collapsed": true
   },
   "outputs": [],
   "source": [
    "직업별정당별_기부금합계 = 오바롬니.pivot_table(\n",
    "    '액수', aggfunc='sum', index='직업', columns='정당')"
   ]
  },
  {
   "cell_type": "code",
   "execution_count": 161,
   "metadata": {
    "collapsed": true
   },
   "outputs": [
    {
     "data": {
      "text/html": [
       "<div>\n",
       "<table border=\"1\" class=\"dataframe\">\n",
       "  <thead>\n",
       "    <tr style=\"text-align: right;\">\n",
       "      <th>정당</th>\n",
       "      <th>공화당</th>\n",
       "      <th>민주당</th>\n",
       "    </tr>\n",
       "    <tr>\n",
       "      <th>직업</th>\n",
       "      <th></th>\n",
       "      <th></th>\n",
       "    </tr>\n",
       "  </thead>\n",
       "  <tbody>\n",
       "    <tr>\n",
       "      <th>MIXED-MEDIA ARTIST / STORYTELLER</th>\n",
       "      <td>NaN</td>\n",
       "      <td>100.0</td>\n",
       "    </tr>\n",
       "    <tr>\n",
       "      <th>AREA VICE PRESIDENT</th>\n",
       "      <td>NaN</td>\n",
       "      <td>250.0</td>\n",
       "    </tr>\n",
       "    <tr>\n",
       "      <th>RESEARCH ASSOCIATE</th>\n",
       "      <td>NaN</td>\n",
       "      <td>100.0</td>\n",
       "    </tr>\n",
       "    <tr>\n",
       "      <th>TEACHER</th>\n",
       "      <td>NaN</td>\n",
       "      <td>500.0</td>\n",
       "    </tr>\n",
       "    <tr>\n",
       "      <th>THERAPIST</th>\n",
       "      <td>NaN</td>\n",
       "      <td>3900.0</td>\n",
       "    </tr>\n",
       "    <tr>\n",
       "      <th>-</th>\n",
       "      <td>NaN</td>\n",
       "      <td>5000.0</td>\n",
       "    </tr>\n",
       "    <tr>\n",
       "      <th>.NET PROGRAMMER</th>\n",
       "      <td>NaN</td>\n",
       "      <td>481.0</td>\n",
       "    </tr>\n",
       "    <tr>\n",
       "      <th>07/13/1972</th>\n",
       "      <td>NaN</td>\n",
       "      <td>98.0</td>\n",
       "    </tr>\n",
       "    <tr>\n",
       "      <th>12K ADVOCATE</th>\n",
       "      <td>NaN</td>\n",
       "      <td>150.0</td>\n",
       "    </tr>\n",
       "    <tr>\n",
       "      <th>13D</th>\n",
       "      <td>NaN</td>\n",
       "      <td>721.0</td>\n",
       "    </tr>\n",
       "    <tr>\n",
       "      <th>1SG RETIRED</th>\n",
       "      <td>NaN</td>\n",
       "      <td>210.0</td>\n",
       "    </tr>\n",
       "    <tr>\n",
       "      <th>1ST ASSISTANT DIRECTOR 2ND UNIT</th>\n",
       "      <td>NaN</td>\n",
       "      <td>35.0</td>\n",
       "    </tr>\n",
       "    <tr>\n",
       "      <th>1ST GRADE TEACHER</th>\n",
       "      <td>NaN</td>\n",
       "      <td>435.0</td>\n",
       "    </tr>\n",
       "    <tr>\n",
       "      <th>1ST VP WEALTH MANAGEMENT</th>\n",
       "      <td>NaN</td>\n",
       "      <td>559.0</td>\n",
       "    </tr>\n",
       "    <tr>\n",
       "      <th>22ND CENTURY REALTY</th>\n",
       "      <td>NaN</td>\n",
       "      <td>500.0</td>\n",
       "    </tr>\n",
       "    <tr>\n",
       "      <th>270 REGIONAL DIRECTOR</th>\n",
       "      <td>NaN</td>\n",
       "      <td>223.0</td>\n",
       "    </tr>\n",
       "    <tr>\n",
       "      <th>2LT, MEDICAL SERVICE CORPS</th>\n",
       "      <td>NaN</td>\n",
       "      <td>244.0</td>\n",
       "    </tr>\n",
       "    <tr>\n",
       "      <th>2ND GRADE TEACHER</th>\n",
       "      <td>NaN</td>\n",
       "      <td>1303.0</td>\n",
       "    </tr>\n",
       "    <tr>\n",
       "      <th>2ND GRADE TEACHER (ECE PREK-8 SELF-CON</th>\n",
       "      <td>NaN</td>\n",
       "      <td>25.0</td>\n",
       "    </tr>\n",
       "    <tr>\n",
       "      <th>2ND VICE PRESIDENT / SERVICE MANAGER</th>\n",
       "      <td>NaN</td>\n",
       "      <td>333.0</td>\n",
       "    </tr>\n",
       "  </tbody>\n",
       "</table>\n",
       "</div>"
      ],
      "text/plain": [
       "정당                                      공화당     민주당\n",
       "직업                                                 \n",
       "   MIXED-MEDIA ARTIST / STORYTELLER     NaN   100.0\n",
       " AREA VICE PRESIDENT                    NaN   250.0\n",
       " RESEARCH ASSOCIATE                     NaN   100.0\n",
       " TEACHER                                NaN   500.0\n",
       " THERAPIST                              NaN  3900.0\n",
       "-                                       NaN  5000.0\n",
       ".NET PROGRAMMER                         NaN   481.0\n",
       "07/13/1972                              NaN    98.0\n",
       "12K ADVOCATE                            NaN   150.0\n",
       "13D                                     NaN   721.0\n",
       "1SG RETIRED                             NaN   210.0\n",
       "1ST ASSISTANT DIRECTOR 2ND UNIT         NaN    35.0\n",
       "1ST GRADE TEACHER                       NaN   435.0\n",
       "1ST VP WEALTH MANAGEMENT                NaN   559.0\n",
       "22ND CENTURY REALTY                     NaN   500.0\n",
       "270 REGIONAL DIRECTOR                   NaN   223.0\n",
       "2LT, MEDICAL SERVICE CORPS              NaN   244.0\n",
       "2ND GRADE TEACHER                       NaN  1303.0\n",
       "2ND GRADE TEACHER (ECE PREK-8 SELF-CON  NaN    25.0\n",
       "2ND VICE PRESIDENT / SERVICE MANAGER    NaN   333.0"
      ]
     },
     "execution_count": 161,
     "metadata": {},
     "output_type": "execute_result"
    }
   ],
   "source": [
    "직업별정당별_기부금합계[:20]"
   ]
  },
  {
   "cell_type": "markdown",
   "metadata": {},
   "source": [
    "큰손"
   ]
  },
  {
   "cell_type": "code",
   "execution_count": 190,
   "metadata": {
    "collapsed": false
   },
   "outputs": [],
   "source": [
    "부자직업 = 직업별정당별_기부금합계[\n",
    "    직업별정당별_기부금합계.sum(1) > 2*10**6]"
   ]
  },
  {
   "cell_type": "code",
   "execution_count": 191,
   "metadata": {
    "collapsed": true
   },
   "outputs": [
    {
     "data": {
      "text/html": [
       "<div>\n",
       "<table border=\"1\" class=\"dataframe\">\n",
       "  <thead>\n",
       "    <tr style=\"text-align: right;\">\n",
       "      <th>정당</th>\n",
       "      <th>공화당</th>\n",
       "      <th>민주당</th>\n",
       "    </tr>\n",
       "    <tr>\n",
       "      <th>직업</th>\n",
       "      <th></th>\n",
       "      <th></th>\n",
       "    </tr>\n",
       "  </thead>\n",
       "  <tbody>\n",
       "    <tr>\n",
       "      <th>ATTORNEY</th>\n",
       "      <td>5364718.82</td>\n",
       "      <td>11141982.97</td>\n",
       "    </tr>\n",
       "    <tr>\n",
       "      <th>CEO</th>\n",
       "      <td>2324297.03</td>\n",
       "      <td>2074974.79</td>\n",
       "    </tr>\n",
       "    <tr>\n",
       "      <th>CONSULTANT</th>\n",
       "      <td>1424894.01</td>\n",
       "      <td>2459912.71</td>\n",
       "    </tr>\n",
       "    <tr>\n",
       "      <th>EXECUTIVE</th>\n",
       "      <td>2300947.03</td>\n",
       "      <td>1355161.05</td>\n",
       "    </tr>\n",
       "    <tr>\n",
       "      <th>HOMEMAKER</th>\n",
       "      <td>8147446.22</td>\n",
       "      <td>4248875.80</td>\n",
       "    </tr>\n",
       "    <tr>\n",
       "      <th>INVESTOR</th>\n",
       "      <td>1537595.12</td>\n",
       "      <td>884133.00</td>\n",
       "    </tr>\n",
       "    <tr>\n",
       "      <th>LAWYER</th>\n",
       "      <td>7705.20</td>\n",
       "      <td>3160478.87</td>\n",
       "    </tr>\n",
       "    <tr>\n",
       "      <th>NOT PROVIDED</th>\n",
       "      <td>11396894.84</td>\n",
       "      <td>4866973.96</td>\n",
       "    </tr>\n",
       "    <tr>\n",
       "      <th>PHYSICIAN</th>\n",
       "      <td>1368023.96</td>\n",
       "      <td>3735124.94</td>\n",
       "    </tr>\n",
       "    <tr>\n",
       "      <th>PRESIDENT</th>\n",
       "      <td>2491244.89</td>\n",
       "      <td>1878509.95</td>\n",
       "    </tr>\n",
       "  </tbody>\n",
       "</table>\n",
       "</div>"
      ],
      "text/plain": [
       "정당                    공화당          민주당\n",
       "직업                                    \n",
       "ATTORNEY       5364718.82  11141982.97\n",
       "CEO            2324297.03   2074974.79\n",
       "CONSULTANT     1424894.01   2459912.71\n",
       "EXECUTIVE      2300947.03   1355161.05\n",
       "HOMEMAKER      8147446.22   4248875.80\n",
       "INVESTOR       1537595.12    884133.00\n",
       "LAWYER            7705.20   3160478.87\n",
       "NOT PROVIDED  11396894.84   4866973.96\n",
       "PHYSICIAN      1368023.96   3735124.94\n",
       "PRESIDENT      2491244.89   1878509.95"
      ]
     },
     "execution_count": 191,
     "metadata": {},
     "output_type": "execute_result"
    }
   ],
   "source": [
    "부자직업[:10]"
   ]
  },
  {
   "cell_type": "code",
   "execution_count": 192,
   "metadata": {
    "collapsed": true
   },
   "outputs": [],
   "source": [
    "%matplotlib inline"
   ]
  },
  {
   "cell_type": "code",
   "execution_count": 195,
   "metadata": {
    "collapsed": true
   },
   "outputs": [
    {
     "data": {
      "text/plain": [
       "<matplotlib.axes._subplots.AxesSubplot at 0x1785ae10>"
      ]
     },
     "execution_count": 195,
     "metadata": {},
     "output_type": "execute_result"
    },
    {
     "data": {
      "image/png": "[encoded data removed]",
      "text/plain": [
       "<matplotlib.figure.Figure at 0x1785a3c8>"
      ]
     },
     "metadata": {},
     "output_type": "display_data"
    }
   ],
   "source": [
    "부자직업.plot(kind='barh')"
   ]
  },
  {
   "cell_type": "markdown",
   "metadata": {},
   "source": [
    "\"오바마, 롬니 어떤 직업들이 많이 지지했을까?\""
   ]
  },
  {
   "cell_type": "code",
   "execution_count": 196,
   "metadata": {
    "collapsed": true
   },
   "outputs": [],
   "source": [
    "후보별 = 오바롬니.groupby('후보자')"
   ]
  },
  {
   "cell_type": "code",
   "execution_count": 197,
   "metadata": {
    "collapsed": true
   },
   "outputs": [],
   "source": [
    "def get_top_amounts(group, key, n=5):\n",
    "    # key로 지정된 열 기준으로 분류해 기부금 액수 합계 산출\n",
    "    totals = group.groupby(key)['액수'].sum()\n",
    "    return totals.sort_values()[::-1][-n:]"
   ]
  },
  {
   "cell_type": "code",
   "execution_count": 199,
   "metadata": {
    "collapsed": true
   },
   "outputs": [
    {
     "data": {
      "text/html": [
       "<div>\n",
       "<table border=\"1\" class=\"dataframe\">\n",
       "  <thead>\n",
       "    <tr style=\"text-align: right;\">\n",
       "      <th>후보자</th>\n",
       "      <th>Obama, Barack</th>\n",
       "      <th>Romney, Mitt</th>\n",
       "    </tr>\n",
       "    <tr>\n",
       "      <th>직업</th>\n",
       "      <th></th>\n",
       "      <th></th>\n",
       "    </tr>\n",
       "  </thead>\n",
       "  <tbody>\n",
       "    <tr>\n",
       "      <th>3RD GENERATION FAMILY BUSINESS OWNER</th>\n",
       "      <td>NaN</td>\n",
       "      <td>3.0</td>\n",
       "    </tr>\n",
       "    <tr>\n",
       "      <th>ADMINISTRATION/INSTRUCTOR</th>\n",
       "      <td>3.0</td>\n",
       "      <td>NaN</td>\n",
       "    </tr>\n",
       "    <tr>\n",
       "      <th>AFFORDABLE REAL ESTATE DEVELOPER</th>\n",
       "      <td>NaN</td>\n",
       "      <td>3.0</td>\n",
       "    </tr>\n",
       "    <tr>\n",
       "      <th>CHICKEN GRADER</th>\n",
       "      <td>NaN</td>\n",
       "      <td>5.0</td>\n",
       "    </tr>\n",
       "    <tr>\n",
       "      <th>COMPUTER ASSISTANT</th>\n",
       "      <td>3.0</td>\n",
       "      <td>NaN</td>\n",
       "    </tr>\n",
       "    <tr>\n",
       "      <th>DIRECTOR REISCHAUER CENTER FOR EAST A</th>\n",
       "      <td>NaN</td>\n",
       "      <td>5.0</td>\n",
       "    </tr>\n",
       "    <tr>\n",
       "      <th>IFC CONTRACTING SOLUTIONS</th>\n",
       "      <td>NaN</td>\n",
       "      <td>3.0</td>\n",
       "    </tr>\n",
       "    <tr>\n",
       "      <th>INDEPENDENT PROFESSIONAL</th>\n",
       "      <td>NaN</td>\n",
       "      <td>3.0</td>\n",
       "    </tr>\n",
       "    <tr>\n",
       "      <th>LAN/WAN ANALYST</th>\n",
       "      <td>3.0</td>\n",
       "      <td>NaN</td>\n",
       "    </tr>\n",
       "    <tr>\n",
       "      <th>LEAD UI/UX DEVELOPER</th>\n",
       "      <td>3.0</td>\n",
       "      <td>NaN</td>\n",
       "    </tr>\n",
       "    <tr>\n",
       "      <th>POLICY/ LAWYER</th>\n",
       "      <td>3.0</td>\n",
       "      <td>NaN</td>\n",
       "    </tr>\n",
       "    <tr>\n",
       "      <th>REMODELER &amp; SEMI RETIRED</th>\n",
       "      <td>NaN</td>\n",
       "      <td>3.0</td>\n",
       "    </tr>\n",
       "    <tr>\n",
       "      <th>SPRINKLER FITTER FIRE PROTECTION SPECI</th>\n",
       "      <td>3.0</td>\n",
       "      <td>NaN</td>\n",
       "    </tr>\n",
       "    <tr>\n",
       "      <th>SR MGR</th>\n",
       "      <td>3.0</td>\n",
       "      <td>NaN</td>\n",
       "    </tr>\n",
       "  </tbody>\n",
       "</table>\n",
       "</div>"
      ],
      "text/plain": [
       "후보자                                     Obama, Barack  Romney, Mitt\n",
       "직업                                                                 \n",
       "3RD GENERATION FAMILY BUSINESS OWNER              NaN           3.0\n",
       "ADMINISTRATION/INSTRUCTOR                         3.0           NaN\n",
       "AFFORDABLE REAL ESTATE DEVELOPER                  NaN           3.0\n",
       "CHICKEN GRADER                                    NaN           5.0\n",
       "COMPUTER ASSISTANT                                3.0           NaN\n",
       "DIRECTOR REISCHAUER CENTER FOR EAST A             NaN           5.0\n",
       "IFC CONTRACTING SOLUTIONS                         NaN           3.0\n",
       "INDEPENDENT PROFESSIONAL                          NaN           3.0\n",
       "LAN/WAN ANALYST                                   3.0           NaN\n",
       "LEAD UI/UX DEVELOPER                              3.0           NaN\n",
       "POLICY/ LAWYER                                    3.0           NaN\n",
       "REMODELER & SEMI RETIRED                          NaN           3.0\n",
       "SPRINKLER FITTER FIRE PROTECTION SPECI            3.0           NaN\n",
       "SR MGR                                            3.0           NaN"
      ]
     },
     "execution_count": 199,
     "metadata": {},
     "output_type": "execute_result"
    }
   ],
   "source": [
    "후보별.apply(get_top_amounts, '직업', n=7).unstack(0)"
   ]
  },
  {
   "cell_type": "code",
   "execution_count": 200,
   "metadata": {
    "collapsed": true
   },
   "outputs": [],
   "source": [
    "기부금액구간 = [0, 1, 10, 100, 1000, 10**4, 10**5, 10**6, 10**7]\n",
    "labels = pd.cut(오바롬니.액수, 기부금액구간)"
   ]
  },
  {
   "cell_type": "code",
   "execution_count": 203,
   "metadata": {
    "collapsed": false
   },
   "outputs": [
    {
     "data": {
      "text/plain": [
       "(10, 100]              404133\n",
       "(100, 1000]            197348\n",
       "(1000, 10000]           48470\n",
       "(1, 10]                 43751\n",
       "(0, 1]                    570\n",
       "(1000000, 10000000]         4\n",
       "(100000, 1000000]           3\n",
       "(10000, 100000]             3\n",
       "Name: 액수, dtype: int64"
      ]
     },
     "execution_count": 203,
     "metadata": {},
     "output_type": "execute_result"
    }
   ],
   "source": [
    "labels.value_counts()"
   ]
  },
  {
   "cell_type": "code",
   "execution_count": 205,
   "metadata": {
    "collapsed": true
   },
   "outputs": [
    {
     "data": {
      "text/plain": [
       "<matplotlib.axes._subplots.AxesSubplot at 0x19774ac8>"
      ]
     },
     "execution_count": 205,
     "metadata": {},
     "output_type": "execute_result"
    },
    {
     "data": {
      "image/png": "[encoded data removed]",
      "text/plain": [
       "<matplotlib.figure.Figure at 0x1977c518>"
      ]
     },
     "metadata": {},
     "output_type": "display_data"
    }
   ],
   "source": [
    "labels.value_counts().plot(kind='barh')"
   ]
  },
  {
   "cell_type": "markdown",
   "metadata": {},
   "source": [
    "\"오바마는 소액 기부자들의 지지를 많이 받았나?\""
   ]
  },
  {
   "cell_type": "code",
   "execution_count": 206,
   "metadata": {
    "collapsed": true
   },
   "outputs": [],
   "source": [
    "후보별기부금액단위별 = 오바롬니.groupby(['후보자', labels])"
   ]
  },
  {
   "cell_type": "code",
   "execution_count": 209,
   "metadata": {
    "collapsed": true
   },
   "outputs": [
    {
     "data": {
      "text/html": [
       "<div>\n",
       "<table border=\"1\" class=\"dataframe\">\n",
       "  <thead>\n",
       "    <tr style=\"text-align: right;\">\n",
       "      <th>후보자</th>\n",
       "      <th>Obama, Barack</th>\n",
       "      <th>Romney, Mitt</th>\n",
       "    </tr>\n",
       "    <tr>\n",
       "      <th>액수</th>\n",
       "      <th></th>\n",
       "      <th></th>\n",
       "    </tr>\n",
       "  </thead>\n",
       "  <tbody>\n",
       "    <tr>\n",
       "      <th>(0, 1]</th>\n",
       "      <td>493.0</td>\n",
       "      <td>77.0</td>\n",
       "    </tr>\n",
       "    <tr>\n",
       "      <th>(1, 10]</th>\n",
       "      <td>40070.0</td>\n",
       "      <td>3681.0</td>\n",
       "    </tr>\n",
       "    <tr>\n",
       "      <th>(10, 100]</th>\n",
       "      <td>372280.0</td>\n",
       "      <td>31853.0</td>\n",
       "    </tr>\n",
       "    <tr>\n",
       "      <th>(100, 1000]</th>\n",
       "      <td>153991.0</td>\n",
       "      <td>43357.0</td>\n",
       "    </tr>\n",
       "    <tr>\n",
       "      <th>(1000, 10000]</th>\n",
       "      <td>22284.0</td>\n",
       "      <td>26186.0</td>\n",
       "    </tr>\n",
       "    <tr>\n",
       "      <th>(10000, 100000]</th>\n",
       "      <td>2.0</td>\n",
       "      <td>1.0</td>\n",
       "    </tr>\n",
       "    <tr>\n",
       "      <th>(100000, 1000000]</th>\n",
       "      <td>3.0</td>\n",
       "      <td>NaN</td>\n",
       "    </tr>\n",
       "    <tr>\n",
       "      <th>(1000000, 10000000]</th>\n",
       "      <td>4.0</td>\n",
       "      <td>NaN</td>\n",
       "    </tr>\n",
       "  </tbody>\n",
       "</table>\n",
       "</div>"
      ],
      "text/plain": [
       "후보자                  Obama, Barack  Romney, Mitt\n",
       "액수                                              \n",
       "(0, 1]                       493.0          77.0\n",
       "(1, 10]                    40070.0        3681.0\n",
       "(10, 100]                 372280.0       31853.0\n",
       "(100, 1000]               153991.0       43357.0\n",
       "(1000, 10000]              22284.0       26186.0\n",
       "(10000, 100000]                2.0           1.0\n",
       "(100000, 1000000]              3.0           NaN\n",
       "(1000000, 10000000]            4.0           NaN"
      ]
     },
     "execution_count": 209,
     "metadata": {},
     "output_type": "execute_result"
    }
   ],
   "source": [
    "후보별기부금액단위별.size().unstack(0)"
   ]
  },
  {
   "cell_type": "code",
   "execution_count": null,
   "metadata": {
    "collapsed": true
   },
   "outputs": [],
   "source": []
  }
 ],
 "metadata": {
  "kernelspec": {
   "display_name": "Python [conda root]",
   "language": "python",
   "name": "conda-root-py"
  },
  "language_info": {
   "codemirror_mode": {
    "name": "ipython",
    "version": 3
   },
   "file_extension": ".py",
   "mimetype": "text/x-python",
   "name": "python",
   "nbconvert_exporter": "python",
   "pygments_lexer": "ipython3",
   "version": "3.5.2"
  }
 },
 "nbformat": 4,
 "nbformat_minor": 1
}
