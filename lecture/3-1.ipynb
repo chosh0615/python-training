{
 "cells": [
  {
   "cell_type": "code",
   "execution_count": 1,
   "metadata": {
    "collapsed": true
   },
   "outputs": [],
   "source": [
    "import pandas as pd"
   ]
  },
  {
   "cell_type": "code",
   "execution_count": 2,
   "metadata": {
    "collapsed": true
   },
   "outputs": [],
   "source": [
    "import baseball"
   ]
  },
  {
   "cell_type": "code",
   "execution_count": 4,
   "metadata": {
    "collapsed": true
   },
   "outputs": [],
   "source": [
    "파일목록 = []\n",
    "for 시즌 in [2013, 2014, 2015]:\n",
    "    경로 = 'data/NC Dinos {}.xlsx'.format(시즌)\n",
    "    파일목록.append(경로)\n",
    "    \n",
    "NC시즌 = baseball.from_files(파일목록)"
   ]
  },
  {
   "cell_type": "code",
   "execution_count": 5,
   "metadata": {
    "collapsed": true
   },
   "outputs": [
    {
     "data": {
      "text/html": [
       "<div>\n",
       "<table border=\"1\" class=\"dataframe\">\n",
       "  <thead>\n",
       "    <tr style=\"text-align: right;\">\n",
       "      <th></th>\n",
       "      <th>타석</th>\n",
       "      <th>안타</th>\n",
       "      <th>홈런</th>\n",
       "    </tr>\n",
       "    <tr>\n",
       "      <th>선수명</th>\n",
       "      <th></th>\n",
       "      <th></th>\n",
       "      <th></th>\n",
       "    </tr>\n",
       "  </thead>\n",
       "  <tbody>\n",
       "    <tr>\n",
       "      <th>모창민</th>\n",
       "      <td>436</td>\n",
       "      <td>109</td>\n",
       "      <td>12</td>\n",
       "    </tr>\n",
       "    <tr>\n",
       "      <th>이호준</th>\n",
       "      <td>508</td>\n",
       "      <td>123</td>\n",
       "      <td>20</td>\n",
       "    </tr>\n",
       "    <tr>\n",
       "      <th>김종호</th>\n",
       "      <td>546</td>\n",
       "      <td>129</td>\n",
       "      <td>0</td>\n",
       "    </tr>\n",
       "  </tbody>\n",
       "</table>\n",
       "</div>"
      ],
      "text/plain": [
       "      타석   안타  홈런\n",
       "선수명              \n",
       "모창민  436  109  12\n",
       "이호준  508  123  20\n",
       "김종호  546  129   0"
      ]
     },
     "execution_count": 5,
     "metadata": {},
     "output_type": "execute_result"
    }
   ],
   "source": [
    "NC시즌[0][:3]"
   ]
  },
  {
   "cell_type": "markdown",
   "metadata": {},
   "source": [
    "### 정렬과 순위"
   ]
  },
  {
   "cell_type": "code",
   "execution_count": 7,
   "metadata": {
    "collapsed": false
   },
   "outputs": [],
   "source": [
    "NC15 = NC시즌[2]"
   ]
  },
  {
   "cell_type": "code",
   "execution_count": 8,
   "metadata": {
    "collapsed": true
   },
   "outputs": [
    {
     "data": {
      "text/plain": [
       "선수명\n",
       "테임즈    47\n",
       "나성범    28\n",
       "이호준    24\n",
       "손시헌    13\n",
       "지석훈    11\n",
       "조영훈     8\n",
       "김태군     6\n",
       "모창민     6\n",
       "이종욱     5\n",
       "김종호     4\n",
       "박민우     3\n",
       "최재원     2\n",
       "조평호     1\n",
       "박정준     0\n",
       "용덕한     0\n",
       "강민국     0\n",
       "이창섭     0\n",
       "김준완     0\n",
       "강구성     0\n",
       "김태진     0\n",
       "Name: 홈런, dtype: int64"
      ]
     },
     "execution_count": 8,
     "metadata": {},
     "output_type": "execute_result"
    }
   ],
   "source": [
    "NC15.홈런.sort_values(ascending=False)"
   ]
  },
  {
   "cell_type": "code",
   "execution_count": 12,
   "metadata": {
    "collapsed": true
   },
   "outputs": [
    {
     "data": {
      "text/plain": [
       "선수명\n",
       "테임즈     1.0\n",
       "나성범     2.0\n",
       "이호준     3.0\n",
       "손시헌     4.0\n",
       "지석훈     5.0\n",
       "조영훈     6.0\n",
       "모창민     8.0\n",
       "김태군     8.0\n",
       "이종욱     9.0\n",
       "김종호    10.0\n",
       "박민우    11.0\n",
       "최재원    12.0\n",
       "조평호    13.0\n",
       "강민국    20.0\n",
       "용덕한    20.0\n",
       "박정준    20.0\n",
       "이창섭    20.0\n",
       "김준완    20.0\n",
       "강구성    20.0\n",
       "김태진    20.0\n",
       "Name: 홈런, dtype: float64"
      ]
     },
     "execution_count": 12,
     "metadata": {},
     "output_type": "execute_result"
    }
   ],
   "source": [
    "NC15.홈런.rank(ascending=False, method='max').sort_values()"
   ]
  },
  {
   "cell_type": "markdown",
   "metadata": {},
   "source": [
    "## 기술통계"
   ]
  },
  {
   "cell_type": "code",
   "execution_count": 13,
   "metadata": {
    "collapsed": false
   },
   "outputs": [
    {
     "data": {
      "text/plain": [
       "타석    5444\n",
       "안타    1380\n",
       "홈런     158\n",
       "dtype: int64"
      ]
     },
     "execution_count": 13,
     "metadata": {},
     "output_type": "execute_result"
    }
   ],
   "source": [
    "NC15.sum()"
   ]
  },
  {
   "cell_type": "code",
   "execution_count": 14,
   "metadata": {
    "collapsed": true
   },
   "outputs": [
    {
     "data": {
      "text/plain": [
       "선수명\n",
       "테임즈    822\n",
       "나성범    834\n",
       "박민우    778\n",
       "이호준    674\n",
       "김종호    615\n",
       "조영훈    189\n",
       "손시헌    629\n",
       "이종욱    627\n",
       "모창민    307\n",
       "지석훈    588\n",
       "용덕한     61\n",
       "최재원    125\n",
       "박정준     32\n",
       "김태군    587\n",
       "조평호     31\n",
       "이창섭      8\n",
       "김준완     64\n",
       "강구성      6\n",
       "강민국      2\n",
       "김태진      3\n",
       "dtype: int64"
      ]
     },
     "execution_count": 14,
     "metadata": {},
     "output_type": "execute_result"
    }
   ],
   "source": [
    "NC15.sum(1)"
   ]
  },
  {
   "cell_type": "code",
   "execution_count": 15,
   "metadata": {
    "collapsed": true
   },
   "outputs": [],
   "source": [
    "안타목록 = []\n",
    "for 프레임 in NC시즌:    \n",
    "    안타목록.append(프레임.안타)"
   ]
  },
  {
   "cell_type": "code",
   "execution_count": 19,
   "metadata": {
    "collapsed": true
   },
   "outputs": [],
   "source": [
    "시즌안타 = pd.concat(안타목록, axis=1)"
   ]
  },
  {
   "cell_type": "code",
   "execution_count": 21,
   "metadata": {
    "collapsed": true
   },
   "outputs": [
    {
     "data": {
      "text/plain": [
       "강구성       1.0\n",
       "강민국       0.0\n",
       "강진성       1.0\n",
       "권희동      63.0\n",
       "김동건       2.0\n",
       "김성욱       5.0\n",
       "김종찬       1.0\n",
       "김종호     254.0\n",
       "김준완      12.0\n",
       "김태군     107.0\n",
       "김태우       1.0\n",
       "김태진       0.0\n",
       "나성범     439.0\n",
       "노진혁       3.0\n",
       "마낙길       9.0\n",
       "모창민     281.0\n",
       "박명환*      0.0\n",
       "박민우     293.0\n",
       "박정준      49.0\n",
       "손시헌     198.0\n",
       "용덕한      12.0\n",
       "이상호      31.0\n",
       "이승호       0.0\n",
       "이종욱     244.0\n",
       "이창섭       0.0\n",
       "이현곤      38.0\n",
       "이호준     370.0\n",
       "조영훈     171.0\n",
       "조평호      29.0\n",
       "지석훈     237.0\n",
       "차화준      24.0\n",
       "최재원      21.0\n",
       "테임즈     332.0\n",
       "허준        5.0\n",
       "dtype: float64"
      ]
     },
     "execution_count": 21,
     "metadata": {},
     "output_type": "execute_result"
    }
   ],
   "source": [
    "시즌안타.sum(1)"
   ]
  },
  {
   "cell_type": "markdown",
   "metadata": {},
   "source": [
    "### 상관관계와 공분산"
   ]
  },
  {
   "cell_type": "code",
   "execution_count": 31,
   "metadata": {
    "collapsed": true
   },
   "outputs": [],
   "source": [
    "stock_px = pd.read_csv('data/pydata-book/stock_px.csv', \n",
    "                       index_col=0)"
   ]
  },
  {
   "cell_type": "code",
   "execution_count": 36,
   "metadata": {
    "collapsed": true
   },
   "outputs": [
    {
     "data": {
      "text/html": [
       "<div>\n",
       "<table border=\"1\" class=\"dataframe\">\n",
       "  <thead>\n",
       "    <tr style=\"text-align: right;\">\n",
       "      <th></th>\n",
       "      <th>AAPL</th>\n",
       "      <th>MSFT</th>\n",
       "      <th>XOM</th>\n",
       "      <th>SPX</th>\n",
       "    </tr>\n",
       "  </thead>\n",
       "  <tbody>\n",
       "    <tr>\n",
       "      <th>2003-01-02 00:00:00</th>\n",
       "      <td>NaN</td>\n",
       "      <td>NaN</td>\n",
       "      <td>NaN</td>\n",
       "      <td>NaN</td>\n",
       "    </tr>\n",
       "    <tr>\n",
       "      <th>2003-01-03 00:00:00</th>\n",
       "      <td>0.006757</td>\n",
       "      <td>0.001421</td>\n",
       "      <td>0.000684</td>\n",
       "      <td>-0.000484</td>\n",
       "    </tr>\n",
       "    <tr>\n",
       "      <th>2003-01-06 00:00:00</th>\n",
       "      <td>0.000000</td>\n",
       "      <td>0.017975</td>\n",
       "      <td>0.024624</td>\n",
       "      <td>0.022474</td>\n",
       "    </tr>\n",
       "    <tr>\n",
       "      <th>2003-01-07 00:00:00</th>\n",
       "      <td>-0.002685</td>\n",
       "      <td>0.019052</td>\n",
       "      <td>-0.033712</td>\n",
       "      <td>-0.006545</td>\n",
       "    </tr>\n",
       "    <tr>\n",
       "      <th>2003-01-08 00:00:00</th>\n",
       "      <td>-0.020188</td>\n",
       "      <td>-0.028272</td>\n",
       "      <td>-0.004145</td>\n",
       "      <td>-0.014086</td>\n",
       "    </tr>\n",
       "    <tr>\n",
       "      <th>2003-01-09 00:00:00</th>\n",
       "      <td>0.008242</td>\n",
       "      <td>0.029094</td>\n",
       "      <td>0.021159</td>\n",
       "      <td>0.019386</td>\n",
       "    </tr>\n",
       "    <tr>\n",
       "      <th>2003-01-10 00:00:00</th>\n",
       "      <td>0.002725</td>\n",
       "      <td>0.001824</td>\n",
       "      <td>-0.013927</td>\n",
       "      <td>0.000000</td>\n",
       "    </tr>\n",
       "    <tr>\n",
       "      <th>2003-01-13 00:00:00</th>\n",
       "      <td>-0.005435</td>\n",
       "      <td>0.008648</td>\n",
       "      <td>-0.004134</td>\n",
       "      <td>-0.001412</td>\n",
       "    </tr>\n",
       "    <tr>\n",
       "      <th>2003-01-14 00:00:00</th>\n",
       "      <td>-0.002732</td>\n",
       "      <td>0.010379</td>\n",
       "      <td>0.008993</td>\n",
       "      <td>0.005830</td>\n",
       "    </tr>\n",
       "    <tr>\n",
       "      <th>2003-01-15 00:00:00</th>\n",
       "      <td>-0.010959</td>\n",
       "      <td>-0.012506</td>\n",
       "      <td>-0.013713</td>\n",
       "      <td>-0.014426</td>\n",
       "    </tr>\n",
       "  </tbody>\n",
       "</table>\n",
       "</div>"
      ],
      "text/plain": [
       "                         AAPL      MSFT       XOM       SPX\n",
       "2003-01-02 00:00:00       NaN       NaN       NaN       NaN\n",
       "2003-01-03 00:00:00  0.006757  0.001421  0.000684 -0.000484\n",
       "2003-01-06 00:00:00  0.000000  0.017975  0.024624  0.022474\n",
       "2003-01-07 00:00:00 -0.002685  0.019052 -0.033712 -0.006545\n",
       "2003-01-08 00:00:00 -0.020188 -0.028272 -0.004145 -0.014086\n",
       "2003-01-09 00:00:00  0.008242  0.029094  0.021159  0.019386\n",
       "2003-01-10 00:00:00  0.002725  0.001824 -0.013927  0.000000\n",
       "2003-01-13 00:00:00 -0.005435  0.008648 -0.004134 -0.001412\n",
       "2003-01-14 00:00:00 -0.002732  0.010379  0.008993  0.005830\n",
       "2003-01-15 00:00:00 -0.010959 -0.012506 -0.013713 -0.014426"
      ]
     },
     "execution_count": 36,
     "metadata": {},
     "output_type": "execute_result"
    }
   ],
   "source": [
    "returns = stock_px.pct_change()\n",
    "returns[:10]"
   ]
  },
  {
   "cell_type": "markdown",
   "metadata": {},
   "source": [
    "MSFT와 AAPL의 상관도"
   ]
  },
  {
   "cell_type": "code",
   "execution_count": 40,
   "metadata": {
    "collapsed": false
   },
   "outputs": [
    {
     "data": {
      "text/plain": [
       "0.44469678861732265"
      ]
     },
     "execution_count": 40,
     "metadata": {},
     "output_type": "execute_result"
    }
   ],
   "source": [
    "returns.MSFT.corr(returns.AAPL)"
   ]
  },
  {
   "cell_type": "code",
   "execution_count": 42,
   "metadata": {
    "collapsed": false
   },
   "outputs": [
    {
     "data": {
      "text/html": [
       "<div>\n",
       "<table border=\"1\" class=\"dataframe\">\n",
       "  <thead>\n",
       "    <tr style=\"text-align: right;\">\n",
       "      <th></th>\n",
       "      <th>AAPL</th>\n",
       "      <th>MSFT</th>\n",
       "      <th>XOM</th>\n",
       "      <th>SPX</th>\n",
       "    </tr>\n",
       "  </thead>\n",
       "  <tbody>\n",
       "    <tr>\n",
       "      <th>AAPL</th>\n",
       "      <td>1.000000</td>\n",
       "      <td>0.444697</td>\n",
       "      <td>0.385927</td>\n",
       "      <td>0.564474</td>\n",
       "    </tr>\n",
       "    <tr>\n",
       "      <th>MSFT</th>\n",
       "      <td>0.444697</td>\n",
       "      <td>1.000000</td>\n",
       "      <td>0.534691</td>\n",
       "      <td>0.714763</td>\n",
       "    </tr>\n",
       "    <tr>\n",
       "      <th>XOM</th>\n",
       "      <td>0.385927</td>\n",
       "      <td>0.534691</td>\n",
       "      <td>1.000000</td>\n",
       "      <td>0.764643</td>\n",
       "    </tr>\n",
       "    <tr>\n",
       "      <th>SPX</th>\n",
       "      <td>0.564474</td>\n",
       "      <td>0.714763</td>\n",
       "      <td>0.764643</td>\n",
       "      <td>1.000000</td>\n",
       "    </tr>\n",
       "  </tbody>\n",
       "</table>\n",
       "</div>"
      ],
      "text/plain": [
       "          AAPL      MSFT       XOM       SPX\n",
       "AAPL  1.000000  0.444697  0.385927  0.564474\n",
       "MSFT  0.444697  1.000000  0.534691  0.714763\n",
       "XOM   0.385927  0.534691  1.000000  0.764643\n",
       "SPX   0.564474  0.714763  0.764643  1.000000"
      ]
     },
     "execution_count": 42,
     "metadata": {},
     "output_type": "execute_result"
    }
   ],
   "source": [
    "returns.corr()"
   ]
  },
  {
   "cell_type": "code",
   "execution_count": 43,
   "metadata": {
    "collapsed": false
   },
   "outputs": [
    {
     "data": {
      "text/html": [
       "<div>\n",
       "<table border=\"1\" class=\"dataframe\">\n",
       "  <thead>\n",
       "    <tr style=\"text-align: right;\">\n",
       "      <th></th>\n",
       "      <th>AAPL</th>\n",
       "      <th>MSFT</th>\n",
       "      <th>XOM</th>\n",
       "      <th>SPX</th>\n",
       "    </tr>\n",
       "  </thead>\n",
       "  <tbody>\n",
       "    <tr>\n",
       "      <th>AAPL</th>\n",
       "      <td>0.000600</td>\n",
       "      <td>0.000193</td>\n",
       "      <td>0.000158</td>\n",
       "      <td>0.000186</td>\n",
       "    </tr>\n",
       "    <tr>\n",
       "      <th>MSFT</th>\n",
       "      <td>0.000193</td>\n",
       "      <td>0.000314</td>\n",
       "      <td>0.000158</td>\n",
       "      <td>0.000171</td>\n",
       "    </tr>\n",
       "    <tr>\n",
       "      <th>XOM</th>\n",
       "      <td>0.000158</td>\n",
       "      <td>0.000158</td>\n",
       "      <td>0.000279</td>\n",
       "      <td>0.000172</td>\n",
       "    </tr>\n",
       "    <tr>\n",
       "      <th>SPX</th>\n",
       "      <td>0.000186</td>\n",
       "      <td>0.000171</td>\n",
       "      <td>0.000172</td>\n",
       "      <td>0.000181</td>\n",
       "    </tr>\n",
       "  </tbody>\n",
       "</table>\n",
       "</div>"
      ],
      "text/plain": [
       "          AAPL      MSFT       XOM       SPX\n",
       "AAPL  0.000600  0.000193  0.000158  0.000186\n",
       "MSFT  0.000193  0.000314  0.000158  0.000171\n",
       "XOM   0.000158  0.000158  0.000279  0.000172\n",
       "SPX   0.000186  0.000171  0.000172  0.000181"
      ]
     },
     "execution_count": 43,
     "metadata": {},
     "output_type": "execute_result"
    }
   ],
   "source": [
    "returns.cov()"
   ]
  },
  {
   "cell_type": "code",
   "execution_count": null,
   "metadata": {
    "collapsed": true
   },
   "outputs": [],
   "source": []
  }
 ],
 "metadata": {
  "anaconda-cloud": {},
  "kernelspec": {
   "display_name": "Python [conda root]",
   "language": "python",
   "name": "conda-root-py"
  },
  "language_info": {
   "codemirror_mode": {
    "name": "ipython",
    "version": 3
   },
   "file_extension": ".py",
   "mimetype": "text/x-python",
   "name": "python",
   "nbconvert_exporter": "python",
   "pygments_lexer": "ipython3",
   "version": "3.5.2"
  }
 },
 "nbformat": 4,
 "nbformat_minor": 1
}
