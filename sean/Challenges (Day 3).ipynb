{
 "cells": [
  {
   "cell_type": "code",
   "execution_count": 5,
   "metadata": {
    "collapsed": true
   },
   "outputs": [],
   "source": [
    "import pandas as pd"
   ]
  },
  {
   "cell_type": "code",
   "execution_count": 6,
   "metadata": {
    "collapsed": true
   },
   "outputs": [],
   "source": [
    "날씨데이터경로 = 'data/weather.xlsx'"
   ]
  },
  {
   "cell_type": "code",
   "execution_count": 9,
   "metadata": {
    "collapsed": false
   },
   "outputs": [],
   "source": [
    "날씨 = pd.read_excel(날씨데이터경로)"
   ]
  },
  {
   "cell_type": "code",
   "execution_count": 13,
   "metadata": {
    "collapsed": false
   },
   "outputs": [],
   "source": [
    "날씨 =날씨[['date', 'location', 'avgTemp', 'weather']]"
   ]
  },
  {
   "cell_type": "code",
   "execution_count": 14,
   "metadata": {
    "collapsed": false
   },
   "outputs": [
    {
     "data": {
      "text/html": [
       "<div>\n",
       "<table border=\"1\" class=\"dataframe\">\n",
       "  <thead>\n",
       "    <tr style=\"text-align: right;\">\n",
       "      <th></th>\n",
       "      <th>date</th>\n",
       "      <th>location</th>\n",
       "      <th>avgTemp</th>\n",
       "      <th>weather</th>\n",
       "    </tr>\n",
       "  </thead>\n",
       "  <tbody>\n",
       "    <tr>\n",
       "      <th>0</th>\n",
       "      <td>2013-08-01</td>\n",
       "      <td>seoul</td>\n",
       "      <td>28.0</td>\n",
       "      <td>구름많음</td>\n",
       "    </tr>\n",
       "    <tr>\n",
       "      <th>1</th>\n",
       "      <td>2013-08-02</td>\n",
       "      <td>seoul</td>\n",
       "      <td>27.4</td>\n",
       "      <td>흐림/안개/비</td>\n",
       "    </tr>\n",
       "    <tr>\n",
       "      <th>2</th>\n",
       "      <td>2013-08-03</td>\n",
       "      <td>seoul</td>\n",
       "      <td>28.9</td>\n",
       "      <td>흐림/소나기</td>\n",
       "    </tr>\n",
       "  </tbody>\n",
       "</table>\n",
       "</div>"
      ],
      "text/plain": [
       "        date location  avgTemp  weather\n",
       "0 2013-08-01    seoul     28.0     구름많음\n",
       "1 2013-08-02    seoul     27.4  흐림/안개/비\n",
       "2 2013-08-03    seoul     28.9   흐림/소나기"
      ]
     },
     "execution_count": 14,
     "metadata": {},
     "output_type": "execute_result"
    }
   ],
   "source": [
    "날씨[:3]"
   ]
  },
  {
   "cell_type": "code",
   "execution_count": 26,
   "metadata": {
    "collapsed": false
   },
   "outputs": [
    {
     "data": {
      "text/plain": [
       "seoul    730\n",
       "suwon    730\n",
       "Name: location, dtype: int64"
      ]
     },
     "execution_count": 26,
     "metadata": {},
     "output_type": "execute_result"
    }
   ],
   "source": [
    "날씨.location.value_counts()"
   ]
  },
  {
   "cell_type": "code",
   "execution_count": 27,
   "metadata": {
    "collapsed": true
   },
   "outputs": [],
   "source": [
    "서울인가 = 날씨.location == 'seoul'"
   ]
  },
  {
   "cell_type": "code",
   "execution_count": 28,
   "metadata": {
    "collapsed": false
   },
   "outputs": [
    {
     "data": {
      "text/plain": [
       "0    True\n",
       "1    True\n",
       "2    True\n",
       "Name: location, dtype: bool"
      ]
     },
     "execution_count": 28,
     "metadata": {},
     "output_type": "execute_result"
    }
   ],
   "source": [
    "서울인가[:3]"
   ]
  },
  {
   "cell_type": "code",
   "execution_count": 33,
   "metadata": {
    "collapsed": false
   },
   "outputs": [],
   "source": [
    "서울날씨 = 날씨[서울인가]"
   ]
  },
  {
   "cell_type": "code",
   "execution_count": 34,
   "metadata": {
    "collapsed": true
   },
   "outputs": [],
   "source": [
    "수원날씨 = 날씨[날씨.location == 'suwon']"
   ]
  },
  {
   "cell_type": "code",
   "execution_count": 35,
   "metadata": {
    "collapsed": false
   },
   "outputs": [
    {
     "data": {
      "text/html": [
       "<div>\n",
       "<table border=\"1\" class=\"dataframe\">\n",
       "  <thead>\n",
       "    <tr style=\"text-align: right;\">\n",
       "      <th></th>\n",
       "      <th>date</th>\n",
       "      <th>location</th>\n",
       "      <th>avgTemp</th>\n",
       "      <th>weather</th>\n",
       "    </tr>\n",
       "  </thead>\n",
       "  <tbody>\n",
       "    <tr>\n",
       "      <th>10</th>\n",
       "      <td>2013-08-11</td>\n",
       "      <td>seoul</td>\n",
       "      <td>28.7</td>\n",
       "      <td>구름많음/안개</td>\n",
       "    </tr>\n",
       "    <tr>\n",
       "      <th>11</th>\n",
       "      <td>2013-08-12</td>\n",
       "      <td>seoul</td>\n",
       "      <td>29.3</td>\n",
       "      <td>구름많음</td>\n",
       "    </tr>\n",
       "    <tr>\n",
       "      <th>12</th>\n",
       "      <td>2013-08-13</td>\n",
       "      <td>seoul</td>\n",
       "      <td>29.0</td>\n",
       "      <td>구름조금</td>\n",
       "    </tr>\n",
       "    <tr>\n",
       "      <th>13</th>\n",
       "      <td>2013-08-14</td>\n",
       "      <td>seoul</td>\n",
       "      <td>28.6</td>\n",
       "      <td>구름많음</td>\n",
       "    </tr>\n",
       "    <tr>\n",
       "      <th>14</th>\n",
       "      <td>2013-08-15</td>\n",
       "      <td>seoul</td>\n",
       "      <td>28.7</td>\n",
       "      <td>구름많음/소나기</td>\n",
       "    </tr>\n",
       "    <tr>\n",
       "      <th>15</th>\n",
       "      <td>2013-08-16</td>\n",
       "      <td>seoul</td>\n",
       "      <td>28.7</td>\n",
       "      <td>구름많음/소나기</td>\n",
       "    </tr>\n",
       "    <tr>\n",
       "      <th>16</th>\n",
       "      <td>2013-08-17</td>\n",
       "      <td>seoul</td>\n",
       "      <td>28.7</td>\n",
       "      <td>구름많음</td>\n",
       "    </tr>\n",
       "    <tr>\n",
       "      <th>17</th>\n",
       "      <td>2013-08-18</td>\n",
       "      <td>seoul</td>\n",
       "      <td>28.3</td>\n",
       "      <td>흐림/안개/비</td>\n",
       "    </tr>\n",
       "    <tr>\n",
       "      <th>18</th>\n",
       "      <td>2013-08-19</td>\n",
       "      <td>seoul</td>\n",
       "      <td>28.2</td>\n",
       "      <td>구름조금/안개/비</td>\n",
       "    </tr>\n",
       "    <tr>\n",
       "      <th>19</th>\n",
       "      <td>2013-08-20</td>\n",
       "      <td>seoul</td>\n",
       "      <td>27.4</td>\n",
       "      <td>구름조금</td>\n",
       "    </tr>\n",
       "    <tr>\n",
       "      <th>20</th>\n",
       "      <td>2013-08-21</td>\n",
       "      <td>seoul</td>\n",
       "      <td>28.8</td>\n",
       "      <td>구름조금</td>\n",
       "    </tr>\n",
       "  </tbody>\n",
       "</table>\n",
       "</div>"
      ],
      "text/plain": [
       "         date location  avgTemp    weather\n",
       "10 2013-08-11    seoul     28.7    구름많음/안개\n",
       "11 2013-08-12    seoul     29.3       구름많음\n",
       "12 2013-08-13    seoul     29.0       구름조금\n",
       "13 2013-08-14    seoul     28.6       구름많음\n",
       "14 2013-08-15    seoul     28.7   구름많음/소나기\n",
       "15 2013-08-16    seoul     28.7   구름많음/소나기\n",
       "16 2013-08-17    seoul     28.7       구름많음\n",
       "17 2013-08-18    seoul     28.3    흐림/안개/비\n",
       "18 2013-08-19    seoul     28.2  구름조금/안개/비\n",
       "19 2013-08-20    seoul     27.4       구름조금\n",
       "20 2013-08-21    seoul     28.8       구름조금"
      ]
     },
     "execution_count": 35,
     "metadata": {},
     "output_type": "execute_result"
    }
   ],
   "source": [
    "서울날씨[10:21]"
   ]
  },
  {
   "cell_type": "code",
   "execution_count": 36,
   "metadata": {
    "collapsed": false
   },
   "outputs": [
    {
     "data": {
      "text/html": [
       "<div>\n",
       "<table border=\"1\" class=\"dataframe\">\n",
       "  <thead>\n",
       "    <tr style=\"text-align: right;\">\n",
       "      <th></th>\n",
       "      <th>date</th>\n",
       "      <th>location</th>\n",
       "      <th>avgTemp</th>\n",
       "      <th>weather</th>\n",
       "    </tr>\n",
       "  </thead>\n",
       "  <tbody>\n",
       "    <tr>\n",
       "      <th>163</th>\n",
       "      <td>2013-08-11</td>\n",
       "      <td>suwon</td>\n",
       "      <td>28.7</td>\n",
       "      <td>구름많음/안개</td>\n",
       "    </tr>\n",
       "    <tr>\n",
       "      <th>164</th>\n",
       "      <td>2013-08-12</td>\n",
       "      <td>suwon</td>\n",
       "      <td>28.8</td>\n",
       "      <td>구름조금/안개</td>\n",
       "    </tr>\n",
       "    <tr>\n",
       "      <th>165</th>\n",
       "      <td>2013-08-13</td>\n",
       "      <td>suwon</td>\n",
       "      <td>28.6</td>\n",
       "      <td>구름조금</td>\n",
       "    </tr>\n",
       "    <tr>\n",
       "      <th>166</th>\n",
       "      <td>2013-08-14</td>\n",
       "      <td>suwon</td>\n",
       "      <td>28.3</td>\n",
       "      <td>구름조금</td>\n",
       "    </tr>\n",
       "    <tr>\n",
       "      <th>167</th>\n",
       "      <td>2013-08-15</td>\n",
       "      <td>suwon</td>\n",
       "      <td>28.5</td>\n",
       "      <td>구름조금/소나기</td>\n",
       "    </tr>\n",
       "    <tr>\n",
       "      <th>168</th>\n",
       "      <td>2013-08-16</td>\n",
       "      <td>suwon</td>\n",
       "      <td>28.6</td>\n",
       "      <td>구름많음/소나기</td>\n",
       "    </tr>\n",
       "    <tr>\n",
       "      <th>169</th>\n",
       "      <td>2013-08-17</td>\n",
       "      <td>suwon</td>\n",
       "      <td>28.2</td>\n",
       "      <td>구름많음/안개</td>\n",
       "    </tr>\n",
       "    <tr>\n",
       "      <th>170</th>\n",
       "      <td>2013-08-18</td>\n",
       "      <td>suwon</td>\n",
       "      <td>28.6</td>\n",
       "      <td>흐림/안개</td>\n",
       "    </tr>\n",
       "    <tr>\n",
       "      <th>171</th>\n",
       "      <td>2013-08-19</td>\n",
       "      <td>suwon</td>\n",
       "      <td>27.7</td>\n",
       "      <td>구름많음/안개/비</td>\n",
       "    </tr>\n",
       "    <tr>\n",
       "      <th>172</th>\n",
       "      <td>2013-08-20</td>\n",
       "      <td>suwon</td>\n",
       "      <td>26.8</td>\n",
       "      <td>구름조금/안개</td>\n",
       "    </tr>\n",
       "    <tr>\n",
       "      <th>173</th>\n",
       "      <td>2013-08-21</td>\n",
       "      <td>suwon</td>\n",
       "      <td>28.8</td>\n",
       "      <td>구름조금</td>\n",
       "    </tr>\n",
       "  </tbody>\n",
       "</table>\n",
       "</div>"
      ],
      "text/plain": [
       "          date location  avgTemp    weather\n",
       "163 2013-08-11    suwon     28.7    구름많음/안개\n",
       "164 2013-08-12    suwon     28.8    구름조금/안개\n",
       "165 2013-08-13    suwon     28.6       구름조금\n",
       "166 2013-08-14    suwon     28.3       구름조금\n",
       "167 2013-08-15    suwon     28.5   구름조금/소나기\n",
       "168 2013-08-16    suwon     28.6   구름많음/소나기\n",
       "169 2013-08-17    suwon     28.2    구름많음/안개\n",
       "170 2013-08-18    suwon     28.6      흐림/안개\n",
       "171 2013-08-19    suwon     27.7  구름많음/안개/비\n",
       "172 2013-08-20    suwon     26.8    구름조금/안개\n",
       "173 2013-08-21    suwon     28.8       구름조금"
      ]
     },
     "execution_count": 36,
     "metadata": {},
     "output_type": "execute_result"
    }
   ],
   "source": [
    "수원날씨[10:21]"
   ]
  },
  {
   "cell_type": "code",
   "execution_count": 37,
   "metadata": {
    "collapsed": false
   },
   "outputs": [
    {
     "data": {
      "text/plain": [
       "13.365616438356161"
      ]
     },
     "execution_count": 37,
     "metadata": {},
     "output_type": "execute_result"
    }
   ],
   "source": [
    "서울날씨.avgTemp.mean()"
   ]
  },
  {
   "cell_type": "code",
   "execution_count": 38,
   "metadata": {
    "collapsed": false
   },
   "outputs": [
    {
     "data": {
      "text/plain": [
       "13.167123287671226"
      ]
     },
     "execution_count": 38,
     "metadata": {},
     "output_type": "execute_result"
    }
   ],
   "source": [
    "수원날씨.avgTemp.mean()"
   ]
  },
  {
   "cell_type": "code",
   "execution_count": null,
   "metadata": {
    "collapsed": true
   },
   "outputs": [],
   "source": []
  },
  {
   "cell_type": "markdown",
   "metadata": {},
   "source": [
    "1. 선수명 열 색인\n",
    "1. 타석, 안타, 홈런 만 선택\n",
    "1. 연도 정보를 '시즌'열로 추가\n",
    "1. 각 시즌별 선수별 타율 산출\n",
    "1. 지난 3년간 각 선수의 안타/홈런 합계 산출\n",
    "1. 각 선수들의 3년간 누적 타율 산출\n",
    "1. 타율 값을 소수점 3자리까지만 출력"
   ]
  },
  {
   "cell_type": "code",
   "execution_count": 161,
   "metadata": {
    "collapsed": false
   },
   "outputs": [],
   "source": [
    "NCs = []"
   ]
  },
  {
   "cell_type": "code",
   "execution_count": 162,
   "metadata": {
    "collapsed": false
   },
   "outputs": [
    {
     "name": "stdout",
     "output_type": "stream",
     "text": [
      "data/NC Dinos 2013.xlsx\n",
      "data/NC Dinos 2014.xlsx\n",
      "data/NC Dinos 2015.xlsx\n"
     ]
    }
   ],
   "source": [
    "for 시즌 in[2013,2014,2015]:\n",
    "    경로 = 'data/NC Dinos {}.xlsx'.format(시즌)\n",
    "    print(경로)\n",
    "    NC = pd.read_excel(경로)\n",
    "    NC['시즌'] = 시즌\n",
    "    NCs.append(NC)"
   ]
  },
  {
   "cell_type": "code",
   "execution_count": 163,
   "metadata": {
    "collapsed": true
   },
   "outputs": [],
   "source": [
    "기록 = pd.concat(NCs)"
   ]
  },
  {
   "cell_type": "code",
   "execution_count": 164,
   "metadata": {
    "collapsed": false
   },
   "outputs": [
    {
     "data": {
      "text/html": [
       "<div>\n",
       "<table border=\"1\" class=\"dataframe\">\n",
       "  <thead>\n",
       "    <tr style=\"text-align: right;\">\n",
       "      <th></th>\n",
       "      <th>선수명</th>\n",
       "      <th>팀명</th>\n",
       "      <th>경기</th>\n",
       "      <th>타석</th>\n",
       "      <th>타수</th>\n",
       "      <th>안타</th>\n",
       "      <th>홈런</th>\n",
       "      <th>득점</th>\n",
       "      <th>타점</th>\n",
       "      <th>볼넷</th>\n",
       "      <th>삼진</th>\n",
       "      <th>도루</th>\n",
       "      <th>BABIP</th>\n",
       "      <th>타율</th>\n",
       "      <th>출루율</th>\n",
       "      <th>장타율</th>\n",
       "      <th>OPS</th>\n",
       "      <th>wOBA</th>\n",
       "      <th>WAR</th>\n",
       "      <th>시즌</th>\n",
       "    </tr>\n",
       "  </thead>\n",
       "  <tbody>\n",
       "    <tr>\n",
       "      <th>0</th>\n",
       "      <td>모창민</td>\n",
       "      <td>NC</td>\n",
       "      <td>108</td>\n",
       "      <td>436</td>\n",
       "      <td>395</td>\n",
       "      <td>109</td>\n",
       "      <td>12</td>\n",
       "      <td>57</td>\n",
       "      <td>51</td>\n",
       "      <td>37</td>\n",
       "      <td>68</td>\n",
       "      <td>16</td>\n",
       "      <td>0.307</td>\n",
       "      <td>0.276</td>\n",
       "      <td>0.339</td>\n",
       "      <td>0.443</td>\n",
       "      <td>0.782</td>\n",
       "      <td>0.353</td>\n",
       "      <td>2.31</td>\n",
       "      <td>2013</td>\n",
       "    </tr>\n",
       "    <tr>\n",
       "      <th>1</th>\n",
       "      <td>이호준</td>\n",
       "      <td>NC</td>\n",
       "      <td>126</td>\n",
       "      <td>508</td>\n",
       "      <td>442</td>\n",
       "      <td>123</td>\n",
       "      <td>20</td>\n",
       "      <td>46</td>\n",
       "      <td>87</td>\n",
       "      <td>60</td>\n",
       "      <td>109</td>\n",
       "      <td>2</td>\n",
       "      <td>0.324</td>\n",
       "      <td>0.278</td>\n",
       "      <td>0.362</td>\n",
       "      <td>0.475</td>\n",
       "      <td>0.837</td>\n",
       "      <td>0.373</td>\n",
       "      <td>1.85</td>\n",
       "      <td>2013</td>\n",
       "    </tr>\n",
       "    <tr>\n",
       "      <th>2</th>\n",
       "      <td>김종호</td>\n",
       "      <td>NC</td>\n",
       "      <td>128</td>\n",
       "      <td>546</td>\n",
       "      <td>465</td>\n",
       "      <td>129</td>\n",
       "      <td>0</td>\n",
       "      <td>72</td>\n",
       "      <td>22</td>\n",
       "      <td>57</td>\n",
       "      <td>100</td>\n",
       "      <td>50</td>\n",
       "      <td>0.352</td>\n",
       "      <td>0.277</td>\n",
       "      <td>0.376</td>\n",
       "      <td>0.333</td>\n",
       "      <td>0.709</td>\n",
       "      <td>0.339</td>\n",
       "      <td>1.55</td>\n",
       "      <td>2013</td>\n",
       "    </tr>\n",
       "  </tbody>\n",
       "</table>\n",
       "</div>"
      ],
      "text/plain": [
       "   선수명  팀명   경기   타석   타수   안타  홈런  득점  타점  볼넷   삼진  도루  BABIP     타율    출루율  \\\n",
       "0  모창민  NC  108  436  395  109  12  57  51  37   68  16  0.307  0.276  0.339   \n",
       "1  이호준  NC  126  508  442  123  20  46  87  60  109   2  0.324  0.278  0.362   \n",
       "2  김종호  NC  128  546  465  129   0  72  22  57  100  50  0.352  0.277  0.376   \n",
       "\n",
       "     장타율    OPS   wOBA   WAR    시즌  \n",
       "0  0.443  0.782  0.353  2.31  2013  \n",
       "1  0.475  0.837  0.373  1.85  2013  \n",
       "2  0.333  0.709  0.339  1.55  2013  "
      ]
     },
     "execution_count": 164,
     "metadata": {},
     "output_type": "execute_result"
    }
   ],
   "source": [
    "기록[:3]"
   ]
  },
  {
   "cell_type": "code",
   "execution_count": 170,
   "metadata": {
    "collapsed": false
   },
   "outputs": [],
   "source": [
    "기록 = 기록.set_index('선수명')"
   ]
  },
  {
   "cell_type": "code",
   "execution_count": 171,
   "metadata": {
    "collapsed": false
   },
   "outputs": [
    {
     "data": {
      "text/html": [
       "<div>\n",
       "<table border=\"1\" class=\"dataframe\">\n",
       "  <thead>\n",
       "    <tr style=\"text-align: right;\">\n",
       "      <th></th>\n",
       "      <th>타석</th>\n",
       "      <th>안타</th>\n",
       "      <th>홈런</th>\n",
       "    </tr>\n",
       "    <tr>\n",
       "      <th>선수명</th>\n",
       "      <th></th>\n",
       "      <th></th>\n",
       "      <th></th>\n",
       "    </tr>\n",
       "  </thead>\n",
       "  <tbody>\n",
       "    <tr>\n",
       "      <th>모창민</th>\n",
       "      <td>436</td>\n",
       "      <td>109</td>\n",
       "      <td>12</td>\n",
       "    </tr>\n",
       "    <tr>\n",
       "      <th>이호준</th>\n",
       "      <td>508</td>\n",
       "      <td>123</td>\n",
       "      <td>20</td>\n",
       "    </tr>\n",
       "    <tr>\n",
       "      <th>김종호</th>\n",
       "      <td>546</td>\n",
       "      <td>129</td>\n",
       "      <td>0</td>\n",
       "    </tr>\n",
       "    <tr>\n",
       "      <th>나성범</th>\n",
       "      <td>458</td>\n",
       "      <td>98</td>\n",
       "      <td>14</td>\n",
       "    </tr>\n",
       "    <tr>\n",
       "      <th>조영훈</th>\n",
       "      <td>426</td>\n",
       "      <td>107</td>\n",
       "      <td>6</td>\n",
       "    </tr>\n",
       "  </tbody>\n",
       "</table>\n",
       "</div>"
      ],
      "text/plain": [
       "      타석   안타  홈런\n",
       "선수명              \n",
       "모창민  436  109  12\n",
       "이호준  508  123  20\n",
       "김종호  546  129   0\n",
       "나성범  458   98  14\n",
       "조영훈  426  107   6"
      ]
     },
     "execution_count": 171,
     "metadata": {},
     "output_type": "execute_result"
    }
   ],
   "source": [
    "기록[['타석', '안타', '홈런']][:5]"
   ]
  },
  {
   "cell_type": "code",
   "execution_count": 190,
   "metadata": {
    "collapsed": false
   },
   "outputs": [
    {
     "data": {
      "text/plain": [
       "<pandas.core.groupby.DataFrameGroupBy object at 0x000000000716E710>"
      ]
     },
     "execution_count": 190,
     "metadata": {},
     "output_type": "execute_result"
    }
   ],
   "source": [
    "시즌별기록 = 기록.groupby('시즌')\n",
    "시즌별기록"
   ]
  },
  {
   "cell_type": "code",
   "execution_count": 191,
   "metadata": {
    "collapsed": false
   },
   "outputs": [],
   "source": [
    "def 타율산출(기록):\n",
    "    기록['타율'] = (기록.안타 + 기록.홈런) / 기록.타석\n",
    "    return 기록"
   ]
  },
  {
   "cell_type": "code",
   "execution_count": 192,
   "metadata": {
    "collapsed": false
   },
   "outputs": [
    {
     "data": {
      "text/html": [
       "<div>\n",
       "<table border=\"1\" class=\"dataframe\">\n",
       "  <thead>\n",
       "    <tr style=\"text-align: right;\">\n",
       "      <th></th>\n",
       "      <th>팀명</th>\n",
       "      <th>경기</th>\n",
       "      <th>타석</th>\n",
       "      <th>타수</th>\n",
       "      <th>안타</th>\n",
       "      <th>홈런</th>\n",
       "      <th>득점</th>\n",
       "      <th>타점</th>\n",
       "      <th>볼넷</th>\n",
       "      <th>삼진</th>\n",
       "      <th>도루</th>\n",
       "      <th>BABIP</th>\n",
       "      <th>타율</th>\n",
       "      <th>출루율</th>\n",
       "      <th>장타율</th>\n",
       "      <th>OPS</th>\n",
       "      <th>wOBA</th>\n",
       "      <th>WAR</th>\n",
       "      <th>시즌</th>\n",
       "    </tr>\n",
       "    <tr>\n",
       "      <th>선수명</th>\n",
       "      <th></th>\n",
       "      <th></th>\n",
       "      <th></th>\n",
       "      <th></th>\n",
       "      <th></th>\n",
       "      <th></th>\n",
       "      <th></th>\n",
       "      <th></th>\n",
       "      <th></th>\n",
       "      <th></th>\n",
       "      <th></th>\n",
       "      <th></th>\n",
       "      <th></th>\n",
       "      <th></th>\n",
       "      <th></th>\n",
       "      <th></th>\n",
       "      <th></th>\n",
       "      <th></th>\n",
       "      <th></th>\n",
       "    </tr>\n",
       "  </thead>\n",
       "  <tbody>\n",
       "    <tr>\n",
       "      <th>모창민</th>\n",
       "      <td>NC</td>\n",
       "      <td>108</td>\n",
       "      <td>436</td>\n",
       "      <td>395</td>\n",
       "      <td>109</td>\n",
       "      <td>12</td>\n",
       "      <td>57</td>\n",
       "      <td>51</td>\n",
       "      <td>37</td>\n",
       "      <td>68</td>\n",
       "      <td>16</td>\n",
       "      <td>0.307</td>\n",
       "      <td>0.277523</td>\n",
       "      <td>0.339</td>\n",
       "      <td>0.443</td>\n",
       "      <td>0.782</td>\n",
       "      <td>0.353</td>\n",
       "      <td>2.31</td>\n",
       "      <td>2013</td>\n",
       "    </tr>\n",
       "    <tr>\n",
       "      <th>이호준</th>\n",
       "      <td>NC</td>\n",
       "      <td>126</td>\n",
       "      <td>508</td>\n",
       "      <td>442</td>\n",
       "      <td>123</td>\n",
       "      <td>20</td>\n",
       "      <td>46</td>\n",
       "      <td>87</td>\n",
       "      <td>60</td>\n",
       "      <td>109</td>\n",
       "      <td>2</td>\n",
       "      <td>0.324</td>\n",
       "      <td>0.281496</td>\n",
       "      <td>0.362</td>\n",
       "      <td>0.475</td>\n",
       "      <td>0.837</td>\n",
       "      <td>0.373</td>\n",
       "      <td>1.85</td>\n",
       "      <td>2013</td>\n",
       "    </tr>\n",
       "    <tr>\n",
       "      <th>김종호</th>\n",
       "      <td>NC</td>\n",
       "      <td>128</td>\n",
       "      <td>546</td>\n",
       "      <td>465</td>\n",
       "      <td>129</td>\n",
       "      <td>0</td>\n",
       "      <td>72</td>\n",
       "      <td>22</td>\n",
       "      <td>57</td>\n",
       "      <td>100</td>\n",
       "      <td>50</td>\n",
       "      <td>0.352</td>\n",
       "      <td>0.236264</td>\n",
       "      <td>0.376</td>\n",
       "      <td>0.333</td>\n",
       "      <td>0.709</td>\n",
       "      <td>0.339</td>\n",
       "      <td>1.55</td>\n",
       "      <td>2013</td>\n",
       "    </tr>\n",
       "    <tr>\n",
       "      <th>나성범</th>\n",
       "      <td>NC</td>\n",
       "      <td>104</td>\n",
       "      <td>458</td>\n",
       "      <td>404</td>\n",
       "      <td>98</td>\n",
       "      <td>14</td>\n",
       "      <td>55</td>\n",
       "      <td>64</td>\n",
       "      <td>33</td>\n",
       "      <td>95</td>\n",
       "      <td>12</td>\n",
       "      <td>0.279</td>\n",
       "      <td>0.244541</td>\n",
       "      <td>0.319</td>\n",
       "      <td>0.416</td>\n",
       "      <td>0.735</td>\n",
       "      <td>0.329</td>\n",
       "      <td>1.50</td>\n",
       "      <td>2013</td>\n",
       "    </tr>\n",
       "    <tr>\n",
       "      <th>조영훈</th>\n",
       "      <td>NC</td>\n",
       "      <td>120</td>\n",
       "      <td>426</td>\n",
       "      <td>380</td>\n",
       "      <td>107</td>\n",
       "      <td>6</td>\n",
       "      <td>38</td>\n",
       "      <td>39</td>\n",
       "      <td>39</td>\n",
       "      <td>56</td>\n",
       "      <td>4</td>\n",
       "      <td>0.316</td>\n",
       "      <td>0.265258</td>\n",
       "      <td>0.350</td>\n",
       "      <td>0.413</td>\n",
       "      <td>0.763</td>\n",
       "      <td>0.348</td>\n",
       "      <td>0.83</td>\n",
       "      <td>2013</td>\n",
       "    </tr>\n",
       "    <tr>\n",
       "      <th>이현곤</th>\n",
       "      <td>NC</td>\n",
       "      <td>91</td>\n",
       "      <td>161</td>\n",
       "      <td>139</td>\n",
       "      <td>38</td>\n",
       "      <td>0</td>\n",
       "      <td>10</td>\n",
       "      <td>9</td>\n",
       "      <td>16</td>\n",
       "      <td>14</td>\n",
       "      <td>2</td>\n",
       "      <td>0.304</td>\n",
       "      <td>0.236025</td>\n",
       "      <td>0.361</td>\n",
       "      <td>0.324</td>\n",
       "      <td>0.685</td>\n",
       "      <td>0.327</td>\n",
       "      <td>0.52</td>\n",
       "      <td>2013</td>\n",
       "    </tr>\n",
       "    <tr>\n",
       "      <th>이상호</th>\n",
       "      <td>NC</td>\n",
       "      <td>102</td>\n",
       "      <td>138</td>\n",
       "      <td>125</td>\n",
       "      <td>31</td>\n",
       "      <td>0</td>\n",
       "      <td>26</td>\n",
       "      <td>13</td>\n",
       "      <td>9</td>\n",
       "      <td>21</td>\n",
       "      <td>24</td>\n",
       "      <td>0.298</td>\n",
       "      <td>0.224638</td>\n",
       "      <td>0.299</td>\n",
       "      <td>0.320</td>\n",
       "      <td>0.619</td>\n",
       "      <td>0.289</td>\n",
       "      <td>0.16</td>\n",
       "      <td>2013</td>\n",
       "    </tr>\n",
       "    <tr>\n",
       "      <th>강진성</th>\n",
       "      <td>NC</td>\n",
       "      <td>3</td>\n",
       "      <td>3</td>\n",
       "      <td>2</td>\n",
       "      <td>1</td>\n",
       "      <td>0</td>\n",
       "      <td>1</td>\n",
       "      <td>0</td>\n",
       "      <td>1</td>\n",
       "      <td>0</td>\n",
       "      <td>0</td>\n",
       "      <td>0.500</td>\n",
       "      <td>0.333333</td>\n",
       "      <td>0.667</td>\n",
       "      <td>1.000</td>\n",
       "      <td>1.667</td>\n",
       "      <td>0.671</td>\n",
       "      <td>0.10</td>\n",
       "      <td>2013</td>\n",
       "    </tr>\n",
       "    <tr>\n",
       "      <th>조평호</th>\n",
       "      <td>NC</td>\n",
       "      <td>26</td>\n",
       "      <td>86</td>\n",
       "      <td>79</td>\n",
       "      <td>21</td>\n",
       "      <td>2</td>\n",
       "      <td>12</td>\n",
       "      <td>7</td>\n",
       "      <td>6</td>\n",
       "      <td>24</td>\n",
       "      <td>1</td>\n",
       "      <td>0.358</td>\n",
       "      <td>0.267442</td>\n",
       "      <td>0.318</td>\n",
       "      <td>0.418</td>\n",
       "      <td>0.736</td>\n",
       "      <td>0.329</td>\n",
       "      <td>0.09</td>\n",
       "      <td>2013</td>\n",
       "    </tr>\n",
       "    <tr>\n",
       "      <th>박민우</th>\n",
       "      <td>NC</td>\n",
       "      <td>32</td>\n",
       "      <td>48</td>\n",
       "      <td>42</td>\n",
       "      <td>11</td>\n",
       "      <td>0</td>\n",
       "      <td>10</td>\n",
       "      <td>6</td>\n",
       "      <td>5</td>\n",
       "      <td>7</td>\n",
       "      <td>9</td>\n",
       "      <td>0.306</td>\n",
       "      <td>0.229167</td>\n",
       "      <td>0.333</td>\n",
       "      <td>0.286</td>\n",
       "      <td>0.619</td>\n",
       "      <td>0.296</td>\n",
       "      <td>0.07</td>\n",
       "      <td>2013</td>\n",
       "    </tr>\n",
       "  </tbody>\n",
       "</table>\n",
       "</div>"
      ],
      "text/plain": [
       "     팀명   경기   타석   타수   안타  홈런  득점  타점  볼넷   삼진  도루  BABIP        타율    출루율  \\\n",
       "선수명                                                                            \n",
       "모창민  NC  108  436  395  109  12  57  51  37   68  16  0.307  0.277523  0.339   \n",
       "이호준  NC  126  508  442  123  20  46  87  60  109   2  0.324  0.281496  0.362   \n",
       "김종호  NC  128  546  465  129   0  72  22  57  100  50  0.352  0.236264  0.376   \n",
       "나성범  NC  104  458  404   98  14  55  64  33   95  12  0.279  0.244541  0.319   \n",
       "조영훈  NC  120  426  380  107   6  38  39  39   56   4  0.316  0.265258  0.350   \n",
       "이현곤  NC   91  161  139   38   0  10   9  16   14   2  0.304  0.236025  0.361   \n",
       "이상호  NC  102  138  125   31   0  26  13   9   21  24  0.298  0.224638  0.299   \n",
       "강진성  NC    3    3    2    1   0   1   0   1    0   0  0.500  0.333333  0.667   \n",
       "조평호  NC   26   86   79   21   2  12   7   6   24   1  0.358  0.267442  0.318   \n",
       "박민우  NC   32   48   42   11   0  10   6   5    7   9  0.306  0.229167  0.333   \n",
       "\n",
       "       장타율    OPS   wOBA   WAR    시즌  \n",
       "선수명                                   \n",
       "모창민  0.443  0.782  0.353  2.31  2013  \n",
       "이호준  0.475  0.837  0.373  1.85  2013  \n",
       "김종호  0.333  0.709  0.339  1.55  2013  \n",
       "나성범  0.416  0.735  0.329  1.50  2013  \n",
       "조영훈  0.413  0.763  0.348  0.83  2013  \n",
       "이현곤  0.324  0.685  0.327  0.52  2013  \n",
       "이상호  0.320  0.619  0.289  0.16  2013  \n",
       "강진성  1.000  1.667  0.671  0.10  2013  \n",
       "조평호  0.418  0.736  0.329  0.09  2013  \n",
       "박민우  0.286  0.619  0.296  0.07  2013  "
      ]
     },
     "execution_count": 192,
     "metadata": {},
     "output_type": "execute_result"
    }
   ],
   "source": [
    "시즌별기록 = 시즌별기록.apply(타율산출)\n",
    "시즌별기록[:10]"
   ]
  },
  {
   "cell_type": "code",
   "execution_count": 193,
   "metadata": {
    "collapsed": false
   },
   "outputs": [],
   "source": [
    "def 상위출력(프레임):\n",
    "    print(프레임[(프레임.안타 >= 10) & (프레임.타율 >= 0.25)])"
   ]
  },
  {
   "cell_type": "code",
   "execution_count": 194,
   "metadata": {
    "collapsed": false,
    "scrolled": true
   },
   "outputs": [
    {
     "name": "stdout",
     "output_type": "stream",
     "text": [
      "     팀명   경기   타석   타수   안타  홈런  득점  타점  볼넷   삼진  도루  BABIP        타율    출루율  \\\n",
      "선수명                                                                            \n",
      "모창민  NC  108  436  395  109  12  57  51  37   68  16  0.307  0.277523  0.339   \n",
      "이호준  NC  126  508  442  123  20  46  87  60  109   2  0.324  0.281496  0.362   \n",
      "조영훈  NC  120  426  380  107   6  38  39  39   56   4  0.316  0.265258  0.350   \n",
      "조평호  NC   26   86   79   21   2  12   7   6   24   1  0.358  0.267442  0.318   \n",
      "\n",
      "       장타율    OPS   wOBA   WAR    시즌  \n",
      "선수명                                   \n",
      "모창민  0.443  0.782  0.353  2.31  2013  \n",
      "이호준  0.475  0.837  0.373  1.85  2013  \n",
      "조영훈  0.413  0.763  0.348  0.83  2013  \n",
      "조평호  0.418  0.736  0.329  0.09  2013  \n",
      "     팀명   경기   타석   타수   안타  홈런  득점  타점  볼넷   삼진  도루  BABIP        타율    출루율  \\\n",
      "선수명                                                                            \n",
      "모창민  NC  108  436  395  109  12  57  51  37   68  16  0.307  0.277523  0.339   \n",
      "이호준  NC  126  508  442  123  20  46  87  60  109   2  0.324  0.281496  0.362   \n",
      "조영훈  NC  120  426  380  107   6  38  39  39   56   4  0.316  0.265258  0.350   \n",
      "조평호  NC   26   86   79   21   2  12   7   6   24   1  0.358  0.267442  0.318   \n",
      "\n",
      "       장타율    OPS   wOBA   WAR    시즌  \n",
      "선수명                                   \n",
      "모창민  0.443  0.782  0.353  2.31  2013  \n",
      "이호준  0.475  0.837  0.373  1.85  2013  \n",
      "조영훈  0.413  0.763  0.348  0.83  2013  \n",
      "조평호  0.418  0.736  0.329  0.09  2013  \n",
      "     팀명   경기   타석   타수   안타  홈런  득점   타점  볼넷   삼진  도루  BABIP        타율    출루율  \\\n",
      "선수명                                                                             \n",
      "테임즈  NC  125  514  443  152  37  95  121  58   99  11  0.367  0.367704  0.422   \n",
      "나성범  NC  123  536  477  157  30  88  101  43  128  14  0.397  0.348881  0.400   \n",
      "박민우  NC  118  491  416  124   1  87   40  56   89  50  0.373  0.254582  0.392   \n",
      "손시헌  NC   97  361  307   90   5  39   39  34   53   2  0.331  0.263158  0.368   \n",
      "지석훈  NC  114  238  212   58   6  26   34  16   46   1  0.323  0.268908  0.340   \n",
      "이호준  NC  122  500  424  115  23  59   78  67  104   2  0.305  0.276000  0.371   \n",
      "권희동  NC  101  252  221   63   7  39   36  25   43   6  0.324  0.277778  0.363   \n",
      "모창민  NC  122  468  419  110  16  62   72  37   82  14  0.289  0.269231  0.320   \n",
      "이종욱  NC  124  495  438  126   6  73   79  40   60  15  0.313  0.266667  0.343   \n",
      "조영훈  NC   92  124  111   29   6  15   22  10   26   1  0.288  0.282258  0.325   \n",
      "\n",
      "       장타율    OPS   wOBA   WAR    시즌  \n",
      "선수명                                   \n",
      "테임즈  0.688   1.11  0.456  6.36  2014  \n",
      "나성범  0.597  0.997  0.424  5.94  2014  \n",
      "박민우  0.399  0.791  0.365  2.73  2014  \n",
      "손시헌  0.414  0.782  0.349  1.52  2014  \n",
      "지석훈  0.462  0.802  0.352  0.97  2014  \n",
      "이호준  0.481  0.852  0.369  0.88  2014  \n",
      "권희동  0.443  0.806  0.353  0.62  2014  \n",
      "모창민  0.413  0.733  0.319  0.17  2014  \n",
      "이종욱  0.411  0.754  0.332  0.13  2014  \n",
      "조영훈  0.459  0.784  0.337 -0.02  2014  \n",
      "     팀명   경기   타석   타수   안타  홈런   득점   타점   볼넷   삼진  도루  BABIP        타율  \\\n",
      "선수명                                                                        \n",
      "테임즈  NC  142  595  472  180  47  130  140  103   91  40   0.39  0.381513   \n",
      "나성범  NC  144  622  564  184  28  112  135   33  127  23  0.374  0.340836   \n",
      "박민우  NC  141  617  520  158   3  111   47   73  108  46  0.373  0.260940   \n",
      "이호준  NC  131  518  449  132  24   48  110   61  102   0  0.332  0.301158   \n",
      "김종호  NC  133  486  424  125   4   90   36   44   65  41  0.338  0.265432   \n",
      "조영훈  NC  103  146  124   35   8   20   35   19   36   3  0.329  0.294521   \n",
      "모창민  NC  103  239  214   62   6   23   35   18   52   5  0.352  0.284519   \n",
      "지석훈  NC  137  466  415  111  11   53   46   23   85   4  0.311  0.261803   \n",
      "\n",
      "       출루율    장타율    OPS   wOBA    WAR    시즌  \n",
      "선수명                                           \n",
      "테임즈  0.497   0.79  1.287  0.520  11.73  2015  \n",
      "나성범  0.373  0.553  0.926  0.390   4.46  2015  \n",
      "박민우  0.399  0.404  0.803  0.364   3.52  2015  \n",
      "이호준  0.381   0.51  0.891  0.381   2.19  2015  \n",
      "김종호  0.364  0.394  0.758  0.340   1.03  2015  \n",
      "조영훈  0.372   0.54  0.912  0.389   1.00  2015  \n",
      "모창민  0.340  0.439  0.779  0.340   0.76  2015  \n",
      "지석훈  0.328  0.383  0.711  0.317   0.51  2015  \n"
     ]
    },
    {
     "data": {
      "text/html": [
       "<div>\n",
       "<table border=\"1\" class=\"dataframe\">\n",
       "  <thead>\n",
       "    <tr style=\"text-align: right;\">\n",
       "      <th></th>\n",
       "    </tr>\n",
       "  </thead>\n",
       "  <tbody>\n",
       "  </tbody>\n",
       "</table>\n",
       "</div>"
      ],
      "text/plain": [
       "Empty DataFrame\n",
       "Columns: []\n",
       "Index: []"
      ]
     },
     "execution_count": 194,
     "metadata": {},
     "output_type": "execute_result"
    }
   ],
   "source": [
    "시즌별기록 = 시즌별기록.groupby('시즌')\n",
    "시즌별기록.apply(상위출력)"
   ]
  },
  {
   "cell_type": "code",
   "execution_count": 210,
   "metadata": {
    "collapsed": false
   },
   "outputs": [
    {
     "data": {
      "text/html": [
       "<div>\n",
       "<table border=\"1\" class=\"dataframe\">\n",
       "  <thead>\n",
       "    <tr style=\"text-align: right;\">\n",
       "      <th></th>\n",
       "      <th>안타</th>\n",
       "      <th>홈런</th>\n",
       "      <th>타석</th>\n",
       "    </tr>\n",
       "    <tr>\n",
       "      <th>선수명</th>\n",
       "      <th></th>\n",
       "      <th></th>\n",
       "      <th></th>\n",
       "    </tr>\n",
       "  </thead>\n",
       "  <tbody>\n",
       "    <tr>\n",
       "      <th>강구성</th>\n",
       "      <td>1</td>\n",
       "      <td>0</td>\n",
       "      <td>7</td>\n",
       "    </tr>\n",
       "    <tr>\n",
       "      <th>강민국</th>\n",
       "      <td>0</td>\n",
       "      <td>0</td>\n",
       "      <td>5</td>\n",
       "    </tr>\n",
       "    <tr>\n",
       "      <th>강진성</th>\n",
       "      <td>1</td>\n",
       "      <td>0</td>\n",
       "      <td>3</td>\n",
       "    </tr>\n",
       "    <tr>\n",
       "      <th>권희동</th>\n",
       "      <td>63</td>\n",
       "      <td>7</td>\n",
       "      <td>252</td>\n",
       "    </tr>\n",
       "    <tr>\n",
       "      <th>김동건</th>\n",
       "      <td>2</td>\n",
       "      <td>1</td>\n",
       "      <td>17</td>\n",
       "    </tr>\n",
       "    <tr>\n",
       "      <th>김성욱</th>\n",
       "      <td>5</td>\n",
       "      <td>1</td>\n",
       "      <td>30</td>\n",
       "    </tr>\n",
       "    <tr>\n",
       "      <th>김종찬</th>\n",
       "      <td>1</td>\n",
       "      <td>0</td>\n",
       "      <td>7</td>\n",
       "    </tr>\n",
       "    <tr>\n",
       "      <th>김종호</th>\n",
       "      <td>254</td>\n",
       "      <td>4</td>\n",
       "      <td>1032</td>\n",
       "    </tr>\n",
       "    <tr>\n",
       "      <th>김준완</th>\n",
       "      <td>12</td>\n",
       "      <td>0</td>\n",
       "      <td>59</td>\n",
       "    </tr>\n",
       "    <tr>\n",
       "      <th>김태군</th>\n",
       "      <td>107</td>\n",
       "      <td>6</td>\n",
       "      <td>474</td>\n",
       "    </tr>\n",
       "    <tr>\n",
       "      <th>김태우</th>\n",
       "      <td>1</td>\n",
       "      <td>0</td>\n",
       "      <td>5</td>\n",
       "    </tr>\n",
       "    <tr>\n",
       "      <th>김태진</th>\n",
       "      <td>0</td>\n",
       "      <td>0</td>\n",
       "      <td>3</td>\n",
       "    </tr>\n",
       "    <tr>\n",
       "      <th>나성범</th>\n",
       "      <td>439</td>\n",
       "      <td>72</td>\n",
       "      <td>1616</td>\n",
       "    </tr>\n",
       "    <tr>\n",
       "      <th>노진혁</th>\n",
       "      <td>3</td>\n",
       "      <td>1</td>\n",
       "      <td>16</td>\n",
       "    </tr>\n",
       "    <tr>\n",
       "      <th>마낙길</th>\n",
       "      <td>9</td>\n",
       "      <td>0</td>\n",
       "      <td>33</td>\n",
       "    </tr>\n",
       "    <tr>\n",
       "      <th>모창민</th>\n",
       "      <td>281</td>\n",
       "      <td>34</td>\n",
       "      <td>1143</td>\n",
       "    </tr>\n",
       "    <tr>\n",
       "      <th>박명환*</th>\n",
       "      <td>0</td>\n",
       "      <td>0</td>\n",
       "      <td>1</td>\n",
       "    </tr>\n",
       "    <tr>\n",
       "      <th>박민우</th>\n",
       "      <td>293</td>\n",
       "      <td>4</td>\n",
       "      <td>1156</td>\n",
       "    </tr>\n",
       "    <tr>\n",
       "      <th>박정준</th>\n",
       "      <td>49</td>\n",
       "      <td>4</td>\n",
       "      <td>219</td>\n",
       "    </tr>\n",
       "    <tr>\n",
       "      <th>손시헌</th>\n",
       "      <td>198</td>\n",
       "      <td>18</td>\n",
       "      <td>869</td>\n",
       "    </tr>\n",
       "    <tr>\n",
       "      <th>용덕한</th>\n",
       "      <td>12</td>\n",
       "      <td>0</td>\n",
       "      <td>49</td>\n",
       "    </tr>\n",
       "    <tr>\n",
       "      <th>이상호</th>\n",
       "      <td>31</td>\n",
       "      <td>0</td>\n",
       "      <td>138</td>\n",
       "    </tr>\n",
       "    <tr>\n",
       "      <th>이승호</th>\n",
       "      <td>0</td>\n",
       "      <td>0</td>\n",
       "      <td>1</td>\n",
       "    </tr>\n",
       "    <tr>\n",
       "      <th>이종욱</th>\n",
       "      <td>244</td>\n",
       "      <td>11</td>\n",
       "      <td>999</td>\n",
       "    </tr>\n",
       "    <tr>\n",
       "      <th>이창섭</th>\n",
       "      <td>0</td>\n",
       "      <td>0</td>\n",
       "      <td>13</td>\n",
       "    </tr>\n",
       "    <tr>\n",
       "      <th>이현곤</th>\n",
       "      <td>38</td>\n",
       "      <td>0</td>\n",
       "      <td>161</td>\n",
       "    </tr>\n",
       "    <tr>\n",
       "      <th>이호준</th>\n",
       "      <td>370</td>\n",
       "      <td>67</td>\n",
       "      <td>1526</td>\n",
       "    </tr>\n",
       "    <tr>\n",
       "      <th>조영훈</th>\n",
       "      <td>171</td>\n",
       "      <td>20</td>\n",
       "      <td>696</td>\n",
       "    </tr>\n",
       "    <tr>\n",
       "      <th>조평호</th>\n",
       "      <td>29</td>\n",
       "      <td>3</td>\n",
       "      <td>110</td>\n",
       "    </tr>\n",
       "    <tr>\n",
       "      <th>지석훈</th>\n",
       "      <td>237</td>\n",
       "      <td>20</td>\n",
       "      <td>1060</td>\n",
       "    </tr>\n",
       "    <tr>\n",
       "      <th>차화준</th>\n",
       "      <td>24</td>\n",
       "      <td>1</td>\n",
       "      <td>121</td>\n",
       "    </tr>\n",
       "    <tr>\n",
       "      <th>최재원</th>\n",
       "      <td>21</td>\n",
       "      <td>2</td>\n",
       "      <td>104</td>\n",
       "    </tr>\n",
       "    <tr>\n",
       "      <th>테임즈</th>\n",
       "      <td>332</td>\n",
       "      <td>84</td>\n",
       "      <td>1109</td>\n",
       "    </tr>\n",
       "    <tr>\n",
       "      <th>허준</th>\n",
       "      <td>5</td>\n",
       "      <td>0</td>\n",
       "      <td>36</td>\n",
       "    </tr>\n",
       "  </tbody>\n",
       "</table>\n",
       "</div>"
      ],
      "text/plain": [
       "       안타  홈런    타석\n",
       "선수명                \n",
       "강구성     1   0     7\n",
       "강민국     0   0     5\n",
       "강진성     1   0     3\n",
       "권희동    63   7   252\n",
       "김동건     2   1    17\n",
       "김성욱     5   1    30\n",
       "김종찬     1   0     7\n",
       "김종호   254   4  1032\n",
       "김준완    12   0    59\n",
       "김태군   107   6   474\n",
       "김태우     1   0     5\n",
       "김태진     0   0     3\n",
       "나성범   439  72  1616\n",
       "노진혁     3   1    16\n",
       "마낙길     9   0    33\n",
       "모창민   281  34  1143\n",
       "박명환*    0   0     1\n",
       "박민우   293   4  1156\n",
       "박정준    49   4   219\n",
       "손시헌   198  18   869\n",
       "용덕한    12   0    49\n",
       "이상호    31   0   138\n",
       "이승호     0   0     1\n",
       "이종욱   244  11   999\n",
       "이창섭     0   0    13\n",
       "이현곤    38   0   161\n",
       "이호준   370  67  1526\n",
       "조영훈   171  20   696\n",
       "조평호    29   3   110\n",
       "지석훈   237  20  1060\n",
       "차화준    24   1   121\n",
       "최재원    21   2   104\n",
       "테임즈   332  84  1109\n",
       "허준      5   0    36"
      ]
     },
     "execution_count": 210,
     "metadata": {},
     "output_type": "execute_result"
    }
   ],
   "source": [
    "누적기록 = 기록[[ '안타', '홈런', '타석']].groupby(기록.index).sum()\n",
    "누적기록"
   ]
  },
  {
   "cell_type": "code",
   "execution_count": 211,
   "metadata": {
    "collapsed": true
   },
   "outputs": [],
   "source": [
    "누적타율 = (누적기록.안타 + 누적기록.홈런) / 누적기록.타석"
   ]
  },
  {
   "cell_type": "code",
   "execution_count": 213,
   "metadata": {
    "collapsed": false
   },
   "outputs": [
    {
     "data": {
      "text/plain": [
       "선수명\n",
       "테임즈     0.375113\n",
       "강진성     0.333333\n",
       "나성범     0.316213\n",
       "조평호     0.290909\n",
       "이호준     0.286370\n",
       "권희동     0.277778\n",
       "모창민     0.275591\n",
       "조영훈     0.274425\n",
       "마낙길     0.272727\n",
       "박민우     0.256920\n",
       "이종욱     0.255255\n",
       "노진혁     0.250000\n",
       "김종호     0.250000\n",
       "손시헌     0.248562\n",
       "용덕한     0.244898\n",
       "지석훈     0.242453\n",
       "박정준     0.242009\n",
       "김태군     0.238397\n",
       "이현곤     0.236025\n",
       "이상호     0.224638\n",
       "최재원     0.221154\n",
       "차화준     0.206612\n",
       "김준완     0.203390\n",
       "김성욱     0.200000\n",
       "김태우     0.200000\n",
       "김동건     0.176471\n",
       "강구성     0.142857\n",
       "김종찬     0.142857\n",
       "허준      0.138889\n",
       "김태진     0.000000\n",
       "이승호     0.000000\n",
       "이창섭     0.000000\n",
       "강민국     0.000000\n",
       "박명환*    0.000000\n",
       "dtype: float64"
      ]
     },
     "execution_count": 213,
     "metadata": {},
     "output_type": "execute_result"
    }
   ],
   "source": [
    "누적타율.sort_values(ascending=False)"
   ]
  },
  {
   "cell_type": "code",
   "execution_count": null,
   "metadata": {
    "collapsed": true
   },
   "outputs": [],
   "source": []
  }
 ],
 "metadata": {
  "kernelspec": {
   "display_name": "Python [conda root]",
   "language": "python",
   "name": "conda-root-py"
  },
  "language_info": {
   "codemirror_mode": {
    "name": "ipython",
    "version": 3
   },
   "file_extension": ".py",
   "mimetype": "text/x-python",
   "name": "python",
   "nbconvert_exporter": "python",
   "pygments_lexer": "ipython3",
   "version": "3.5.2"
  }
 },
 "nbformat": 4,
 "nbformat_minor": 1
}
