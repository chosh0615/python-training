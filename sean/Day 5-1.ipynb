{
 "cells": [
  {
   "cell_type": "markdown",
   "metadata": {},
   "source": [
    "# 2012 미국 대선"
   ]
  },
  {
   "cell_type": "code",
   "execution_count": 2,
   "metadata": {
    "collapsed": true
   },
   "outputs": [],
   "source": [
    "import pandas as pd"
   ]
  },
  {
   "cell_type": "code",
   "execution_count": 3,
   "metadata": {
    "collapsed": false
   },
   "outputs": [
    {
     "name": "stderr",
     "output_type": "stream",
     "text": [
      "C:\\Program Files\\Anaconda3\\lib\\site-packages\\IPython\\core\\interactiveshell.py:2717: DtypeWarning: Columns (6) have mixed types. Specify dtype option on import or set low_memory=False.\n",
      "  interactivity=interactivity, compiler=compiler, result=result)\n"
     ]
    }
   ],
   "source": [
    "fec = pd.read_csv('data/pydata-book/us_presidental.csv')"
   ]
  },
  {
   "cell_type": "code",
   "execution_count": 4,
   "metadata": {
    "collapsed": false
   },
   "outputs": [
    {
     "name": "stdout",
     "output_type": "stream",
     "text": [
      "<class 'pandas.core.frame.DataFrame'>\n",
      "RangeIndex: 1001731 entries, 0 to 1001730\n",
      "Data columns (total 16 columns):\n",
      "cmte_id              1001731 non-null object\n",
      "cand_id              1001731 non-null object\n",
      "cand_nm              1001731 non-null object\n",
      "contbr_nm            1001731 non-null object\n",
      "contbr_city          1001712 non-null object\n",
      "contbr_st            1001727 non-null object\n",
      "contbr_zip           1001620 non-null object\n",
      "contbr_employer      988002 non-null object\n",
      "contbr_occupation    993301 non-null object\n",
      "contb_receipt_amt    1001731 non-null float64\n",
      "contb_receipt_dt     1001731 non-null object\n",
      "receipt_desc         14166 non-null object\n",
      "memo_cd              92482 non-null object\n",
      "memo_text            97770 non-null object\n",
      "form_tp              1001731 non-null object\n",
      "file_num             1001731 non-null int64\n",
      "dtypes: float64(1), int64(1), object(14)\n",
      "memory usage: 122.3+ MB\n"
     ]
    }
   ],
   "source": [
    "fec.info()"
   ]
  },
  {
   "cell_type": "code",
   "execution_count": 5,
   "metadata": {
    "collapsed": false
   },
   "outputs": [
    {
     "data": {
      "text/plain": [
       "cmte_id                             C00431445\n",
       "cand_id                             P80003338\n",
       "cand_nm                         Obama, Barack\n",
       "contbr_nm                         ELLMAN, IRA\n",
       "contbr_city                             TEMPE\n",
       "contbr_st                                  AZ\n",
       "contbr_zip                          852816719\n",
       "contbr_employer      ARIZONA STATE UNIVERSITY\n",
       "contbr_occupation                   PROFESSOR\n",
       "contb_receipt_amt                          50\n",
       "contb_receipt_dt                    01-DEC-11\n",
       "receipt_desc                              NaN\n",
       "memo_cd                                   NaN\n",
       "memo_text                                 NaN\n",
       "form_tp                                 SA17A\n",
       "file_num                               772372\n",
       "Name: 123456, dtype: object"
      ]
     },
     "execution_count": 5,
     "metadata": {},
     "output_type": "execute_result"
    }
   ],
   "source": [
    "fec.ix[123456]"
   ]
  },
  {
   "cell_type": "code",
   "execution_count": 10,
   "metadata": {
    "collapsed": true
   },
   "outputs": [],
   "source": [
    "fec = fec.rename(columns={'cand_nm': '후보자'})"
   ]
  },
  {
   "cell_type": "code",
   "execution_count": 15,
   "metadata": {
    "collapsed": true
   },
   "outputs": [],
   "source": [
    "후보자명단 = fec.후보자.drop_duplicates().reset_index(drop=True)"
   ]
  },
  {
   "cell_type": "code",
   "execution_count": 16,
   "metadata": {
    "collapsed": false
   },
   "outputs": [
    {
     "data": {
      "text/plain": [
       "0                 Bachmann, Michelle\n",
       "1                       Romney, Mitt\n",
       "2                      Obama, Barack\n",
       "3     Roemer, Charles E. 'Buddy' III\n",
       "4                  Pawlenty, Timothy\n",
       "5                 Johnson, Gary Earl\n",
       "6                          Paul, Ron\n",
       "7                     Santorum, Rick\n",
       "8                       Cain, Herman\n",
       "9                     Gingrich, Newt\n",
       "10              McCotter, Thaddeus G\n",
       "11                     Huntsman, Jon\n",
       "12                       Perry, Rick\n",
       "Name: 후보자, dtype: object"
      ]
     },
     "execution_count": 16,
     "metadata": {},
     "output_type": "execute_result"
    }
   ],
   "source": [
    "후보자명단"
   ]
  },
  {
   "cell_type": "code",
   "execution_count": 17,
   "metadata": {
    "collapsed": true
   },
   "outputs": [],
   "source": [
    "정당사전 = {\n",
    "    'Obama, Barack': '민주당',\n",
    "    'Romney, Mitt': '공화당'\n",
    "}"
   ]
  },
  {
   "cell_type": "code",
   "execution_count": 22,
   "metadata": {
    "collapsed": false
   },
   "outputs": [],
   "source": [
    "정당 = fec.후보자.map(정당사전)\n"
   ]
  },
  {
   "cell_type": "code",
   "execution_count": 23,
   "metadata": {
    "collapsed": false
   },
   "outputs": [
    {
     "data": {
      "text/plain": [
       "민주당    593746\n",
       "공화당    107229\n",
       "Name: 후보자, dtype: int64"
      ]
     },
     "execution_count": 23,
     "metadata": {},
     "output_type": "execute_result"
    }
   ],
   "source": [
    "정당.value_counts()"
   ]
  },
  {
   "cell_type": "code",
   "execution_count": 24,
   "metadata": {
    "collapsed": true
   },
   "outputs": [],
   "source": [
    "fec['정당'] = 정당"
   ]
  },
  {
   "cell_type": "code",
   "execution_count": 25,
   "metadata": {
    "collapsed": false
   },
   "outputs": [
    {
     "data": {
      "text/html": [
       "<div>\n",
       "<table border=\"1\" class=\"dataframe\">\n",
       "  <thead>\n",
       "    <tr style=\"text-align: right;\">\n",
       "      <th></th>\n",
       "      <th>cmte_id</th>\n",
       "      <th>cand_id</th>\n",
       "      <th>후보자</th>\n",
       "      <th>contbr_nm</th>\n",
       "      <th>contbr_city</th>\n",
       "      <th>contbr_st</th>\n",
       "      <th>contbr_zip</th>\n",
       "      <th>contbr_employer</th>\n",
       "      <th>contbr_occupation</th>\n",
       "      <th>contb_receipt_amt</th>\n",
       "      <th>contb_receipt_dt</th>\n",
       "      <th>receipt_desc</th>\n",
       "      <th>memo_cd</th>\n",
       "      <th>memo_text</th>\n",
       "      <th>form_tp</th>\n",
       "      <th>file_num</th>\n",
       "      <th>정당</th>\n",
       "    </tr>\n",
       "  </thead>\n",
       "  <tbody>\n",
       "    <tr>\n",
       "      <th>0</th>\n",
       "      <td>C00410118</td>\n",
       "      <td>P20002978</td>\n",
       "      <td>Bachmann, Michelle</td>\n",
       "      <td>HARVEY, WILLIAM</td>\n",
       "      <td>MOBILE</td>\n",
       "      <td>AL</td>\n",
       "      <td>3.6601e+08</td>\n",
       "      <td>RETIRED</td>\n",
       "      <td>RETIRED</td>\n",
       "      <td>250.0</td>\n",
       "      <td>20-JUN-11</td>\n",
       "      <td>NaN</td>\n",
       "      <td>NaN</td>\n",
       "      <td>NaN</td>\n",
       "      <td>SA17A</td>\n",
       "      <td>736166</td>\n",
       "      <td>NaN</td>\n",
       "    </tr>\n",
       "    <tr>\n",
       "      <th>1</th>\n",
       "      <td>C00410118</td>\n",
       "      <td>P20002978</td>\n",
       "      <td>Bachmann, Michelle</td>\n",
       "      <td>HARVEY, WILLIAM</td>\n",
       "      <td>MOBILE</td>\n",
       "      <td>AL</td>\n",
       "      <td>3.6601e+08</td>\n",
       "      <td>RETIRED</td>\n",
       "      <td>RETIRED</td>\n",
       "      <td>50.0</td>\n",
       "      <td>23-JUN-11</td>\n",
       "      <td>NaN</td>\n",
       "      <td>NaN</td>\n",
       "      <td>NaN</td>\n",
       "      <td>SA17A</td>\n",
       "      <td>736166</td>\n",
       "      <td>NaN</td>\n",
       "    </tr>\n",
       "    <tr>\n",
       "      <th>2</th>\n",
       "      <td>C00410118</td>\n",
       "      <td>P20002978</td>\n",
       "      <td>Bachmann, Michelle</td>\n",
       "      <td>SMITH, LANIER</td>\n",
       "      <td>LANETT</td>\n",
       "      <td>AL</td>\n",
       "      <td>3.68633e+08</td>\n",
       "      <td>INFORMATION REQUESTED</td>\n",
       "      <td>INFORMATION REQUESTED</td>\n",
       "      <td>250.0</td>\n",
       "      <td>05-JUL-11</td>\n",
       "      <td>NaN</td>\n",
       "      <td>NaN</td>\n",
       "      <td>NaN</td>\n",
       "      <td>SA17A</td>\n",
       "      <td>749073</td>\n",
       "      <td>NaN</td>\n",
       "    </tr>\n",
       "  </tbody>\n",
       "</table>\n",
       "</div>"
      ],
      "text/plain": [
       "     cmte_id    cand_id                 후보자        contbr_nm contbr_city  \\\n",
       "0  C00410118  P20002978  Bachmann, Michelle  HARVEY, WILLIAM      MOBILE   \n",
       "1  C00410118  P20002978  Bachmann, Michelle  HARVEY, WILLIAM      MOBILE   \n",
       "2  C00410118  P20002978  Bachmann, Michelle    SMITH, LANIER      LANETT   \n",
       "\n",
       "  contbr_st   contbr_zip        contbr_employer      contbr_occupation  \\\n",
       "0        AL   3.6601e+08                RETIRED                RETIRED   \n",
       "1        AL   3.6601e+08                RETIRED                RETIRED   \n",
       "2        AL  3.68633e+08  INFORMATION REQUESTED  INFORMATION REQUESTED   \n",
       "\n",
       "   contb_receipt_amt contb_receipt_dt receipt_desc memo_cd memo_text form_tp  \\\n",
       "0              250.0        20-JUN-11          NaN     NaN       NaN   SA17A   \n",
       "1               50.0        23-JUN-11          NaN     NaN       NaN   SA17A   \n",
       "2              250.0        05-JUL-11          NaN     NaN       NaN   SA17A   \n",
       "\n",
       "   file_num   정당  \n",
       "0    736166  NaN  \n",
       "1    736166  NaN  \n",
       "2    749073  NaN  "
      ]
     },
     "execution_count": 25,
     "metadata": {},
     "output_type": "execute_result"
    }
   ],
   "source": [
    "fec[:3]"
   ]
  },
  {
   "cell_type": "markdown",
   "metadata": {},
   "source": [
    "환급금 제외"
   ]
  },
  {
   "cell_type": "code",
   "execution_count": 28,
   "metadata": {
    "collapsed": true
   },
   "outputs": [],
   "source": [
    "fec = fec.rename(columns={'contb_receipt_amt': '액수'})"
   ]
  },
  {
   "cell_type": "code",
   "execution_count": 30,
   "metadata": {
    "collapsed": false
   },
   "outputs": [],
   "source": [
    "fec = fec[fec.액수 > 0]"
   ]
  },
  {
   "cell_type": "markdown",
   "metadata": {},
   "source": [
    "오바마와 롬니 자료만"
   ]
  },
  {
   "cell_type": "code",
   "execution_count": 33,
   "metadata": {
    "collapsed": false
   },
   "outputs": [],
   "source": [
    "오바롬니 = fec[fec.후보자.isin(['Obama, Barack', 'Romney, Mitt'])]"
   ]
  },
  {
   "cell_type": "code",
   "execution_count": 34,
   "metadata": {
    "collapsed": false
   },
   "outputs": [
    {
     "data": {
      "text/plain": [
       "694282"
      ]
     },
     "execution_count": 34,
     "metadata": {},
     "output_type": "execute_result"
    }
   ],
   "source": [
    "len(오바롬니)"
   ]
  },
  {
   "cell_type": "markdown",
   "metadata": {},
   "source": [
    "어떤 직업을 가진 사람들이 누구를 지지했나?"
   ]
  },
  {
   "cell_type": "code",
   "execution_count": 35,
   "metadata": {
    "collapsed": true
   },
   "outputs": [],
   "source": [
    "fec = fec.rename(columns={'contbr_occupation': '직업'})"
   ]
  },
  {
   "cell_type": "markdown",
   "metadata": {},
   "source": [
    "기부자 직업 상위 10"
   ]
  },
  {
   "cell_type": "code",
   "execution_count": 41,
   "metadata": {
    "collapsed": false
   },
   "outputs": [
    {
     "data": {
      "text/plain": [
       "RETIRED                                   233990\n",
       "INFORMATION REQUESTED                      35107\n",
       "ATTORNEY                                   34286\n",
       "HOMEMAKER                                  29931\n",
       "PHYSICIAN                                  23432\n",
       "INFORMATION REQUESTED PER BEST EFFORTS     21138\n",
       "ENGINEER                                   14334\n",
       "TEACHER                                    13990\n",
       "CONSULTANT                                 13273\n",
       "PROFESSOR                                  12555\n",
       "Name: 직업, dtype: int64"
      ]
     },
     "execution_count": 41,
     "metadata": {},
     "output_type": "execute_result"
    }
   ],
   "source": [
    "fec.직업.value_counts()[:10]"
   ]
  },
  {
   "cell_type": "code",
   "execution_count": 45,
   "metadata": {
    "collapsed": true
   },
   "outputs": [],
   "source": [
    "def 명칭정리(직업명):\n",
    "    직업사전 = {\n",
    "        'INFORMATION REQUESTED PER BEST EFFORTS': 'NOT PROVIDED',\n",
    "        'INFORMATION REQUESTED': 'NOT PROVIDED',\n",
    "        'INFORMATION REQUESTED (BEST EFFORTS)': 'NOT PROVIDED',\n",
    "        'C.E.O.' : 'CEO'\n",
    "    }\n",
    "    return 직업사전.get(직업명, 직업명)"
   ]
  },
  {
   "cell_type": "code",
   "execution_count": 46,
   "metadata": {
    "collapsed": true
   },
   "outputs": [
    {
     "data": {
      "text/plain": [
       "RETIRED                                 233990\n",
       "NOT PROVIDED                             57151\n",
       "ATTORNEY                                 34286\n",
       "HOMEMAKER                                29931\n",
       "PHYSICIAN                                23432\n",
       "ENGINEER                                 14334\n",
       "TEACHER                                  13990\n",
       "CONSULTANT                               13273\n",
       "PROFESSOR                                12555\n",
       "NOT EMPLOYED                              9828\n",
       "SALES                                     8333\n",
       "LAWYER                                    8283\n",
       "MANAGER                                   8024\n",
       "PRESIDENT                                 7758\n",
       "STUDENT                                   7071\n",
       "CEO                                       6526\n",
       "OWNER                                     6343\n",
       "EXECUTIVE                                 5506\n",
       "SELF-EMPLOYED                             5472\n",
       "WRITER                                    5128\n",
       "SOFTWARE ENGINEER                         4960\n",
       "BUSINESS OWNER                            4380\n",
       "ACCOUNTANT                                4175\n",
       "ARTIST                                    3724\n",
       "EDUCATOR                                  3576\n",
       "RN                                        3262\n",
       "REGISTERED NURSE                          3079\n",
       "INVESTOR                                  2708\n",
       "REAL ESTATE                               2644\n",
       "FARMER                                    2597\n",
       "                                         ...  \n",
       "IT TEAM LEAD                                 1\n",
       "SENIOR ORDER MANAGER                         1\n",
       "RETIRED LIBRARY DIRECTOR                     1\n",
       "PHYSICAL THERAPIST'S ASSISTANT               1\n",
       "NURSE ANESTHEIA                              1\n",
       "HEAD OF HR M&A INTEGRATION                   1\n",
       "DIRECTOR AND PROFESSOR                       1\n",
       "SQL DEVELOPER                                1\n",
       "IMAGING REPRESENTIVE                         1\n",
       "ROBOTIC TECHNICIAN                           1\n",
       "SLEF                                         1\n",
       "SVP ENGRG & CONSTRTN                         1\n",
       "EXECUTIVE FUNDRAISING CONSULTANT             1\n",
       "PSYCHO                                       1\n",
       "BUSINESS OWENER/ ENGINEER                    1\n",
       "BUSINESSMAN-CONSTRUCTION/FABRICATION         1\n",
       "TELECOMMUNICATION EXECUTIVE                  1\n",
       "MUSICIAN AND SMALL BUSINESS OWNER            1\n",
       "C.F.O. & CONTROLLER                          1\n",
       "CORPORATE PAYROLL MANAGER                    1\n",
       "ELECTRONIC TECH II                           1\n",
       "OWNER OF MCDONALD'S RESTAURANT               1\n",
       "COUNSELOR MENTAL HEALTH                      1\n",
       "C.FO.                                        1\n",
       "NON-PROFIT FUNDRAISER/VOLUNTEER              1\n",
       "LICENSED REAL ESTATE BROKER                  1\n",
       "GOVERNMNET RELATIONS                         1\n",
       "DEV MGR                                      1\n",
       "LEGISLATOR/ACCOUNTANT                        1\n",
       "CARNIVAL                                     1\n",
       "Name: 직업, dtype: int64"
      ]
     },
     "execution_count": 46,
     "metadata": {},
     "output_type": "execute_result"
    }
   ],
   "source": [
    "fec.직업.map(명칭정리).value_counts()"
   ]
  },
  {
   "cell_type": "code",
   "execution_count": 65,
   "metadata": {
    "collapsed": false
   },
   "outputs": [],
   "source": [
    "오바롬니 = 오바롬니.rename(columns={\n",
    "        'contbr_employer':'고용주',\n",
    "        'contbr_occupation': '직업'\n",
    "    })"
   ]
  },
  {
   "cell_type": "code",
   "execution_count": 57,
   "metadata": {
    "collapsed": false
   },
   "outputs": [],
   "source": [
    "고용주 = 오바롬니.고용주.dropna()\n",
    "고용주[고용주.str.startswith('INFORMATION REQUESTED')] = 'NOT PROVIDED'\n",
    "고용주[고용주.str.lower().str.startswith('SELF')] = 'SELF-EMPLOYED'"
   ]
  },
  {
   "cell_type": "code",
   "execution_count": 59,
   "metadata": {
    "collapsed": false
   },
   "outputs": [
    {
     "data": {
      "text/plain": [
       "RETIRED              173287\n",
       "SELF-EMPLOYED         79638\n",
       "NOT EMPLOYED          45727\n",
       "NOT PROVIDED          38628\n",
       "HOMEMAKER             12081\n",
       "OBAMA FOR AMERICA      1741\n",
       "STUDENT                1417\n",
       "SELF                   1228\n",
       "DISABLED               1096\n",
       "IBM                    1027\n",
       "Name: 고용주, dtype: int64"
      ]
     },
     "execution_count": 59,
     "metadata": {},
     "output_type": "execute_result"
    }
   ],
   "source": [
    "고용주.value_counts()[:10]"
   ]
  },
  {
   "cell_type": "code",
   "execution_count": 60,
   "metadata": {
    "collapsed": true
   },
   "outputs": [],
   "source": [
    "오바롬니['고용주'] = 고용주"
   ]
  },
  {
   "cell_type": "code",
   "execution_count": 66,
   "metadata": {
    "collapsed": false
   },
   "outputs": [],
   "source": [
    "직업별정당별 = 오바롬니.groupby(['직업', '정당'])"
   ]
  },
  {
   "cell_type": "code",
   "execution_count": 68,
   "metadata": {
    "collapsed": false
   },
   "outputs": [
    {
     "data": {
      "text/html": [
       "<div>\n",
       "<table border=\"1\" class=\"dataframe\">\n",
       "  <thead>\n",
       "    <tr style=\"text-align: right;\">\n",
       "      <th>정당</th>\n",
       "      <th>공화당</th>\n",
       "      <th>민주당</th>\n",
       "    </tr>\n",
       "    <tr>\n",
       "      <th>직업</th>\n",
       "      <th></th>\n",
       "      <th></th>\n",
       "    </tr>\n",
       "  </thead>\n",
       "  <tbody>\n",
       "    <tr>\n",
       "      <th>MIXED-MEDIA ARTIST / STORYTELLER</th>\n",
       "      <td>NaN</td>\n",
       "      <td>100.0</td>\n",
       "    </tr>\n",
       "    <tr>\n",
       "      <th>AREA VICE PRESIDENT</th>\n",
       "      <td>NaN</td>\n",
       "      <td>250.0</td>\n",
       "    </tr>\n",
       "    <tr>\n",
       "      <th>RESEARCH ASSOCIATE</th>\n",
       "      <td>NaN</td>\n",
       "      <td>100.0</td>\n",
       "    </tr>\n",
       "    <tr>\n",
       "      <th>TEACHER</th>\n",
       "      <td>NaN</td>\n",
       "      <td>500.0</td>\n",
       "    </tr>\n",
       "    <tr>\n",
       "      <th>THERAPIST</th>\n",
       "      <td>NaN</td>\n",
       "      <td>3900.0</td>\n",
       "    </tr>\n",
       "    <tr>\n",
       "      <th>-</th>\n",
       "      <td>NaN</td>\n",
       "      <td>5000.0</td>\n",
       "    </tr>\n",
       "    <tr>\n",
       "      <th>.NET PROGRAMMER</th>\n",
       "      <td>NaN</td>\n",
       "      <td>481.0</td>\n",
       "    </tr>\n",
       "    <tr>\n",
       "      <th>07/13/1972</th>\n",
       "      <td>NaN</td>\n",
       "      <td>98.0</td>\n",
       "    </tr>\n",
       "    <tr>\n",
       "      <th>12K ADVOCATE</th>\n",
       "      <td>NaN</td>\n",
       "      <td>150.0</td>\n",
       "    </tr>\n",
       "    <tr>\n",
       "      <th>13D</th>\n",
       "      <td>NaN</td>\n",
       "      <td>721.0</td>\n",
       "    </tr>\n",
       "  </tbody>\n",
       "</table>\n",
       "</div>"
      ],
      "text/plain": [
       "정당                                   공화당     민주당\n",
       "직업                                              \n",
       "   MIXED-MEDIA ARTIST / STORYTELLER  NaN   100.0\n",
       " AREA VICE PRESIDENT                 NaN   250.0\n",
       " RESEARCH ASSOCIATE                  NaN   100.0\n",
       " TEACHER                             NaN   500.0\n",
       " THERAPIST                           NaN  3900.0\n",
       "-                                    NaN  5000.0\n",
       ".NET PROGRAMMER                      NaN   481.0\n",
       "07/13/1972                           NaN    98.0\n",
       "12K ADVOCATE                         NaN   150.0\n",
       "13D                                  NaN   721.0"
      ]
     },
     "execution_count": 68,
     "metadata": {},
     "output_type": "execute_result"
    }
   ],
   "source": [
    "직업별정당별['액수'].sum().unstack()[:10]"
   ]
  },
  {
   "cell_type": "code",
   "execution_count": 69,
   "metadata": {
    "collapsed": true
   },
   "outputs": [],
   "source": [
    "직업별정당별_기부금합계 = 오바롬니.pivot_table('액수', aggfunc='sum',\n",
    "                               index='직업', columns='정당')"
   ]
  },
  {
   "cell_type": "code",
   "execution_count": 73,
   "metadata": {
    "collapsed": true
   },
   "outputs": [
    {
     "data": {
      "text/html": [
       "<div>\n",
       "<table border=\"1\" class=\"dataframe\">\n",
       "  <thead>\n",
       "    <tr style=\"text-align: right;\">\n",
       "      <th>정당</th>\n",
       "      <th>공화당</th>\n",
       "      <th>민주당</th>\n",
       "    </tr>\n",
       "    <tr>\n",
       "      <th>직업</th>\n",
       "      <th></th>\n",
       "      <th></th>\n",
       "    </tr>\n",
       "  </thead>\n",
       "  <tbody>\n",
       "    <tr>\n",
       "      <th>MIXED-MEDIA ARTIST / STORYTELLER</th>\n",
       "      <td>NaN</td>\n",
       "      <td>100.0</td>\n",
       "    </tr>\n",
       "    <tr>\n",
       "      <th>AREA VICE PRESIDENT</th>\n",
       "      <td>NaN</td>\n",
       "      <td>250.0</td>\n",
       "    </tr>\n",
       "    <tr>\n",
       "      <th>RESEARCH ASSOCIATE</th>\n",
       "      <td>NaN</td>\n",
       "      <td>100.0</td>\n",
       "    </tr>\n",
       "    <tr>\n",
       "      <th>TEACHER</th>\n",
       "      <td>NaN</td>\n",
       "      <td>500.0</td>\n",
       "    </tr>\n",
       "    <tr>\n",
       "      <th>THERAPIST</th>\n",
       "      <td>NaN</td>\n",
       "      <td>3900.0</td>\n",
       "    </tr>\n",
       "    <tr>\n",
       "      <th>-</th>\n",
       "      <td>NaN</td>\n",
       "      <td>5000.0</td>\n",
       "    </tr>\n",
       "    <tr>\n",
       "      <th>.NET PROGRAMMER</th>\n",
       "      <td>NaN</td>\n",
       "      <td>481.0</td>\n",
       "    </tr>\n",
       "    <tr>\n",
       "      <th>07/13/1972</th>\n",
       "      <td>NaN</td>\n",
       "      <td>98.0</td>\n",
       "    </tr>\n",
       "    <tr>\n",
       "      <th>12K ADVOCATE</th>\n",
       "      <td>NaN</td>\n",
       "      <td>150.0</td>\n",
       "    </tr>\n",
       "    <tr>\n",
       "      <th>13D</th>\n",
       "      <td>NaN</td>\n",
       "      <td>721.0</td>\n",
       "    </tr>\n",
       "    <tr>\n",
       "      <th>1SG RETIRED</th>\n",
       "      <td>NaN</td>\n",
       "      <td>210.0</td>\n",
       "    </tr>\n",
       "    <tr>\n",
       "      <th>1ST ASSISTANT DIRECTOR 2ND UNIT</th>\n",
       "      <td>NaN</td>\n",
       "      <td>35.0</td>\n",
       "    </tr>\n",
       "    <tr>\n",
       "      <th>1ST GRADE TEACHER</th>\n",
       "      <td>NaN</td>\n",
       "      <td>435.0</td>\n",
       "    </tr>\n",
       "    <tr>\n",
       "      <th>1ST VP WEALTH MANAGEMENT</th>\n",
       "      <td>NaN</td>\n",
       "      <td>559.0</td>\n",
       "    </tr>\n",
       "    <tr>\n",
       "      <th>22ND CENTURY REALTY</th>\n",
       "      <td>NaN</td>\n",
       "      <td>500.0</td>\n",
       "    </tr>\n",
       "    <tr>\n",
       "      <th>270 REGIONAL DIRECTOR</th>\n",
       "      <td>NaN</td>\n",
       "      <td>223.0</td>\n",
       "    </tr>\n",
       "    <tr>\n",
       "      <th>2LT, MEDICAL SERVICE CORPS</th>\n",
       "      <td>NaN</td>\n",
       "      <td>244.0</td>\n",
       "    </tr>\n",
       "    <tr>\n",
       "      <th>2ND GRADE TEACHER</th>\n",
       "      <td>NaN</td>\n",
       "      <td>1303.0</td>\n",
       "    </tr>\n",
       "    <tr>\n",
       "      <th>2ND GRADE TEACHER (ECE PREK-8 SELF-CON</th>\n",
       "      <td>NaN</td>\n",
       "      <td>25.0</td>\n",
       "    </tr>\n",
       "    <tr>\n",
       "      <th>2ND VICE PRESIDENT / SERVICE MANAGER</th>\n",
       "      <td>NaN</td>\n",
       "      <td>333.0</td>\n",
       "    </tr>\n",
       "  </tbody>\n",
       "</table>\n",
       "</div>"
      ],
      "text/plain": [
       "정당                                      공화당     민주당\n",
       "직업                                                 \n",
       "   MIXED-MEDIA ARTIST / STORYTELLER     NaN   100.0\n",
       " AREA VICE PRESIDENT                    NaN   250.0\n",
       " RESEARCH ASSOCIATE                     NaN   100.0\n",
       " TEACHER                                NaN   500.0\n",
       " THERAPIST                              NaN  3900.0\n",
       "-                                       NaN  5000.0\n",
       ".NET PROGRAMMER                         NaN   481.0\n",
       "07/13/1972                              NaN    98.0\n",
       "12K ADVOCATE                            NaN   150.0\n",
       "13D                                     NaN   721.0\n",
       "1SG RETIRED                             NaN   210.0\n",
       "1ST ASSISTANT DIRECTOR 2ND UNIT         NaN    35.0\n",
       "1ST GRADE TEACHER                       NaN   435.0\n",
       "1ST VP WEALTH MANAGEMENT                NaN   559.0\n",
       "22ND CENTURY REALTY                     NaN   500.0\n",
       "270 REGIONAL DIRECTOR                   NaN   223.0\n",
       "2LT, MEDICAL SERVICE CORPS              NaN   244.0\n",
       "2ND GRADE TEACHER                       NaN  1303.0\n",
       "2ND GRADE TEACHER (ECE PREK-8 SELF-CON  NaN    25.0\n",
       "2ND VICE PRESIDENT / SERVICE MANAGER    NaN   333.0"
      ]
     },
     "execution_count": 73,
     "metadata": {},
     "output_type": "execute_result"
    }
   ],
   "source": [
    "직업별정당별_기부금합계[:20]"
   ]
  },
  {
   "cell_type": "code",
   "execution_count": 74,
   "metadata": {
    "collapsed": false
   },
   "outputs": [
    {
     "data": {
      "text/plain": [
       "직업\n",
       "   MIXED-MEDIA ARTIST / STORYTELLER    100.0\n",
       " AREA VICE PRESIDENT                   250.0\n",
       " RESEARCH ASSOCIATE                    100.0\n",
       "dtype: float64"
      ]
     },
     "execution_count": 74,
     "metadata": {},
     "output_type": "execute_result"
    }
   ],
   "source": [
    "직업별정당별_기부금합계.sum(1)[:3]"
   ]
  },
  {
   "cell_type": "code",
   "execution_count": 79,
   "metadata": {
    "collapsed": true
   },
   "outputs": [],
   "source": [
    "부자직업 = 직업별정당별_기부금합계[\n",
    "    직업별정당별_기부금합계.sum(1) > 2*10**6\n",
    "]"
   ]
  },
  {
   "cell_type": "code",
   "execution_count": 80,
   "metadata": {
    "collapsed": false,
    "scrolled": true
   },
   "outputs": [
    {
     "data": {
      "text/html": [
       "<div>\n",
       "<table border=\"1\" class=\"dataframe\">\n",
       "  <thead>\n",
       "    <tr style=\"text-align: right;\">\n",
       "      <th>정당</th>\n",
       "      <th>공화당</th>\n",
       "      <th>민주당</th>\n",
       "    </tr>\n",
       "    <tr>\n",
       "      <th>직업</th>\n",
       "      <th></th>\n",
       "      <th></th>\n",
       "    </tr>\n",
       "  </thead>\n",
       "  <tbody>\n",
       "    <tr>\n",
       "      <th>ATTORNEY</th>\n",
       "      <td>5364718.82</td>\n",
       "      <td>11141982.97</td>\n",
       "    </tr>\n",
       "    <tr>\n",
       "      <th>CEO</th>\n",
       "      <td>355910.92</td>\n",
       "      <td>2073284.79</td>\n",
       "    </tr>\n",
       "    <tr>\n",
       "      <th>CONSULTANT</th>\n",
       "      <td>1424894.01</td>\n",
       "      <td>2459912.71</td>\n",
       "    </tr>\n",
       "    <tr>\n",
       "      <th>EXECUTIVE</th>\n",
       "      <td>2300947.03</td>\n",
       "      <td>1355161.05</td>\n",
       "    </tr>\n",
       "    <tr>\n",
       "      <th>HOMEMAKER</th>\n",
       "      <td>8147446.22</td>\n",
       "      <td>4248875.80</td>\n",
       "    </tr>\n",
       "    <tr>\n",
       "      <th>INFORMATION REQUESTED</th>\n",
       "      <td>NaN</td>\n",
       "      <td>4866973.96</td>\n",
       "    </tr>\n",
       "    <tr>\n",
       "      <th>INFORMATION REQUESTED PER BEST EFFORTS</th>\n",
       "      <td>11396894.84</td>\n",
       "      <td>NaN</td>\n",
       "    </tr>\n",
       "    <tr>\n",
       "      <th>INVESTOR</th>\n",
       "      <td>1537595.12</td>\n",
       "      <td>884133.00</td>\n",
       "    </tr>\n",
       "    <tr>\n",
       "      <th>LAWYER</th>\n",
       "      <td>7705.20</td>\n",
       "      <td>3160478.87</td>\n",
       "    </tr>\n",
       "    <tr>\n",
       "      <th>PHYSICIAN</th>\n",
       "      <td>1368023.96</td>\n",
       "      <td>3735124.94</td>\n",
       "    </tr>\n",
       "  </tbody>\n",
       "</table>\n",
       "</div>"
      ],
      "text/plain": [
       "정당                                              공화당          민주당\n",
       "직업                                                              \n",
       "ATTORNEY                                 5364718.82  11141982.97\n",
       "CEO                                       355910.92   2073284.79\n",
       "CONSULTANT                               1424894.01   2459912.71\n",
       "EXECUTIVE                                2300947.03   1355161.05\n",
       "HOMEMAKER                                8147446.22   4248875.80\n",
       "INFORMATION REQUESTED                           NaN   4866973.96\n",
       "INFORMATION REQUESTED PER BEST EFFORTS  11396894.84          NaN\n",
       "INVESTOR                                 1537595.12    884133.00\n",
       "LAWYER                                      7705.20   3160478.87\n",
       "PHYSICIAN                                1368023.96   3735124.94"
      ]
     },
     "execution_count": 80,
     "metadata": {},
     "output_type": "execute_result"
    }
   ],
   "source": [
    "부자직업[:10]"
   ]
  },
  {
   "cell_type": "markdown",
   "metadata": {},
   "source": [
    "어떤 직업들이 많이 지지했을까?\n"
   ]
  },
  {
   "cell_type": "code",
   "execution_count": 82,
   "metadata": {
    "collapsed": false
   },
   "outputs": [],
   "source": [
    "후보별 = 오바롬니.groupby('후보자')"
   ]
  },
  {
   "cell_type": "code",
   "execution_count": 90,
   "metadata": {
    "collapsed": true
   },
   "outputs": [],
   "source": [
    "def get_top_amounts(group, key, n=5):\n",
    "    # key로 지정된 열 기준으로 분류해 기부금 액수 합계 산출\n",
    "    totals = group.groupby(key)['액수'].sum()\n",
    "    return totals.sort_values()[::-1][:n]"
   ]
  },
  {
   "cell_type": "code",
   "execution_count": 93,
   "metadata": {
    "collapsed": false
   },
   "outputs": [
    {
     "data": {
      "text/html": [
       "<div>\n",
       "<table border=\"1\" class=\"dataframe\">\n",
       "  <thead>\n",
       "    <tr style=\"text-align: right;\">\n",
       "      <th>후보자</th>\n",
       "      <th>Obama, Barack</th>\n",
       "      <th>Romney, Mitt</th>\n",
       "    </tr>\n",
       "    <tr>\n",
       "      <th>직업</th>\n",
       "      <th></th>\n",
       "      <th></th>\n",
       "    </tr>\n",
       "  </thead>\n",
       "  <tbody>\n",
       "    <tr>\n",
       "      <th>ATTORNEY</th>\n",
       "      <td>11141982.97</td>\n",
       "      <td>5364718.82</td>\n",
       "    </tr>\n",
       "    <tr>\n",
       "      <th>C.E.O.</th>\n",
       "      <td>NaN</td>\n",
       "      <td>1968386.11</td>\n",
       "    </tr>\n",
       "    <tr>\n",
       "      <th>CONSULTANT</th>\n",
       "      <td>2459912.71</td>\n",
       "      <td>NaN</td>\n",
       "    </tr>\n",
       "    <tr>\n",
       "      <th>EXECUTIVE</th>\n",
       "      <td>NaN</td>\n",
       "      <td>2300947.03</td>\n",
       "    </tr>\n",
       "    <tr>\n",
       "      <th>HOMEMAKER</th>\n",
       "      <td>4248875.80</td>\n",
       "      <td>8147446.22</td>\n",
       "    </tr>\n",
       "    <tr>\n",
       "      <th>INFORMATION REQUESTED</th>\n",
       "      <td>4866973.96</td>\n",
       "      <td>NaN</td>\n",
       "    </tr>\n",
       "    <tr>\n",
       "      <th>INFORMATION REQUESTED PER BEST EFFORTS</th>\n",
       "      <td>NaN</td>\n",
       "      <td>11396894.84</td>\n",
       "    </tr>\n",
       "    <tr>\n",
       "      <th>LAWYER</th>\n",
       "      <td>3160478.87</td>\n",
       "      <td>NaN</td>\n",
       "    </tr>\n",
       "    <tr>\n",
       "      <th>PHYSICIAN</th>\n",
       "      <td>3735124.94</td>\n",
       "      <td>NaN</td>\n",
       "    </tr>\n",
       "    <tr>\n",
       "      <th>PRESIDENT</th>\n",
       "      <td>NaN</td>\n",
       "      <td>2491244.89</td>\n",
       "    </tr>\n",
       "    <tr>\n",
       "      <th>RETIRED</th>\n",
       "      <td>25305116.38</td>\n",
       "      <td>11508473.59</td>\n",
       "    </tr>\n",
       "  </tbody>\n",
       "</table>\n",
       "</div>"
      ],
      "text/plain": [
       "후보자                                     Obama, Barack  Romney, Mitt\n",
       "직업                                                                 \n",
       "ATTORNEY                                  11141982.97    5364718.82\n",
       "C.E.O.                                            NaN    1968386.11\n",
       "CONSULTANT                                 2459912.71           NaN\n",
       "EXECUTIVE                                         NaN    2300947.03\n",
       "HOMEMAKER                                  4248875.80    8147446.22\n",
       "INFORMATION REQUESTED                      4866973.96           NaN\n",
       "INFORMATION REQUESTED PER BEST EFFORTS            NaN   11396894.84\n",
       "LAWYER                                     3160478.87           NaN\n",
       "PHYSICIAN                                  3735124.94           NaN\n",
       "PRESIDENT                                         NaN    2491244.89\n",
       "RETIRED                                   25305116.38   11508473.59"
      ]
     },
     "execution_count": 93,
     "metadata": {},
     "output_type": "execute_result"
    }
   ],
   "source": [
    "후보별.apply(get_top_amounts, '직업', n=7).unstack(0)"
   ]
  },
  {
   "cell_type": "code",
   "execution_count": 94,
   "metadata": {
    "collapsed": true
   },
   "outputs": [],
   "source": [
    "기부금액구간 = [0,1,10,100,1000,10**4, 10**5, 10**6, 10**7]\n",
    "labels = pd.cut(오바롬니.액수, 기부금액구간)"
   ]
  },
  {
   "cell_type": "code",
   "execution_count": 97,
   "metadata": {
    "collapsed": true
   },
   "outputs": [],
   "source": [
    "%matplotlib inline"
   ]
  },
  {
   "cell_type": "code",
   "execution_count": 99,
   "metadata": {
    "collapsed": false
   },
   "outputs": [
    {
     "data": {
      "text/plain": [
       "(10, 100]              404133\n",
       "(100, 1000]            197348\n",
       "(1000, 10000]           48470\n",
       "(1, 10]                 43751\n",
       "(0, 1]                    570\n",
       "(1000000, 10000000]         4\n",
       "(100000, 1000000]           3\n",
       "(10000, 100000]             3\n",
       "Name: 액수, dtype: int64"
      ]
     },
     "execution_count": 99,
     "metadata": {},
     "output_type": "execute_result"
    }
   ],
   "source": [
    "labels.value_counts()"
   ]
  },
  {
   "cell_type": "code",
   "execution_count": 98,
   "metadata": {
    "collapsed": false
   },
   "outputs": [
    {
     "data": {
      "text/plain": [
       "<matplotlib.axes._subplots.AxesSubplot at 0x1b7c3eb8>"
      ]
     },
     "execution_count": 98,
     "metadata": {},
     "output_type": "execute_result"
    },
    {
     "data": {
      "image/png": "[encoded data removed]",
      "text/plain": [
       "<matplotlib.figure.Figure at 0x1b7cffd0>"
      ]
     },
     "metadata": {},
     "output_type": "display_data"
    }
   ],
   "source": [
    "labels.value_counts().plot(kind='barh')"
   ]
  },
  {
   "cell_type": "markdown",
   "metadata": {},
   "source": [
    "\"오바마는 소액 기부자들의 지지를 많이 받았나?\""
   ]
  },
  {
   "cell_type": "code",
   "execution_count": 101,
   "metadata": {
    "collapsed": false
   },
   "outputs": [],
   "source": [
    "후보별기부금액단위별 = 오바롬니.groupby(['후보자', labels])"
   ]
  },
  {
   "cell_type": "code",
   "execution_count": 106,
   "metadata": {
    "collapsed": false
   },
   "outputs": [
    {
     "data": {
      "text/html": [
       "<div>\n",
       "<table border=\"1\" class=\"dataframe\">\n",
       "  <thead>\n",
       "    <tr style=\"text-align: right;\">\n",
       "      <th>후보자</th>\n",
       "      <th>Obama, Barack</th>\n",
       "      <th>Romney, Mitt</th>\n",
       "    </tr>\n",
       "    <tr>\n",
       "      <th>액수</th>\n",
       "      <th></th>\n",
       "      <th></th>\n",
       "    </tr>\n",
       "  </thead>\n",
       "  <tbody>\n",
       "    <tr>\n",
       "      <th>(0, 1]</th>\n",
       "      <td>493.0</td>\n",
       "      <td>77.0</td>\n",
       "    </tr>\n",
       "    <tr>\n",
       "      <th>(1, 10]</th>\n",
       "      <td>40070.0</td>\n",
       "      <td>3681.0</td>\n",
       "    </tr>\n",
       "    <tr>\n",
       "      <th>(10, 100]</th>\n",
       "      <td>372280.0</td>\n",
       "      <td>31853.0</td>\n",
       "    </tr>\n",
       "    <tr>\n",
       "      <th>(100, 1000]</th>\n",
       "      <td>153991.0</td>\n",
       "      <td>43357.0</td>\n",
       "    </tr>\n",
       "    <tr>\n",
       "      <th>(1000, 10000]</th>\n",
       "      <td>22284.0</td>\n",
       "      <td>26186.0</td>\n",
       "    </tr>\n",
       "    <tr>\n",
       "      <th>(10000, 100000]</th>\n",
       "      <td>2.0</td>\n",
       "      <td>1.0</td>\n",
       "    </tr>\n",
       "    <tr>\n",
       "      <th>(100000, 1000000]</th>\n",
       "      <td>3.0</td>\n",
       "      <td>NaN</td>\n",
       "    </tr>\n",
       "    <tr>\n",
       "      <th>(1000000, 10000000]</th>\n",
       "      <td>4.0</td>\n",
       "      <td>NaN</td>\n",
       "    </tr>\n",
       "  </tbody>\n",
       "</table>\n",
       "</div>"
      ],
      "text/plain": [
       "후보자                  Obama, Barack  Romney, Mitt\n",
       "액수                                              \n",
       "(0, 1]                       493.0          77.0\n",
       "(1, 10]                    40070.0        3681.0\n",
       "(10, 100]                 372280.0       31853.0\n",
       "(100, 1000]               153991.0       43357.0\n",
       "(1000, 10000]              22284.0       26186.0\n",
       "(10000, 100000]                2.0           1.0\n",
       "(100000, 1000000]              3.0           NaN\n",
       "(1000000, 10000000]            4.0           NaN"
      ]
     },
     "execution_count": 106,
     "metadata": {},
     "output_type": "execute_result"
    }
   ],
   "source": [
    "후보별기부금액단위별.size().unstack(0)\n"
   ]
  },
  {
   "cell_type": "code",
   "execution_count": null,
   "metadata": {
    "collapsed": true
   },
   "outputs": [],
   "source": []
  }
 ],
 "metadata": {
  "kernelspec": {
   "display_name": "Python [conda root]",
   "language": "python",
   "name": "conda-root-py"
  },
  "language_info": {
   "codemirror_mode": {
    "name": "ipython",
    "version": 3
   },
   "file_extension": ".py",
   "mimetype": "text/x-python",
   "name": "python",
   "nbconvert_exporter": "python",
   "pygments_lexer": "ipython3",
   "version": "3.5.2"
  }
 },
 "nbformat": 4,
 "nbformat_minor": 1
}
